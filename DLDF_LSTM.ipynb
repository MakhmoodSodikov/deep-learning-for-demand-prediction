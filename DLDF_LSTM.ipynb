{
  "nbformat": 4,
  "nbformat_minor": 0,
  "metadata": {
    "accelerator": "GPU",
    "colab": {
      "name": "DLDF_LSTM.ipynb",
      "provenance": [],
      "collapsed_sections": [],
      "toc_visible": true
    },
    "kernelspec": {
      "display_name": "Python 3",
      "language": "python",
      "name": "python3"
    },
    "language_info": {
      "codemirror_mode": {
        "name": "ipython",
        "version": 3
      },
      "file_extension": ".py",
      "mimetype": "text/x-python",
      "name": "python",
      "nbconvert_exporter": "python",
      "pygments_lexer": "ipython3",
      "version": "3.7.4"
    }
  },
  "cells": [
    {
      "cell_type": "code",
      "metadata": {
        "colab_type": "code",
        "id": "7rZnJaGTWQw0",
        "colab": {}
      },
      "source": [
        "import tensorflow as tf\n",
        "\n",
        "import matplotlib as mpl\n",
        "import matplotlib.pyplot as plt\n",
        "import numpy as np\n",
        "import os\n",
        "import pandas as pd\n",
        "import plotly.graph_objects as go\n",
        "from prettytable import PrettyTable\n",
        "\n",
        "mpl.rcParams['figure.figsize'] = (12, 6)\n",
        "mpl.rcParams['axes.grid'] = False"
      ],
      "execution_count": null,
      "outputs": []
    },
    {
      "cell_type": "code",
      "metadata": {
        "id": "idRwr8H4aciq",
        "colab_type": "code",
        "colab": {}
      },
      "source": [
        ""
      ],
      "execution_count": null,
      "outputs": []
    },
    {
      "cell_type": "code",
      "metadata": {
        "colab_type": "code",
        "id": "0zKwZ27R0qQH",
        "scrolled": true,
        "colab": {
          "base_uri": "https://localhost:8080/",
          "height": 122
        },
        "outputId": "a54040ab-ba27-4f74-de16-24a7edb8b409"
      },
      "source": [
        "# for colab\n",
        "from google.colab import drive\n",
        "drive.mount('/content/drive')\n",
        "PATH = 'drive/My Drive/DLDF/data'\n",
        "train = pd.read_csv(PATH + '/reg0_top6_data.csv', sep=';')\n",
        "df = train"
      ],
      "execution_count": null,
      "outputs": [
        {
          "output_type": "stream",
          "text": [
            "Go to this URL in a browser: https://accounts.google.com/o/oauth2/auth?client_id=947318989803-6bn6qk8qdgf4n4g3pfee6491hc0brc4i.apps.googleusercontent.com&redirect_uri=urn%3aietf%3awg%3aoauth%3a2.0%3aoob&response_type=code&scope=email%20https%3a%2f%2fwww.googleapis.com%2fauth%2fdocs.test%20https%3a%2f%2fwww.googleapis.com%2fauth%2fdrive%20https%3a%2f%2fwww.googleapis.com%2fauth%2fdrive.photos.readonly%20https%3a%2f%2fwww.googleapis.com%2fauth%2fpeopleapi.readonly\n",
            "\n",
            "Enter your authorization code:\n",
            "··········\n",
            "Mounted at /content/drive\n"
          ],
          "name": "stdout"
        }
      ]
    },
    {
      "cell_type": "code",
      "metadata": {
        "id": "5-rU9CYu60sS",
        "colab_type": "code",
        "colab": {
          "base_uri": "https://localhost:8080/",
          "height": 439
        },
        "outputId": "dff47cf3-4f06-4e8d-a731-6e527970ff87"
      },
      "source": [
        "df"
      ],
      "execution_count": null,
      "outputs": [
        {
          "output_type": "execute_result",
          "data": {
            "text/html": [
              "<div>\n",
              "<style scoped>\n",
              "    .dataframe tbody tr th:only-of-type {\n",
              "        vertical-align: middle;\n",
              "    }\n",
              "\n",
              "    .dataframe tbody tr th {\n",
              "        vertical-align: top;\n",
              "    }\n",
              "\n",
              "    .dataframe thead th {\n",
              "        text-align: right;\n",
              "    }\n",
              "</style>\n",
              "<table border=\"1\" class=\"dataframe\">\n",
              "  <thead>\n",
              "    <tr style=\"text-align: right;\">\n",
              "      <th></th>\n",
              "      <th>product_rk</th>\n",
              "      <th>store_location_rk</th>\n",
              "      <th>period_start_dt</th>\n",
              "      <th>demand</th>\n",
              "      <th>PROMO1_FLAG</th>\n",
              "      <th>PROMO2_FLAG</th>\n",
              "      <th>PRICE_REGULAR</th>\n",
              "      <th>PRICE_AFTER_DISC</th>\n",
              "      <th>NUM_CONSULTANT</th>\n",
              "      <th>AUTORIZATION_FLAG</th>\n",
              "    </tr>\n",
              "  </thead>\n",
              "  <tbody>\n",
              "    <tr>\n",
              "      <th>0</th>\n",
              "      <td>40369</td>\n",
              "      <td>309</td>\n",
              "      <td>19DEC2016</td>\n",
              "      <td>29.000000</td>\n",
              "      <td>NaN</td>\n",
              "      <td>NaN</td>\n",
              "      <td>NaN</td>\n",
              "      <td>NaN</td>\n",
              "      <td>NaN</td>\n",
              "      <td>NaN</td>\n",
              "    </tr>\n",
              "    <tr>\n",
              "      <th>1</th>\n",
              "      <td>40370</td>\n",
              "      <td>309</td>\n",
              "      <td>19DEC2016</td>\n",
              "      <td>64.000000</td>\n",
              "      <td>NaN</td>\n",
              "      <td>NaN</td>\n",
              "      <td>NaN</td>\n",
              "      <td>NaN</td>\n",
              "      <td>NaN</td>\n",
              "      <td>NaN</td>\n",
              "    </tr>\n",
              "    <tr>\n",
              "      <th>2</th>\n",
              "      <td>40372</td>\n",
              "      <td>309</td>\n",
              "      <td>19DEC2016</td>\n",
              "      <td>32.000000</td>\n",
              "      <td>NaN</td>\n",
              "      <td>NaN</td>\n",
              "      <td>NaN</td>\n",
              "      <td>NaN</td>\n",
              "      <td>NaN</td>\n",
              "      <td>NaN</td>\n",
              "    </tr>\n",
              "    <tr>\n",
              "      <th>3</th>\n",
              "      <td>40373</td>\n",
              "      <td>309</td>\n",
              "      <td>19DEC2016</td>\n",
              "      <td>10.000000</td>\n",
              "      <td>NaN</td>\n",
              "      <td>NaN</td>\n",
              "      <td>NaN</td>\n",
              "      <td>NaN</td>\n",
              "      <td>NaN</td>\n",
              "      <td>NaN</td>\n",
              "    </tr>\n",
              "    <tr>\n",
              "      <th>4</th>\n",
              "      <td>46272</td>\n",
              "      <td>309</td>\n",
              "      <td>19DEC2016</td>\n",
              "      <td>15.000000</td>\n",
              "      <td>NaN</td>\n",
              "      <td>NaN</td>\n",
              "      <td>NaN</td>\n",
              "      <td>NaN</td>\n",
              "      <td>NaN</td>\n",
              "      <td>NaN</td>\n",
              "    </tr>\n",
              "    <tr>\n",
              "      <th>...</th>\n",
              "      <td>...</td>\n",
              "      <td>...</td>\n",
              "      <td>...</td>\n",
              "      <td>...</td>\n",
              "      <td>...</td>\n",
              "      <td>...</td>\n",
              "      <td>...</td>\n",
              "      <td>...</td>\n",
              "      <td>...</td>\n",
              "      <td>...</td>\n",
              "    </tr>\n",
              "    <tr>\n",
              "      <th>35543</th>\n",
              "      <td>40370</td>\n",
              "      <td>1380</td>\n",
              "      <td>06JAN2020</td>\n",
              "      <td>11.551913</td>\n",
              "      <td>NaN</td>\n",
              "      <td>NaN</td>\n",
              "      <td>NaN</td>\n",
              "      <td>NaN</td>\n",
              "      <td>NaN</td>\n",
              "      <td>NaN</td>\n",
              "    </tr>\n",
              "    <tr>\n",
              "      <th>35544</th>\n",
              "      <td>40372</td>\n",
              "      <td>1380</td>\n",
              "      <td>06JAN2020</td>\n",
              "      <td>6.540984</td>\n",
              "      <td>NaN</td>\n",
              "      <td>NaN</td>\n",
              "      <td>NaN</td>\n",
              "      <td>NaN</td>\n",
              "      <td>NaN</td>\n",
              "      <td>NaN</td>\n",
              "    </tr>\n",
              "    <tr>\n",
              "      <th>35545</th>\n",
              "      <td>40373</td>\n",
              "      <td>1380</td>\n",
              "      <td>06JAN2020</td>\n",
              "      <td>4.398907</td>\n",
              "      <td>NaN</td>\n",
              "      <td>NaN</td>\n",
              "      <td>NaN</td>\n",
              "      <td>NaN</td>\n",
              "      <td>NaN</td>\n",
              "      <td>NaN</td>\n",
              "    </tr>\n",
              "    <tr>\n",
              "      <th>35546</th>\n",
              "      <td>46272</td>\n",
              "      <td>1380</td>\n",
              "      <td>06JAN2020</td>\n",
              "      <td>2.800000</td>\n",
              "      <td>NaN</td>\n",
              "      <td>NaN</td>\n",
              "      <td>NaN</td>\n",
              "      <td>NaN</td>\n",
              "      <td>NaN</td>\n",
              "      <td>NaN</td>\n",
              "    </tr>\n",
              "    <tr>\n",
              "      <th>35547</th>\n",
              "      <td>96212</td>\n",
              "      <td>1380</td>\n",
              "      <td>06JAN2020</td>\n",
              "      <td>2.800000</td>\n",
              "      <td>NaN</td>\n",
              "      <td>NaN</td>\n",
              "      <td>NaN</td>\n",
              "      <td>NaN</td>\n",
              "      <td>NaN</td>\n",
              "      <td>NaN</td>\n",
              "    </tr>\n",
              "  </tbody>\n",
              "</table>\n",
              "<p>35548 rows × 10 columns</p>\n",
              "</div>"
            ],
            "text/plain": [
              "       product_rk  store_location_rk  ... NUM_CONSULTANT  AUTORIZATION_FLAG\n",
              "0           40369                309  ...            NaN                NaN\n",
              "1           40370                309  ...            NaN                NaN\n",
              "2           40372                309  ...            NaN                NaN\n",
              "3           40373                309  ...            NaN                NaN\n",
              "4           46272                309  ...            NaN                NaN\n",
              "...           ...                ...  ...            ...                ...\n",
              "35543       40370               1380  ...            NaN                NaN\n",
              "35544       40372               1380  ...            NaN                NaN\n",
              "35545       40373               1380  ...            NaN                NaN\n",
              "35546       46272               1380  ...            NaN                NaN\n",
              "35547       96212               1380  ...            NaN                NaN\n",
              "\n",
              "[35548 rows x 10 columns]"
            ]
          },
          "metadata": {
            "tags": []
          },
          "execution_count": 5
        }
      ]
    },
    {
      "cell_type": "markdown",
      "metadata": {
        "id": "6yPoGMqR1het",
        "colab_type": "text"
      },
      "source": [
        "# New dataset analyses"
      ]
    },
    {
      "cell_type": "code",
      "metadata": {
        "colab_type": "code",
        "id": "sc5YgYwF0xLM",
        "colab": {}
      },
      "source": [
        "df['date'] = pd.to_datetime(df.period_start_dt, format='%d%b%Y')\n",
        "# log price\n",
        "# df['PRICE_REGULAR'] = np.log(df.PRICE_REGULAR)\n",
        "# date to 10^8 sec\n",
        "df.date = df.date.astype(np.int64)/3600/24\n",
        "df.date = df.date.astype(np.int64)/10**9"
      ],
      "execution_count": null,
      "outputs": []
    },
    {
      "cell_type": "code",
      "metadata": {
        "id": "It42dYr767SW",
        "colab_type": "code",
        "colab": {
          "base_uri": "https://localhost:8080/",
          "height": 578
        },
        "outputId": "62210ef6-9cd7-49b4-9fcf-4f5284425416"
      },
      "source": [
        "period_starts = df.period_start_dt.unique()\n",
        "period_starts"
      ],
      "execution_count": null,
      "outputs": [
        {
          "output_type": "execute_result",
          "data": {
            "text/plain": [
              "array(['19DEC2016', '26DEC2016', '02JAN2017', '09JAN2017', '16JAN2017',\n",
              "       '23JAN2017', '30JAN2017', '06FEB2017', '13FEB2017', '20FEB2017',\n",
              "       '27FEB2017', '06MAR2017', '13MAR2017', '20MAR2017', '27MAR2017',\n",
              "       '03APR2017', '10APR2017', '17APR2017', '24APR2017', '01MAY2017',\n",
              "       '08MAY2017', '15MAY2017', '22MAY2017', '29MAY2017', '05JUN2017',\n",
              "       '12JUN2017', '19JUN2017', '26JUN2017', '03JUL2017', '10JUL2017',\n",
              "       '17JUL2017', '24JUL2017', '31JUL2017', '07AUG2017', '14AUG2017',\n",
              "       '21AUG2017', '28AUG2017', '04SEP2017', '11SEP2017', '18SEP2017',\n",
              "       '25SEP2017', '02OCT2017', '09OCT2017', '16OCT2017', '23OCT2017',\n",
              "       '30OCT2017', '06NOV2017', '13NOV2017', '20NOV2017', '27NOV2017',\n",
              "       '04DEC2017', '11DEC2017', '18DEC2017', '25DEC2017', '01JAN2018',\n",
              "       '08JAN2018', '15JAN2018', '22JAN2018', '29JAN2018', '05FEB2018',\n",
              "       '12FEB2018', '19FEB2018', '26FEB2018', '05MAR2018', '12MAR2018',\n",
              "       '19MAR2018', '26MAR2018', '02APR2018', '09APR2018', '16APR2018',\n",
              "       '23APR2018', '30APR2018', '07MAY2018', '14MAY2018', '21MAY2018',\n",
              "       '28MAY2018', '04JUN2018', '11JUN2018', '18JUN2018', '25JUN2018',\n",
              "       '02JUL2018', '09JUL2018', '16JUL2018', '23JUL2018', '30JUL2018',\n",
              "       '06AUG2018', '13AUG2018', '20AUG2018', '27AUG2018', '03SEP2018',\n",
              "       '10SEP2018', '17SEP2018', '24SEP2018', '01OCT2018', '08OCT2018',\n",
              "       '15OCT2018', '22OCT2018', '29OCT2018', '05NOV2018', '12NOV2018',\n",
              "       '19NOV2018', '26NOV2018', '03DEC2018', '10DEC2018', '17DEC2018',\n",
              "       '24DEC2018', '31DEC2018', '07JAN2019', '14JAN2019', '21JAN2019',\n",
              "       '28JAN2019', '04FEB2019', '11FEB2019', '18FEB2019', '25FEB2019',\n",
              "       '04MAR2019', '11MAR2019', '18MAR2019', '25MAR2019', '01APR2019',\n",
              "       '08APR2019', '15APR2019', '22APR2019', '29APR2019', '06MAY2019',\n",
              "       '13MAY2019', '20MAY2019', '27MAY2019', '03JUN2019', '10JUN2019',\n",
              "       '17JUN2019', '24JUN2019', '01JUL2019', '08JUL2019', '15JUL2019',\n",
              "       '22JUL2019', '29JUL2019', '05AUG2019', '12AUG2019', '19AUG2019',\n",
              "       '26AUG2019', '02SEP2019', '09SEP2019', '16SEP2019', '23SEP2019',\n",
              "       '30SEP2019', '07OCT2019', '14OCT2019', '21OCT2019', '28OCT2019',\n",
              "       '04NOV2019', '11NOV2019', '18NOV2019', '25NOV2019', '02DEC2019',\n",
              "       '09DEC2019', '16DEC2019', '23DEC2019', '30DEC2019', '06JAN2020'],\n",
              "      dtype=object)"
            ]
          },
          "metadata": {
            "tags": []
          },
          "execution_count": 8
        }
      ]
    },
    {
      "cell_type": "code",
      "metadata": {
        "id": "n4GuYSAozYTu",
        "colab_type": "code",
        "colab": {
          "base_uri": "https://localhost:8080/",
          "height": 34
        },
        "outputId": "caddee7a-e852-46c5-d1bd-4653daba8aed"
      },
      "source": [
        "len(period_starts)"
      ],
      "execution_count": null,
      "outputs": [
        {
          "output_type": "execute_result",
          "data": {
            "text/plain": [
              "160"
            ]
          },
          "metadata": {
            "tags": []
          },
          "execution_count": 123
        }
      ]
    },
    {
      "cell_type": "code",
      "metadata": {
        "id": "qLzItxPqW0Cr",
        "colab_type": "code",
        "colab": {}
      },
      "source": [
        "dummy = df[ (df['period_start_dt'] == '19DEC2016') | \n",
        "            (df['period_start_dt'] == '19DEC2017') | \n",
        "            (df['period_start_dt'] == '19DEC2018') |\n",
        "            (df['period_start_dt'] == '19DEC2019') |\n",
        "\n",
        "            (df['period_start_dt'] == '26DEC2016') |\n",
        "            (df['period_start_dt'] == '26DEC2017') |\n",
        "            (df['period_start_dt'] == '26DEC2018') |\n",
        "            (df['period_start_dt'] == '26DEC2019') |\n",
        "\n",
        "            (df['period_start_dt'] == '06MAR2016') |\n",
        "            (df['period_start_dt'] == '06MAR2017') |\n",
        "            (df['period_start_dt'] == '06MAR2018') |\n",
        "            (df['period_start_dt'] == '06MAR2019') |\n",
        "\n",
        "            (df['period_start_dt'] == '20FEB2016') |\n",
        "            (df['period_start_dt'] == '20FEB2017') |\n",
        "            (df['period_start_dt'] == '20FEB2018') |\n",
        "            (df['period_start_dt'] == '20FEB2019')  ]"
      ],
      "execution_count": null,
      "outputs": []
    },
    {
      "cell_type": "code",
      "metadata": {
        "id": "pYD2k4uacKE3",
        "colab_type": "code",
        "colab": {}
      },
      "source": [
        "df['holiday_flag'] = np.where(df.index.isin(dummy.index), 1, 0)"
      ],
      "execution_count": null,
      "outputs": []
    },
    {
      "cell_type": "code",
      "metadata": {
        "id": "_KUkl_-ZbR6n",
        "colab_type": "code",
        "colab": {
          "base_uri": "https://localhost:8080/",
          "height": 439
        },
        "outputId": "260d6aa0-9ade-4a71-c092-f492836efcb2"
      },
      "source": [
        "df[df.index.isin(dummy.index)]"
      ],
      "execution_count": null,
      "outputs": [
        {
          "output_type": "execute_result",
          "data": {
            "text/html": [
              "<div>\n",
              "<style scoped>\n",
              "    .dataframe tbody tr th:only-of-type {\n",
              "        vertical-align: middle;\n",
              "    }\n",
              "\n",
              "    .dataframe tbody tr th {\n",
              "        vertical-align: top;\n",
              "    }\n",
              "\n",
              "    .dataframe thead th {\n",
              "        text-align: right;\n",
              "    }\n",
              "</style>\n",
              "<table border=\"1\" class=\"dataframe\">\n",
              "  <thead>\n",
              "    <tr style=\"text-align: right;\">\n",
              "      <th></th>\n",
              "      <th>product_rk</th>\n",
              "      <th>store_location_rk</th>\n",
              "      <th>period_start_dt</th>\n",
              "      <th>demand</th>\n",
              "      <th>PROMO1_FLAG</th>\n",
              "      <th>PROMO2_FLAG</th>\n",
              "      <th>PRICE_REGULAR</th>\n",
              "      <th>PRICE_AFTER_DISC</th>\n",
              "      <th>NUM_CONSULTANT</th>\n",
              "      <th>AUTORIZATION_FLAG</th>\n",
              "      <th>date</th>\n",
              "      <th>holiday_flag</th>\n",
              "    </tr>\n",
              "  </thead>\n",
              "  <tbody>\n",
              "    <tr>\n",
              "      <th>0</th>\n",
              "      <td>40369</td>\n",
              "      <td>309</td>\n",
              "      <td>19DEC2016</td>\n",
              "      <td>29.0</td>\n",
              "      <td>NaN</td>\n",
              "      <td>NaN</td>\n",
              "      <td>NaN</td>\n",
              "      <td>NaN</td>\n",
              "      <td>NaN</td>\n",
              "      <td>NaN</td>\n",
              "      <td>17154.0</td>\n",
              "      <td>1</td>\n",
              "    </tr>\n",
              "    <tr>\n",
              "      <th>1</th>\n",
              "      <td>40370</td>\n",
              "      <td>309</td>\n",
              "      <td>19DEC2016</td>\n",
              "      <td>64.0</td>\n",
              "      <td>NaN</td>\n",
              "      <td>NaN</td>\n",
              "      <td>NaN</td>\n",
              "      <td>NaN</td>\n",
              "      <td>NaN</td>\n",
              "      <td>NaN</td>\n",
              "      <td>17154.0</td>\n",
              "      <td>1</td>\n",
              "    </tr>\n",
              "    <tr>\n",
              "      <th>2</th>\n",
              "      <td>40372</td>\n",
              "      <td>309</td>\n",
              "      <td>19DEC2016</td>\n",
              "      <td>32.0</td>\n",
              "      <td>NaN</td>\n",
              "      <td>NaN</td>\n",
              "      <td>NaN</td>\n",
              "      <td>NaN</td>\n",
              "      <td>NaN</td>\n",
              "      <td>NaN</td>\n",
              "      <td>17154.0</td>\n",
              "      <td>1</td>\n",
              "    </tr>\n",
              "    <tr>\n",
              "      <th>3</th>\n",
              "      <td>40373</td>\n",
              "      <td>309</td>\n",
              "      <td>19DEC2016</td>\n",
              "      <td>10.0</td>\n",
              "      <td>NaN</td>\n",
              "      <td>NaN</td>\n",
              "      <td>NaN</td>\n",
              "      <td>NaN</td>\n",
              "      <td>NaN</td>\n",
              "      <td>NaN</td>\n",
              "      <td>17154.0</td>\n",
              "      <td>1</td>\n",
              "    </tr>\n",
              "    <tr>\n",
              "      <th>4</th>\n",
              "      <td>46272</td>\n",
              "      <td>309</td>\n",
              "      <td>19DEC2016</td>\n",
              "      <td>15.0</td>\n",
              "      <td>NaN</td>\n",
              "      <td>NaN</td>\n",
              "      <td>NaN</td>\n",
              "      <td>NaN</td>\n",
              "      <td>NaN</td>\n",
              "      <td>NaN</td>\n",
              "      <td>17154.0</td>\n",
              "      <td>1</td>\n",
              "    </tr>\n",
              "    <tr>\n",
              "      <th>...</th>\n",
              "      <td>...</td>\n",
              "      <td>...</td>\n",
              "      <td>...</td>\n",
              "      <td>...</td>\n",
              "      <td>...</td>\n",
              "      <td>...</td>\n",
              "      <td>...</td>\n",
              "      <td>...</td>\n",
              "      <td>...</td>\n",
              "      <td>...</td>\n",
              "      <td>...</td>\n",
              "      <td>...</td>\n",
              "    </tr>\n",
              "    <tr>\n",
              "      <th>32296</th>\n",
              "      <td>40369</td>\n",
              "      <td>1326</td>\n",
              "      <td>06MAR2017</td>\n",
              "      <td>416.0</td>\n",
              "      <td>0.0</td>\n",
              "      <td>0.0</td>\n",
              "      <td>500.0</td>\n",
              "      <td>500.0</td>\n",
              "      <td>0.0</td>\n",
              "      <td>1.0</td>\n",
              "      <td>17231.0</td>\n",
              "      <td>1</td>\n",
              "    </tr>\n",
              "    <tr>\n",
              "      <th>32297</th>\n",
              "      <td>40370</td>\n",
              "      <td>1326</td>\n",
              "      <td>06MAR2017</td>\n",
              "      <td>428.0</td>\n",
              "      <td>0.0</td>\n",
              "      <td>0.0</td>\n",
              "      <td>1000.0</td>\n",
              "      <td>1000.0</td>\n",
              "      <td>0.0</td>\n",
              "      <td>1.0</td>\n",
              "      <td>17231.0</td>\n",
              "      <td>1</td>\n",
              "    </tr>\n",
              "    <tr>\n",
              "      <th>32298</th>\n",
              "      <td>40372</td>\n",
              "      <td>1326</td>\n",
              "      <td>06MAR2017</td>\n",
              "      <td>129.0</td>\n",
              "      <td>0.0</td>\n",
              "      <td>0.0</td>\n",
              "      <td>2000.0</td>\n",
              "      <td>2000.0</td>\n",
              "      <td>0.0</td>\n",
              "      <td>1.0</td>\n",
              "      <td>17231.0</td>\n",
              "      <td>1</td>\n",
              "    </tr>\n",
              "    <tr>\n",
              "      <th>32299</th>\n",
              "      <td>40373</td>\n",
              "      <td>1326</td>\n",
              "      <td>06MAR2017</td>\n",
              "      <td>96.0</td>\n",
              "      <td>0.0</td>\n",
              "      <td>0.0</td>\n",
              "      <td>3000.0</td>\n",
              "      <td>3000.0</td>\n",
              "      <td>0.0</td>\n",
              "      <td>1.0</td>\n",
              "      <td>17231.0</td>\n",
              "      <td>1</td>\n",
              "    </tr>\n",
              "    <tr>\n",
              "      <th>32300</th>\n",
              "      <td>46272</td>\n",
              "      <td>1326</td>\n",
              "      <td>06MAR2017</td>\n",
              "      <td>18.0</td>\n",
              "      <td>0.0</td>\n",
              "      <td>0.0</td>\n",
              "      <td>191.0</td>\n",
              "      <td>191.0</td>\n",
              "      <td>0.0</td>\n",
              "      <td>1.0</td>\n",
              "      <td>17231.0</td>\n",
              "      <td>1</td>\n",
              "    </tr>\n",
              "  </tbody>\n",
              "</table>\n",
              "<p>695 rows × 12 columns</p>\n",
              "</div>"
            ],
            "text/plain": [
              "       product_rk  store_location_rk  ...     date  holiday_flag\n",
              "0           40369                309  ...  17154.0             1\n",
              "1           40370                309  ...  17154.0             1\n",
              "2           40372                309  ...  17154.0             1\n",
              "3           40373                309  ...  17154.0             1\n",
              "4           46272                309  ...  17154.0             1\n",
              "...           ...                ...  ...      ...           ...\n",
              "32296       40369               1326  ...  17231.0             1\n",
              "32297       40370               1326  ...  17231.0             1\n",
              "32298       40372               1326  ...  17231.0             1\n",
              "32299       40373               1326  ...  17231.0             1\n",
              "32300       46272               1326  ...  17231.0             1\n",
              "\n",
              "[695 rows x 12 columns]"
            ]
          },
          "metadata": {
            "tags": []
          },
          "execution_count": 11
        }
      ]
    },
    {
      "cell_type": "code",
      "metadata": {
        "id": "k3TBr7kw0QwR",
        "colab_type": "code",
        "colab": {}
      },
      "source": [
        "df = df.fillna(0)"
      ],
      "execution_count": null,
      "outputs": []
    },
    {
      "cell_type": "code",
      "metadata": {
        "id": "j5kq3DMg0StH",
        "colab_type": "code",
        "colab": {
          "base_uri": "https://localhost:8080/",
          "height": 439
        },
        "outputId": "24c2d323-6a1a-4c1b-fce4-8aa9c522543e"
      },
      "source": [
        "df"
      ],
      "execution_count": null,
      "outputs": [
        {
          "output_type": "execute_result",
          "data": {
            "text/html": [
              "<div>\n",
              "<style scoped>\n",
              "    .dataframe tbody tr th:only-of-type {\n",
              "        vertical-align: middle;\n",
              "    }\n",
              "\n",
              "    .dataframe tbody tr th {\n",
              "        vertical-align: top;\n",
              "    }\n",
              "\n",
              "    .dataframe thead th {\n",
              "        text-align: right;\n",
              "    }\n",
              "</style>\n",
              "<table border=\"1\" class=\"dataframe\">\n",
              "  <thead>\n",
              "    <tr style=\"text-align: right;\">\n",
              "      <th></th>\n",
              "      <th>product_rk</th>\n",
              "      <th>store_location_rk</th>\n",
              "      <th>period_start_dt</th>\n",
              "      <th>demand</th>\n",
              "      <th>PROMO1_FLAG</th>\n",
              "      <th>PROMO2_FLAG</th>\n",
              "      <th>PRICE_REGULAR</th>\n",
              "      <th>PRICE_AFTER_DISC</th>\n",
              "      <th>NUM_CONSULTANT</th>\n",
              "      <th>AUTORIZATION_FLAG</th>\n",
              "      <th>date</th>\n",
              "      <th>holiday_flag</th>\n",
              "    </tr>\n",
              "  </thead>\n",
              "  <tbody>\n",
              "    <tr>\n",
              "      <th>0</th>\n",
              "      <td>40369</td>\n",
              "      <td>309</td>\n",
              "      <td>19DEC2016</td>\n",
              "      <td>29.000000</td>\n",
              "      <td>0.0</td>\n",
              "      <td>0.0</td>\n",
              "      <td>0.0</td>\n",
              "      <td>0.0</td>\n",
              "      <td>0.0</td>\n",
              "      <td>0.0</td>\n",
              "      <td>17154.0</td>\n",
              "      <td>1</td>\n",
              "    </tr>\n",
              "    <tr>\n",
              "      <th>1</th>\n",
              "      <td>40370</td>\n",
              "      <td>309</td>\n",
              "      <td>19DEC2016</td>\n",
              "      <td>64.000000</td>\n",
              "      <td>0.0</td>\n",
              "      <td>0.0</td>\n",
              "      <td>0.0</td>\n",
              "      <td>0.0</td>\n",
              "      <td>0.0</td>\n",
              "      <td>0.0</td>\n",
              "      <td>17154.0</td>\n",
              "      <td>1</td>\n",
              "    </tr>\n",
              "    <tr>\n",
              "      <th>2</th>\n",
              "      <td>40372</td>\n",
              "      <td>309</td>\n",
              "      <td>19DEC2016</td>\n",
              "      <td>32.000000</td>\n",
              "      <td>0.0</td>\n",
              "      <td>0.0</td>\n",
              "      <td>0.0</td>\n",
              "      <td>0.0</td>\n",
              "      <td>0.0</td>\n",
              "      <td>0.0</td>\n",
              "      <td>17154.0</td>\n",
              "      <td>1</td>\n",
              "    </tr>\n",
              "    <tr>\n",
              "      <th>3</th>\n",
              "      <td>40373</td>\n",
              "      <td>309</td>\n",
              "      <td>19DEC2016</td>\n",
              "      <td>10.000000</td>\n",
              "      <td>0.0</td>\n",
              "      <td>0.0</td>\n",
              "      <td>0.0</td>\n",
              "      <td>0.0</td>\n",
              "      <td>0.0</td>\n",
              "      <td>0.0</td>\n",
              "      <td>17154.0</td>\n",
              "      <td>1</td>\n",
              "    </tr>\n",
              "    <tr>\n",
              "      <th>4</th>\n",
              "      <td>46272</td>\n",
              "      <td>309</td>\n",
              "      <td>19DEC2016</td>\n",
              "      <td>15.000000</td>\n",
              "      <td>0.0</td>\n",
              "      <td>0.0</td>\n",
              "      <td>0.0</td>\n",
              "      <td>0.0</td>\n",
              "      <td>0.0</td>\n",
              "      <td>0.0</td>\n",
              "      <td>17154.0</td>\n",
              "      <td>1</td>\n",
              "    </tr>\n",
              "    <tr>\n",
              "      <th>...</th>\n",
              "      <td>...</td>\n",
              "      <td>...</td>\n",
              "      <td>...</td>\n",
              "      <td>...</td>\n",
              "      <td>...</td>\n",
              "      <td>...</td>\n",
              "      <td>...</td>\n",
              "      <td>...</td>\n",
              "      <td>...</td>\n",
              "      <td>...</td>\n",
              "      <td>...</td>\n",
              "      <td>...</td>\n",
              "    </tr>\n",
              "    <tr>\n",
              "      <th>35543</th>\n",
              "      <td>40370</td>\n",
              "      <td>1380</td>\n",
              "      <td>06JAN2020</td>\n",
              "      <td>11.551913</td>\n",
              "      <td>0.0</td>\n",
              "      <td>0.0</td>\n",
              "      <td>0.0</td>\n",
              "      <td>0.0</td>\n",
              "      <td>0.0</td>\n",
              "      <td>0.0</td>\n",
              "      <td>18267.0</td>\n",
              "      <td>0</td>\n",
              "    </tr>\n",
              "    <tr>\n",
              "      <th>35544</th>\n",
              "      <td>40372</td>\n",
              "      <td>1380</td>\n",
              "      <td>06JAN2020</td>\n",
              "      <td>6.540984</td>\n",
              "      <td>0.0</td>\n",
              "      <td>0.0</td>\n",
              "      <td>0.0</td>\n",
              "      <td>0.0</td>\n",
              "      <td>0.0</td>\n",
              "      <td>0.0</td>\n",
              "      <td>18267.0</td>\n",
              "      <td>0</td>\n",
              "    </tr>\n",
              "    <tr>\n",
              "      <th>35545</th>\n",
              "      <td>40373</td>\n",
              "      <td>1380</td>\n",
              "      <td>06JAN2020</td>\n",
              "      <td>4.398907</td>\n",
              "      <td>0.0</td>\n",
              "      <td>0.0</td>\n",
              "      <td>0.0</td>\n",
              "      <td>0.0</td>\n",
              "      <td>0.0</td>\n",
              "      <td>0.0</td>\n",
              "      <td>18267.0</td>\n",
              "      <td>0</td>\n",
              "    </tr>\n",
              "    <tr>\n",
              "      <th>35546</th>\n",
              "      <td>46272</td>\n",
              "      <td>1380</td>\n",
              "      <td>06JAN2020</td>\n",
              "      <td>2.800000</td>\n",
              "      <td>0.0</td>\n",
              "      <td>0.0</td>\n",
              "      <td>0.0</td>\n",
              "      <td>0.0</td>\n",
              "      <td>0.0</td>\n",
              "      <td>0.0</td>\n",
              "      <td>18267.0</td>\n",
              "      <td>0</td>\n",
              "    </tr>\n",
              "    <tr>\n",
              "      <th>35547</th>\n",
              "      <td>96212</td>\n",
              "      <td>1380</td>\n",
              "      <td>06JAN2020</td>\n",
              "      <td>2.800000</td>\n",
              "      <td>0.0</td>\n",
              "      <td>0.0</td>\n",
              "      <td>0.0</td>\n",
              "      <td>0.0</td>\n",
              "      <td>0.0</td>\n",
              "      <td>0.0</td>\n",
              "      <td>18267.0</td>\n",
              "      <td>0</td>\n",
              "    </tr>\n",
              "  </tbody>\n",
              "</table>\n",
              "<p>35548 rows × 12 columns</p>\n",
              "</div>"
            ],
            "text/plain": [
              "       product_rk  store_location_rk  ...     date  holiday_flag\n",
              "0           40369                309  ...  17154.0             1\n",
              "1           40370                309  ...  17154.0             1\n",
              "2           40372                309  ...  17154.0             1\n",
              "3           40373                309  ...  17154.0             1\n",
              "4           46272                309  ...  17154.0             1\n",
              "...           ...                ...  ...      ...           ...\n",
              "35543       40370               1380  ...  18267.0             0\n",
              "35544       40372               1380  ...  18267.0             0\n",
              "35545       40373               1380  ...  18267.0             0\n",
              "35546       46272               1380  ...  18267.0             0\n",
              "35547       96212               1380  ...  18267.0             0\n",
              "\n",
              "[35548 rows x 12 columns]"
            ]
          },
          "metadata": {
            "tags": []
          },
          "execution_count": 13
        }
      ]
    },
    {
      "cell_type": "code",
      "metadata": {
        "id": "gWQwXxJW0a7w",
        "colab_type": "code",
        "colab": {}
      },
      "source": [
        "jan2020 = df[df['period_start_dt'].isin(['06JAN2020'])]"
      ],
      "execution_count": null,
      "outputs": []
    },
    {
      "cell_type": "code",
      "metadata": {
        "id": "2xjVQi9511Wc",
        "colab_type": "code",
        "colab": {
          "base_uri": "https://localhost:8080/",
          "height": 34
        },
        "outputId": "5c38b6ec-6dfc-415b-8df2-8130aef21501"
      },
      "source": [
        "jan2020.shape"
      ],
      "execution_count": null,
      "outputs": [
        {
          "output_type": "execute_result",
          "data": {
            "text/plain": [
              "(204, 12)"
            ]
          },
          "metadata": {
            "tags": []
          },
          "execution_count": 15
        }
      ]
    },
    {
      "cell_type": "code",
      "metadata": {
        "id": "lDgYq6R517vh",
        "colab_type": "code",
        "colab": {}
      },
      "source": [
        "jan2020_df = jan2020[['period_start_dt', 'demand', 'date', 'product_rk', 'store_location_rk']]"
      ],
      "execution_count": null,
      "outputs": []
    },
    {
      "cell_type": "code",
      "metadata": {
        "id": "m8XN8OxZNegs",
        "colab_type": "code",
        "colab": {
          "base_uri": "https://localhost:8080/",
          "height": 419
        },
        "outputId": "9d158827-0ac9-4ead-fcd9-42ba1faa9d4f"
      },
      "source": [
        "jan2020_df"
      ],
      "execution_count": null,
      "outputs": [
        {
          "output_type": "execute_result",
          "data": {
            "text/html": [
              "<div>\n",
              "<style scoped>\n",
              "    .dataframe tbody tr th:only-of-type {\n",
              "        vertical-align: middle;\n",
              "    }\n",
              "\n",
              "    .dataframe tbody tr th {\n",
              "        vertical-align: top;\n",
              "    }\n",
              "\n",
              "    .dataframe thead th {\n",
              "        text-align: right;\n",
              "    }\n",
              "</style>\n",
              "<table border=\"1\" class=\"dataframe\">\n",
              "  <thead>\n",
              "    <tr style=\"text-align: right;\">\n",
              "      <th></th>\n",
              "      <th>period_start_dt</th>\n",
              "      <th>demand</th>\n",
              "      <th>date</th>\n",
              "      <th>product_rk</th>\n",
              "      <th>store_location_rk</th>\n",
              "    </tr>\n",
              "  </thead>\n",
              "  <tbody>\n",
              "    <tr>\n",
              "      <th>938</th>\n",
              "      <td>06JAN2020</td>\n",
              "      <td>4.972678</td>\n",
              "      <td>18267.0</td>\n",
              "      <td>40369</td>\n",
              "      <td>317</td>\n",
              "    </tr>\n",
              "    <tr>\n",
              "      <th>939</th>\n",
              "      <td>06JAN2020</td>\n",
              "      <td>9.027322</td>\n",
              "      <td>18267.0</td>\n",
              "      <td>40370</td>\n",
              "      <td>317</td>\n",
              "    </tr>\n",
              "    <tr>\n",
              "      <th>940</th>\n",
              "      <td>06JAN2020</td>\n",
              "      <td>5.087432</td>\n",
              "      <td>18267.0</td>\n",
              "      <td>40372</td>\n",
              "      <td>317</td>\n",
              "    </tr>\n",
              "    <tr>\n",
              "      <th>941</th>\n",
              "      <td>06JAN2020</td>\n",
              "      <td>3.442623</td>\n",
              "      <td>18267.0</td>\n",
              "      <td>40373</td>\n",
              "      <td>317</td>\n",
              "    </tr>\n",
              "    <tr>\n",
              "      <th>942</th>\n",
              "      <td>06JAN2020</td>\n",
              "      <td>3.966667</td>\n",
              "      <td>18267.0</td>\n",
              "      <td>46272</td>\n",
              "      <td>317</td>\n",
              "    </tr>\n",
              "    <tr>\n",
              "      <th>...</th>\n",
              "      <td>...</td>\n",
              "      <td>...</td>\n",
              "      <td>...</td>\n",
              "      <td>...</td>\n",
              "      <td>...</td>\n",
              "    </tr>\n",
              "    <tr>\n",
              "      <th>35543</th>\n",
              "      <td>06JAN2020</td>\n",
              "      <td>11.551913</td>\n",
              "      <td>18267.0</td>\n",
              "      <td>40370</td>\n",
              "      <td>1380</td>\n",
              "    </tr>\n",
              "    <tr>\n",
              "      <th>35544</th>\n",
              "      <td>06JAN2020</td>\n",
              "      <td>6.540984</td>\n",
              "      <td>18267.0</td>\n",
              "      <td>40372</td>\n",
              "      <td>1380</td>\n",
              "    </tr>\n",
              "    <tr>\n",
              "      <th>35545</th>\n",
              "      <td>06JAN2020</td>\n",
              "      <td>4.398907</td>\n",
              "      <td>18267.0</td>\n",
              "      <td>40373</td>\n",
              "      <td>1380</td>\n",
              "    </tr>\n",
              "    <tr>\n",
              "      <th>35546</th>\n",
              "      <td>06JAN2020</td>\n",
              "      <td>2.800000</td>\n",
              "      <td>18267.0</td>\n",
              "      <td>46272</td>\n",
              "      <td>1380</td>\n",
              "    </tr>\n",
              "    <tr>\n",
              "      <th>35547</th>\n",
              "      <td>06JAN2020</td>\n",
              "      <td>2.800000</td>\n",
              "      <td>18267.0</td>\n",
              "      <td>96212</td>\n",
              "      <td>1380</td>\n",
              "    </tr>\n",
              "  </tbody>\n",
              "</table>\n",
              "<p>204 rows × 5 columns</p>\n",
              "</div>"
            ],
            "text/plain": [
              "      period_start_dt     demand     date  product_rk  store_location_rk\n",
              "938         06JAN2020   4.972678  18267.0       40369                317\n",
              "939         06JAN2020   9.027322  18267.0       40370                317\n",
              "940         06JAN2020   5.087432  18267.0       40372                317\n",
              "941         06JAN2020   3.442623  18267.0       40373                317\n",
              "942         06JAN2020   3.966667  18267.0       46272                317\n",
              "...               ...        ...      ...         ...                ...\n",
              "35543       06JAN2020  11.551913  18267.0       40370               1380\n",
              "35544       06JAN2020   6.540984  18267.0       40372               1380\n",
              "35545       06JAN2020   4.398907  18267.0       40373               1380\n",
              "35546       06JAN2020   2.800000  18267.0       46272               1380\n",
              "35547       06JAN2020   2.800000  18267.0       96212               1380\n",
              "\n",
              "[204 rows x 5 columns]"
            ]
          },
          "metadata": {
            "tags": []
          },
          "execution_count": 17
        }
      ]
    },
    {
      "cell_type": "code",
      "metadata": {
        "id": "zK_792CS26Ka",
        "colab_type": "code",
        "colab": {}
      },
      "source": [
        "df = df.drop('period_start_dt', axis=1)"
      ],
      "execution_count": null,
      "outputs": []
    },
    {
      "cell_type": "code",
      "metadata": {
        "id": "qKXWpndB4Lp1",
        "colab_type": "code",
        "colab": {
          "base_uri": "https://localhost:8080/",
          "height": 439
        },
        "outputId": "bf03e66a-b9e0-474e-fb29-394d8587c98c"
      },
      "source": [
        "df"
      ],
      "execution_count": null,
      "outputs": [
        {
          "output_type": "execute_result",
          "data": {
            "text/html": [
              "<div>\n",
              "<style scoped>\n",
              "    .dataframe tbody tr th:only-of-type {\n",
              "        vertical-align: middle;\n",
              "    }\n",
              "\n",
              "    .dataframe tbody tr th {\n",
              "        vertical-align: top;\n",
              "    }\n",
              "\n",
              "    .dataframe thead th {\n",
              "        text-align: right;\n",
              "    }\n",
              "</style>\n",
              "<table border=\"1\" class=\"dataframe\">\n",
              "  <thead>\n",
              "    <tr style=\"text-align: right;\">\n",
              "      <th></th>\n",
              "      <th>product_rk</th>\n",
              "      <th>store_location_rk</th>\n",
              "      <th>demand</th>\n",
              "      <th>PROMO1_FLAG</th>\n",
              "      <th>PROMO2_FLAG</th>\n",
              "      <th>PRICE_REGULAR</th>\n",
              "      <th>PRICE_AFTER_DISC</th>\n",
              "      <th>NUM_CONSULTANT</th>\n",
              "      <th>AUTORIZATION_FLAG</th>\n",
              "      <th>date</th>\n",
              "      <th>holiday_flag</th>\n",
              "    </tr>\n",
              "  </thead>\n",
              "  <tbody>\n",
              "    <tr>\n",
              "      <th>0</th>\n",
              "      <td>40369</td>\n",
              "      <td>309</td>\n",
              "      <td>29.000000</td>\n",
              "      <td>0.0</td>\n",
              "      <td>0.0</td>\n",
              "      <td>0.0</td>\n",
              "      <td>0.0</td>\n",
              "      <td>0.0</td>\n",
              "      <td>0.0</td>\n",
              "      <td>17154.0</td>\n",
              "      <td>1</td>\n",
              "    </tr>\n",
              "    <tr>\n",
              "      <th>1</th>\n",
              "      <td>40370</td>\n",
              "      <td>309</td>\n",
              "      <td>64.000000</td>\n",
              "      <td>0.0</td>\n",
              "      <td>0.0</td>\n",
              "      <td>0.0</td>\n",
              "      <td>0.0</td>\n",
              "      <td>0.0</td>\n",
              "      <td>0.0</td>\n",
              "      <td>17154.0</td>\n",
              "      <td>1</td>\n",
              "    </tr>\n",
              "    <tr>\n",
              "      <th>2</th>\n",
              "      <td>40372</td>\n",
              "      <td>309</td>\n",
              "      <td>32.000000</td>\n",
              "      <td>0.0</td>\n",
              "      <td>0.0</td>\n",
              "      <td>0.0</td>\n",
              "      <td>0.0</td>\n",
              "      <td>0.0</td>\n",
              "      <td>0.0</td>\n",
              "      <td>17154.0</td>\n",
              "      <td>1</td>\n",
              "    </tr>\n",
              "    <tr>\n",
              "      <th>3</th>\n",
              "      <td>40373</td>\n",
              "      <td>309</td>\n",
              "      <td>10.000000</td>\n",
              "      <td>0.0</td>\n",
              "      <td>0.0</td>\n",
              "      <td>0.0</td>\n",
              "      <td>0.0</td>\n",
              "      <td>0.0</td>\n",
              "      <td>0.0</td>\n",
              "      <td>17154.0</td>\n",
              "      <td>1</td>\n",
              "    </tr>\n",
              "    <tr>\n",
              "      <th>4</th>\n",
              "      <td>46272</td>\n",
              "      <td>309</td>\n",
              "      <td>15.000000</td>\n",
              "      <td>0.0</td>\n",
              "      <td>0.0</td>\n",
              "      <td>0.0</td>\n",
              "      <td>0.0</td>\n",
              "      <td>0.0</td>\n",
              "      <td>0.0</td>\n",
              "      <td>17154.0</td>\n",
              "      <td>1</td>\n",
              "    </tr>\n",
              "    <tr>\n",
              "      <th>...</th>\n",
              "      <td>...</td>\n",
              "      <td>...</td>\n",
              "      <td>...</td>\n",
              "      <td>...</td>\n",
              "      <td>...</td>\n",
              "      <td>...</td>\n",
              "      <td>...</td>\n",
              "      <td>...</td>\n",
              "      <td>...</td>\n",
              "      <td>...</td>\n",
              "      <td>...</td>\n",
              "    </tr>\n",
              "    <tr>\n",
              "      <th>35543</th>\n",
              "      <td>40370</td>\n",
              "      <td>1380</td>\n",
              "      <td>11.551913</td>\n",
              "      <td>0.0</td>\n",
              "      <td>0.0</td>\n",
              "      <td>0.0</td>\n",
              "      <td>0.0</td>\n",
              "      <td>0.0</td>\n",
              "      <td>0.0</td>\n",
              "      <td>18267.0</td>\n",
              "      <td>0</td>\n",
              "    </tr>\n",
              "    <tr>\n",
              "      <th>35544</th>\n",
              "      <td>40372</td>\n",
              "      <td>1380</td>\n",
              "      <td>6.540984</td>\n",
              "      <td>0.0</td>\n",
              "      <td>0.0</td>\n",
              "      <td>0.0</td>\n",
              "      <td>0.0</td>\n",
              "      <td>0.0</td>\n",
              "      <td>0.0</td>\n",
              "      <td>18267.0</td>\n",
              "      <td>0</td>\n",
              "    </tr>\n",
              "    <tr>\n",
              "      <th>35545</th>\n",
              "      <td>40373</td>\n",
              "      <td>1380</td>\n",
              "      <td>4.398907</td>\n",
              "      <td>0.0</td>\n",
              "      <td>0.0</td>\n",
              "      <td>0.0</td>\n",
              "      <td>0.0</td>\n",
              "      <td>0.0</td>\n",
              "      <td>0.0</td>\n",
              "      <td>18267.0</td>\n",
              "      <td>0</td>\n",
              "    </tr>\n",
              "    <tr>\n",
              "      <th>35546</th>\n",
              "      <td>46272</td>\n",
              "      <td>1380</td>\n",
              "      <td>2.800000</td>\n",
              "      <td>0.0</td>\n",
              "      <td>0.0</td>\n",
              "      <td>0.0</td>\n",
              "      <td>0.0</td>\n",
              "      <td>0.0</td>\n",
              "      <td>0.0</td>\n",
              "      <td>18267.0</td>\n",
              "      <td>0</td>\n",
              "    </tr>\n",
              "    <tr>\n",
              "      <th>35547</th>\n",
              "      <td>96212</td>\n",
              "      <td>1380</td>\n",
              "      <td>2.800000</td>\n",
              "      <td>0.0</td>\n",
              "      <td>0.0</td>\n",
              "      <td>0.0</td>\n",
              "      <td>0.0</td>\n",
              "      <td>0.0</td>\n",
              "      <td>0.0</td>\n",
              "      <td>18267.0</td>\n",
              "      <td>0</td>\n",
              "    </tr>\n",
              "  </tbody>\n",
              "</table>\n",
              "<p>35548 rows × 11 columns</p>\n",
              "</div>"
            ],
            "text/plain": [
              "       product_rk  store_location_rk  ...     date  holiday_flag\n",
              "0           40369                309  ...  17154.0             1\n",
              "1           40370                309  ...  17154.0             1\n",
              "2           40372                309  ...  17154.0             1\n",
              "3           40373                309  ...  17154.0             1\n",
              "4           46272                309  ...  17154.0             1\n",
              "...           ...                ...  ...      ...           ...\n",
              "35543       40370               1380  ...  18267.0             0\n",
              "35544       40372               1380  ...  18267.0             0\n",
              "35545       40373               1380  ...  18267.0             0\n",
              "35546       46272               1380  ...  18267.0             0\n",
              "35547       96212               1380  ...  18267.0             0\n",
              "\n",
              "[35548 rows x 11 columns]"
            ]
          },
          "metadata": {
            "tags": []
          },
          "execution_count": 19
        }
      ]
    },
    {
      "cell_type": "markdown",
      "metadata": {
        "id": "97mE74wsyV21",
        "colab_type": "text"
      },
      "source": [
        "# Working only with df.values"
      ]
    },
    {
      "cell_type": "code",
      "metadata": {
        "id": "R9El5-uIfQ90",
        "colab_type": "code",
        "colab": {}
      },
      "source": [
        "uni_st_ids = df.store_location_rk.unique()\n",
        "uni_sku_ids = df.product_rk.unique()"
      ],
      "execution_count": null,
      "outputs": []
    },
    {
      "cell_type": "code",
      "metadata": {
        "id": "C7X2Dk_rfdRP",
        "colab_type": "code",
        "colab": {
          "base_uri": "https://localhost:8080/",
          "height": 34
        },
        "outputId": "bcacdb7f-9314-4ae3-8af3-195e6d71ef8f"
      },
      "source": [
        "uni_sku_ids"
      ],
      "execution_count": null,
      "outputs": [
        {
          "output_type": "execute_result",
          "data": {
            "text/plain": [
              "array([40369, 40370, 40372, 40373, 46272, 96212])"
            ]
          },
          "metadata": {
            "tags": []
          },
          "execution_count": 21
        }
      ]
    },
    {
      "cell_type": "code",
      "metadata": {
        "id": "XVj3l7jZffi5",
        "colab_type": "code",
        "colab": {
          "base_uri": "https://localhost:8080/",
          "height": 85
        },
        "outputId": "704072ce-0310-4ccb-fcd6-aae2bc150645"
      },
      "source": [
        "uni_st_ids"
      ],
      "execution_count": null,
      "outputs": [
        {
          "output_type": "execute_result",
          "data": {
            "text/plain": [
              "array([ 309,  317,  355,  380,  425,  453,  504,  517,  525,  533,  535,\n",
              "        540,  555,  557,  562,  637,  644,  657,  764,  798,  862,  866,\n",
              "        874, 1005, 1034, 1079, 1080, 1143, 1162, 1173, 1185, 1191, 1202,\n",
              "       1203, 1281, 1316, 1326, 1328, 1347, 1363, 1380])"
            ]
          },
          "metadata": {
            "tags": []
          },
          "execution_count": 22
        }
      ]
    },
    {
      "cell_type": "code",
      "metadata": {
        "id": "eYQ-u8wUeC-_",
        "colab_type": "code",
        "colab": {}
      },
      "source": [
        "def split_dataset(df, store_ids, sku_ids, univar=False):\n",
        "    batches = []\n",
        "    for sku_id in sku_ids:\n",
        "        for store_id in store_ids:\n",
        "            if univar:\n",
        "                batch = df[(df['store_location_rk'] == store_id) & (df['product_rk'] == sku_id)]['demand']\n",
        "            else:\n",
        "                batch = df[(df['store_location_rk'] == store_id) & (df['product_rk'] == sku_id)]\n",
        "            batches.append(batch.values)\n",
        "    return batches"
      ],
      "execution_count": null,
      "outputs": []
    },
    {
      "cell_type": "code",
      "metadata": {
        "id": "08CF0i9kk_oC",
        "colab_type": "code",
        "colab": {}
      },
      "source": [
        "def split_dataset_other(df, sku_ids, demand_bool=False):\n",
        "    batches = []\n",
        "    for sku_id in sku_ids:\n",
        "        batch = df[df['product_rk'] == sku_id]['demand']\n",
        "        batches.append(batch.values)\n",
        "    return np.array(batches)"
      ],
      "execution_count": null,
      "outputs": []
    },
    {
      "cell_type": "code",
      "metadata": {
        "id": "kIFyKDwx1F6L",
        "colab_type": "code",
        "colab": {}
      },
      "source": [
        "splitted_df = split_dataset(df, uni_st_ids, uni_sku_ids)"
      ],
      "execution_count": null,
      "outputs": []
    },
    {
      "cell_type": "code",
      "metadata": {
        "id": "rT-kEkGElW2U",
        "colab_type": "code",
        "colab": {
          "base_uri": "https://localhost:8080/",
          "height": 119
        },
        "outputId": "c245c904-2a48-46b3-d65f-7eb8124ffa31"
      },
      "source": [
        "for sh in split_dataset_other(df, uni_sku_ids):\n",
        "    print(sh.shape)"
      ],
      "execution_count": null,
      "outputs": [
        {
          "output_type": "stream",
          "text": [
            "(6109,)\n",
            "(6109,)\n",
            "(6108,)\n",
            "(6109,)\n",
            "(6103,)\n",
            "(5010,)\n"
          ],
          "name": "stdout"
        }
      ]
    },
    {
      "cell_type": "code",
      "metadata": {
        "id": "ohrum6v_h1gW",
        "colab_type": "code",
        "colab": {
          "base_uri": "https://localhost:8080/",
          "height": 34
        },
        "outputId": "6b478a6b-29b1-4c71-c8ac-46b1d7fc9025"
      },
      "source": [
        "len(splitted_df)"
      ],
      "execution_count": null,
      "outputs": [
        {
          "output_type": "execute_result",
          "data": {
            "text/plain": [
              "246"
            ]
          },
          "metadata": {
            "tags": []
          },
          "execution_count": 27
        }
      ]
    },
    {
      "cell_type": "code",
      "metadata": {
        "id": "EmgR-5agiooC",
        "colab_type": "code",
        "colab": {
          "base_uri": "https://localhost:8080/",
          "height": 34
        },
        "outputId": "512d7589-5c0c-40fd-9e20-bfb4924eb920"
      },
      "source": [
        "len(uni_sku_ids)*len(uni_st_ids)"
      ],
      "execution_count": null,
      "outputs": [
        {
          "output_type": "execute_result",
          "data": {
            "text/plain": [
              "246"
            ]
          },
          "metadata": {
            "tags": []
          },
          "execution_count": 28
        }
      ]
    },
    {
      "cell_type": "code",
      "metadata": {
        "id": "nB4ni3JNjhWG",
        "colab_type": "code",
        "colab": {}
      },
      "source": [
        "tmp = []\n",
        "for idf in splitted_df:\n",
        "    if idf.shape[0] == 160:\n",
        "        tmp.append(idf)\n",
        "splitted_df=tmp"
      ],
      "execution_count": null,
      "outputs": []
    },
    {
      "cell_type": "code",
      "metadata": {
        "id": "br6ZE63wsWsO",
        "colab_type": "code",
        "colab": {
          "base_uri": "https://localhost:8080/",
          "height": 1000
        },
        "outputId": "5370a917-df61-451d-d9a9-bfa0dc75aa52"
      },
      "source": [
        "norm_sku_store = []\n",
        "for idf in splitted_df:\n",
        "    norm_sku_store.append(str(idf[0, 0])+str(idf[0, 1]))\n",
        "norm_sku_store"
      ],
      "execution_count": null,
      "outputs": [
        {
          "output_type": "execute_result",
          "data": {
            "text/plain": [
              "['40369.0317.0',\n",
              " '40369.0355.0',\n",
              " '40369.0380.0',\n",
              " '40369.0425.0',\n",
              " '40369.0453.0',\n",
              " '40369.0504.0',\n",
              " '40369.0517.0',\n",
              " '40369.0525.0',\n",
              " '40369.0535.0',\n",
              " '40369.0555.0',\n",
              " '40369.0557.0',\n",
              " '40369.0562.0',\n",
              " '40369.0637.0',\n",
              " '40369.0644.0',\n",
              " '40369.0657.0',\n",
              " '40369.0764.0',\n",
              " '40369.0798.0',\n",
              " '40369.0862.0',\n",
              " '40369.0866.0',\n",
              " '40369.0874.0',\n",
              " '40369.01034.0',\n",
              " '40369.01079.0',\n",
              " '40369.01143.0',\n",
              " '40369.01162.0',\n",
              " '40369.01173.0',\n",
              " '40369.01185.0',\n",
              " '40369.01191.0',\n",
              " '40369.01203.0',\n",
              " '40369.01281.0',\n",
              " '40370.0317.0',\n",
              " '40370.0355.0',\n",
              " '40370.0380.0',\n",
              " '40370.0425.0',\n",
              " '40370.0453.0',\n",
              " '40370.0504.0',\n",
              " '40370.0517.0',\n",
              " '40370.0525.0',\n",
              " '40370.0535.0',\n",
              " '40370.0555.0',\n",
              " '40370.0557.0',\n",
              " '40370.0562.0',\n",
              " '40370.0637.0',\n",
              " '40370.0644.0',\n",
              " '40370.0657.0',\n",
              " '40370.0764.0',\n",
              " '40370.0798.0',\n",
              " '40370.0862.0',\n",
              " '40370.0866.0',\n",
              " '40370.0874.0',\n",
              " '40370.01034.0',\n",
              " '40370.01079.0',\n",
              " '40370.01143.0',\n",
              " '40370.01162.0',\n",
              " '40370.01173.0',\n",
              " '40370.01185.0',\n",
              " '40370.01191.0',\n",
              " '40370.01203.0',\n",
              " '40370.01281.0',\n",
              " '40372.0317.0',\n",
              " '40372.0355.0',\n",
              " '40372.0380.0',\n",
              " '40372.0425.0',\n",
              " '40372.0453.0',\n",
              " '40372.0504.0',\n",
              " '40372.0517.0',\n",
              " '40372.0525.0',\n",
              " '40372.0535.0',\n",
              " '40372.0555.0',\n",
              " '40372.0557.0',\n",
              " '40372.0562.0',\n",
              " '40372.0637.0',\n",
              " '40372.0644.0',\n",
              " '40372.0657.0',\n",
              " '40372.0764.0',\n",
              " '40372.0798.0',\n",
              " '40372.0862.0',\n",
              " '40372.0866.0',\n",
              " '40372.0874.0',\n",
              " '40372.01034.0',\n",
              " '40372.01079.0',\n",
              " '40372.01143.0',\n",
              " '40372.01162.0',\n",
              " '40372.01173.0',\n",
              " '40372.01185.0',\n",
              " '40372.01191.0',\n",
              " '40372.01203.0',\n",
              " '40372.01281.0',\n",
              " '40373.0317.0',\n",
              " '40373.0355.0',\n",
              " '40373.0380.0',\n",
              " '40373.0425.0',\n",
              " '40373.0453.0',\n",
              " '40373.0504.0',\n",
              " '40373.0517.0',\n",
              " '40373.0525.0',\n",
              " '40373.0535.0',\n",
              " '40373.0555.0',\n",
              " '40373.0557.0',\n",
              " '40373.0562.0',\n",
              " '40373.0637.0',\n",
              " '40373.0644.0',\n",
              " '40373.0657.0',\n",
              " '40373.0764.0',\n",
              " '40373.0798.0',\n",
              " '40373.0862.0',\n",
              " '40373.0866.0',\n",
              " '40373.0874.0',\n",
              " '40373.01034.0',\n",
              " '40373.01079.0',\n",
              " '40373.01143.0',\n",
              " '40373.01162.0',\n",
              " '40373.01173.0',\n",
              " '40373.01185.0',\n",
              " '40373.01191.0',\n",
              " '40373.01203.0',\n",
              " '40373.01281.0',\n",
              " '46272.0317.0',\n",
              " '46272.0355.0',\n",
              " '46272.0380.0',\n",
              " '46272.0425.0',\n",
              " '46272.0453.0',\n",
              " '46272.0504.0',\n",
              " '46272.0517.0',\n",
              " '46272.0525.0',\n",
              " '46272.0535.0',\n",
              " '46272.0555.0',\n",
              " '46272.0557.0',\n",
              " '46272.0562.0',\n",
              " '46272.0637.0',\n",
              " '46272.0644.0',\n",
              " '46272.0657.0',\n",
              " '46272.0764.0',\n",
              " '46272.0798.0',\n",
              " '46272.0862.0',\n",
              " '46272.0866.0',\n",
              " '46272.0874.0',\n",
              " '46272.01034.0',\n",
              " '46272.01079.0',\n",
              " '46272.01143.0',\n",
              " '46272.01162.0',\n",
              " '46272.01173.0',\n",
              " '46272.01185.0',\n",
              " '46272.01191.0',\n",
              " '46272.01203.0',\n",
              " '46272.01281.0']"
            ]
          },
          "metadata": {
            "tags": []
          },
          "execution_count": 30
        }
      ]
    },
    {
      "cell_type": "code",
      "metadata": {
        "id": "b1b2ic9QPRkZ",
        "colab_type": "code",
        "colab": {
          "base_uri": "https://localhost:8080/",
          "height": 1000
        },
        "outputId": "1bdc005a-ee3d-432d-9583-d83e1fab0de6"
      },
      "source": [
        "len(norm_sku_store)\n",
        "norm_sku_store"
      ],
      "execution_count": null,
      "outputs": [
        {
          "output_type": "execute_result",
          "data": {
            "text/plain": [
              "['40369.0317.0',\n",
              " '40369.0355.0',\n",
              " '40369.0380.0',\n",
              " '40369.0425.0',\n",
              " '40369.0453.0',\n",
              " '40369.0504.0',\n",
              " '40369.0517.0',\n",
              " '40369.0525.0',\n",
              " '40369.0535.0',\n",
              " '40369.0555.0',\n",
              " '40369.0557.0',\n",
              " '40369.0562.0',\n",
              " '40369.0637.0',\n",
              " '40369.0644.0',\n",
              " '40369.0657.0',\n",
              " '40369.0764.0',\n",
              " '40369.0798.0',\n",
              " '40369.0862.0',\n",
              " '40369.0866.0',\n",
              " '40369.0874.0',\n",
              " '40369.01034.0',\n",
              " '40369.01079.0',\n",
              " '40369.01143.0',\n",
              " '40369.01162.0',\n",
              " '40369.01173.0',\n",
              " '40369.01185.0',\n",
              " '40369.01191.0',\n",
              " '40369.01203.0',\n",
              " '40369.01281.0',\n",
              " '40370.0317.0',\n",
              " '40370.0355.0',\n",
              " '40370.0380.0',\n",
              " '40370.0425.0',\n",
              " '40370.0453.0',\n",
              " '40370.0504.0',\n",
              " '40370.0517.0',\n",
              " '40370.0525.0',\n",
              " '40370.0535.0',\n",
              " '40370.0555.0',\n",
              " '40370.0557.0',\n",
              " '40370.0562.0',\n",
              " '40370.0637.0',\n",
              " '40370.0644.0',\n",
              " '40370.0657.0',\n",
              " '40370.0764.0',\n",
              " '40370.0798.0',\n",
              " '40370.0862.0',\n",
              " '40370.0866.0',\n",
              " '40370.0874.0',\n",
              " '40370.01034.0',\n",
              " '40370.01079.0',\n",
              " '40370.01143.0',\n",
              " '40370.01162.0',\n",
              " '40370.01173.0',\n",
              " '40370.01185.0',\n",
              " '40370.01191.0',\n",
              " '40370.01203.0',\n",
              " '40370.01281.0',\n",
              " '40372.0317.0',\n",
              " '40372.0355.0',\n",
              " '40372.0380.0',\n",
              " '40372.0425.0',\n",
              " '40372.0453.0',\n",
              " '40372.0504.0',\n",
              " '40372.0517.0',\n",
              " '40372.0525.0',\n",
              " '40372.0535.0',\n",
              " '40372.0555.0',\n",
              " '40372.0557.0',\n",
              " '40372.0562.0',\n",
              " '40372.0637.0',\n",
              " '40372.0644.0',\n",
              " '40372.0657.0',\n",
              " '40372.0764.0',\n",
              " '40372.0798.0',\n",
              " '40372.0862.0',\n",
              " '40372.0866.0',\n",
              " '40372.0874.0',\n",
              " '40372.01034.0',\n",
              " '40372.01079.0',\n",
              " '40372.01143.0',\n",
              " '40372.01162.0',\n",
              " '40372.01173.0',\n",
              " '40372.01185.0',\n",
              " '40372.01191.0',\n",
              " '40372.01203.0',\n",
              " '40372.01281.0',\n",
              " '40373.0317.0',\n",
              " '40373.0355.0',\n",
              " '40373.0380.0',\n",
              " '40373.0425.0',\n",
              " '40373.0453.0',\n",
              " '40373.0504.0',\n",
              " '40373.0517.0',\n",
              " '40373.0525.0',\n",
              " '40373.0535.0',\n",
              " '40373.0555.0',\n",
              " '40373.0557.0',\n",
              " '40373.0562.0',\n",
              " '40373.0637.0',\n",
              " '40373.0644.0',\n",
              " '40373.0657.0',\n",
              " '40373.0764.0',\n",
              " '40373.0798.0',\n",
              " '40373.0862.0',\n",
              " '40373.0866.0',\n",
              " '40373.0874.0',\n",
              " '40373.01034.0',\n",
              " '40373.01079.0',\n",
              " '40373.01143.0',\n",
              " '40373.01162.0',\n",
              " '40373.01173.0',\n",
              " '40373.01185.0',\n",
              " '40373.01191.0',\n",
              " '40373.01203.0',\n",
              " '40373.01281.0',\n",
              " '46272.0317.0',\n",
              " '46272.0355.0',\n",
              " '46272.0380.0',\n",
              " '46272.0425.0',\n",
              " '46272.0453.0',\n",
              " '46272.0504.0',\n",
              " '46272.0517.0',\n",
              " '46272.0525.0',\n",
              " '46272.0535.0',\n",
              " '46272.0555.0',\n",
              " '46272.0557.0',\n",
              " '46272.0562.0',\n",
              " '46272.0637.0',\n",
              " '46272.0644.0',\n",
              " '46272.0657.0',\n",
              " '46272.0764.0',\n",
              " '46272.0798.0',\n",
              " '46272.0862.0',\n",
              " '46272.0866.0',\n",
              " '46272.0874.0',\n",
              " '46272.01034.0',\n",
              " '46272.01079.0',\n",
              " '46272.01143.0',\n",
              " '46272.01162.0',\n",
              " '46272.01173.0',\n",
              " '46272.01185.0',\n",
              " '46272.01191.0',\n",
              " '46272.01203.0',\n",
              " '46272.01281.0']"
            ]
          },
          "metadata": {
            "tags": []
          },
          "execution_count": 31
        }
      ]
    },
    {
      "cell_type": "code",
      "metadata": {
        "id": "rsNd52JtPcab",
        "colab_type": "code",
        "colab": {
          "base_uri": "https://localhost:8080/",
          "height": 575
        },
        "outputId": "274f5bb5-8ceb-498b-b499-669b4eeba18a"
      },
      "source": [
        "jan2020_df['code'] = jan2020_df['product_rk'].astype(str) + jan2020_df['store_location_rk'].astype(str)\n",
        "jan2020_df"
      ],
      "execution_count": null,
      "outputs": [
        {
          "output_type": "stream",
          "text": [
            "/usr/local/lib/python3.6/dist-packages/ipykernel_launcher.py:1: SettingWithCopyWarning:\n",
            "\n",
            "\n",
            "A value is trying to be set on a copy of a slice from a DataFrame.\n",
            "Try using .loc[row_indexer,col_indexer] = value instead\n",
            "\n",
            "See the caveats in the documentation: https://pandas.pydata.org/pandas-docs/stable/user_guide/indexing.html#returning-a-view-versus-a-copy\n",
            "\n"
          ],
          "name": "stderr"
        },
        {
          "output_type": "execute_result",
          "data": {
            "text/html": [
              "<div>\n",
              "<style scoped>\n",
              "    .dataframe tbody tr th:only-of-type {\n",
              "        vertical-align: middle;\n",
              "    }\n",
              "\n",
              "    .dataframe tbody tr th {\n",
              "        vertical-align: top;\n",
              "    }\n",
              "\n",
              "    .dataframe thead th {\n",
              "        text-align: right;\n",
              "    }\n",
              "</style>\n",
              "<table border=\"1\" class=\"dataframe\">\n",
              "  <thead>\n",
              "    <tr style=\"text-align: right;\">\n",
              "      <th></th>\n",
              "      <th>period_start_dt</th>\n",
              "      <th>demand</th>\n",
              "      <th>date</th>\n",
              "      <th>product_rk</th>\n",
              "      <th>store_location_rk</th>\n",
              "      <th>code</th>\n",
              "    </tr>\n",
              "  </thead>\n",
              "  <tbody>\n",
              "    <tr>\n",
              "      <th>938</th>\n",
              "      <td>06JAN2020</td>\n",
              "      <td>4.972678</td>\n",
              "      <td>18267.0</td>\n",
              "      <td>40369</td>\n",
              "      <td>317</td>\n",
              "      <td>40369317</td>\n",
              "    </tr>\n",
              "    <tr>\n",
              "      <th>939</th>\n",
              "      <td>06JAN2020</td>\n",
              "      <td>9.027322</td>\n",
              "      <td>18267.0</td>\n",
              "      <td>40370</td>\n",
              "      <td>317</td>\n",
              "      <td>40370317</td>\n",
              "    </tr>\n",
              "    <tr>\n",
              "      <th>940</th>\n",
              "      <td>06JAN2020</td>\n",
              "      <td>5.087432</td>\n",
              "      <td>18267.0</td>\n",
              "      <td>40372</td>\n",
              "      <td>317</td>\n",
              "      <td>40372317</td>\n",
              "    </tr>\n",
              "    <tr>\n",
              "      <th>941</th>\n",
              "      <td>06JAN2020</td>\n",
              "      <td>3.442623</td>\n",
              "      <td>18267.0</td>\n",
              "      <td>40373</td>\n",
              "      <td>317</td>\n",
              "      <td>40373317</td>\n",
              "    </tr>\n",
              "    <tr>\n",
              "      <th>942</th>\n",
              "      <td>06JAN2020</td>\n",
              "      <td>3.966667</td>\n",
              "      <td>18267.0</td>\n",
              "      <td>46272</td>\n",
              "      <td>317</td>\n",
              "      <td>46272317</td>\n",
              "    </tr>\n",
              "    <tr>\n",
              "      <th>...</th>\n",
              "      <td>...</td>\n",
              "      <td>...</td>\n",
              "      <td>...</td>\n",
              "      <td>...</td>\n",
              "      <td>...</td>\n",
              "      <td>...</td>\n",
              "    </tr>\n",
              "    <tr>\n",
              "      <th>35543</th>\n",
              "      <td>06JAN2020</td>\n",
              "      <td>11.551913</td>\n",
              "      <td>18267.0</td>\n",
              "      <td>40370</td>\n",
              "      <td>1380</td>\n",
              "      <td>403701380</td>\n",
              "    </tr>\n",
              "    <tr>\n",
              "      <th>35544</th>\n",
              "      <td>06JAN2020</td>\n",
              "      <td>6.540984</td>\n",
              "      <td>18267.0</td>\n",
              "      <td>40372</td>\n",
              "      <td>1380</td>\n",
              "      <td>403721380</td>\n",
              "    </tr>\n",
              "    <tr>\n",
              "      <th>35545</th>\n",
              "      <td>06JAN2020</td>\n",
              "      <td>4.398907</td>\n",
              "      <td>18267.0</td>\n",
              "      <td>40373</td>\n",
              "      <td>1380</td>\n",
              "      <td>403731380</td>\n",
              "    </tr>\n",
              "    <tr>\n",
              "      <th>35546</th>\n",
              "      <td>06JAN2020</td>\n",
              "      <td>2.800000</td>\n",
              "      <td>18267.0</td>\n",
              "      <td>46272</td>\n",
              "      <td>1380</td>\n",
              "      <td>462721380</td>\n",
              "    </tr>\n",
              "    <tr>\n",
              "      <th>35547</th>\n",
              "      <td>06JAN2020</td>\n",
              "      <td>2.800000</td>\n",
              "      <td>18267.0</td>\n",
              "      <td>96212</td>\n",
              "      <td>1380</td>\n",
              "      <td>962121380</td>\n",
              "    </tr>\n",
              "  </tbody>\n",
              "</table>\n",
              "<p>204 rows × 6 columns</p>\n",
              "</div>"
            ],
            "text/plain": [
              "      period_start_dt     demand  ...  store_location_rk       code\n",
              "938         06JAN2020   4.972678  ...                317   40369317\n",
              "939         06JAN2020   9.027322  ...                317   40370317\n",
              "940         06JAN2020   5.087432  ...                317   40372317\n",
              "941         06JAN2020   3.442623  ...                317   40373317\n",
              "942         06JAN2020   3.966667  ...                317   46272317\n",
              "...               ...        ...  ...                ...        ...\n",
              "35543       06JAN2020  11.551913  ...               1380  403701380\n",
              "35544       06JAN2020   6.540984  ...               1380  403721380\n",
              "35545       06JAN2020   4.398907  ...               1380  403731380\n",
              "35546       06JAN2020   2.800000  ...               1380  462721380\n",
              "35547       06JAN2020   2.800000  ...               1380  962121380\n",
              "\n",
              "[204 rows x 6 columns]"
            ]
          },
          "metadata": {
            "tags": []
          },
          "execution_count": 32
        }
      ]
    },
    {
      "cell_type": "code",
      "metadata": {
        "id": "dUIZmb0pQX2g",
        "colab_type": "code",
        "colab": {}
      },
      "source": [
        "jan_actual_df = jan2020_df[jan2020_df['code'].isin(norm_sku_store)]"
      ],
      "execution_count": null,
      "outputs": []
    },
    {
      "cell_type": "code",
      "metadata": {
        "colab_type": "code",
        "id": "JIVWXqKO1arw",
        "colab": {}
      },
      "source": [
        "# WARNING: deprecated!\n",
        "def create_one_hot(df, col_name):\n",
        "    uni_cols = df[col_name].unique()\n",
        "    df = pd.merge(df, pd.get_dummies(df[col_name], prefix=col_name), left_index=True, right_index=True)\n",
        "    return df.drop(columns=col_name)\n",
        "\n",
        "# df = create_one_hot(df, 'Store_id')\n",
        "# df = create_one_hot(df, 'SKU_id')"
      ],
      "execution_count": null,
      "outputs": []
    },
    {
      "cell_type": "code",
      "metadata": {
        "colab_type": "code",
        "id": "7AoxQuTrWIbi",
        "colab": {}
      },
      "source": [
        "def make_ds(dataset, target_index=2, history_size=5, target_size=5, start_index=0, end_index=None):\n",
        "  data = []\n",
        "  labels = []\n",
        "\n",
        "  start_index = start_index + history_size\n",
        "  if end_index is None:\n",
        "    end_index = len(dataset) - target_size\n",
        "\n",
        "  for i in range(start_index, end_index):\n",
        "    indices = range(i-history_size, i)\n",
        "    data.append(dataset[indices])\n",
        "    # Reshape data from (history_size,) to (history_size, 1)\n",
        "    # data.append(np.reshape(dataset[indices], (history_size, 1)))\n",
        "    labels.append(dataset[i: i+target_size, target_index])\n",
        "  return np.array(data), np.array(labels)"
      ],
      "execution_count": null,
      "outputs": []
    },
    {
      "cell_type": "markdown",
      "metadata": {
        "id": "p6jyjd0i7g5u",
        "colab_type": "text"
      },
      "source": [
        "Рассмотрим первую пару магазин-товар. \n",
        "\n",
        "Протестируем функцию для разделения датасета make_ds.\n"
      ]
    },
    {
      "cell_type": "code",
      "metadata": {
        "id": "prmZk3OgxXTF",
        "colab_type": "code",
        "colab": {}
      },
      "source": [
        "x, y = make_ds(splitted_df[0])"
      ],
      "execution_count": null,
      "outputs": []
    },
    {
      "cell_type": "code",
      "metadata": {
        "id": "dJ7wB8hjxe37",
        "colab_type": "code",
        "colab": {
          "base_uri": "https://localhost:8080/",
          "height": 34
        },
        "outputId": "92fa7543-380d-485e-9545-b7946f6fe8c7"
      },
      "source": [
        "x.shape"
      ],
      "execution_count": null,
      "outputs": [
        {
          "output_type": "execute_result",
          "data": {
            "text/plain": [
              "(150, 5, 11)"
            ]
          },
          "metadata": {
            "tags": []
          },
          "execution_count": 37
        }
      ]
    },
    {
      "cell_type": "code",
      "metadata": {
        "id": "E4qUDwzA7WMl",
        "colab_type": "code",
        "colab": {
          "base_uri": "https://localhost:8080/",
          "height": 34
        },
        "outputId": "25480e8a-64bd-4b93-ed77-86fade393926"
      },
      "source": [
        "y.shape"
      ],
      "execution_count": null,
      "outputs": [
        {
          "output_type": "execute_result",
          "data": {
            "text/plain": [
              "(150, 5)"
            ]
          },
          "metadata": {
            "tags": []
          },
          "execution_count": 38
        }
      ]
    },
    {
      "cell_type": "code",
      "metadata": {
        "id": "QZZOd3GD7YgP",
        "colab_type": "code",
        "colab": {
          "base_uri": "https://localhost:8080/",
          "height": 272
        },
        "outputId": "2ad44128-3dba-42f8-bc30-aeaa3471fdcb"
      },
      "source": [
        "x[5]"
      ],
      "execution_count": null,
      "outputs": [
        {
          "output_type": "execute_result",
          "data": {
            "text/plain": [
              "array([[4.0369e+04, 3.1700e+02, 2.0000e+00, 0.0000e+00, 0.0000e+00,\n",
              "        5.0000e+02, 5.0000e+02, 0.0000e+00, 1.0000e+00, 1.7189e+04,\n",
              "        0.0000e+00],\n",
              "       [4.0369e+04, 3.1700e+02, 1.6000e+01, 0.0000e+00, 0.0000e+00,\n",
              "        5.0000e+02, 5.0000e+02, 0.0000e+00, 1.0000e+00, 1.7196e+04,\n",
              "        0.0000e+00],\n",
              "       [4.0369e+04, 3.1700e+02, 2.2000e+01, 0.0000e+00, 0.0000e+00,\n",
              "        5.0000e+02, 5.0000e+02, 0.0000e+00, 1.0000e+00, 1.7203e+04,\n",
              "        0.0000e+00],\n",
              "       [4.0369e+04, 3.1700e+02, 6.8000e+01, 0.0000e+00, 0.0000e+00,\n",
              "        5.0000e+02, 5.0000e+02, 0.0000e+00, 1.0000e+00, 1.7210e+04,\n",
              "        0.0000e+00],\n",
              "       [4.0369e+04, 3.1700e+02, 5.1000e+01, 0.0000e+00, 0.0000e+00,\n",
              "        5.0000e+02, 5.0000e+02, 0.0000e+00, 1.0000e+00, 1.7217e+04,\n",
              "        1.0000e+00]])"
            ]
          },
          "metadata": {
            "tags": []
          },
          "execution_count": 39
        }
      ]
    },
    {
      "cell_type": "code",
      "metadata": {
        "colab_type": "code",
        "id": "Eji6njXvHusN",
        "colab": {}
      },
      "source": [
        "# uni_train_mean = uni_data.mean()\n",
        "# uni_train_std = uni_data.std()\n",
        "# uni_data = (uni_data-uni_train_mean)/uni_train_std"
      ],
      "execution_count": null,
      "outputs": []
    },
    {
      "cell_type": "code",
      "metadata": {
        "colab_type": "code",
        "id": "feDd95XFdz5H",
        "colab": {
          "base_uri": "https://localhost:8080/",
          "height": 340
        },
        "outputId": "5846adf6-bfbc-4554-b0b3-938faf6835c9"
      },
      "source": [
        "print ('Single window of past history')\n",
        "print (x[0])\n",
        "print ('\\n Target demands to predict')\n",
        "print (y[0])"
      ],
      "execution_count": null,
      "outputs": [
        {
          "output_type": "stream",
          "text": [
            "Single window of past history\n",
            "[[4.0369000e+04 3.1700000e+02 5.0000000e+01 0.0000000e+00 0.0000000e+00\n",
            "  0.0000000e+00 0.0000000e+00 0.0000000e+00 0.0000000e+00 1.7154000e+04\n",
            "  1.0000000e+00]\n",
            " [4.0369000e+04 3.1700000e+02 6.5000000e+01 1.0000000e+00 0.0000000e+00\n",
            "  5.0000000e+02 5.0000000e+02 0.0000000e+00 1.0000000e+00 1.7161000e+04\n",
            "  1.0000000e+00]\n",
            " [4.0369000e+04 3.1700000e+02 4.1251366e+01 1.0000000e+00 0.0000000e+00\n",
            "  5.0000000e+02 5.0000000e+02 0.0000000e+00 1.0000000e+00 1.7168000e+04\n",
            "  0.0000000e+00]\n",
            " [4.0369000e+04 3.1700000e+02 1.3000000e+01 0.0000000e+00 0.0000000e+00\n",
            "  5.0000000e+02 5.0000000e+02 0.0000000e+00 1.0000000e+00 1.7175000e+04\n",
            "  0.0000000e+00]\n",
            " [4.0369000e+04 3.1700000e+02 1.1000000e+01 0.0000000e+00 0.0000000e+00\n",
            "  5.0000000e+02 5.0000000e+02 0.0000000e+00 1.0000000e+00 1.7182000e+04\n",
            "  0.0000000e+00]]\n",
            "\n",
            " Target demands to predict\n",
            "[ 2. 16. 22. 68. 51.]\n"
          ],
          "name": "stdout"
        }
      ]
    },
    {
      "cell_type": "markdown",
      "metadata": {
        "id": "KMIXzep-LqFJ",
        "colab_type": "text"
      },
      "source": [
        "Preparing to feed NN"
      ]
    },
    {
      "cell_type": "code",
      "metadata": {
        "colab_type": "code",
        "id": "qVukM9dRipop",
        "colab": {}
      },
      "source": [
        "def create_time_steps(length):\n",
        "  return list(range(-length, 0))"
      ],
      "execution_count": null,
      "outputs": []
    },
    {
      "cell_type": "code",
      "metadata": {
        "id": "aeot6eH_JtLg",
        "colab_type": "code",
        "colab": {}
      },
      "source": [
        "def multi_step_plot(history, true_future, prediction):\n",
        "  plt.figure(figsize=(12, 6))\n",
        "  num_in = create_time_steps(len(history))\n",
        "  num_out = len(true_future)\n",
        "\n",
        "  plt.plot(num_in, np.array(history[:, 1]), label='History')\n",
        "  plt.plot(np.arange(num_out)/STEP, np.array(true_future), 'bo',\n",
        "           label='True Future')\n",
        "  if prediction.any():\n",
        "    plt.plot(np.arange(num_out)/STEP, np.array(prediction), 'ro',\n",
        "             label='Predicted Future')\n",
        "  plt.legend(loc='upper left')\n",
        "  plt.show()"
      ],
      "execution_count": null,
      "outputs": []
    },
    {
      "cell_type": "code",
      "metadata": {
        "colab_type": "code",
        "id": "Pd05iV-UWXKL",
        "colab": {}
      },
      "source": [
        "def show_plot(history, true_vals, preds=None):\n",
        "    plt.figure(figsize=(24, 12))\n",
        "    plt.xlim((0, len(history) + len(true_vals)))\n",
        "\n",
        "    plt.plot(range(len(history)), history, label='History')\n",
        "    plt.plot(range(len(history), len(history) + len(true_vals)), true_vals,  '.-', label='True')\n",
        "    plt.plot(range(len(history), len(history) + len(true_vals)), preds, 'ro', label='Pred')\n",
        "    # plt.xticks(labels=df.period_start_dt.unique()[:143])\n",
        "\n",
        "    plt.legend(loc='upper left')\n",
        "    plt.show()"
      ],
      "execution_count": null,
      "outputs": []
    },
    {
      "cell_type": "code",
      "metadata": {
        "colab_type": "code",
        "id": "P9nYWcxMMWnr",
        "colab": {}
      },
      "source": [
        "def baseline(history):\n",
        "  return np.mean(history)"
      ],
      "execution_count": null,
      "outputs": []
    },
    {
      "cell_type": "code",
      "metadata": {
        "id": "EDPVkw5EOxl6",
        "colab_type": "code",
        "colab": {
          "base_uri": "https://localhost:8080/",
          "height": 527
        },
        "outputId": "ee5f9384-52d7-42b0-bdcd-255e0d3c9708"
      },
      "source": [
        "x[:, 0, 2]"
      ],
      "execution_count": null,
      "outputs": [
        {
          "output_type": "execute_result",
          "data": {
            "text/plain": [
              "array([ 50.      ,  65.      ,  41.251366,  13.      ,  11.      ,\n",
              "         2.      ,  16.      ,  22.      ,  68.      ,  51.      ,\n",
              "       116.      , 404.      ,  12.      ,  12.      ,  15.      ,\n",
              "         2.      ,   5.      ,  27.      ,  40.      ,  15.      ,\n",
              "        20.      ,  18.      ,  20.      ,   8.      ,   5.      ,\n",
              "        22.      ,   8.      ,  11.      ,   7.      ,  12.      ,\n",
              "        16.      ,  14.      ,   5.      ,   1.      ,   9.      ,\n",
              "         5.      ,  13.      ,   6.      ,  23.      ,  15.      ,\n",
              "         6.      ,  11.      ,   3.      ,   4.      ,   5.      ,\n",
              "         9.      ,   8.      ,  19.      ,   6.      ,   7.      ,\n",
              "         8.      ,   3.      ,  22.      ,  62.      ,  29.289617,\n",
              "         1.      ,  12.      ,   9.      ,   2.      ,   2.      ,\n",
              "         7.      ,   8.      ,  29.      , 319.      ,  18.      ,\n",
              "         6.      ,   2.      ,   2.      ,   4.      ,   3.      ,\n",
              "         5.      ,   1.      ,   0.      ,   6.      ,   1.      ,\n",
              "         7.      ,   5.      ,   9.      ,   5.      ,   4.      ,\n",
              "        19.      ,   3.      ,   4.      ,   1.      ,   4.      ,\n",
              "         3.      ,   3.      ,   3.      ,   2.      ,   2.      ,\n",
              "         3.      ,   3.      ,  16.      ,   4.      ,   3.      ,\n",
              "         3.      ,   6.      ,   1.      ,   1.      ,   2.      ,\n",
              "         6.      ,   3.      ,   7.      ,  34.      ,  10.      ,\n",
              "        38.      ,  83.797814,   3.      ,   1.      ,   1.      ,\n",
              "         4.      ,   3.      ,   6.      ,   5.      ,  49.      ,\n",
              "       193.810811,  22.598907,  11.      ,   6.      ,   2.      ,\n",
              "         4.      ,   5.      ,   2.      ,   2.      ,   0.      ,\n",
              "        19.      ,  12.      ,  10.      ,   2.      ,   1.      ,\n",
              "         0.      ,   4.      ,   3.      ,   3.      ,   5.      ,\n",
              "         3.      ,   5.      ,   2.      ,   1.      ,   1.      ,\n",
              "         4.      ,   6.      ,   7.      ,  11.      ,   8.      ,\n",
              "         0.      ,   7.      ,   0.      ,   3.      ,   1.      ])"
            ]
          },
          "metadata": {
            "tags": []
          },
          "execution_count": 46
        }
      ]
    },
    {
      "cell_type": "code",
      "metadata": {
        "colab_type": "code",
        "id": "kk-evkrmMWh9",
        "colab": {}
      },
      "source": [
        "# BATCH_SIZE = 64\n",
        "# BUFFER_SIZE = 10000\n",
        "\n",
        "# train_univariate = tf.data.Dataset.from_tensor_slices((x_train_uni, y_train_uni))\n",
        "# train_univariate = train_univariate.cache().shuffle(BUFFER_SIZE).batch(BATCH_SIZE).repeat()\n",
        "\n",
        "# val_univariate = tf.data.Dataset.from_tensor_slices((x_val_uni, y_val_uni))\n",
        "# val_univariate = val_univariate.batch(BATCH_SIZE).repeat()"
      ],
      "execution_count": null,
      "outputs": []
    },
    {
      "cell_type": "code",
      "metadata": {
        "colab_type": "code",
        "id": "VtUVcATsjNgB",
        "colab": {}
      },
      "source": [
        "# batches = split_dataset(df, 3, 1)"
      ],
      "execution_count": null,
      "outputs": []
    },
    {
      "cell_type": "code",
      "metadata": {
        "id": "Ukv3KhHWib3n",
        "colab_type": "code",
        "colab": {
          "base_uri": "https://localhost:8080/",
          "height": 34
        },
        "outputId": "f8286700-8f7e-4fc3-ca2d-bb66a1723dcb"
      },
      "source": [
        "x[0].shape[-2:]"
      ],
      "execution_count": null,
      "outputs": [
        {
          "output_type": "execute_result",
          "data": {
            "text/plain": [
              "(5, 11)"
            ]
          },
          "metadata": {
            "tags": []
          },
          "execution_count": 45
        }
      ]
    },
    {
      "cell_type": "code",
      "metadata": {
        "id": "mBMCPoduiibk",
        "colab_type": "code",
        "colab": {
          "base_uri": "https://localhost:8080/",
          "height": 34
        },
        "outputId": "0d3298dc-6aea-462c-d409-ed2ef8946e1a"
      },
      "source": [
        "x.shape"
      ],
      "execution_count": null,
      "outputs": [
        {
          "output_type": "execute_result",
          "data": {
            "text/plain": [
              "(150, 5, 11)"
            ]
          },
          "metadata": {
            "tags": []
          },
          "execution_count": 46
        }
      ]
    },
    {
      "cell_type": "markdown",
      "metadata": {
        "id": "mCxHJsdtiZAs",
        "colab_type": "text"
      },
      "source": [
        "# Training"
      ]
    },
    {
      "cell_type": "code",
      "metadata": {
        "id": "hhTrA5HQeSog",
        "colab_type": "code",
        "colab": {}
      },
      "source": [
        "x, y = make_ds(splitted_df[0], target_size=12)\n"
      ],
      "execution_count": null,
      "outputs": []
    },
    {
      "cell_type": "code",
      "metadata": {
        "id": "zvBm_ypnegSN",
        "colab_type": "code",
        "colab": {
          "base_uri": "https://localhost:8080/",
          "height": 34
        },
        "outputId": "75ea1194-727f-4a56-a1fe-f603bcdca656"
      },
      "source": [
        "x.shape"
      ],
      "execution_count": null,
      "outputs": [
        {
          "output_type": "execute_result",
          "data": {
            "text/plain": [
              "(143, 5, 11)"
            ]
          },
          "metadata": {
            "tags": []
          },
          "execution_count": 48
        }
      ]
    },
    {
      "cell_type": "code",
      "metadata": {
        "id": "K1wJ-nsniDQ8",
        "colab_type": "code",
        "colab": {
          "base_uri": "https://localhost:8080/",
          "height": 34
        },
        "outputId": "d319a109-a9d4-4b21-d273-7cab1c24410a"
      },
      "source": [
        "y.shape"
      ],
      "execution_count": null,
      "outputs": [
        {
          "output_type": "execute_result",
          "data": {
            "text/plain": [
              "(143, 12)"
            ]
          },
          "metadata": {
            "tags": []
          },
          "execution_count": 49
        }
      ]
    },
    {
      "cell_type": "code",
      "metadata": {
        "id": "uTQruIlRgJat",
        "colab_type": "code",
        "colab": {}
      },
      "source": [
        "new_df = []\n",
        "for df in splitted_df:\n",
        "    if df.shape[0] == 160:\n",
        "        new_df.append(df)"
      ],
      "execution_count": null,
      "outputs": []
    },
    {
      "cell_type": "markdown",
      "metadata": {
        "id": "qsgve723fM2A",
        "colab_type": "text"
      },
      "source": [
        "## **Simple LSTM**"
      ]
    },
    {
      "cell_type": "code",
      "metadata": {
        "id": "kLVhmKVriFjt",
        "colab_type": "code",
        "colab": {}
      },
      "source": [
        "model = tf.keras.models.Sequential([\n",
        "    tf.keras.layers.LSTM(5, input_shape=x[0].shape[-2:], return_sequences=True),\n",
        "    tf.keras.layers.LSTM(5, input_shape=x[0].shape[-2:]),\n",
        "    tf.keras.layers.Dense(12)\n",
        "    #tf.keras.layers.Dense(20),\n",
        "    # tf.keras.layers.Dense(5)\n",
        "])\n",
        "\n",
        "model.compile(optimizer='adam', loss='mape')"
      ],
      "execution_count": null,
      "outputs": []
    },
    {
      "cell_type": "code",
      "metadata": {
        "id": "hqagBMgWfgnw",
        "colab_type": "code",
        "colab": {}
      },
      "source": [
        "def train(df1):\n",
        "    hist = []\n",
        "    for df in df1:\n",
        "        x1, y1 = make_ds(df, target_size=1)\n",
        "        hist.append(model.train_on_batch(x1, y1))\n",
        "    return hist"
      ],
      "execution_count": null,
      "outputs": []
    },
    {
      "cell_type": "code",
      "metadata": {
        "id": "C4pVnrQvjJ4S",
        "colab_type": "code",
        "colab": {
          "base_uri": "https://localhost:8080/",
          "height": 422
        },
        "outputId": "e3f1b717-d5a9-48b2-fcee-edf9ab92d25d"
      },
      "source": [
        "from tensorflow.keras.utils import  plot_model\n",
        "plot_model(model, to_file='model.png', show_shapes=True)"
      ],
      "execution_count": null,
      "outputs": [
        {
          "output_type": "execute_result",
          "data": {
            "image/png": "[encoded data removed]",
            "text/plain": [
              "<IPython.core.display.Image object>"
            ]
          },
          "metadata": {
            "tags": []
          },
          "execution_count": 133
        }
      ]
    },
    {
      "cell_type": "code",
      "metadata": {
        "id": "_Y7IUE-VgUKE",
        "colab_type": "code",
        "colab": {}
      },
      "source": [
        "hist = train(new_df)"
      ],
      "execution_count": null,
      "outputs": []
    },
    {
      "cell_type": "code",
      "metadata": {
        "id": "ZIiKmRLngcFZ",
        "colab_type": "code",
        "colab": {
          "base_uri": "https://localhost:8080/",
          "height": 374
        },
        "outputId": "10b33cb2-de17-46df-e186-8edadbf00757"
      },
      "source": [
        "tr = []\n",
        "val = []\n",
        "\n",
        "plt.plot(hist, label='tr')\n",
        "\n",
        "plt.show()"
      ],
      "execution_count": null,
      "outputs": [
        {
          "output_type": "display_data",
          "data": {
            "image/png": "[encoded data removed]",
            "text/plain": [
              "<Figure size 864x432 with 1 Axes>"
            ]
          },
          "metadata": {
            "tags": [],
            "needs_background": "light"
          }
        }
      ]
    },
    {
      "cell_type": "markdown",
      "metadata": {
        "id": "lbuBgI1hfY3e",
        "colab_type": "text"
      },
      "source": [
        "## **LSTM with Attention**"
      ]
    },
    {
      "cell_type": "code",
      "metadata": {
        "id": "ZKh6VR8aHa_i",
        "colab_type": "code",
        "colab": {}
      },
      "source": [
        "model_attention = tf.keras.models.Sequential([\n",
        "    tf.keras.layers.LSTM(5, input_shape=x[0].shape[-2:], return_sequences=True),\n",
        "    tf.keras.layers.LSTM(5, input_shape=x[0].shape[-2:], return_sequences=True),\n",
        "    tf.keras.layers.LSTM(5, input_shape=x[0].shape[-2:], return_sequences=True),\n",
        "    tf.keras.layers.LSTM(5, input_shape=x[0].shape[-2:], return_sequences=True),\n",
        "    tf.keras.layers.LSTM(5, input_shape=x[0].shape[-2:], return_sequences=True),\n",
        "    tf.keras.layers.LSTM(5, input_shape=x[0].shape[-2:], return_sequences=True),\n",
        "    tf.keras.layers.LSTM(5, input_shape=x[0].shape[-2:], return_sequences=True),\n",
        "    tf.keras.layers.LSTM(5, input_shape=x[0].shape[-2:], return_sequences=True),\n",
        "    tf.keras.layers.LSTM(5, input_shape=x[0].shape[-2:], return_sequences=True),\n",
        "    tf.keras.layers.LSTM(5, input_shape=x[0].shape[-2:]),\n",
        "    tf.keras.layers.Activation('softmax'),\n",
        "    tf.keras.layers.Dropout(0.2),\n",
        "    tf.keras.layers.Dense(12, activation='softmax')\n",
        "])"
      ],
      "execution_count": null,
      "outputs": []
    },
    {
      "cell_type": "code",
      "metadata": {
        "id": "xnWtTsV1JIMU",
        "colab_type": "code",
        "colab": {}
      },
      "source": [
        "#train attention model\n",
        "def train_attention(df1):\n",
        "    hist = []\n",
        "    for df in df1:\n",
        "      x1, y1 = make_ds(df, target_size=1)\n",
        "      hist.append(model.train_on_batch(x1, y1))\n",
        "    return hist"
      ],
      "execution_count": null,
      "outputs": []
    },
    {
      "cell_type": "code",
      "metadata": {
        "id": "xz2KemMsJMNe",
        "colab_type": "code",
        "colab": {
          "base_uri": "https://localhost:8080/",
          "height": 1000
        },
        "outputId": "3dc66cea-b956-48fd-bfb0-f7fab86fe7c0"
      },
      "source": [
        "# Plot attention model\n",
        "from tensorflow.keras.utils import  plot_model\n",
        "plot_model(model_attention, to_file='model_attention.png', show_shapes=True)"
      ],
      "execution_count": null,
      "outputs": [
        {
          "output_type": "execute_result",
          "data": {
            "image/png": "[encoded data removed]",
            "text/plain": [
              "<IPython.core.display.Image object>"
            ]
          },
          "metadata": {
            "tags": []
          },
          "execution_count": 54
        }
      ]
    },
    {
      "cell_type": "code",
      "metadata": {
        "id": "vWYK_wxdJpVW",
        "colab_type": "code",
        "colab": {}
      },
      "source": [
        "# Attention model history\n",
        "hist = train_attention(new_df)"
      ],
      "execution_count": null,
      "outputs": []
    },
    {
      "cell_type": "code",
      "metadata": {
        "id": "OvT9rPVcJsqH",
        "colab_type": "code",
        "colab": {
          "base_uri": "https://localhost:8080/",
          "height": 385
        },
        "outputId": "188d2481-e20f-4d75-8ef5-513f2b76f7d6"
      },
      "source": [
        "tr = []\n",
        "val = []\n",
        "\n",
        "plt.plot(hist, label='tr')\n",
        "\n",
        "plt.show()"
      ],
      "execution_count": null,
      "outputs": [
        {
          "output_type": "display_data",
          "data": {
            "image/png": "[encoded data removed]",
            "text/plain": [
              "<Figure size 864x432 with 1 Axes>"
            ]
          },
          "metadata": {
            "tags": [],
            "needs_background": "light"
          }
        }
      ]
    },
    {
      "cell_type": "markdown",
      "metadata": {
        "id": "YBu_1JNLg3UR",
        "colab_type": "text"
      },
      "source": [
        "# **Predictions**"
      ]
    },
    {
      "cell_type": "code",
      "metadata": {
        "id": "FQj0Pw_ahXWQ",
        "colab_type": "code",
        "colab": {}
      },
      "source": [
        "def plot_train_history(history, title=''):\n",
        "  loss = history.history['loss']\n",
        "  val_loss = history.history['val_loss']\n",
        "\n",
        "  epochs = range(len(loss))\n",
        "\n",
        "  plt.figure()\n",
        "\n",
        "  plt.plot(epochs, loss, 'b', label='Training loss')\n",
        "  plt.plot(epochs, val_loss, 'r', label='Validation loss')\n",
        "  plt.title(title)\n",
        "  plt.legend()\n",
        "\n",
        "  plt.show()"
      ],
      "execution_count": null,
      "outputs": []
    },
    {
      "cell_type": "code",
      "metadata": {
        "id": "k_Kn2_m2hZv2",
        "colab_type": "code",
        "colab": {}
      },
      "source": [
        "def timeseries_graph(history, true_vals, preds=None, title_=\"Demand Forecast\"):\n",
        "    sample = np.zeros(len(history) + len(true_vals))\n",
        "    for i in range(len(history)):\n",
        "        sample[i] = history[i]\n",
        "    for j in range(len(true_vals)):\n",
        "        sample[j + len(history)] = true_vals[j]\n",
        "    \n",
        "    c = len(history)\n",
        "    periods = period_starts[:len(history)+len(true_vals)]\n",
        "    \n",
        "    data_to_plot = pd.DataFrame()\n",
        "    data_to_plot['1'] = pd.to_datetime(periods, format='%d%b%Y')\n",
        "    data_to_plot['2'] = sample\n",
        "    \n",
        "    fig = go.Figure()\n",
        "    fig.add_trace(go.Scatter(x=data_to_plot['1'][:c], \n",
        "                         y=data_to_plot['2'][:c], \n",
        "                         name=\"History\",\n",
        "                         line=dict(color='royalblue', width=1.5)\n",
        "                        ))\n",
        "    fig.add_trace(go.Scatter(x=data_to_plot['1'][c:], \n",
        "                         y=data_to_plot['2'][c:],\n",
        "                         name=\"True\",\n",
        "                         line=dict(color='red', width=1.5)\n",
        "                        ))\n",
        "    fig.add_trace(go.Scatter(x=data_to_plot['1'][c:],\n",
        "                         y=preds,\n",
        "                         name=\"Predictions\",\n",
        "                         mode='markers',\n",
        "                         marker=dict(color='orange')\n",
        "                        ))\n",
        "    fig.update_layout(title=title_,\n",
        "                      xaxis_title=\"Date\",\n",
        "                      yaxis_title=\"Demand\",\n",
        "                      font=dict(family=\"Courier New, monospace\", size=14, color=\"#7f7f7f\"))\n",
        "    fig.show()\n",
        "    fig.write_html(\"file.html\")"
      ],
      "execution_count": null,
      "outputs": []
    },
    {
      "cell_type": "markdown",
      "metadata": {
        "id": "0dWV474DhFDU",
        "colab_type": "text"
      },
      "source": [
        "## **Simple LSTM**"
      ]
    },
    {
      "cell_type": "code",
      "metadata": {
        "id": "LeWpc5t3hzlZ",
        "colab_type": "code",
        "colab": {
          "base_uri": "https://localhost:8080/",
          "height": 85
        },
        "outputId": "56ac0b6c-c03f-469b-dd98-bb69430ec495"
      },
      "source": [
        "model.predict(x[:, 0][0:5].reshape(1,5,11))"
      ],
      "execution_count": null,
      "outputs": [
        {
          "output_type": "execute_result",
          "data": {
            "text/plain": [
              "array([[ 5.41293994e-05, -7.96318054e-04, -1.43468380e-03,\n",
              "         1.03749335e-04,  1.10364007e-03,  4.71832231e-04,\n",
              "        -6.74925745e-04,  1.70368701e-04, -1.31535856e-03,\n",
              "         4.00308520e-04, -1.89114362e-03,  6.92758709e-04]], dtype=float32)"
            ]
          },
          "metadata": {
            "tags": []
          },
          "execution_count": 141
        }
      ]
    },
    {
      "cell_type": "code",
      "metadata": {
        "id": "2OMrIj7-h7_b",
        "colab_type": "code",
        "colab": {
          "base_uri": "https://localhost:8080/",
          "height": 272
        },
        "outputId": "b39bb97c-cbb1-4e85-be09-211c33ac0771"
      },
      "source": [
        "x[:, 0][0:5].reshape(1,5,11)"
      ],
      "execution_count": null,
      "outputs": [
        {
          "output_type": "execute_result",
          "data": {
            "text/plain": [
              "array([[[4.0369000e+04, 3.1700000e+02, 5.0000000e+01, 0.0000000e+00,\n",
              "         0.0000000e+00, 0.0000000e+00, 0.0000000e+00, 0.0000000e+00,\n",
              "         0.0000000e+00, 1.7154000e+04, 1.0000000e+00],\n",
              "        [4.0369000e+04, 3.1700000e+02, 6.5000000e+01, 1.0000000e+00,\n",
              "         0.0000000e+00, 5.0000000e+02, 5.0000000e+02, 0.0000000e+00,\n",
              "         1.0000000e+00, 1.7161000e+04, 1.0000000e+00],\n",
              "        [4.0369000e+04, 3.1700000e+02, 4.1251366e+01, 1.0000000e+00,\n",
              "         0.0000000e+00, 5.0000000e+02, 5.0000000e+02, 0.0000000e+00,\n",
              "         1.0000000e+00, 1.7168000e+04, 0.0000000e+00],\n",
              "        [4.0369000e+04, 3.1700000e+02, 1.3000000e+01, 0.0000000e+00,\n",
              "         0.0000000e+00, 5.0000000e+02, 5.0000000e+02, 0.0000000e+00,\n",
              "         1.0000000e+00, 1.7175000e+04, 0.0000000e+00],\n",
              "        [4.0369000e+04, 3.1700000e+02, 1.1000000e+01, 0.0000000e+00,\n",
              "         0.0000000e+00, 5.0000000e+02, 5.0000000e+02, 0.0000000e+00,\n",
              "         1.0000000e+00, 1.7182000e+04, 0.0000000e+00]]])"
            ]
          },
          "metadata": {
            "tags": []
          },
          "execution_count": 142
        }
      ]
    },
    {
      "cell_type": "code",
      "metadata": {
        "id": "-auVMpuY4p4Z",
        "colab_type": "code",
        "colab": {
          "base_uri": "https://localhost:8080/",
          "height": 85
        },
        "outputId": "966d29c2-00bc-44b5-e6fb-cfa0d017c6e2"
      },
      "source": [
        "pred_sample"
      ],
      "execution_count": null,
      "outputs": [
        {
          "output_type": "execute_result",
          "data": {
            "text/plain": [
              "array([[ 5.41293994e-05, -7.96318054e-04, -1.43468380e-03,\n",
              "         1.03749335e-04,  1.10364007e-03,  4.71832231e-04,\n",
              "        -6.74925745e-04,  1.70368701e-04, -1.31535856e-03,\n",
              "         4.00308520e-04, -1.89114362e-03,  6.92758709e-04]], dtype=float32)"
            ]
          },
          "metadata": {
            "tags": []
          },
          "execution_count": 144
        }
      ]
    },
    {
      "cell_type": "code",
      "metadata": {
        "id": "j_RZT1KhhPBj",
        "colab_type": "code",
        "colab": {
          "base_uri": "https://localhost:8080/",
          "height": 1000
        },
        "outputId": "5bbea3ee-6736-4b5f-a5ed-7b050b1089c8"
      },
      "source": [
        "x_sample, y_sample = make_ds(new_df[-1], target_size=12)\n",
        "pred_sample = model.predict(x_sample[4].reshape(1,5,11))\n",
        "timeseries_graph(x_sample[:, 1, 2], y_sample[-1], pred_sample.reshape(12,), \\\n",
        "                 \"Demand forecast for SKU=46272, Store=128\")\n",
        "\n",
        "x_sample1, y_sample1 = make_ds(new_df[1], target_size=12)\n",
        "pred_sample1 = model.predict(x_sample1[4].reshape(1,5,11))\n",
        "timeseries_graph(x_sample1[:, 1, 2], y_sample1[-1], pred_sample1.reshape(12,), \\\n",
        "                 \"Demand forecast for SKU=40369, Store=355\")\n",
        "\n",
        "x_sample2, y_sample2 = make_ds(new_df[50], target_size=12)\n",
        "pred_sample2 = model.predict(x_sample2[4].reshape(1,5,11))\n",
        "timeseries_graph(x_sample2[:, 1, 2], y_sample2[-1], pred_sample2.reshape(12,), \\\n",
        "                 \"Demand forecast for SKU=40370, Store=1079\")"
      ],
      "execution_count": null,
      "outputs": [
        {
          "output_type": "display_data",
          "data": {
            "text/html": [
              "<html>\n",
              "<head><meta charset=\"utf-8\" /></head>\n",
              "<body>\n",
              "    <div>\n",
              "            <script src=\"https://cdnjs.cloudflare.com/ajax/libs/mathjax/2.7.5/MathJax.js?config=TeX-AMS-MML_SVG\"></script><script type=\"text/javascript\">if (window.MathJax) {MathJax.Hub.Config({SVG: {font: \"STIX-Web\"}});}</script>\n",
              "                <script type=\"text/javascript\">window.PlotlyConfig = {MathJaxConfig: 'local'};</script>\n",
              "        <script src=\"https://cdn.plot.ly/plotly-latest.min.js\"></script>    \n",
              "            <div id=\"00ff3bbe-4f72-478c-98bc-b8fabb9be437\" class=\"plotly-graph-div\" style=\"height:525px; width:100%;\"></div>\n",
              "            <script type=\"text/javascript\">\n",
              "                \n",
              "                    window.PLOTLYENV=window.PLOTLYENV || {};\n",
              "                    \n",
              "                if (document.getElementById(\"00ff3bbe-4f72-478c-98bc-b8fabb9be437\")) {\n",
              "                    Plotly.newPlot(\n",
              "                        '00ff3bbe-4f72-478c-98bc-b8fabb9be437',\n",
              "                        [{\"line\": {\"color\": \"royalblue\", \"width\": 1.5}, \"name\": \"History\", \"type\": \"scatter\", \"x\": [\"2016-12-19T00:00:00\", \"2016-12-26T00:00:00\", \"2017-01-02T00:00:00\", \"2017-01-09T00:00:00\", \"2017-01-16T00:00:00\", \"2017-01-23T00:00:00\", \"2017-01-30T00:00:00\", \"2017-02-06T00:00:00\", \"2017-02-13T00:00:00\", \"2017-02-20T00:00:00\", \"2017-02-27T00:00:00\", \"2017-03-06T00:00:00\", \"2017-03-13T00:00:00\", \"2017-03-20T00:00:00\", \"2017-03-27T00:00:00\", \"2017-04-03T00:00:00\", \"2017-04-10T00:00:00\", \"2017-04-17T00:00:00\", \"2017-04-24T00:00:00\", \"2017-05-01T00:00:00\", \"2017-05-08T00:00:00\", \"2017-05-15T00:00:00\", \"2017-05-22T00:00:00\", \"2017-05-29T00:00:00\", \"2017-06-05T00:00:00\", \"2017-06-12T00:00:00\", \"2017-06-19T00:00:00\", \"2017-06-26T00:00:00\", \"2017-07-03T00:00:00\", \"2017-07-10T00:00:00\", \"2017-07-17T00:00:00\", \"2017-07-24T00:00:00\", \"2017-07-31T00:00:00\", \"2017-08-07T00:00:00\", \"2017-08-14T00:00:00\", \"2017-08-21T00:00:00\", \"2017-08-28T00:00:00\", \"2017-09-04T00:00:00\", \"2017-09-11T00:00:00\", \"2017-09-18T00:00:00\", \"2017-09-25T00:00:00\", \"2017-10-02T00:00:00\", \"2017-10-09T00:00:00\", \"2017-10-16T00:00:00\", \"2017-10-23T00:00:00\", \"2017-10-30T00:00:00\", \"2017-11-06T00:00:00\", \"2017-11-13T00:00:00\", \"2017-11-20T00:00:00\", \"2017-11-27T00:00:00\", \"2017-12-04T00:00:00\", \"2017-12-11T00:00:00\", \"2017-12-18T00:00:00\", \"2017-12-25T00:00:00\", \"2018-01-01T00:00:00\", \"2018-01-08T00:00:00\", \"2018-01-15T00:00:00\", \"2018-01-22T00:00:00\", \"2018-01-29T00:00:00\", \"2018-02-05T00:00:00\", \"2018-02-12T00:00:00\", \"2018-02-19T00:00:00\", \"2018-02-26T00:00:00\", \"2018-03-05T00:00:00\", \"2018-03-12T00:00:00\", \"2018-03-19T00:00:00\", \"2018-03-26T00:00:00\", \"2018-04-02T00:00:00\", \"2018-04-09T00:00:00\", \"2018-04-16T00:00:00\", \"2018-04-23T00:00:00\", \"2018-04-30T00:00:00\", \"2018-05-07T00:00:00\", \"2018-05-14T00:00:00\", \"2018-05-21T00:00:00\", \"2018-05-28T00:00:00\", \"2018-06-04T00:00:00\", \"2018-06-11T00:00:00\", \"2018-06-18T00:00:00\", \"2018-06-25T00:00:00\", \"2018-07-02T00:00:00\", \"2018-07-09T00:00:00\", \"2018-07-16T00:00:00\", \"2018-07-23T00:00:00\", \"2018-07-30T00:00:00\", \"2018-08-06T00:00:00\", \"2018-08-13T00:00:00\", \"2018-08-20T00:00:00\", \"2018-08-27T00:00:00\", \"2018-09-03T00:00:00\", \"2018-09-10T00:00:00\", \"2018-09-17T00:00:00\", \"2018-09-24T00:00:00\", \"2018-10-01T00:00:00\", \"2018-10-08T00:00:00\", \"2018-10-15T00:00:00\", \"2018-10-22T00:00:00\", \"2018-10-29T00:00:00\", \"2018-11-05T00:00:00\", \"2018-11-12T00:00:00\", \"2018-11-19T00:00:00\", \"2018-11-26T00:00:00\", \"2018-12-03T00:00:00\", \"2018-12-10T00:00:00\", \"2018-12-17T00:00:00\", \"2018-12-24T00:00:00\", \"2018-12-31T00:00:00\", \"2019-01-07T00:00:00\", \"2019-01-14T00:00:00\", \"2019-01-21T00:00:00\", \"2019-01-28T00:00:00\", \"2019-02-04T00:00:00\", \"2019-02-11T00:00:00\", \"2019-02-18T00:00:00\", \"2019-02-25T00:00:00\", \"2019-03-04T00:00:00\", \"2019-03-11T00:00:00\", \"2019-03-18T00:00:00\", \"2019-03-25T00:00:00\", \"2019-04-01T00:00:00\", \"2019-04-08T00:00:00\", \"2019-04-15T00:00:00\", \"2019-04-22T00:00:00\", \"2019-04-29T00:00:00\", \"2019-05-06T00:00:00\", \"2019-05-13T00:00:00\", \"2019-05-20T00:00:00\", \"2019-05-27T00:00:00\", \"2019-06-03T00:00:00\", \"2019-06-10T00:00:00\", \"2019-06-17T00:00:00\", \"2019-06-24T00:00:00\", \"2019-07-01T00:00:00\", \"2019-07-08T00:00:00\", \"2019-07-15T00:00:00\", \"2019-07-22T00:00:00\", \"2019-07-29T00:00:00\", \"2019-08-05T00:00:00\", \"2019-08-12T00:00:00\", \"2019-08-19T00:00:00\", \"2019-08-26T00:00:00\", \"2019-09-02T00:00:00\", \"2019-09-09T00:00:00\"], \"y\": [86.0, 52.7, 18.0, 11.0, 20.0, 14.0, 10.0, 2.0, 23.0, 6.0, 36.0, 10.0, 9.0, 11.0, 6.0, 11.0, 23.0, 18.0, 15.0, 1.0, 8.0, 8.0, 5.0, 9.0, 10.0, 7.0, 21.0, 9.0, 24.0, 2.0, 14.0, 7.0, 21.0, 19.0, 14.0, 14.0, 14.0, 14.0, 8.0, 7.0, 12.0, 7.0, 13.0, 2.0, 7.0, 20.0, 13.0, 14.0, 19.0, 3.0, 7.0, 16.0, 19.0, 22.5, 11.0, 2.0, 6.0, 17.0, 8.0, 5.0, 10.0, 11.0, 30.0, 17.0, 6.0, 24.0, 16.0, 6.0, 14.0, 23.0, 49.0, 10.0, 1.0, 6.0, 13.0, 1.0, 3.0, 0.0, 2.0, 5.0, 6.0, 8.0, 6.0, 0.0, 17.0, 6.0, 19.0, 13.0, 7.0, 10.0, 2.0, 4.0, 4.0, 12.0, 7.0, 9.0, 14.0, 6.0, 17.0, 13.0, 18.0, 6.0, 12.0, 11.0, 26.0, 18.4, 5.0, 15.0, 16.0, 17.0, 8.0, 4.0, 12.0, 5.0, 27.0, 19.0, 6.0, 14.0, 24.0, 6.0, 9.0, 3.0, 4.0, 0.0, 4.0, 4.0, 12.0, 8.0, 21.0, 12.0, 8.0, 1.0, 5.0, 9.0, 4.0, 3.0, 1.0, 5.0, 11.0, 3.0, 3.0, 3.0, 6.0]}, {\"line\": {\"color\": \"red\", \"width\": 1.5}, \"name\": \"True\", \"type\": \"scatter\", \"x\": [\"2019-09-16T00:00:00\", \"2019-09-23T00:00:00\", \"2019-09-30T00:00:00\", \"2019-10-07T00:00:00\", \"2019-10-14T00:00:00\", \"2019-10-21T00:00:00\", \"2019-10-28T00:00:00\", \"2019-11-04T00:00:00\", \"2019-11-11T00:00:00\", \"2019-11-18T00:00:00\", \"2019-11-25T00:00:00\", \"2019-12-02T00:00:00\"], \"y\": [0.0, 6.0, 2.0, 5.0, 3.0, 6.0, 4.0, 6.0, 8.0, 8.0, 9.0, 4.8]}, {\"marker\": {\"color\": \"orange\"}, \"mode\": \"markers\", \"name\": \"Predictions\", \"type\": \"scatter\", \"x\": [\"2019-09-16T00:00:00\", \"2019-09-23T00:00:00\", \"2019-09-30T00:00:00\", \"2019-10-07T00:00:00\", \"2019-10-14T00:00:00\", \"2019-10-21T00:00:00\", \"2019-10-28T00:00:00\", \"2019-11-04T00:00:00\", \"2019-11-11T00:00:00\", \"2019-11-18T00:00:00\", \"2019-11-25T00:00:00\", \"2019-12-02T00:00:00\"], \"y\": [5.412939935922623e-05, -0.0007963180541992188, -0.0014346837997436523, 0.0001037493348121643, 0.0011036400683224201, 0.0004718322306871414, -0.0006749257445335388, 0.00017036870121955872, -0.0013153585605323315, 0.0004003085196018219, -0.0018911436200141907, 0.000692758709192276]}],\n",
              "                        {\"font\": {\"color\": \"#7f7f7f\", \"family\": \"Courier New, monospace\", \"size\": 14}, \"template\": {\"data\": {\"bar\": [{\"error_x\": {\"color\": \"#2a3f5f\"}, \"error_y\": {\"color\": \"#2a3f5f\"}, \"marker\": {\"line\": {\"color\": \"#E5ECF6\", \"width\": 0.5}}, \"type\": \"bar\"}], \"barpolar\": [{\"marker\": {\"line\": {\"color\": \"#E5ECF6\", \"width\": 0.5}}, \"type\": \"barpolar\"}], \"carpet\": [{\"aaxis\": {\"endlinecolor\": \"#2a3f5f\", \"gridcolor\": \"white\", \"linecolor\": \"white\", \"minorgridcolor\": \"white\", \"startlinecolor\": \"#2a3f5f\"}, \"baxis\": {\"endlinecolor\": \"#2a3f5f\", \"gridcolor\": \"white\", \"linecolor\": \"white\", \"minorgridcolor\": \"white\", \"startlinecolor\": \"#2a3f5f\"}, \"type\": \"carpet\"}], \"choropleth\": [{\"colorbar\": {\"outlinewidth\": 0, \"ticks\": \"\"}, \"type\": \"choropleth\"}], \"contour\": [{\"colorbar\": {\"outlinewidth\": 0, \"ticks\": \"\"}, \"colorscale\": [[0.0, \"#0d0887\"], [0.1111111111111111, \"#46039f\"], [0.2222222222222222, \"#7201a8\"], [0.3333333333333333, \"#9c179e\"], [0.4444444444444444, \"#bd3786\"], [0.5555555555555556, \"#d8576b\"], [0.6666666666666666, \"#ed7953\"], [0.7777777777777778, \"#fb9f3a\"], [0.8888888888888888, \"#fdca26\"], [1.0, \"#f0f921\"]], \"type\": \"contour\"}], \"contourcarpet\": [{\"colorbar\": {\"outlinewidth\": 0, \"ticks\": \"\"}, \"type\": \"contourcarpet\"}], \"heatmap\": [{\"colorbar\": {\"outlinewidth\": 0, \"ticks\": \"\"}, \"colorscale\": [[0.0, \"#0d0887\"], [0.1111111111111111, \"#46039f\"], [0.2222222222222222, \"#7201a8\"], [0.3333333333333333, \"#9c179e\"], [0.4444444444444444, \"#bd3786\"], [0.5555555555555556, \"#d8576b\"], [0.6666666666666666, \"#ed7953\"], [0.7777777777777778, \"#fb9f3a\"], [0.8888888888888888, \"#fdca26\"], [1.0, \"#f0f921\"]], \"type\": \"heatmap\"}], \"heatmapgl\": [{\"colorbar\": {\"outlinewidth\": 0, \"ticks\": \"\"}, \"colorscale\": [[0.0, \"#0d0887\"], [0.1111111111111111, \"#46039f\"], [0.2222222222222222, \"#7201a8\"], [0.3333333333333333, \"#9c179e\"], [0.4444444444444444, \"#bd3786\"], [0.5555555555555556, \"#d8576b\"], [0.6666666666666666, \"#ed7953\"], [0.7777777777777778, \"#fb9f3a\"], [0.8888888888888888, \"#fdca26\"], [1.0, \"#f0f921\"]], \"type\": \"heatmapgl\"}], \"histogram\": [{\"marker\": {\"colorbar\": {\"outlinewidth\": 0, \"ticks\": \"\"}}, \"type\": \"histogram\"}], \"histogram2d\": [{\"colorbar\": {\"outlinewidth\": 0, \"ticks\": \"\"}, \"colorscale\": [[0.0, \"#0d0887\"], [0.1111111111111111, \"#46039f\"], [0.2222222222222222, \"#7201a8\"], [0.3333333333333333, \"#9c179e\"], [0.4444444444444444, \"#bd3786\"], [0.5555555555555556, \"#d8576b\"], [0.6666666666666666, \"#ed7953\"], [0.7777777777777778, \"#fb9f3a\"], [0.8888888888888888, \"#fdca26\"], [1.0, \"#f0f921\"]], \"type\": \"histogram2d\"}], \"histogram2dcontour\": [{\"colorbar\": {\"outlinewidth\": 0, \"ticks\": \"\"}, \"colorscale\": [[0.0, \"#0d0887\"], [0.1111111111111111, \"#46039f\"], [0.2222222222222222, \"#7201a8\"], [0.3333333333333333, \"#9c179e\"], [0.4444444444444444, \"#bd3786\"], [0.5555555555555556, \"#d8576b\"], [0.6666666666666666, \"#ed7953\"], [0.7777777777777778, \"#fb9f3a\"], [0.8888888888888888, \"#fdca26\"], [1.0, \"#f0f921\"]], \"type\": \"histogram2dcontour\"}], \"mesh3d\": [{\"colorbar\": {\"outlinewidth\": 0, \"ticks\": \"\"}, \"type\": \"mesh3d\"}], \"parcoords\": [{\"line\": {\"colorbar\": {\"outlinewidth\": 0, \"ticks\": \"\"}}, \"type\": \"parcoords\"}], \"pie\": [{\"automargin\": true, \"type\": \"pie\"}], \"scatter\": [{\"marker\": {\"colorbar\": {\"outlinewidth\": 0, \"ticks\": \"\"}}, \"type\": \"scatter\"}], \"scatter3d\": [{\"line\": {\"colorbar\": {\"outlinewidth\": 0, \"ticks\": \"\"}}, \"marker\": {\"colorbar\": {\"outlinewidth\": 0, \"ticks\": \"\"}}, \"type\": \"scatter3d\"}], \"scattercarpet\": [{\"marker\": {\"colorbar\": {\"outlinewidth\": 0, \"ticks\": \"\"}}, \"type\": \"scattercarpet\"}], \"scattergeo\": [{\"marker\": {\"colorbar\": {\"outlinewidth\": 0, \"ticks\": \"\"}}, \"type\": \"scattergeo\"}], \"scattergl\": [{\"marker\": {\"colorbar\": {\"outlinewidth\": 0, \"ticks\": \"\"}}, \"type\": \"scattergl\"}], \"scattermapbox\": [{\"marker\": {\"colorbar\": {\"outlinewidth\": 0, \"ticks\": \"\"}}, \"type\": \"scattermapbox\"}], \"scatterpolar\": [{\"marker\": {\"colorbar\": {\"outlinewidth\": 0, \"ticks\": \"\"}}, \"type\": \"scatterpolar\"}], \"scatterpolargl\": [{\"marker\": {\"colorbar\": {\"outlinewidth\": 0, \"ticks\": \"\"}}, \"type\": \"scatterpolargl\"}], \"scatterternary\": [{\"marker\": {\"colorbar\": {\"outlinewidth\": 0, \"ticks\": \"\"}}, \"type\": \"scatterternary\"}], \"surface\": [{\"colorbar\": {\"outlinewidth\": 0, \"ticks\": \"\"}, \"colorscale\": [[0.0, \"#0d0887\"], [0.1111111111111111, \"#46039f\"], [0.2222222222222222, \"#7201a8\"], [0.3333333333333333, \"#9c179e\"], [0.4444444444444444, \"#bd3786\"], [0.5555555555555556, \"#d8576b\"], [0.6666666666666666, \"#ed7953\"], [0.7777777777777778, \"#fb9f3a\"], [0.8888888888888888, \"#fdca26\"], [1.0, \"#f0f921\"]], \"type\": \"surface\"}], \"table\": [{\"cells\": {\"fill\": {\"color\": \"#EBF0F8\"}, \"line\": {\"color\": \"white\"}}, \"header\": {\"fill\": {\"color\": \"#C8D4E3\"}, \"line\": {\"color\": \"white\"}}, \"type\": \"table\"}]}, \"layout\": {\"annotationdefaults\": {\"arrowcolor\": \"#2a3f5f\", \"arrowhead\": 0, \"arrowwidth\": 1}, \"coloraxis\": {\"colorbar\": {\"outlinewidth\": 0, \"ticks\": \"\"}}, \"colorscale\": {\"diverging\": [[0, \"#8e0152\"], [0.1, \"#c51b7d\"], [0.2, \"#de77ae\"], [0.3, \"#f1b6da\"], [0.4, \"#fde0ef\"], [0.5, \"#f7f7f7\"], [0.6, \"#e6f5d0\"], [0.7, \"#b8e186\"], [0.8, \"#7fbc41\"], [0.9, \"#4d9221\"], [1, \"#276419\"]], \"sequential\": [[0.0, \"#0d0887\"], [0.1111111111111111, \"#46039f\"], [0.2222222222222222, \"#7201a8\"], [0.3333333333333333, \"#9c179e\"], [0.4444444444444444, \"#bd3786\"], [0.5555555555555556, \"#d8576b\"], [0.6666666666666666, \"#ed7953\"], [0.7777777777777778, \"#fb9f3a\"], [0.8888888888888888, \"#fdca26\"], [1.0, \"#f0f921\"]], \"sequentialminus\": [[0.0, \"#0d0887\"], [0.1111111111111111, \"#46039f\"], [0.2222222222222222, \"#7201a8\"], [0.3333333333333333, \"#9c179e\"], [0.4444444444444444, \"#bd3786\"], [0.5555555555555556, \"#d8576b\"], [0.6666666666666666, \"#ed7953\"], [0.7777777777777778, \"#fb9f3a\"], [0.8888888888888888, \"#fdca26\"], [1.0, \"#f0f921\"]]}, \"colorway\": [\"#636efa\", \"#EF553B\", \"#00cc96\", \"#ab63fa\", \"#FFA15A\", \"#19d3f3\", \"#FF6692\", \"#B6E880\", \"#FF97FF\", \"#FECB52\"], \"font\": {\"color\": \"#2a3f5f\"}, \"geo\": {\"bgcolor\": \"white\", \"lakecolor\": \"white\", \"landcolor\": \"#E5ECF6\", \"showlakes\": true, \"showland\": true, \"subunitcolor\": \"white\"}, \"hoverlabel\": {\"align\": \"left\"}, \"hovermode\": \"closest\", \"mapbox\": {\"style\": \"light\"}, \"paper_bgcolor\": \"white\", \"plot_bgcolor\": \"#E5ECF6\", \"polar\": {\"angularaxis\": {\"gridcolor\": \"white\", \"linecolor\": \"white\", \"ticks\": \"\"}, \"bgcolor\": \"#E5ECF6\", \"radialaxis\": {\"gridcolor\": \"white\", \"linecolor\": \"white\", \"ticks\": \"\"}}, \"scene\": {\"xaxis\": {\"backgroundcolor\": \"#E5ECF6\", \"gridcolor\": \"white\", \"gridwidth\": 2, \"linecolor\": \"white\", \"showbackground\": true, \"ticks\": \"\", \"zerolinecolor\": \"white\"}, \"yaxis\": {\"backgroundcolor\": \"#E5ECF6\", \"gridcolor\": \"white\", \"gridwidth\": 2, \"linecolor\": \"white\", \"showbackground\": true, \"ticks\": \"\", \"zerolinecolor\": \"white\"}, \"zaxis\": {\"backgroundcolor\": \"#E5ECF6\", \"gridcolor\": \"white\", \"gridwidth\": 2, \"linecolor\": \"white\", \"showbackground\": true, \"ticks\": \"\", \"zerolinecolor\": \"white\"}}, \"shapedefaults\": {\"line\": {\"color\": \"#2a3f5f\"}}, \"ternary\": {\"aaxis\": {\"gridcolor\": \"white\", \"linecolor\": \"white\", \"ticks\": \"\"}, \"baxis\": {\"gridcolor\": \"white\", \"linecolor\": \"white\", \"ticks\": \"\"}, \"bgcolor\": \"#E5ECF6\", \"caxis\": {\"gridcolor\": \"white\", \"linecolor\": \"white\", \"ticks\": \"\"}}, \"title\": {\"x\": 0.05}, \"xaxis\": {\"automargin\": true, \"gridcolor\": \"white\", \"linecolor\": \"white\", \"ticks\": \"\", \"title\": {\"standoff\": 15}, \"zerolinecolor\": \"white\", \"zerolinewidth\": 2}, \"yaxis\": {\"automargin\": true, \"gridcolor\": \"white\", \"linecolor\": \"white\", \"ticks\": \"\", \"title\": {\"standoff\": 15}, \"zerolinecolor\": \"white\", \"zerolinewidth\": 2}}}, \"title\": {\"text\": \"Demand forecast for SKU=46272, Store=128\"}, \"xaxis\": {\"title\": {\"text\": \"Date\"}}, \"yaxis\": {\"title\": {\"text\": \"Demand\"}}},\n",
              "                        {\"responsive\": true}\n",
              "                    ).then(function(){\n",
              "                            \n",
              "var gd = document.getElementById('00ff3bbe-4f72-478c-98bc-b8fabb9be437');\n",
              "var x = new MutationObserver(function (mutations, observer) {{\n",
              "        var display = window.getComputedStyle(gd).display;\n",
              "        if (!display || display === 'none') {{\n",
              "            console.log([gd, 'removed!']);\n",
              "            Plotly.purge(gd);\n",
              "            observer.disconnect();\n",
              "        }}\n",
              "}});\n",
              "\n",
              "// Listen for the removal of the full notebook cells\n",
              "var notebookContainer = gd.closest('#notebook-container');\n",
              "if (notebookContainer) {{\n",
              "    x.observe(notebookContainer, {childList: true});\n",
              "}}\n",
              "\n",
              "// Listen for the clearing of the current output cell\n",
              "var outputEl = gd.closest('.output');\n",
              "if (outputEl) {{\n",
              "    x.observe(outputEl, {childList: true});\n",
              "}}\n",
              "\n",
              "                        })\n",
              "                };\n",
              "                \n",
              "            </script>\n",
              "        </div>\n",
              "</body>\n",
              "</html>"
            ]
          },
          "metadata": {
            "tags": []
          }
        },
        {
          "output_type": "display_data",
          "data": {
            "text/html": [
              "<html>\n",
              "<head><meta charset=\"utf-8\" /></head>\n",
              "<body>\n",
              "    <div>\n",
              "            <script src=\"https://cdnjs.cloudflare.com/ajax/libs/mathjax/2.7.5/MathJax.js?config=TeX-AMS-MML_SVG\"></script><script type=\"text/javascript\">if (window.MathJax) {MathJax.Hub.Config({SVG: {font: \"STIX-Web\"}});}</script>\n",
              "                <script type=\"text/javascript\">window.PlotlyConfig = {MathJaxConfig: 'local'};</script>\n",
              "        <script src=\"https://cdn.plot.ly/plotly-latest.min.js\"></script>    \n",
              "            <div id=\"63850494-b9df-4c41-be97-3e186e76c1d7\" class=\"plotly-graph-div\" style=\"height:525px; width:100%;\"></div>\n",
              "            <script type=\"text/javascript\">\n",
              "                \n",
              "                    window.PLOTLYENV=window.PLOTLYENV || {};\n",
              "                    \n",
              "                if (document.getElementById(\"63850494-b9df-4c41-be97-3e186e76c1d7\")) {\n",
              "                    Plotly.newPlot(\n",
              "                        '63850494-b9df-4c41-be97-3e186e76c1d7',\n",
              "                        [{\"line\": {\"color\": \"royalblue\", \"width\": 1.5}, \"name\": \"History\", \"type\": \"scatter\", \"x\": [\"2016-12-19T00:00:00\", \"2016-12-26T00:00:00\", \"2017-01-02T00:00:00\", \"2017-01-09T00:00:00\", \"2017-01-16T00:00:00\", \"2017-01-23T00:00:00\", \"2017-01-30T00:00:00\", \"2017-02-06T00:00:00\", \"2017-02-13T00:00:00\", \"2017-02-20T00:00:00\", \"2017-02-27T00:00:00\", \"2017-03-06T00:00:00\", \"2017-03-13T00:00:00\", \"2017-03-20T00:00:00\", \"2017-03-27T00:00:00\", \"2017-04-03T00:00:00\", \"2017-04-10T00:00:00\", \"2017-04-17T00:00:00\", \"2017-04-24T00:00:00\", \"2017-05-01T00:00:00\", \"2017-05-08T00:00:00\", \"2017-05-15T00:00:00\", \"2017-05-22T00:00:00\", \"2017-05-29T00:00:00\", \"2017-06-05T00:00:00\", \"2017-06-12T00:00:00\", \"2017-06-19T00:00:00\", \"2017-06-26T00:00:00\", \"2017-07-03T00:00:00\", \"2017-07-10T00:00:00\", \"2017-07-17T00:00:00\", \"2017-07-24T00:00:00\", \"2017-07-31T00:00:00\", \"2017-08-07T00:00:00\", \"2017-08-14T00:00:00\", \"2017-08-21T00:00:00\", \"2017-08-28T00:00:00\", \"2017-09-04T00:00:00\", \"2017-09-11T00:00:00\", \"2017-09-18T00:00:00\", \"2017-09-25T00:00:00\", \"2017-10-02T00:00:00\", \"2017-10-09T00:00:00\", \"2017-10-16T00:00:00\", \"2017-10-23T00:00:00\", \"2017-10-30T00:00:00\", \"2017-11-06T00:00:00\", \"2017-11-13T00:00:00\", \"2017-11-20T00:00:00\", \"2017-11-27T00:00:00\", \"2017-12-04T00:00:00\", \"2017-12-11T00:00:00\", \"2017-12-18T00:00:00\", \"2017-12-25T00:00:00\", \"2018-01-01T00:00:00\", \"2018-01-08T00:00:00\", \"2018-01-15T00:00:00\", \"2018-01-22T00:00:00\", \"2018-01-29T00:00:00\", \"2018-02-05T00:00:00\", \"2018-02-12T00:00:00\", \"2018-02-19T00:00:00\", \"2018-02-26T00:00:00\", \"2018-03-05T00:00:00\", \"2018-03-12T00:00:00\", \"2018-03-19T00:00:00\", \"2018-03-26T00:00:00\", \"2018-04-02T00:00:00\", \"2018-04-09T00:00:00\", \"2018-04-16T00:00:00\", \"2018-04-23T00:00:00\", \"2018-04-30T00:00:00\", \"2018-05-07T00:00:00\", \"2018-05-14T00:00:00\", \"2018-05-21T00:00:00\", \"2018-05-28T00:00:00\", \"2018-06-04T00:00:00\", \"2018-06-11T00:00:00\", \"2018-06-18T00:00:00\", \"2018-06-25T00:00:00\", \"2018-07-02T00:00:00\", \"2018-07-09T00:00:00\", \"2018-07-16T00:00:00\", \"2018-07-23T00:00:00\", \"2018-07-30T00:00:00\", \"2018-08-06T00:00:00\", \"2018-08-13T00:00:00\", \"2018-08-20T00:00:00\", \"2018-08-27T00:00:00\", \"2018-09-03T00:00:00\", \"2018-09-10T00:00:00\", \"2018-09-17T00:00:00\", \"2018-09-24T00:00:00\", \"2018-10-01T00:00:00\", \"2018-10-08T00:00:00\", \"2018-10-15T00:00:00\", \"2018-10-22T00:00:00\", \"2018-10-29T00:00:00\", \"2018-11-05T00:00:00\", \"2018-11-12T00:00:00\", \"2018-11-19T00:00:00\", \"2018-11-26T00:00:00\", \"2018-12-03T00:00:00\", \"2018-12-10T00:00:00\", \"2018-12-17T00:00:00\", \"2018-12-24T00:00:00\", \"2018-12-31T00:00:00\", \"2019-01-07T00:00:00\", \"2019-01-14T00:00:00\", \"2019-01-21T00:00:00\", \"2019-01-28T00:00:00\", \"2019-02-04T00:00:00\", \"2019-02-11T00:00:00\", \"2019-02-18T00:00:00\", \"2019-02-25T00:00:00\", \"2019-03-04T00:00:00\", \"2019-03-11T00:00:00\", \"2019-03-18T00:00:00\", \"2019-03-25T00:00:00\", \"2019-04-01T00:00:00\", \"2019-04-08T00:00:00\", \"2019-04-15T00:00:00\", \"2019-04-22T00:00:00\", \"2019-04-29T00:00:00\", \"2019-05-06T00:00:00\", \"2019-05-13T00:00:00\", \"2019-05-20T00:00:00\", \"2019-05-27T00:00:00\", \"2019-06-03T00:00:00\", \"2019-06-10T00:00:00\", \"2019-06-17T00:00:00\", \"2019-06-24T00:00:00\", \"2019-07-01T00:00:00\", \"2019-07-08T00:00:00\", \"2019-07-15T00:00:00\", \"2019-07-22T00:00:00\", \"2019-07-29T00:00:00\", \"2019-08-05T00:00:00\", \"2019-08-12T00:00:00\", \"2019-08-19T00:00:00\", \"2019-08-26T00:00:00\", \"2019-09-02T00:00:00\", \"2019-09-09T00:00:00\"], \"y\": [78.0, 57.453552, 6.0, 11.0, 5.0, 1.0, 22.0, 5.0, 12.0, 120.0, 401.0, 9.0, 12.0, 7.0, 6.0, 2.0, 20.0, 3.0, 9.0, 9.0, 43.0, 31.0, 5.0, 7.0, 3.0, 10.0, 1.0, 9.0, 6.0, 3.0, 9.0, 2.0, 12.0, 9.0, 6.0, 5.0, 13.0, 5.0, 8.0, 5.0, 6.0, 10.0, 9.0, 4.0, 6.0, 6.0, 8.0, 8.0, 12.0, 11.0, 17.0, 15.0, 43.0, 70.092896, 8.0, 25.0, 7.0, 5.0, 2.0, 4.0, 23.0, 29.0, 219.0, 1.0, 6.0, 7.0, 10.0, 6.0, 4.0, 5.0, 2.0, 3.0, 6.0, 8.0, 12.0, 11.0, 6.0, 6.0, 7.0, 41.0, 4.0, 2.0, 0.0, 3.0, 2.0, 0.0, 3.0, 0.0, 0.0, 12.0, 11.0, 16.0, 6.0, 8.0, 7.0, 2.0, 16.0, 8.0, 3.0, 12.0, 9.0, 13.0, 7.0, 5.0, 48.0, 132.081967, 8.0, 21.0, 5.0, 5.0, 5.0, 4.0, 6.0, 43.0, 161.13513500000002, 25.0, 14.0, 4.0, 28.0, 7.0, 6.0, 5.0, 19.0, 0.0, 4.0, 15.0, 31.0, 0.0, 4.0, 0.0, 7.0, 7.0, 6.0, 11.0, 5.0, 1.0, 0.0, 11.0, 3.0, 10.0, 3.0, 10.0, 10.0]}, {\"line\": {\"color\": \"red\", \"width\": 1.5}, \"name\": \"True\", \"type\": \"scatter\", \"x\": [\"2019-09-16T00:00:00\", \"2019-09-23T00:00:00\", \"2019-09-30T00:00:00\", \"2019-10-07T00:00:00\", \"2019-10-14T00:00:00\", \"2019-10-21T00:00:00\", \"2019-10-28T00:00:00\", \"2019-11-04T00:00:00\", \"2019-11-11T00:00:00\", \"2019-11-18T00:00:00\", \"2019-11-25T00:00:00\", \"2019-12-02T00:00:00\"], \"y\": [0.0, 5.0, 2.0, 5.0, 17.0, 5.0, 9.0, 6.0, 7.0, 19.0, 64.0, 84.038251]}, {\"marker\": {\"color\": \"orange\"}, \"mode\": \"markers\", \"name\": \"Predictions\", \"type\": \"scatter\", \"x\": [\"2019-09-16T00:00:00\", \"2019-09-23T00:00:00\", \"2019-09-30T00:00:00\", \"2019-10-07T00:00:00\", \"2019-10-14T00:00:00\", \"2019-10-21T00:00:00\", \"2019-10-28T00:00:00\", \"2019-11-04T00:00:00\", \"2019-11-11T00:00:00\", \"2019-11-18T00:00:00\", \"2019-11-25T00:00:00\", \"2019-12-02T00:00:00\"], \"y\": [5.412939935922623e-05, -0.0007963180541992188, -0.0014346837997436523, 0.0001037493348121643, 0.0011036400683224201, 0.0004718322306871414, -0.0006749257445335388, 0.00017036870121955872, -0.0013153585605323315, 0.0004003085196018219, -0.0018911436200141907, 0.000692758709192276]}],\n",
              "                        {\"font\": {\"color\": \"#7f7f7f\", \"family\": \"Courier New, monospace\", \"size\": 14}, \"template\": {\"data\": {\"bar\": [{\"error_x\": {\"color\": \"#2a3f5f\"}, \"error_y\": {\"color\": \"#2a3f5f\"}, \"marker\": {\"line\": {\"color\": \"#E5ECF6\", \"width\": 0.5}}, \"type\": \"bar\"}], \"barpolar\": [{\"marker\": {\"line\": {\"color\": \"#E5ECF6\", \"width\": 0.5}}, \"type\": \"barpolar\"}], \"carpet\": [{\"aaxis\": {\"endlinecolor\": \"#2a3f5f\", \"gridcolor\": \"white\", \"linecolor\": \"white\", \"minorgridcolor\": \"white\", \"startlinecolor\": \"#2a3f5f\"}, \"baxis\": {\"endlinecolor\": \"#2a3f5f\", \"gridcolor\": \"white\", \"linecolor\": \"white\", \"minorgridcolor\": \"white\", \"startlinecolor\": \"#2a3f5f\"}, \"type\": \"carpet\"}], \"choropleth\": [{\"colorbar\": {\"outlinewidth\": 0, \"ticks\": \"\"}, \"type\": \"choropleth\"}], \"contour\": [{\"colorbar\": {\"outlinewidth\": 0, \"ticks\": \"\"}, \"colorscale\": [[0.0, \"#0d0887\"], [0.1111111111111111, \"#46039f\"], [0.2222222222222222, \"#7201a8\"], [0.3333333333333333, \"#9c179e\"], [0.4444444444444444, \"#bd3786\"], [0.5555555555555556, \"#d8576b\"], [0.6666666666666666, \"#ed7953\"], [0.7777777777777778, \"#fb9f3a\"], [0.8888888888888888, \"#fdca26\"], [1.0, \"#f0f921\"]], \"type\": \"contour\"}], \"contourcarpet\": [{\"colorbar\": {\"outlinewidth\": 0, \"ticks\": \"\"}, \"type\": \"contourcarpet\"}], \"heatmap\": [{\"colorbar\": {\"outlinewidth\": 0, \"ticks\": \"\"}, \"colorscale\": [[0.0, \"#0d0887\"], [0.1111111111111111, \"#46039f\"], [0.2222222222222222, \"#7201a8\"], [0.3333333333333333, \"#9c179e\"], [0.4444444444444444, \"#bd3786\"], [0.5555555555555556, \"#d8576b\"], [0.6666666666666666, \"#ed7953\"], [0.7777777777777778, \"#fb9f3a\"], [0.8888888888888888, \"#fdca26\"], [1.0, \"#f0f921\"]], \"type\": \"heatmap\"}], \"heatmapgl\": [{\"colorbar\": {\"outlinewidth\": 0, \"ticks\": \"\"}, \"colorscale\": [[0.0, \"#0d0887\"], [0.1111111111111111, \"#46039f\"], [0.2222222222222222, \"#7201a8\"], [0.3333333333333333, \"#9c179e\"], [0.4444444444444444, \"#bd3786\"], [0.5555555555555556, \"#d8576b\"], [0.6666666666666666, \"#ed7953\"], [0.7777777777777778, \"#fb9f3a\"], [0.8888888888888888, \"#fdca26\"], [1.0, \"#f0f921\"]], \"type\": \"heatmapgl\"}], \"histogram\": [{\"marker\": {\"colorbar\": {\"outlinewidth\": 0, \"ticks\": \"\"}}, \"type\": \"histogram\"}], \"histogram2d\": [{\"colorbar\": {\"outlinewidth\": 0, \"ticks\": \"\"}, \"colorscale\": [[0.0, \"#0d0887\"], [0.1111111111111111, \"#46039f\"], [0.2222222222222222, \"#7201a8\"], [0.3333333333333333, \"#9c179e\"], [0.4444444444444444, \"#bd3786\"], [0.5555555555555556, \"#d8576b\"], [0.6666666666666666, \"#ed7953\"], [0.7777777777777778, \"#fb9f3a\"], [0.8888888888888888, \"#fdca26\"], [1.0, \"#f0f921\"]], \"type\": \"histogram2d\"}], \"histogram2dcontour\": [{\"colorbar\": {\"outlinewidth\": 0, \"ticks\": \"\"}, \"colorscale\": [[0.0, \"#0d0887\"], [0.1111111111111111, \"#46039f\"], [0.2222222222222222, \"#7201a8\"], [0.3333333333333333, \"#9c179e\"], [0.4444444444444444, \"#bd3786\"], [0.5555555555555556, \"#d8576b\"], [0.6666666666666666, \"#ed7953\"], [0.7777777777777778, \"#fb9f3a\"], [0.8888888888888888, \"#fdca26\"], [1.0, \"#f0f921\"]], \"type\": \"histogram2dcontour\"}], \"mesh3d\": [{\"colorbar\": {\"outlinewidth\": 0, \"ticks\": \"\"}, \"type\": \"mesh3d\"}], \"parcoords\": [{\"line\": {\"colorbar\": {\"outlinewidth\": 0, \"ticks\": \"\"}}, \"type\": \"parcoords\"}], \"pie\": [{\"automargin\": true, \"type\": \"pie\"}], \"scatter\": [{\"marker\": {\"colorbar\": {\"outlinewidth\": 0, \"ticks\": \"\"}}, \"type\": \"scatter\"}], \"scatter3d\": [{\"line\": {\"colorbar\": {\"outlinewidth\": 0, \"ticks\": \"\"}}, \"marker\": {\"colorbar\": {\"outlinewidth\": 0, \"ticks\": \"\"}}, \"type\": \"scatter3d\"}], \"scattercarpet\": [{\"marker\": {\"colorbar\": {\"outlinewidth\": 0, \"ticks\": \"\"}}, \"type\": \"scattercarpet\"}], \"scattergeo\": [{\"marker\": {\"colorbar\": {\"outlinewidth\": 0, \"ticks\": \"\"}}, \"type\": \"scattergeo\"}], \"scattergl\": [{\"marker\": {\"colorbar\": {\"outlinewidth\": 0, \"ticks\": \"\"}}, \"type\": \"scattergl\"}], \"scattermapbox\": [{\"marker\": {\"colorbar\": {\"outlinewidth\": 0, \"ticks\": \"\"}}, \"type\": \"scattermapbox\"}], \"scatterpolar\": [{\"marker\": {\"colorbar\": {\"outlinewidth\": 0, \"ticks\": \"\"}}, \"type\": \"scatterpolar\"}], \"scatterpolargl\": [{\"marker\": {\"colorbar\": {\"outlinewidth\": 0, \"ticks\": \"\"}}, \"type\": \"scatterpolargl\"}], \"scatterternary\": [{\"marker\": {\"colorbar\": {\"outlinewidth\": 0, \"ticks\": \"\"}}, \"type\": \"scatterternary\"}], \"surface\": [{\"colorbar\": {\"outlinewidth\": 0, \"ticks\": \"\"}, \"colorscale\": [[0.0, \"#0d0887\"], [0.1111111111111111, \"#46039f\"], [0.2222222222222222, \"#7201a8\"], [0.3333333333333333, \"#9c179e\"], [0.4444444444444444, \"#bd3786\"], [0.5555555555555556, \"#d8576b\"], [0.6666666666666666, \"#ed7953\"], [0.7777777777777778, \"#fb9f3a\"], [0.8888888888888888, \"#fdca26\"], [1.0, \"#f0f921\"]], \"type\": \"surface\"}], \"table\": [{\"cells\": {\"fill\": {\"color\": \"#EBF0F8\"}, \"line\": {\"color\": \"white\"}}, \"header\": {\"fill\": {\"color\": \"#C8D4E3\"}, \"line\": {\"color\": \"white\"}}, \"type\": \"table\"}]}, \"layout\": {\"annotationdefaults\": {\"arrowcolor\": \"#2a3f5f\", \"arrowhead\": 0, \"arrowwidth\": 1}, \"coloraxis\": {\"colorbar\": {\"outlinewidth\": 0, \"ticks\": \"\"}}, \"colorscale\": {\"diverging\": [[0, \"#8e0152\"], [0.1, \"#c51b7d\"], [0.2, \"#de77ae\"], [0.3, \"#f1b6da\"], [0.4, \"#fde0ef\"], [0.5, \"#f7f7f7\"], [0.6, \"#e6f5d0\"], [0.7, \"#b8e186\"], [0.8, \"#7fbc41\"], [0.9, \"#4d9221\"], [1, \"#276419\"]], \"sequential\": [[0.0, \"#0d0887\"], [0.1111111111111111, \"#46039f\"], [0.2222222222222222, \"#7201a8\"], [0.3333333333333333, \"#9c179e\"], [0.4444444444444444, \"#bd3786\"], [0.5555555555555556, \"#d8576b\"], [0.6666666666666666, \"#ed7953\"], [0.7777777777777778, \"#fb9f3a\"], [0.8888888888888888, \"#fdca26\"], [1.0, \"#f0f921\"]], \"sequentialminus\": [[0.0, \"#0d0887\"], [0.1111111111111111, \"#46039f\"], [0.2222222222222222, \"#7201a8\"], [0.3333333333333333, \"#9c179e\"], [0.4444444444444444, \"#bd3786\"], [0.5555555555555556, \"#d8576b\"], [0.6666666666666666, \"#ed7953\"], [0.7777777777777778, \"#fb9f3a\"], [0.8888888888888888, \"#fdca26\"], [1.0, \"#f0f921\"]]}, \"colorway\": [\"#636efa\", \"#EF553B\", \"#00cc96\", \"#ab63fa\", \"#FFA15A\", \"#19d3f3\", \"#FF6692\", \"#B6E880\", \"#FF97FF\", \"#FECB52\"], \"font\": {\"color\": \"#2a3f5f\"}, \"geo\": {\"bgcolor\": \"white\", \"lakecolor\": \"white\", \"landcolor\": \"#E5ECF6\", \"showlakes\": true, \"showland\": true, \"subunitcolor\": \"white\"}, \"hoverlabel\": {\"align\": \"left\"}, \"hovermode\": \"closest\", \"mapbox\": {\"style\": \"light\"}, \"paper_bgcolor\": \"white\", \"plot_bgcolor\": \"#E5ECF6\", \"polar\": {\"angularaxis\": {\"gridcolor\": \"white\", \"linecolor\": \"white\", \"ticks\": \"\"}, \"bgcolor\": \"#E5ECF6\", \"radialaxis\": {\"gridcolor\": \"white\", \"linecolor\": \"white\", \"ticks\": \"\"}}, \"scene\": {\"xaxis\": {\"backgroundcolor\": \"#E5ECF6\", \"gridcolor\": \"white\", \"gridwidth\": 2, \"linecolor\": \"white\", \"showbackground\": true, \"ticks\": \"\", \"zerolinecolor\": \"white\"}, \"yaxis\": {\"backgroundcolor\": \"#E5ECF6\", \"gridcolor\": \"white\", \"gridwidth\": 2, \"linecolor\": \"white\", \"showbackground\": true, \"ticks\": \"\", \"zerolinecolor\": \"white\"}, \"zaxis\": {\"backgroundcolor\": \"#E5ECF6\", \"gridcolor\": \"white\", \"gridwidth\": 2, \"linecolor\": \"white\", \"showbackground\": true, \"ticks\": \"\", \"zerolinecolor\": \"white\"}}, \"shapedefaults\": {\"line\": {\"color\": \"#2a3f5f\"}}, \"ternary\": {\"aaxis\": {\"gridcolor\": \"white\", \"linecolor\": \"white\", \"ticks\": \"\"}, \"baxis\": {\"gridcolor\": \"white\", \"linecolor\": \"white\", \"ticks\": \"\"}, \"bgcolor\": \"#E5ECF6\", \"caxis\": {\"gridcolor\": \"white\", \"linecolor\": \"white\", \"ticks\": \"\"}}, \"title\": {\"x\": 0.05}, \"xaxis\": {\"automargin\": true, \"gridcolor\": \"white\", \"linecolor\": \"white\", \"ticks\": \"\", \"title\": {\"standoff\": 15}, \"zerolinecolor\": \"white\", \"zerolinewidth\": 2}, \"yaxis\": {\"automargin\": true, \"gridcolor\": \"white\", \"linecolor\": \"white\", \"ticks\": \"\", \"title\": {\"standoff\": 15}, \"zerolinecolor\": \"white\", \"zerolinewidth\": 2}}}, \"title\": {\"text\": \"Demand forecast for SKU=40369, Store=355\"}, \"xaxis\": {\"title\": {\"text\": \"Date\"}}, \"yaxis\": {\"title\": {\"text\": \"Demand\"}}},\n",
              "                        {\"responsive\": true}\n",
              "                    ).then(function(){\n",
              "                            \n",
              "var gd = document.getElementById('63850494-b9df-4c41-be97-3e186e76c1d7');\n",
              "var x = new MutationObserver(function (mutations, observer) {{\n",
              "        var display = window.getComputedStyle(gd).display;\n",
              "        if (!display || display === 'none') {{\n",
              "            console.log([gd, 'removed!']);\n",
              "            Plotly.purge(gd);\n",
              "            observer.disconnect();\n",
              "        }}\n",
              "}});\n",
              "\n",
              "// Listen for the removal of the full notebook cells\n",
              "var notebookContainer = gd.closest('#notebook-container');\n",
              "if (notebookContainer) {{\n",
              "    x.observe(notebookContainer, {childList: true});\n",
              "}}\n",
              "\n",
              "// Listen for the clearing of the current output cell\n",
              "var outputEl = gd.closest('.output');\n",
              "if (outputEl) {{\n",
              "    x.observe(outputEl, {childList: true});\n",
              "}}\n",
              "\n",
              "                        })\n",
              "                };\n",
              "                \n",
              "            </script>\n",
              "        </div>\n",
              "</body>\n",
              "</html>"
            ]
          },
          "metadata": {
            "tags": []
          }
        },
        {
          "output_type": "display_data",
          "data": {
            "text/html": [
              "<html>\n",
              "<head><meta charset=\"utf-8\" /></head>\n",
              "<body>\n",
              "    <div>\n",
              "            <script src=\"https://cdnjs.cloudflare.com/ajax/libs/mathjax/2.7.5/MathJax.js?config=TeX-AMS-MML_SVG\"></script><script type=\"text/javascript\">if (window.MathJax) {MathJax.Hub.Config({SVG: {font: \"STIX-Web\"}});}</script>\n",
              "                <script type=\"text/javascript\">window.PlotlyConfig = {MathJaxConfig: 'local'};</script>\n",
              "        <script src=\"https://cdn.plot.ly/plotly-latest.min.js\"></script>    \n",
              "            <div id=\"1111d1bc-0d57-4768-88f2-4051144d8963\" class=\"plotly-graph-div\" style=\"height:525px; width:100%;\"></div>\n",
              "            <script type=\"text/javascript\">\n",
              "                \n",
              "                    window.PLOTLYENV=window.PLOTLYENV || {};\n",
              "                    \n",
              "                if (document.getElementById(\"1111d1bc-0d57-4768-88f2-4051144d8963\")) {\n",
              "                    Plotly.newPlot(\n",
              "                        '1111d1bc-0d57-4768-88f2-4051144d8963',\n",
              "                        [{\"line\": {\"color\": \"royalblue\", \"width\": 1.5}, \"name\": \"History\", \"type\": \"scatter\", \"x\": [\"2016-12-19T00:00:00\", \"2016-12-26T00:00:00\", \"2017-01-02T00:00:00\", \"2017-01-09T00:00:00\", \"2017-01-16T00:00:00\", \"2017-01-23T00:00:00\", \"2017-01-30T00:00:00\", \"2017-02-06T00:00:00\", \"2017-02-13T00:00:00\", \"2017-02-20T00:00:00\", \"2017-02-27T00:00:00\", \"2017-03-06T00:00:00\", \"2017-03-13T00:00:00\", \"2017-03-20T00:00:00\", \"2017-03-27T00:00:00\", \"2017-04-03T00:00:00\", \"2017-04-10T00:00:00\", \"2017-04-17T00:00:00\", \"2017-04-24T00:00:00\", \"2017-05-01T00:00:00\", \"2017-05-08T00:00:00\", \"2017-05-15T00:00:00\", \"2017-05-22T00:00:00\", \"2017-05-29T00:00:00\", \"2017-06-05T00:00:00\", \"2017-06-12T00:00:00\", \"2017-06-19T00:00:00\", \"2017-06-26T00:00:00\", \"2017-07-03T00:00:00\", \"2017-07-10T00:00:00\", \"2017-07-17T00:00:00\", \"2017-07-24T00:00:00\", \"2017-07-31T00:00:00\", \"2017-08-07T00:00:00\", \"2017-08-14T00:00:00\", \"2017-08-21T00:00:00\", \"2017-08-28T00:00:00\", \"2017-09-04T00:00:00\", \"2017-09-11T00:00:00\", \"2017-09-18T00:00:00\", \"2017-09-25T00:00:00\", \"2017-10-02T00:00:00\", \"2017-10-09T00:00:00\", \"2017-10-16T00:00:00\", \"2017-10-23T00:00:00\", \"2017-10-30T00:00:00\", \"2017-11-06T00:00:00\", \"2017-11-13T00:00:00\", \"2017-11-20T00:00:00\", \"2017-11-27T00:00:00\", \"2017-12-04T00:00:00\", \"2017-12-11T00:00:00\", \"2017-12-18T00:00:00\", \"2017-12-25T00:00:00\", \"2018-01-01T00:00:00\", \"2018-01-08T00:00:00\", \"2018-01-15T00:00:00\", \"2018-01-22T00:00:00\", \"2018-01-29T00:00:00\", \"2018-02-05T00:00:00\", \"2018-02-12T00:00:00\", \"2018-02-19T00:00:00\", \"2018-02-26T00:00:00\", \"2018-03-05T00:00:00\", \"2018-03-12T00:00:00\", \"2018-03-19T00:00:00\", \"2018-03-26T00:00:00\", \"2018-04-02T00:00:00\", \"2018-04-09T00:00:00\", \"2018-04-16T00:00:00\", \"2018-04-23T00:00:00\", \"2018-04-30T00:00:00\", \"2018-05-07T00:00:00\", \"2018-05-14T00:00:00\", \"2018-05-21T00:00:00\", \"2018-05-28T00:00:00\", \"2018-06-04T00:00:00\", \"2018-06-11T00:00:00\", \"2018-06-18T00:00:00\", \"2018-06-25T00:00:00\", \"2018-07-02T00:00:00\", \"2018-07-09T00:00:00\", \"2018-07-16T00:00:00\", \"2018-07-23T00:00:00\", \"2018-07-30T00:00:00\", \"2018-08-06T00:00:00\", \"2018-08-13T00:00:00\", \"2018-08-20T00:00:00\", \"2018-08-27T00:00:00\", \"2018-09-03T00:00:00\", \"2018-09-10T00:00:00\", \"2018-09-17T00:00:00\", \"2018-09-24T00:00:00\", \"2018-10-01T00:00:00\", \"2018-10-08T00:00:00\", \"2018-10-15T00:00:00\", \"2018-10-22T00:00:00\", \"2018-10-29T00:00:00\", \"2018-11-05T00:00:00\", \"2018-11-12T00:00:00\", \"2018-11-19T00:00:00\", \"2018-11-26T00:00:00\", \"2018-12-03T00:00:00\", \"2018-12-10T00:00:00\", \"2018-12-17T00:00:00\", \"2018-12-24T00:00:00\", \"2018-12-31T00:00:00\", \"2019-01-07T00:00:00\", \"2019-01-14T00:00:00\", \"2019-01-21T00:00:00\", \"2019-01-28T00:00:00\", \"2019-02-04T00:00:00\", \"2019-02-11T00:00:00\", \"2019-02-18T00:00:00\", \"2019-02-25T00:00:00\", \"2019-03-04T00:00:00\", \"2019-03-11T00:00:00\", \"2019-03-18T00:00:00\", \"2019-03-25T00:00:00\", \"2019-04-01T00:00:00\", \"2019-04-08T00:00:00\", \"2019-04-15T00:00:00\", \"2019-04-22T00:00:00\", \"2019-04-29T00:00:00\", \"2019-05-06T00:00:00\", \"2019-05-13T00:00:00\", \"2019-05-20T00:00:00\", \"2019-05-27T00:00:00\", \"2019-06-03T00:00:00\", \"2019-06-10T00:00:00\", \"2019-06-17T00:00:00\", \"2019-06-24T00:00:00\", \"2019-07-01T00:00:00\", \"2019-07-08T00:00:00\", \"2019-07-15T00:00:00\", \"2019-07-22T00:00:00\", \"2019-07-29T00:00:00\", \"2019-08-05T00:00:00\", \"2019-08-12T00:00:00\", \"2019-08-19T00:00:00\", \"2019-08-26T00:00:00\", \"2019-09-02T00:00:00\", \"2019-09-09T00:00:00\"], \"y\": [62.0, 51.84153, 18.0, 10.0, 8.0, 12.0, 11.0, 22.0, 21.0, 35.0, 302.0, 17.0, 9.0, 11.0, 9.0, 6.0, 17.0, 5.0, 11.0, 8.0, 11.0, 17.0, 9.0, 13.0, 13.0, 10.0, 12.0, 22.0, 22.0, 19.0, 21.0, 9.0, 7.0, 12.0, 15.0, 16.0, 12.0, 20.0, 13.0, 24.0, 44.0, 17.0, 19.0, 20.0, 11.0, 12.0, 15.0, 19.0, 17.0, 6.0, 11.0, 29.0, 88.0, 87.333333, 3.0, 18.0, 9.0, 12.0, 5.0, 10.0, 22.0, 28.0, 268.0, 27.0, 8.0, 13.0, 9.0, 27.0, 6.0, 4.0, 11.0, 11.0, 19.0, 18.0, 26.0, 9.0, 1.0, 16.0, 17.0, 9.0, 4.0, 7.0, 16.0, 5.0, 10.0, 9.0, 6.0, 1.0, 6.0, 13.0, 4.0, 18.0, 8.0, 3.0, 13.0, 9.0, 9.0, 16.0, 4.0, 15.0, 13.0, 6.0, 11.0, 36.0, 65.0, 65.360656, 6.0, 1.0, 9.0, 7.0, 4.0, 6.0, 13.0, 30.0, 161.0, 22.37229, 7.081967, 1.0, 12.0, 9.0, 7.0, 2.0, 6.0, 0.0, 6.0, 10.0, 16.0, 2.0, 10.0, 0.0, 14.0, 9.0, 7.0, 7.0, 7.0, 6.0, 16.0, 10.0, 10.0, 16.0, 11.0, 5.0, 14.0]}, {\"line\": {\"color\": \"red\", \"width\": 1.5}, \"name\": \"True\", \"type\": \"scatter\", \"x\": [\"2019-09-16T00:00:00\", \"2019-09-23T00:00:00\", \"2019-09-30T00:00:00\", \"2019-10-07T00:00:00\", \"2019-10-14T00:00:00\", \"2019-10-21T00:00:00\", \"2019-10-28T00:00:00\", \"2019-11-04T00:00:00\", \"2019-11-11T00:00:00\", \"2019-11-18T00:00:00\", \"2019-11-25T00:00:00\", \"2019-12-02T00:00:00\"], \"y\": [0.0, 15.0, 11.0, 7.0, 12.0, 8.0, 14.0, 0.0, 14.0, 24.0, 46.0, 71.387978]}, {\"marker\": {\"color\": \"orange\"}, \"mode\": \"markers\", \"name\": \"Predictions\", \"type\": \"scatter\", \"x\": [\"2019-09-16T00:00:00\", \"2019-09-23T00:00:00\", \"2019-09-30T00:00:00\", \"2019-10-07T00:00:00\", \"2019-10-14T00:00:00\", \"2019-10-21T00:00:00\", \"2019-10-28T00:00:00\", \"2019-11-04T00:00:00\", \"2019-11-11T00:00:00\", \"2019-11-18T00:00:00\", \"2019-11-25T00:00:00\", \"2019-12-02T00:00:00\"], \"y\": [5.412939935922623e-05, -0.0007963180541992188, -0.0014346837997436523, 0.0001037493348121643, 0.0011036400683224201, 0.0004718322306871414, -0.0006749257445335388, 0.00017036870121955872, -0.0013153585605323315, 0.0004003085196018219, -0.0018911436200141907, 0.000692758709192276]}],\n",
              "                        {\"font\": {\"color\": \"#7f7f7f\", \"family\": \"Courier New, monospace\", \"size\": 14}, \"template\": {\"data\": {\"bar\": [{\"error_x\": {\"color\": \"#2a3f5f\"}, \"error_y\": {\"color\": \"#2a3f5f\"}, \"marker\": {\"line\": {\"color\": \"#E5ECF6\", \"width\": 0.5}}, \"type\": \"bar\"}], \"barpolar\": [{\"marker\": {\"line\": {\"color\": \"#E5ECF6\", \"width\": 0.5}}, \"type\": \"barpolar\"}], \"carpet\": [{\"aaxis\": {\"endlinecolor\": \"#2a3f5f\", \"gridcolor\": \"white\", \"linecolor\": \"white\", \"minorgridcolor\": \"white\", \"startlinecolor\": \"#2a3f5f\"}, \"baxis\": {\"endlinecolor\": \"#2a3f5f\", \"gridcolor\": \"white\", \"linecolor\": \"white\", \"minorgridcolor\": \"white\", \"startlinecolor\": \"#2a3f5f\"}, \"type\": \"carpet\"}], \"choropleth\": [{\"colorbar\": {\"outlinewidth\": 0, \"ticks\": \"\"}, \"type\": \"choropleth\"}], \"contour\": [{\"colorbar\": {\"outlinewidth\": 0, \"ticks\": \"\"}, \"colorscale\": [[0.0, \"#0d0887\"], [0.1111111111111111, \"#46039f\"], [0.2222222222222222, \"#7201a8\"], [0.3333333333333333, \"#9c179e\"], [0.4444444444444444, \"#bd3786\"], [0.5555555555555556, \"#d8576b\"], [0.6666666666666666, \"#ed7953\"], [0.7777777777777778, \"#fb9f3a\"], [0.8888888888888888, \"#fdca26\"], [1.0, \"#f0f921\"]], \"type\": \"contour\"}], \"contourcarpet\": [{\"colorbar\": {\"outlinewidth\": 0, \"ticks\": \"\"}, \"type\": \"contourcarpet\"}], \"heatmap\": [{\"colorbar\": {\"outlinewidth\": 0, \"ticks\": \"\"}, \"colorscale\": [[0.0, \"#0d0887\"], [0.1111111111111111, \"#46039f\"], [0.2222222222222222, \"#7201a8\"], [0.3333333333333333, \"#9c179e\"], [0.4444444444444444, \"#bd3786\"], [0.5555555555555556, \"#d8576b\"], [0.6666666666666666, \"#ed7953\"], [0.7777777777777778, \"#fb9f3a\"], [0.8888888888888888, \"#fdca26\"], [1.0, \"#f0f921\"]], \"type\": \"heatmap\"}], \"heatmapgl\": [{\"colorbar\": {\"outlinewidth\": 0, \"ticks\": \"\"}, \"colorscale\": [[0.0, \"#0d0887\"], [0.1111111111111111, \"#46039f\"], [0.2222222222222222, \"#7201a8\"], [0.3333333333333333, \"#9c179e\"], [0.4444444444444444, \"#bd3786\"], [0.5555555555555556, \"#d8576b\"], [0.6666666666666666, \"#ed7953\"], [0.7777777777777778, \"#fb9f3a\"], [0.8888888888888888, \"#fdca26\"], [1.0, \"#f0f921\"]], \"type\": \"heatmapgl\"}], \"histogram\": [{\"marker\": {\"colorbar\": {\"outlinewidth\": 0, \"ticks\": \"\"}}, \"type\": \"histogram\"}], \"histogram2d\": [{\"colorbar\": {\"outlinewidth\": 0, \"ticks\": \"\"}, \"colorscale\": [[0.0, \"#0d0887\"], [0.1111111111111111, \"#46039f\"], [0.2222222222222222, \"#7201a8\"], [0.3333333333333333, \"#9c179e\"], [0.4444444444444444, \"#bd3786\"], [0.5555555555555556, \"#d8576b\"], [0.6666666666666666, \"#ed7953\"], [0.7777777777777778, \"#fb9f3a\"], [0.8888888888888888, \"#fdca26\"], [1.0, \"#f0f921\"]], \"type\": \"histogram2d\"}], \"histogram2dcontour\": [{\"colorbar\": {\"outlinewidth\": 0, \"ticks\": \"\"}, \"colorscale\": [[0.0, \"#0d0887\"], [0.1111111111111111, \"#46039f\"], [0.2222222222222222, \"#7201a8\"], [0.3333333333333333, \"#9c179e\"], [0.4444444444444444, \"#bd3786\"], [0.5555555555555556, \"#d8576b\"], [0.6666666666666666, \"#ed7953\"], [0.7777777777777778, \"#fb9f3a\"], [0.8888888888888888, \"#fdca26\"], [1.0, \"#f0f921\"]], \"type\": \"histogram2dcontour\"}], \"mesh3d\": [{\"colorbar\": {\"outlinewidth\": 0, \"ticks\": \"\"}, \"type\": \"mesh3d\"}], \"parcoords\": [{\"line\": {\"colorbar\": {\"outlinewidth\": 0, \"ticks\": \"\"}}, \"type\": \"parcoords\"}], \"pie\": [{\"automargin\": true, \"type\": \"pie\"}], \"scatter\": [{\"marker\": {\"colorbar\": {\"outlinewidth\": 0, \"ticks\": \"\"}}, \"type\": \"scatter\"}], \"scatter3d\": [{\"line\": {\"colorbar\": {\"outlinewidth\": 0, \"ticks\": \"\"}}, \"marker\": {\"colorbar\": {\"outlinewidth\": 0, \"ticks\": \"\"}}, \"type\": \"scatter3d\"}], \"scattercarpet\": [{\"marker\": {\"colorbar\": {\"outlinewidth\": 0, \"ticks\": \"\"}}, \"type\": \"scattercarpet\"}], \"scattergeo\": [{\"marker\": {\"colorbar\": {\"outlinewidth\": 0, \"ticks\": \"\"}}, \"type\": \"scattergeo\"}], \"scattergl\": [{\"marker\": {\"colorbar\": {\"outlinewidth\": 0, \"ticks\": \"\"}}, \"type\": \"scattergl\"}], \"scattermapbox\": [{\"marker\": {\"colorbar\": {\"outlinewidth\": 0, \"ticks\": \"\"}}, \"type\": \"scattermapbox\"}], \"scatterpolar\": [{\"marker\": {\"colorbar\": {\"outlinewidth\": 0, \"ticks\": \"\"}}, \"type\": \"scatterpolar\"}], \"scatterpolargl\": [{\"marker\": {\"colorbar\": {\"outlinewidth\": 0, \"ticks\": \"\"}}, \"type\": \"scatterpolargl\"}], \"scatterternary\": [{\"marker\": {\"colorbar\": {\"outlinewidth\": 0, \"ticks\": \"\"}}, \"type\": \"scatterternary\"}], \"surface\": [{\"colorbar\": {\"outlinewidth\": 0, \"ticks\": \"\"}, \"colorscale\": [[0.0, \"#0d0887\"], [0.1111111111111111, \"#46039f\"], [0.2222222222222222, \"#7201a8\"], [0.3333333333333333, \"#9c179e\"], [0.4444444444444444, \"#bd3786\"], [0.5555555555555556, \"#d8576b\"], [0.6666666666666666, \"#ed7953\"], [0.7777777777777778, \"#fb9f3a\"], [0.8888888888888888, \"#fdca26\"], [1.0, \"#f0f921\"]], \"type\": \"surface\"}], \"table\": [{\"cells\": {\"fill\": {\"color\": \"#EBF0F8\"}, \"line\": {\"color\": \"white\"}}, \"header\": {\"fill\": {\"color\": \"#C8D4E3\"}, \"line\": {\"color\": \"white\"}}, \"type\": \"table\"}]}, \"layout\": {\"annotationdefaults\": {\"arrowcolor\": \"#2a3f5f\", \"arrowhead\": 0, \"arrowwidth\": 1}, \"coloraxis\": {\"colorbar\": {\"outlinewidth\": 0, \"ticks\": \"\"}}, \"colorscale\": {\"diverging\": [[0, \"#8e0152\"], [0.1, \"#c51b7d\"], [0.2, \"#de77ae\"], [0.3, \"#f1b6da\"], [0.4, \"#fde0ef\"], [0.5, \"#f7f7f7\"], [0.6, \"#e6f5d0\"], [0.7, \"#b8e186\"], [0.8, \"#7fbc41\"], [0.9, \"#4d9221\"], [1, \"#276419\"]], \"sequential\": [[0.0, \"#0d0887\"], [0.1111111111111111, \"#46039f\"], [0.2222222222222222, \"#7201a8\"], [0.3333333333333333, \"#9c179e\"], [0.4444444444444444, \"#bd3786\"], [0.5555555555555556, \"#d8576b\"], [0.6666666666666666, \"#ed7953\"], [0.7777777777777778, \"#fb9f3a\"], [0.8888888888888888, \"#fdca26\"], [1.0, \"#f0f921\"]], \"sequentialminus\": [[0.0, \"#0d0887\"], [0.1111111111111111, \"#46039f\"], [0.2222222222222222, \"#7201a8\"], [0.3333333333333333, \"#9c179e\"], [0.4444444444444444, \"#bd3786\"], [0.5555555555555556, \"#d8576b\"], [0.6666666666666666, \"#ed7953\"], [0.7777777777777778, \"#fb9f3a\"], [0.8888888888888888, \"#fdca26\"], [1.0, \"#f0f921\"]]}, \"colorway\": [\"#636efa\", \"#EF553B\", \"#00cc96\", \"#ab63fa\", \"#FFA15A\", \"#19d3f3\", \"#FF6692\", \"#B6E880\", \"#FF97FF\", \"#FECB52\"], \"font\": {\"color\": \"#2a3f5f\"}, \"geo\": {\"bgcolor\": \"white\", \"lakecolor\": \"white\", \"landcolor\": \"#E5ECF6\", \"showlakes\": true, \"showland\": true, \"subunitcolor\": \"white\"}, \"hoverlabel\": {\"align\": \"left\"}, \"hovermode\": \"closest\", \"mapbox\": {\"style\": \"light\"}, \"paper_bgcolor\": \"white\", \"plot_bgcolor\": \"#E5ECF6\", \"polar\": {\"angularaxis\": {\"gridcolor\": \"white\", \"linecolor\": \"white\", \"ticks\": \"\"}, \"bgcolor\": \"#E5ECF6\", \"radialaxis\": {\"gridcolor\": \"white\", \"linecolor\": \"white\", \"ticks\": \"\"}}, \"scene\": {\"xaxis\": {\"backgroundcolor\": \"#E5ECF6\", \"gridcolor\": \"white\", \"gridwidth\": 2, \"linecolor\": \"white\", \"showbackground\": true, \"ticks\": \"\", \"zerolinecolor\": \"white\"}, \"yaxis\": {\"backgroundcolor\": \"#E5ECF6\", \"gridcolor\": \"white\", \"gridwidth\": 2, \"linecolor\": \"white\", \"showbackground\": true, \"ticks\": \"\", \"zerolinecolor\": \"white\"}, \"zaxis\": {\"backgroundcolor\": \"#E5ECF6\", \"gridcolor\": \"white\", \"gridwidth\": 2, \"linecolor\": \"white\", \"showbackground\": true, \"ticks\": \"\", \"zerolinecolor\": \"white\"}}, \"shapedefaults\": {\"line\": {\"color\": \"#2a3f5f\"}}, \"ternary\": {\"aaxis\": {\"gridcolor\": \"white\", \"linecolor\": \"white\", \"ticks\": \"\"}, \"baxis\": {\"gridcolor\": \"white\", \"linecolor\": \"white\", \"ticks\": \"\"}, \"bgcolor\": \"#E5ECF6\", \"caxis\": {\"gridcolor\": \"white\", \"linecolor\": \"white\", \"ticks\": \"\"}}, \"title\": {\"x\": 0.05}, \"xaxis\": {\"automargin\": true, \"gridcolor\": \"white\", \"linecolor\": \"white\", \"ticks\": \"\", \"title\": {\"standoff\": 15}, \"zerolinecolor\": \"white\", \"zerolinewidth\": 2}, \"yaxis\": {\"automargin\": true, \"gridcolor\": \"white\", \"linecolor\": \"white\", \"ticks\": \"\", \"title\": {\"standoff\": 15}, \"zerolinecolor\": \"white\", \"zerolinewidth\": 2}}}, \"title\": {\"text\": \"Demand forecast for SKU=40370, Store=1079\"}, \"xaxis\": {\"title\": {\"text\": \"Date\"}}, \"yaxis\": {\"title\": {\"text\": \"Demand\"}}},\n",
              "                        {\"responsive\": true}\n",
              "                    ).then(function(){\n",
              "                            \n",
              "var gd = document.getElementById('1111d1bc-0d57-4768-88f2-4051144d8963');\n",
              "var x = new MutationObserver(function (mutations, observer) {{\n",
              "        var display = window.getComputedStyle(gd).display;\n",
              "        if (!display || display === 'none') {{\n",
              "            console.log([gd, 'removed!']);\n",
              "            Plotly.purge(gd);\n",
              "            observer.disconnect();\n",
              "        }}\n",
              "}});\n",
              "\n",
              "// Listen for the removal of the full notebook cells\n",
              "var notebookContainer = gd.closest('#notebook-container');\n",
              "if (notebookContainer) {{\n",
              "    x.observe(notebookContainer, {childList: true});\n",
              "}}\n",
              "\n",
              "// Listen for the clearing of the current output cell\n",
              "var outputEl = gd.closest('.output');\n",
              "if (outputEl) {{\n",
              "    x.observe(outputEl, {childList: true});\n",
              "}}\n",
              "\n",
              "                        })\n",
              "                };\n",
              "                \n",
              "            </script>\n",
              "        </div>\n",
              "</body>\n",
              "</html>"
            ]
          },
          "metadata": {
            "tags": []
          }
        }
      ]
    },
    {
      "cell_type": "code",
      "metadata": {
        "id": "44VjatiIhRvI",
        "colab_type": "code",
        "colab": {
          "base_uri": "https://localhost:8080/",
          "height": 1000
        },
        "outputId": "f2231ace-1c76-44b7-e976-a7e54fdbd66c"
      },
      "source": [
        "# predictions with smaller history\n",
        "\n",
        "x_sample, y_sample = make_ds(new_df[-1], target_size=12)\n",
        "pred_sample = model.predict(x_sample[4].reshape(1,5,11))\n",
        "timeseries_graph(x_sample[:80, 1, 2], y_sample[80], pred_sample.reshape(12,), \\\n",
        "                 \"Demand forecast for SKU=46272, Store=128\")\n",
        "\n",
        "x_sample1, y_sample1 = make_ds(new_df[1], target_size=12)\n",
        "pred_sample1 = model.predict(x_sample1[4].reshape(1,5,11))\n",
        "timeseries_graph(x_sample1[:80, 1, 2], y_sample1[80], pred_sample1.reshape(12,), \\\n",
        "                 \"Demand forecast for SKU=40369, Store=355\")\n",
        "\n",
        "x_sample2, y_sample2 = make_ds(new_df[50], target_size=12)\n",
        "pred_sample2 = model.predict(x_sample2[4].reshape(1,5,11))\n",
        "timeseries_graph(x_sample2[:80, 1, 2], y_sample2[80], pred_sample2.reshape(12,), \\\n",
        "                 \"Demand forecast for SKU=40370, Store=1079\")"
      ],
      "execution_count": null,
      "outputs": [
        {
          "output_type": "display_data",
          "data": {
            "text/html": [
              "<html>\n",
              "<head><meta charset=\"utf-8\" /></head>\n",
              "<body>\n",
              "    <div>\n",
              "            <script src=\"https://cdnjs.cloudflare.com/ajax/libs/mathjax/2.7.5/MathJax.js?config=TeX-AMS-MML_SVG\"></script><script type=\"text/javascript\">if (window.MathJax) {MathJax.Hub.Config({SVG: {font: \"STIX-Web\"}});}</script>\n",
              "                <script type=\"text/javascript\">window.PlotlyConfig = {MathJaxConfig: 'local'};</script>\n",
              "        <script src=\"https://cdn.plot.ly/plotly-latest.min.js\"></script>    \n",
              "            <div id=\"0626123a-2ed4-440d-b3e8-2deacae7f8a8\" class=\"plotly-graph-div\" style=\"height:525px; width:100%;\"></div>\n",
              "            <script type=\"text/javascript\">\n",
              "                \n",
              "                    window.PLOTLYENV=window.PLOTLYENV || {};\n",
              "                    \n",
              "                if (document.getElementById(\"0626123a-2ed4-440d-b3e8-2deacae7f8a8\")) {\n",
              "                    Plotly.newPlot(\n",
              "                        '0626123a-2ed4-440d-b3e8-2deacae7f8a8',\n",
              "                        [{\"line\": {\"color\": \"royalblue\", \"width\": 1.5}, \"name\": \"History\", \"type\": \"scatter\", \"x\": [\"2016-12-19T00:00:00\", \"2016-12-26T00:00:00\", \"2017-01-02T00:00:00\", \"2017-01-09T00:00:00\", \"2017-01-16T00:00:00\", \"2017-01-23T00:00:00\", \"2017-01-30T00:00:00\", \"2017-02-06T00:00:00\", \"2017-02-13T00:00:00\", \"2017-02-20T00:00:00\", \"2017-02-27T00:00:00\", \"2017-03-06T00:00:00\", \"2017-03-13T00:00:00\", \"2017-03-20T00:00:00\", \"2017-03-27T00:00:00\", \"2017-04-03T00:00:00\", \"2017-04-10T00:00:00\", \"2017-04-17T00:00:00\", \"2017-04-24T00:00:00\", \"2017-05-01T00:00:00\", \"2017-05-08T00:00:00\", \"2017-05-15T00:00:00\", \"2017-05-22T00:00:00\", \"2017-05-29T00:00:00\", \"2017-06-05T00:00:00\", \"2017-06-12T00:00:00\", \"2017-06-19T00:00:00\", \"2017-06-26T00:00:00\", \"2017-07-03T00:00:00\", \"2017-07-10T00:00:00\", \"2017-07-17T00:00:00\", \"2017-07-24T00:00:00\", \"2017-07-31T00:00:00\", \"2017-08-07T00:00:00\", \"2017-08-14T00:00:00\", \"2017-08-21T00:00:00\", \"2017-08-28T00:00:00\", \"2017-09-04T00:00:00\", \"2017-09-11T00:00:00\", \"2017-09-18T00:00:00\", \"2017-09-25T00:00:00\", \"2017-10-02T00:00:00\", \"2017-10-09T00:00:00\", \"2017-10-16T00:00:00\", \"2017-10-23T00:00:00\", \"2017-10-30T00:00:00\", \"2017-11-06T00:00:00\", \"2017-11-13T00:00:00\", \"2017-11-20T00:00:00\", \"2017-11-27T00:00:00\", \"2017-12-04T00:00:00\", \"2017-12-11T00:00:00\", \"2017-12-18T00:00:00\", \"2017-12-25T00:00:00\", \"2018-01-01T00:00:00\", \"2018-01-08T00:00:00\", \"2018-01-15T00:00:00\", \"2018-01-22T00:00:00\", \"2018-01-29T00:00:00\", \"2018-02-05T00:00:00\", \"2018-02-12T00:00:00\", \"2018-02-19T00:00:00\", \"2018-02-26T00:00:00\", \"2018-03-05T00:00:00\", \"2018-03-12T00:00:00\", \"2018-03-19T00:00:00\", \"2018-03-26T00:00:00\", \"2018-04-02T00:00:00\", \"2018-04-09T00:00:00\", \"2018-04-16T00:00:00\", \"2018-04-23T00:00:00\", \"2018-04-30T00:00:00\", \"2018-05-07T00:00:00\", \"2018-05-14T00:00:00\", \"2018-05-21T00:00:00\", \"2018-05-28T00:00:00\", \"2018-06-04T00:00:00\", \"2018-06-11T00:00:00\", \"2018-06-18T00:00:00\", \"2018-06-25T00:00:00\"], \"y\": [86.0, 52.7, 18.0, 11.0, 20.0, 14.0, 10.0, 2.0, 23.0, 6.0, 36.0, 10.0, 9.0, 11.0, 6.0, 11.0, 23.0, 18.0, 15.0, 1.0, 8.0, 8.0, 5.0, 9.0, 10.0, 7.0, 21.0, 9.0, 24.0, 2.0, 14.0, 7.0, 21.0, 19.0, 14.0, 14.0, 14.0, 14.0, 8.0, 7.0, 12.0, 7.0, 13.0, 2.0, 7.0, 20.0, 13.0, 14.0, 19.0, 3.0, 7.0, 16.0, 19.0, 22.5, 11.0, 2.0, 6.0, 17.0, 8.0, 5.0, 10.0, 11.0, 30.0, 17.0, 6.0, 24.0, 16.0, 6.0, 14.0, 23.0, 49.0, 10.0, 1.0, 6.0, 13.0, 1.0, 3.0, 0.0, 2.0, 5.0]}, {\"line\": {\"color\": \"red\", \"width\": 1.5}, \"name\": \"True\", \"type\": \"scatter\", \"x\": [\"2018-07-02T00:00:00\", \"2018-07-09T00:00:00\", \"2018-07-16T00:00:00\", \"2018-07-23T00:00:00\", \"2018-07-30T00:00:00\", \"2018-08-06T00:00:00\", \"2018-08-13T00:00:00\", \"2018-08-20T00:00:00\", \"2018-08-27T00:00:00\", \"2018-09-03T00:00:00\", \"2018-09-10T00:00:00\", \"2018-09-17T00:00:00\"], \"y\": [17.0, 6.0, 19.0, 13.0, 7.0, 10.0, 2.0, 4.0, 4.0, 12.0, 7.0, 9.0]}, {\"marker\": {\"color\": \"orange\"}, \"mode\": \"markers\", \"name\": \"Predictions\", \"type\": \"scatter\", \"x\": [\"2018-07-02T00:00:00\", \"2018-07-09T00:00:00\", \"2018-07-16T00:00:00\", \"2018-07-23T00:00:00\", \"2018-07-30T00:00:00\", \"2018-08-06T00:00:00\", \"2018-08-13T00:00:00\", \"2018-08-20T00:00:00\", \"2018-08-27T00:00:00\", \"2018-09-03T00:00:00\", \"2018-09-10T00:00:00\", \"2018-09-17T00:00:00\"], \"y\": [-0.0007793083786964417, 0.00045261718332767487, -0.001212066039443016, 0.000739523209631443, 0.0007925257086753845, 0.0012100264430046082, 0.001036517322063446, -0.0007964372634887695, 0.0004439428448677063, -0.000756576657295227, -0.0005906224250793457, 0.0006683021783828735]}],\n",
              "                        {\"font\": {\"color\": \"#7f7f7f\", \"family\": \"Courier New, monospace\", \"size\": 14}, \"template\": {\"data\": {\"bar\": [{\"error_x\": {\"color\": \"#2a3f5f\"}, \"error_y\": {\"color\": \"#2a3f5f\"}, \"marker\": {\"line\": {\"color\": \"#E5ECF6\", \"width\": 0.5}}, \"type\": \"bar\"}], \"barpolar\": [{\"marker\": {\"line\": {\"color\": \"#E5ECF6\", \"width\": 0.5}}, \"type\": \"barpolar\"}], \"carpet\": [{\"aaxis\": {\"endlinecolor\": \"#2a3f5f\", \"gridcolor\": \"white\", \"linecolor\": \"white\", \"minorgridcolor\": \"white\", \"startlinecolor\": \"#2a3f5f\"}, \"baxis\": {\"endlinecolor\": \"#2a3f5f\", \"gridcolor\": \"white\", \"linecolor\": \"white\", \"minorgridcolor\": \"white\", \"startlinecolor\": \"#2a3f5f\"}, \"type\": \"carpet\"}], \"choropleth\": [{\"colorbar\": {\"outlinewidth\": 0, \"ticks\": \"\"}, \"type\": \"choropleth\"}], \"contour\": [{\"colorbar\": {\"outlinewidth\": 0, \"ticks\": \"\"}, \"colorscale\": [[0.0, \"#0d0887\"], [0.1111111111111111, \"#46039f\"], [0.2222222222222222, \"#7201a8\"], [0.3333333333333333, \"#9c179e\"], [0.4444444444444444, \"#bd3786\"], [0.5555555555555556, \"#d8576b\"], [0.6666666666666666, \"#ed7953\"], [0.7777777777777778, \"#fb9f3a\"], [0.8888888888888888, \"#fdca26\"], [1.0, \"#f0f921\"]], \"type\": \"contour\"}], \"contourcarpet\": [{\"colorbar\": {\"outlinewidth\": 0, \"ticks\": \"\"}, \"type\": \"contourcarpet\"}], \"heatmap\": [{\"colorbar\": {\"outlinewidth\": 0, \"ticks\": \"\"}, \"colorscale\": [[0.0, \"#0d0887\"], [0.1111111111111111, \"#46039f\"], [0.2222222222222222, \"#7201a8\"], [0.3333333333333333, \"#9c179e\"], [0.4444444444444444, \"#bd3786\"], [0.5555555555555556, \"#d8576b\"], [0.6666666666666666, \"#ed7953\"], [0.7777777777777778, \"#fb9f3a\"], [0.8888888888888888, \"#fdca26\"], [1.0, \"#f0f921\"]], \"type\": \"heatmap\"}], \"heatmapgl\": [{\"colorbar\": {\"outlinewidth\": 0, \"ticks\": \"\"}, \"colorscale\": [[0.0, \"#0d0887\"], [0.1111111111111111, \"#46039f\"], [0.2222222222222222, \"#7201a8\"], [0.3333333333333333, \"#9c179e\"], [0.4444444444444444, \"#bd3786\"], [0.5555555555555556, \"#d8576b\"], [0.6666666666666666, \"#ed7953\"], [0.7777777777777778, \"#fb9f3a\"], [0.8888888888888888, \"#fdca26\"], [1.0, \"#f0f921\"]], \"type\": \"heatmapgl\"}], \"histogram\": [{\"marker\": {\"colorbar\": {\"outlinewidth\": 0, \"ticks\": \"\"}}, \"type\": \"histogram\"}], \"histogram2d\": [{\"colorbar\": {\"outlinewidth\": 0, \"ticks\": \"\"}, \"colorscale\": [[0.0, \"#0d0887\"], [0.1111111111111111, \"#46039f\"], [0.2222222222222222, \"#7201a8\"], [0.3333333333333333, \"#9c179e\"], [0.4444444444444444, \"#bd3786\"], [0.5555555555555556, \"#d8576b\"], [0.6666666666666666, \"#ed7953\"], [0.7777777777777778, \"#fb9f3a\"], [0.8888888888888888, \"#fdca26\"], [1.0, \"#f0f921\"]], \"type\": \"histogram2d\"}], \"histogram2dcontour\": [{\"colorbar\": {\"outlinewidth\": 0, \"ticks\": \"\"}, \"colorscale\": [[0.0, \"#0d0887\"], [0.1111111111111111, \"#46039f\"], [0.2222222222222222, \"#7201a8\"], [0.3333333333333333, \"#9c179e\"], [0.4444444444444444, \"#bd3786\"], [0.5555555555555556, \"#d8576b\"], [0.6666666666666666, \"#ed7953\"], [0.7777777777777778, \"#fb9f3a\"], [0.8888888888888888, \"#fdca26\"], [1.0, \"#f0f921\"]], \"type\": \"histogram2dcontour\"}], \"mesh3d\": [{\"colorbar\": {\"outlinewidth\": 0, \"ticks\": \"\"}, \"type\": \"mesh3d\"}], \"parcoords\": [{\"line\": {\"colorbar\": {\"outlinewidth\": 0, \"ticks\": \"\"}}, \"type\": \"parcoords\"}], \"pie\": [{\"automargin\": true, \"type\": \"pie\"}], \"scatter\": [{\"marker\": {\"colorbar\": {\"outlinewidth\": 0, \"ticks\": \"\"}}, \"type\": \"scatter\"}], \"scatter3d\": [{\"line\": {\"colorbar\": {\"outlinewidth\": 0, \"ticks\": \"\"}}, \"marker\": {\"colorbar\": {\"outlinewidth\": 0, \"ticks\": \"\"}}, \"type\": \"scatter3d\"}], \"scattercarpet\": [{\"marker\": {\"colorbar\": {\"outlinewidth\": 0, \"ticks\": \"\"}}, \"type\": \"scattercarpet\"}], \"scattergeo\": [{\"marker\": {\"colorbar\": {\"outlinewidth\": 0, \"ticks\": \"\"}}, \"type\": \"scattergeo\"}], \"scattergl\": [{\"marker\": {\"colorbar\": {\"outlinewidth\": 0, \"ticks\": \"\"}}, \"type\": \"scattergl\"}], \"scattermapbox\": [{\"marker\": {\"colorbar\": {\"outlinewidth\": 0, \"ticks\": \"\"}}, \"type\": \"scattermapbox\"}], \"scatterpolar\": [{\"marker\": {\"colorbar\": {\"outlinewidth\": 0, \"ticks\": \"\"}}, \"type\": \"scatterpolar\"}], \"scatterpolargl\": [{\"marker\": {\"colorbar\": {\"outlinewidth\": 0, \"ticks\": \"\"}}, \"type\": \"scatterpolargl\"}], \"scatterternary\": [{\"marker\": {\"colorbar\": {\"outlinewidth\": 0, \"ticks\": \"\"}}, \"type\": \"scatterternary\"}], \"surface\": [{\"colorbar\": {\"outlinewidth\": 0, \"ticks\": \"\"}, \"colorscale\": [[0.0, \"#0d0887\"], [0.1111111111111111, \"#46039f\"], [0.2222222222222222, \"#7201a8\"], [0.3333333333333333, \"#9c179e\"], [0.4444444444444444, \"#bd3786\"], [0.5555555555555556, \"#d8576b\"], [0.6666666666666666, \"#ed7953\"], [0.7777777777777778, \"#fb9f3a\"], [0.8888888888888888, \"#fdca26\"], [1.0, \"#f0f921\"]], \"type\": \"surface\"}], \"table\": [{\"cells\": {\"fill\": {\"color\": \"#EBF0F8\"}, \"line\": {\"color\": \"white\"}}, \"header\": {\"fill\": {\"color\": \"#C8D4E3\"}, \"line\": {\"color\": \"white\"}}, \"type\": \"table\"}]}, \"layout\": {\"annotationdefaults\": {\"arrowcolor\": \"#2a3f5f\", \"arrowhead\": 0, \"arrowwidth\": 1}, \"coloraxis\": {\"colorbar\": {\"outlinewidth\": 0, \"ticks\": \"\"}}, \"colorscale\": {\"diverging\": [[0, \"#8e0152\"], [0.1, \"#c51b7d\"], [0.2, \"#de77ae\"], [0.3, \"#f1b6da\"], [0.4, \"#fde0ef\"], [0.5, \"#f7f7f7\"], [0.6, \"#e6f5d0\"], [0.7, \"#b8e186\"], [0.8, \"#7fbc41\"], [0.9, \"#4d9221\"], [1, \"#276419\"]], \"sequential\": [[0.0, \"#0d0887\"], [0.1111111111111111, \"#46039f\"], [0.2222222222222222, \"#7201a8\"], [0.3333333333333333, \"#9c179e\"], [0.4444444444444444, \"#bd3786\"], [0.5555555555555556, \"#d8576b\"], [0.6666666666666666, \"#ed7953\"], [0.7777777777777778, \"#fb9f3a\"], [0.8888888888888888, \"#fdca26\"], [1.0, \"#f0f921\"]], \"sequentialminus\": [[0.0, \"#0d0887\"], [0.1111111111111111, \"#46039f\"], [0.2222222222222222, \"#7201a8\"], [0.3333333333333333, \"#9c179e\"], [0.4444444444444444, \"#bd3786\"], [0.5555555555555556, \"#d8576b\"], [0.6666666666666666, \"#ed7953\"], [0.7777777777777778, \"#fb9f3a\"], [0.8888888888888888, \"#fdca26\"], [1.0, \"#f0f921\"]]}, \"colorway\": [\"#636efa\", \"#EF553B\", \"#00cc96\", \"#ab63fa\", \"#FFA15A\", \"#19d3f3\", \"#FF6692\", \"#B6E880\", \"#FF97FF\", \"#FECB52\"], \"font\": {\"color\": \"#2a3f5f\"}, \"geo\": {\"bgcolor\": \"white\", \"lakecolor\": \"white\", \"landcolor\": \"#E5ECF6\", \"showlakes\": true, \"showland\": true, \"subunitcolor\": \"white\"}, \"hoverlabel\": {\"align\": \"left\"}, \"hovermode\": \"closest\", \"mapbox\": {\"style\": \"light\"}, \"paper_bgcolor\": \"white\", \"plot_bgcolor\": \"#E5ECF6\", \"polar\": {\"angularaxis\": {\"gridcolor\": \"white\", \"linecolor\": \"white\", \"ticks\": \"\"}, \"bgcolor\": \"#E5ECF6\", \"radialaxis\": {\"gridcolor\": \"white\", \"linecolor\": \"white\", \"ticks\": \"\"}}, \"scene\": {\"xaxis\": {\"backgroundcolor\": \"#E5ECF6\", \"gridcolor\": \"white\", \"gridwidth\": 2, \"linecolor\": \"white\", \"showbackground\": true, \"ticks\": \"\", \"zerolinecolor\": \"white\"}, \"yaxis\": {\"backgroundcolor\": \"#E5ECF6\", \"gridcolor\": \"white\", \"gridwidth\": 2, \"linecolor\": \"white\", \"showbackground\": true, \"ticks\": \"\", \"zerolinecolor\": \"white\"}, \"zaxis\": {\"backgroundcolor\": \"#E5ECF6\", \"gridcolor\": \"white\", \"gridwidth\": 2, \"linecolor\": \"white\", \"showbackground\": true, \"ticks\": \"\", \"zerolinecolor\": \"white\"}}, \"shapedefaults\": {\"line\": {\"color\": \"#2a3f5f\"}}, \"ternary\": {\"aaxis\": {\"gridcolor\": \"white\", \"linecolor\": \"white\", \"ticks\": \"\"}, \"baxis\": {\"gridcolor\": \"white\", \"linecolor\": \"white\", \"ticks\": \"\"}, \"bgcolor\": \"#E5ECF6\", \"caxis\": {\"gridcolor\": \"white\", \"linecolor\": \"white\", \"ticks\": \"\"}}, \"title\": {\"x\": 0.05}, \"xaxis\": {\"automargin\": true, \"gridcolor\": \"white\", \"linecolor\": \"white\", \"ticks\": \"\", \"title\": {\"standoff\": 15}, \"zerolinecolor\": \"white\", \"zerolinewidth\": 2}, \"yaxis\": {\"automargin\": true, \"gridcolor\": \"white\", \"linecolor\": \"white\", \"ticks\": \"\", \"title\": {\"standoff\": 15}, \"zerolinecolor\": \"white\", \"zerolinewidth\": 2}}}, \"title\": {\"text\": \"Demand forecast for SKU=46272, Store=128\"}, \"xaxis\": {\"title\": {\"text\": \"Date\"}}, \"yaxis\": {\"title\": {\"text\": \"Demand\"}}},\n",
              "                        {\"responsive\": true}\n",
              "                    ).then(function(){\n",
              "                            \n",
              "var gd = document.getElementById('0626123a-2ed4-440d-b3e8-2deacae7f8a8');\n",
              "var x = new MutationObserver(function (mutations, observer) {{\n",
              "        var display = window.getComputedStyle(gd).display;\n",
              "        if (!display || display === 'none') {{\n",
              "            console.log([gd, 'removed!']);\n",
              "            Plotly.purge(gd);\n",
              "            observer.disconnect();\n",
              "        }}\n",
              "}});\n",
              "\n",
              "// Listen for the removal of the full notebook cells\n",
              "var notebookContainer = gd.closest('#notebook-container');\n",
              "if (notebookContainer) {{\n",
              "    x.observe(notebookContainer, {childList: true});\n",
              "}}\n",
              "\n",
              "// Listen for the clearing of the current output cell\n",
              "var outputEl = gd.closest('.output');\n",
              "if (outputEl) {{\n",
              "    x.observe(outputEl, {childList: true});\n",
              "}}\n",
              "\n",
              "                        })\n",
              "                };\n",
              "                \n",
              "            </script>\n",
              "        </div>\n",
              "</body>\n",
              "</html>"
            ]
          },
          "metadata": {
            "tags": []
          }
        },
        {
          "output_type": "display_data",
          "data": {
            "text/html": [
              "<html>\n",
              "<head><meta charset=\"utf-8\" /></head>\n",
              "<body>\n",
              "    <div>\n",
              "            <script src=\"https://cdnjs.cloudflare.com/ajax/libs/mathjax/2.7.5/MathJax.js?config=TeX-AMS-MML_SVG\"></script><script type=\"text/javascript\">if (window.MathJax) {MathJax.Hub.Config({SVG: {font: \"STIX-Web\"}});}</script>\n",
              "                <script type=\"text/javascript\">window.PlotlyConfig = {MathJaxConfig: 'local'};</script>\n",
              "        <script src=\"https://cdn.plot.ly/plotly-latest.min.js\"></script>    \n",
              "            <div id=\"43e5e25f-53e8-452c-8de2-b2edf6c0d635\" class=\"plotly-graph-div\" style=\"height:525px; width:100%;\"></div>\n",
              "            <script type=\"text/javascript\">\n",
              "                \n",
              "                    window.PLOTLYENV=window.PLOTLYENV || {};\n",
              "                    \n",
              "                if (document.getElementById(\"43e5e25f-53e8-452c-8de2-b2edf6c0d635\")) {\n",
              "                    Plotly.newPlot(\n",
              "                        '43e5e25f-53e8-452c-8de2-b2edf6c0d635',\n",
              "                        [{\"line\": {\"color\": \"royalblue\", \"width\": 1.5}, \"name\": \"History\", \"type\": \"scatter\", \"x\": [\"2016-12-19T00:00:00\", \"2016-12-26T00:00:00\", \"2017-01-02T00:00:00\", \"2017-01-09T00:00:00\", \"2017-01-16T00:00:00\", \"2017-01-23T00:00:00\", \"2017-01-30T00:00:00\", \"2017-02-06T00:00:00\", \"2017-02-13T00:00:00\", \"2017-02-20T00:00:00\", \"2017-02-27T00:00:00\", \"2017-03-06T00:00:00\", \"2017-03-13T00:00:00\", \"2017-03-20T00:00:00\", \"2017-03-27T00:00:00\", \"2017-04-03T00:00:00\", \"2017-04-10T00:00:00\", \"2017-04-17T00:00:00\", \"2017-04-24T00:00:00\", \"2017-05-01T00:00:00\", \"2017-05-08T00:00:00\", \"2017-05-15T00:00:00\", \"2017-05-22T00:00:00\", \"2017-05-29T00:00:00\", \"2017-06-05T00:00:00\", \"2017-06-12T00:00:00\", \"2017-06-19T00:00:00\", \"2017-06-26T00:00:00\", \"2017-07-03T00:00:00\", \"2017-07-10T00:00:00\", \"2017-07-17T00:00:00\", \"2017-07-24T00:00:00\", \"2017-07-31T00:00:00\", \"2017-08-07T00:00:00\", \"2017-08-14T00:00:00\", \"2017-08-21T00:00:00\", \"2017-08-28T00:00:00\", \"2017-09-04T00:00:00\", \"2017-09-11T00:00:00\", \"2017-09-18T00:00:00\", \"2017-09-25T00:00:00\", \"2017-10-02T00:00:00\", \"2017-10-09T00:00:00\", \"2017-10-16T00:00:00\", \"2017-10-23T00:00:00\", \"2017-10-30T00:00:00\", \"2017-11-06T00:00:00\", \"2017-11-13T00:00:00\", \"2017-11-20T00:00:00\", \"2017-11-27T00:00:00\", \"2017-12-04T00:00:00\", \"2017-12-11T00:00:00\", \"2017-12-18T00:00:00\", \"2017-12-25T00:00:00\", \"2018-01-01T00:00:00\", \"2018-01-08T00:00:00\", \"2018-01-15T00:00:00\", \"2018-01-22T00:00:00\", \"2018-01-29T00:00:00\", \"2018-02-05T00:00:00\", \"2018-02-12T00:00:00\", \"2018-02-19T00:00:00\", \"2018-02-26T00:00:00\", \"2018-03-05T00:00:00\", \"2018-03-12T00:00:00\", \"2018-03-19T00:00:00\", \"2018-03-26T00:00:00\", \"2018-04-02T00:00:00\", \"2018-04-09T00:00:00\", \"2018-04-16T00:00:00\", \"2018-04-23T00:00:00\", \"2018-04-30T00:00:00\", \"2018-05-07T00:00:00\", \"2018-05-14T00:00:00\", \"2018-05-21T00:00:00\", \"2018-05-28T00:00:00\", \"2018-06-04T00:00:00\", \"2018-06-11T00:00:00\", \"2018-06-18T00:00:00\", \"2018-06-25T00:00:00\"], \"y\": [78.0, 57.453552, 6.0, 11.0, 5.0, 1.0, 22.0, 5.0, 12.0, 120.0, 401.0, 9.0, 12.0, 7.0, 6.0, 2.0, 20.0, 3.0, 9.0, 9.0, 43.0, 31.0, 5.0, 7.0, 3.0, 10.0, 1.0, 9.0, 6.0, 3.0, 9.0, 2.0, 12.0, 9.0, 6.0, 5.0, 13.0, 5.0, 8.0, 5.0, 6.0, 10.0, 9.0, 4.0, 6.0, 6.0, 8.0, 8.0, 12.0, 11.0, 17.0, 15.0, 43.0, 70.092896, 8.0, 25.0, 7.0, 5.0, 2.0, 4.0, 23.0, 29.0, 219.0, 1.0, 6.0, 7.0, 10.0, 6.0, 4.0, 5.0, 2.0, 3.0, 6.0, 8.0, 12.0, 11.0, 6.0, 6.0, 7.0, 41.0]}, {\"line\": {\"color\": \"red\", \"width\": 1.5}, \"name\": \"True\", \"type\": \"scatter\", \"x\": [\"2018-07-02T00:00:00\", \"2018-07-09T00:00:00\", \"2018-07-16T00:00:00\", \"2018-07-23T00:00:00\", \"2018-07-30T00:00:00\", \"2018-08-06T00:00:00\", \"2018-08-13T00:00:00\", \"2018-08-20T00:00:00\", \"2018-08-27T00:00:00\", \"2018-09-03T00:00:00\", \"2018-09-10T00:00:00\", \"2018-09-17T00:00:00\"], \"y\": [2.0, 0.0, 3.0, 0.0, 0.0, 12.0, 11.0, 16.0, 6.0, 8.0, 7.0, 2.0]}, {\"marker\": {\"color\": \"orange\"}, \"mode\": \"markers\", \"name\": \"Predictions\", \"type\": \"scatter\", \"x\": [\"2018-07-02T00:00:00\", \"2018-07-09T00:00:00\", \"2018-07-16T00:00:00\", \"2018-07-23T00:00:00\", \"2018-07-30T00:00:00\", \"2018-08-06T00:00:00\", \"2018-08-13T00:00:00\", \"2018-08-20T00:00:00\", \"2018-08-27T00:00:00\", \"2018-09-03T00:00:00\", \"2018-09-10T00:00:00\", \"2018-09-17T00:00:00\"], \"y\": [-0.0007793083786964417, 0.00045261718332767487, -0.001212066039443016, 0.000739523209631443, 0.0007925257086753845, 0.0012100264430046082, 0.001036517322063446, -0.0007964372634887695, 0.0004439428448677063, -0.000756576657295227, -0.0005906224250793457, 0.0006683021783828735]}],\n",
              "                        {\"font\": {\"color\": \"#7f7f7f\", \"family\": \"Courier New, monospace\", \"size\": 14}, \"template\": {\"data\": {\"bar\": [{\"error_x\": {\"color\": \"#2a3f5f\"}, \"error_y\": {\"color\": \"#2a3f5f\"}, \"marker\": {\"line\": {\"color\": \"#E5ECF6\", \"width\": 0.5}}, \"type\": \"bar\"}], \"barpolar\": [{\"marker\": {\"line\": {\"color\": \"#E5ECF6\", \"width\": 0.5}}, \"type\": \"barpolar\"}], \"carpet\": [{\"aaxis\": {\"endlinecolor\": \"#2a3f5f\", \"gridcolor\": \"white\", \"linecolor\": \"white\", \"minorgridcolor\": \"white\", \"startlinecolor\": \"#2a3f5f\"}, \"baxis\": {\"endlinecolor\": \"#2a3f5f\", \"gridcolor\": \"white\", \"linecolor\": \"white\", \"minorgridcolor\": \"white\", \"startlinecolor\": \"#2a3f5f\"}, \"type\": \"carpet\"}], \"choropleth\": [{\"colorbar\": {\"outlinewidth\": 0, \"ticks\": \"\"}, \"type\": \"choropleth\"}], \"contour\": [{\"colorbar\": {\"outlinewidth\": 0, \"ticks\": \"\"}, \"colorscale\": [[0.0, \"#0d0887\"], [0.1111111111111111, \"#46039f\"], [0.2222222222222222, \"#7201a8\"], [0.3333333333333333, \"#9c179e\"], [0.4444444444444444, \"#bd3786\"], [0.5555555555555556, \"#d8576b\"], [0.6666666666666666, \"#ed7953\"], [0.7777777777777778, \"#fb9f3a\"], [0.8888888888888888, \"#fdca26\"], [1.0, \"#f0f921\"]], \"type\": \"contour\"}], \"contourcarpet\": [{\"colorbar\": {\"outlinewidth\": 0, \"ticks\": \"\"}, \"type\": \"contourcarpet\"}], \"heatmap\": [{\"colorbar\": {\"outlinewidth\": 0, \"ticks\": \"\"}, \"colorscale\": [[0.0, \"#0d0887\"], [0.1111111111111111, \"#46039f\"], [0.2222222222222222, \"#7201a8\"], [0.3333333333333333, \"#9c179e\"], [0.4444444444444444, \"#bd3786\"], [0.5555555555555556, \"#d8576b\"], [0.6666666666666666, \"#ed7953\"], [0.7777777777777778, \"#fb9f3a\"], [0.8888888888888888, \"#fdca26\"], [1.0, \"#f0f921\"]], \"type\": \"heatmap\"}], \"heatmapgl\": [{\"colorbar\": {\"outlinewidth\": 0, \"ticks\": \"\"}, \"colorscale\": [[0.0, \"#0d0887\"], [0.1111111111111111, \"#46039f\"], [0.2222222222222222, \"#7201a8\"], [0.3333333333333333, \"#9c179e\"], [0.4444444444444444, \"#bd3786\"], [0.5555555555555556, \"#d8576b\"], [0.6666666666666666, \"#ed7953\"], [0.7777777777777778, \"#fb9f3a\"], [0.8888888888888888, \"#fdca26\"], [1.0, \"#f0f921\"]], \"type\": \"heatmapgl\"}], \"histogram\": [{\"marker\": {\"colorbar\": {\"outlinewidth\": 0, \"ticks\": \"\"}}, \"type\": \"histogram\"}], \"histogram2d\": [{\"colorbar\": {\"outlinewidth\": 0, \"ticks\": \"\"}, \"colorscale\": [[0.0, \"#0d0887\"], [0.1111111111111111, \"#46039f\"], [0.2222222222222222, \"#7201a8\"], [0.3333333333333333, \"#9c179e\"], [0.4444444444444444, \"#bd3786\"], [0.5555555555555556, \"#d8576b\"], [0.6666666666666666, \"#ed7953\"], [0.7777777777777778, \"#fb9f3a\"], [0.8888888888888888, \"#fdca26\"], [1.0, \"#f0f921\"]], \"type\": \"histogram2d\"}], \"histogram2dcontour\": [{\"colorbar\": {\"outlinewidth\": 0, \"ticks\": \"\"}, \"colorscale\": [[0.0, \"#0d0887\"], [0.1111111111111111, \"#46039f\"], [0.2222222222222222, \"#7201a8\"], [0.3333333333333333, \"#9c179e\"], [0.4444444444444444, \"#bd3786\"], [0.5555555555555556, \"#d8576b\"], [0.6666666666666666, \"#ed7953\"], [0.7777777777777778, \"#fb9f3a\"], [0.8888888888888888, \"#fdca26\"], [1.0, \"#f0f921\"]], \"type\": \"histogram2dcontour\"}], \"mesh3d\": [{\"colorbar\": {\"outlinewidth\": 0, \"ticks\": \"\"}, \"type\": \"mesh3d\"}], \"parcoords\": [{\"line\": {\"colorbar\": {\"outlinewidth\": 0, \"ticks\": \"\"}}, \"type\": \"parcoords\"}], \"pie\": [{\"automargin\": true, \"type\": \"pie\"}], \"scatter\": [{\"marker\": {\"colorbar\": {\"outlinewidth\": 0, \"ticks\": \"\"}}, \"type\": \"scatter\"}], \"scatter3d\": [{\"line\": {\"colorbar\": {\"outlinewidth\": 0, \"ticks\": \"\"}}, \"marker\": {\"colorbar\": {\"outlinewidth\": 0, \"ticks\": \"\"}}, \"type\": \"scatter3d\"}], \"scattercarpet\": [{\"marker\": {\"colorbar\": {\"outlinewidth\": 0, \"ticks\": \"\"}}, \"type\": \"scattercarpet\"}], \"scattergeo\": [{\"marker\": {\"colorbar\": {\"outlinewidth\": 0, \"ticks\": \"\"}}, \"type\": \"scattergeo\"}], \"scattergl\": [{\"marker\": {\"colorbar\": {\"outlinewidth\": 0, \"ticks\": \"\"}}, \"type\": \"scattergl\"}], \"scattermapbox\": [{\"marker\": {\"colorbar\": {\"outlinewidth\": 0, \"ticks\": \"\"}}, \"type\": \"scattermapbox\"}], \"scatterpolar\": [{\"marker\": {\"colorbar\": {\"outlinewidth\": 0, \"ticks\": \"\"}}, \"type\": \"scatterpolar\"}], \"scatterpolargl\": [{\"marker\": {\"colorbar\": {\"outlinewidth\": 0, \"ticks\": \"\"}}, \"type\": \"scatterpolargl\"}], \"scatterternary\": [{\"marker\": {\"colorbar\": {\"outlinewidth\": 0, \"ticks\": \"\"}}, \"type\": \"scatterternary\"}], \"surface\": [{\"colorbar\": {\"outlinewidth\": 0, \"ticks\": \"\"}, \"colorscale\": [[0.0, \"#0d0887\"], [0.1111111111111111, \"#46039f\"], [0.2222222222222222, \"#7201a8\"], [0.3333333333333333, \"#9c179e\"], [0.4444444444444444, \"#bd3786\"], [0.5555555555555556, \"#d8576b\"], [0.6666666666666666, \"#ed7953\"], [0.7777777777777778, \"#fb9f3a\"], [0.8888888888888888, \"#fdca26\"], [1.0, \"#f0f921\"]], \"type\": \"surface\"}], \"table\": [{\"cells\": {\"fill\": {\"color\": \"#EBF0F8\"}, \"line\": {\"color\": \"white\"}}, \"header\": {\"fill\": {\"color\": \"#C8D4E3\"}, \"line\": {\"color\": \"white\"}}, \"type\": \"table\"}]}, \"layout\": {\"annotationdefaults\": {\"arrowcolor\": \"#2a3f5f\", \"arrowhead\": 0, \"arrowwidth\": 1}, \"coloraxis\": {\"colorbar\": {\"outlinewidth\": 0, \"ticks\": \"\"}}, \"colorscale\": {\"diverging\": [[0, \"#8e0152\"], [0.1, \"#c51b7d\"], [0.2, \"#de77ae\"], [0.3, \"#f1b6da\"], [0.4, \"#fde0ef\"], [0.5, \"#f7f7f7\"], [0.6, \"#e6f5d0\"], [0.7, \"#b8e186\"], [0.8, \"#7fbc41\"], [0.9, \"#4d9221\"], [1, \"#276419\"]], \"sequential\": [[0.0, \"#0d0887\"], [0.1111111111111111, \"#46039f\"], [0.2222222222222222, \"#7201a8\"], [0.3333333333333333, \"#9c179e\"], [0.4444444444444444, \"#bd3786\"], [0.5555555555555556, \"#d8576b\"], [0.6666666666666666, \"#ed7953\"], [0.7777777777777778, \"#fb9f3a\"], [0.8888888888888888, \"#fdca26\"], [1.0, \"#f0f921\"]], \"sequentialminus\": [[0.0, \"#0d0887\"], [0.1111111111111111, \"#46039f\"], [0.2222222222222222, \"#7201a8\"], [0.3333333333333333, \"#9c179e\"], [0.4444444444444444, \"#bd3786\"], [0.5555555555555556, \"#d8576b\"], [0.6666666666666666, \"#ed7953\"], [0.7777777777777778, \"#fb9f3a\"], [0.8888888888888888, \"#fdca26\"], [1.0, \"#f0f921\"]]}, \"colorway\": [\"#636efa\", \"#EF553B\", \"#00cc96\", \"#ab63fa\", \"#FFA15A\", \"#19d3f3\", \"#FF6692\", \"#B6E880\", \"#FF97FF\", \"#FECB52\"], \"font\": {\"color\": \"#2a3f5f\"}, \"geo\": {\"bgcolor\": \"white\", \"lakecolor\": \"white\", \"landcolor\": \"#E5ECF6\", \"showlakes\": true, \"showland\": true, \"subunitcolor\": \"white\"}, \"hoverlabel\": {\"align\": \"left\"}, \"hovermode\": \"closest\", \"mapbox\": {\"style\": \"light\"}, \"paper_bgcolor\": \"white\", \"plot_bgcolor\": \"#E5ECF6\", \"polar\": {\"angularaxis\": {\"gridcolor\": \"white\", \"linecolor\": \"white\", \"ticks\": \"\"}, \"bgcolor\": \"#E5ECF6\", \"radialaxis\": {\"gridcolor\": \"white\", \"linecolor\": \"white\", \"ticks\": \"\"}}, \"scene\": {\"xaxis\": {\"backgroundcolor\": \"#E5ECF6\", \"gridcolor\": \"white\", \"gridwidth\": 2, \"linecolor\": \"white\", \"showbackground\": true, \"ticks\": \"\", \"zerolinecolor\": \"white\"}, \"yaxis\": {\"backgroundcolor\": \"#E5ECF6\", \"gridcolor\": \"white\", \"gridwidth\": 2, \"linecolor\": \"white\", \"showbackground\": true, \"ticks\": \"\", \"zerolinecolor\": \"white\"}, \"zaxis\": {\"backgroundcolor\": \"#E5ECF6\", \"gridcolor\": \"white\", \"gridwidth\": 2, \"linecolor\": \"white\", \"showbackground\": true, \"ticks\": \"\", \"zerolinecolor\": \"white\"}}, \"shapedefaults\": {\"line\": {\"color\": \"#2a3f5f\"}}, \"ternary\": {\"aaxis\": {\"gridcolor\": \"white\", \"linecolor\": \"white\", \"ticks\": \"\"}, \"baxis\": {\"gridcolor\": \"white\", \"linecolor\": \"white\", \"ticks\": \"\"}, \"bgcolor\": \"#E5ECF6\", \"caxis\": {\"gridcolor\": \"white\", \"linecolor\": \"white\", \"ticks\": \"\"}}, \"title\": {\"x\": 0.05}, \"xaxis\": {\"automargin\": true, \"gridcolor\": \"white\", \"linecolor\": \"white\", \"ticks\": \"\", \"title\": {\"standoff\": 15}, \"zerolinecolor\": \"white\", \"zerolinewidth\": 2}, \"yaxis\": {\"automargin\": true, \"gridcolor\": \"white\", \"linecolor\": \"white\", \"ticks\": \"\", \"title\": {\"standoff\": 15}, \"zerolinecolor\": \"white\", \"zerolinewidth\": 2}}}, \"title\": {\"text\": \"Demand forecast for SKU=40369, Store=355\"}, \"xaxis\": {\"title\": {\"text\": \"Date\"}}, \"yaxis\": {\"title\": {\"text\": \"Demand\"}}},\n",
              "                        {\"responsive\": true}\n",
              "                    ).then(function(){\n",
              "                            \n",
              "var gd = document.getElementById('43e5e25f-53e8-452c-8de2-b2edf6c0d635');\n",
              "var x = new MutationObserver(function (mutations, observer) {{\n",
              "        var display = window.getComputedStyle(gd).display;\n",
              "        if (!display || display === 'none') {{\n",
              "            console.log([gd, 'removed!']);\n",
              "            Plotly.purge(gd);\n",
              "            observer.disconnect();\n",
              "        }}\n",
              "}});\n",
              "\n",
              "// Listen for the removal of the full notebook cells\n",
              "var notebookContainer = gd.closest('#notebook-container');\n",
              "if (notebookContainer) {{\n",
              "    x.observe(notebookContainer, {childList: true});\n",
              "}}\n",
              "\n",
              "// Listen for the clearing of the current output cell\n",
              "var outputEl = gd.closest('.output');\n",
              "if (outputEl) {{\n",
              "    x.observe(outputEl, {childList: true});\n",
              "}}\n",
              "\n",
              "                        })\n",
              "                };\n",
              "                \n",
              "            </script>\n",
              "        </div>\n",
              "</body>\n",
              "</html>"
            ]
          },
          "metadata": {
            "tags": []
          }
        },
        {
          "output_type": "display_data",
          "data": {
            "text/html": [
              "<html>\n",
              "<head><meta charset=\"utf-8\" /></head>\n",
              "<body>\n",
              "    <div>\n",
              "            <script src=\"https://cdnjs.cloudflare.com/ajax/libs/mathjax/2.7.5/MathJax.js?config=TeX-AMS-MML_SVG\"></script><script type=\"text/javascript\">if (window.MathJax) {MathJax.Hub.Config({SVG: {font: \"STIX-Web\"}});}</script>\n",
              "                <script type=\"text/javascript\">window.PlotlyConfig = {MathJaxConfig: 'local'};</script>\n",
              "        <script src=\"https://cdn.plot.ly/plotly-latest.min.js\"></script>    \n",
              "            <div id=\"9df3108c-8756-40d0-8f9b-03bc5cc4e213\" class=\"plotly-graph-div\" style=\"height:525px; width:100%;\"></div>\n",
              "            <script type=\"text/javascript\">\n",
              "                \n",
              "                    window.PLOTLYENV=window.PLOTLYENV || {};\n",
              "                    \n",
              "                if (document.getElementById(\"9df3108c-8756-40d0-8f9b-03bc5cc4e213\")) {\n",
              "                    Plotly.newPlot(\n",
              "                        '9df3108c-8756-40d0-8f9b-03bc5cc4e213',\n",
              "                        [{\"line\": {\"color\": \"royalblue\", \"width\": 1.5}, \"name\": \"History\", \"type\": \"scatter\", \"x\": [\"2016-12-19T00:00:00\", \"2016-12-26T00:00:00\", \"2017-01-02T00:00:00\", \"2017-01-09T00:00:00\", \"2017-01-16T00:00:00\", \"2017-01-23T00:00:00\", \"2017-01-30T00:00:00\", \"2017-02-06T00:00:00\", \"2017-02-13T00:00:00\", \"2017-02-20T00:00:00\", \"2017-02-27T00:00:00\", \"2017-03-06T00:00:00\", \"2017-03-13T00:00:00\", \"2017-03-20T00:00:00\", \"2017-03-27T00:00:00\", \"2017-04-03T00:00:00\", \"2017-04-10T00:00:00\", \"2017-04-17T00:00:00\", \"2017-04-24T00:00:00\", \"2017-05-01T00:00:00\", \"2017-05-08T00:00:00\", \"2017-05-15T00:00:00\", \"2017-05-22T00:00:00\", \"2017-05-29T00:00:00\", \"2017-06-05T00:00:00\", \"2017-06-12T00:00:00\", \"2017-06-19T00:00:00\", \"2017-06-26T00:00:00\", \"2017-07-03T00:00:00\", \"2017-07-10T00:00:00\", \"2017-07-17T00:00:00\", \"2017-07-24T00:00:00\", \"2017-07-31T00:00:00\", \"2017-08-07T00:00:00\", \"2017-08-14T00:00:00\", \"2017-08-21T00:00:00\", \"2017-08-28T00:00:00\", \"2017-09-04T00:00:00\", \"2017-09-11T00:00:00\", \"2017-09-18T00:00:00\", \"2017-09-25T00:00:00\", \"2017-10-02T00:00:00\", \"2017-10-09T00:00:00\", \"2017-10-16T00:00:00\", \"2017-10-23T00:00:00\", \"2017-10-30T00:00:00\", \"2017-11-06T00:00:00\", \"2017-11-13T00:00:00\", \"2017-11-20T00:00:00\", \"2017-11-27T00:00:00\", \"2017-12-04T00:00:00\", \"2017-12-11T00:00:00\", \"2017-12-18T00:00:00\", \"2017-12-25T00:00:00\", \"2018-01-01T00:00:00\", \"2018-01-08T00:00:00\", \"2018-01-15T00:00:00\", \"2018-01-22T00:00:00\", \"2018-01-29T00:00:00\", \"2018-02-05T00:00:00\", \"2018-02-12T00:00:00\", \"2018-02-19T00:00:00\", \"2018-02-26T00:00:00\", \"2018-03-05T00:00:00\", \"2018-03-12T00:00:00\", \"2018-03-19T00:00:00\", \"2018-03-26T00:00:00\", \"2018-04-02T00:00:00\", \"2018-04-09T00:00:00\", \"2018-04-16T00:00:00\", \"2018-04-23T00:00:00\", \"2018-04-30T00:00:00\", \"2018-05-07T00:00:00\", \"2018-05-14T00:00:00\", \"2018-05-21T00:00:00\", \"2018-05-28T00:00:00\", \"2018-06-04T00:00:00\", \"2018-06-11T00:00:00\", \"2018-06-18T00:00:00\", \"2018-06-25T00:00:00\"], \"y\": [62.0, 51.84153, 18.0, 10.0, 8.0, 12.0, 11.0, 22.0, 21.0, 35.0, 302.0, 17.0, 9.0, 11.0, 9.0, 6.0, 17.0, 5.0, 11.0, 8.0, 11.0, 17.0, 9.0, 13.0, 13.0, 10.0, 12.0, 22.0, 22.0, 19.0, 21.0, 9.0, 7.0, 12.0, 15.0, 16.0, 12.0, 20.0, 13.0, 24.0, 44.0, 17.0, 19.0, 20.0, 11.0, 12.0, 15.0, 19.0, 17.0, 6.0, 11.0, 29.0, 88.0, 87.333333, 3.0, 18.0, 9.0, 12.0, 5.0, 10.0, 22.0, 28.0, 268.0, 27.0, 8.0, 13.0, 9.0, 27.0, 6.0, 4.0, 11.0, 11.0, 19.0, 18.0, 26.0, 9.0, 1.0, 16.0, 17.0, 9.0]}, {\"line\": {\"color\": \"red\", \"width\": 1.5}, \"name\": \"True\", \"type\": \"scatter\", \"x\": [\"2018-07-02T00:00:00\", \"2018-07-09T00:00:00\", \"2018-07-16T00:00:00\", \"2018-07-23T00:00:00\", \"2018-07-30T00:00:00\", \"2018-08-06T00:00:00\", \"2018-08-13T00:00:00\", \"2018-08-20T00:00:00\", \"2018-08-27T00:00:00\", \"2018-09-03T00:00:00\", \"2018-09-10T00:00:00\", \"2018-09-17T00:00:00\"], \"y\": [10.0, 9.0, 6.0, 1.0, 6.0, 13.0, 4.0, 18.0, 8.0, 3.0, 13.0, 9.0]}, {\"marker\": {\"color\": \"orange\"}, \"mode\": \"markers\", \"name\": \"Predictions\", \"type\": \"scatter\", \"x\": [\"2018-07-02T00:00:00\", \"2018-07-09T00:00:00\", \"2018-07-16T00:00:00\", \"2018-07-23T00:00:00\", \"2018-07-30T00:00:00\", \"2018-08-06T00:00:00\", \"2018-08-13T00:00:00\", \"2018-08-20T00:00:00\", \"2018-08-27T00:00:00\", \"2018-09-03T00:00:00\", \"2018-09-10T00:00:00\", \"2018-09-17T00:00:00\"], \"y\": [-0.0007793083786964417, 0.00045261718332767487, -0.001212066039443016, 0.000739523209631443, 0.0007925257086753845, 0.0012100264430046082, 0.001036517322063446, -0.0007964372634887695, 0.0004439428448677063, -0.000756576657295227, -0.0005906224250793457, 0.0006683021783828735]}],\n",
              "                        {\"font\": {\"color\": \"#7f7f7f\", \"family\": \"Courier New, monospace\", \"size\": 14}, \"template\": {\"data\": {\"bar\": [{\"error_x\": {\"color\": \"#2a3f5f\"}, \"error_y\": {\"color\": \"#2a3f5f\"}, \"marker\": {\"line\": {\"color\": \"#E5ECF6\", \"width\": 0.5}}, \"type\": \"bar\"}], \"barpolar\": [{\"marker\": {\"line\": {\"color\": \"#E5ECF6\", \"width\": 0.5}}, \"type\": \"barpolar\"}], \"carpet\": [{\"aaxis\": {\"endlinecolor\": \"#2a3f5f\", \"gridcolor\": \"white\", \"linecolor\": \"white\", \"minorgridcolor\": \"white\", \"startlinecolor\": \"#2a3f5f\"}, \"baxis\": {\"endlinecolor\": \"#2a3f5f\", \"gridcolor\": \"white\", \"linecolor\": \"white\", \"minorgridcolor\": \"white\", \"startlinecolor\": \"#2a3f5f\"}, \"type\": \"carpet\"}], \"choropleth\": [{\"colorbar\": {\"outlinewidth\": 0, \"ticks\": \"\"}, \"type\": \"choropleth\"}], \"contour\": [{\"colorbar\": {\"outlinewidth\": 0, \"ticks\": \"\"}, \"colorscale\": [[0.0, \"#0d0887\"], [0.1111111111111111, \"#46039f\"], [0.2222222222222222, \"#7201a8\"], [0.3333333333333333, \"#9c179e\"], [0.4444444444444444, \"#bd3786\"], [0.5555555555555556, \"#d8576b\"], [0.6666666666666666, \"#ed7953\"], [0.7777777777777778, \"#fb9f3a\"], [0.8888888888888888, \"#fdca26\"], [1.0, \"#f0f921\"]], \"type\": \"contour\"}], \"contourcarpet\": [{\"colorbar\": {\"outlinewidth\": 0, \"ticks\": \"\"}, \"type\": \"contourcarpet\"}], \"heatmap\": [{\"colorbar\": {\"outlinewidth\": 0, \"ticks\": \"\"}, \"colorscale\": [[0.0, \"#0d0887\"], [0.1111111111111111, \"#46039f\"], [0.2222222222222222, \"#7201a8\"], [0.3333333333333333, \"#9c179e\"], [0.4444444444444444, \"#bd3786\"], [0.5555555555555556, \"#d8576b\"], [0.6666666666666666, \"#ed7953\"], [0.7777777777777778, \"#fb9f3a\"], [0.8888888888888888, \"#fdca26\"], [1.0, \"#f0f921\"]], \"type\": \"heatmap\"}], \"heatmapgl\": [{\"colorbar\": {\"outlinewidth\": 0, \"ticks\": \"\"}, \"colorscale\": [[0.0, \"#0d0887\"], [0.1111111111111111, \"#46039f\"], [0.2222222222222222, \"#7201a8\"], [0.3333333333333333, \"#9c179e\"], [0.4444444444444444, \"#bd3786\"], [0.5555555555555556, \"#d8576b\"], [0.6666666666666666, \"#ed7953\"], [0.7777777777777778, \"#fb9f3a\"], [0.8888888888888888, \"#fdca26\"], [1.0, \"#f0f921\"]], \"type\": \"heatmapgl\"}], \"histogram\": [{\"marker\": {\"colorbar\": {\"outlinewidth\": 0, \"ticks\": \"\"}}, \"type\": \"histogram\"}], \"histogram2d\": [{\"colorbar\": {\"outlinewidth\": 0, \"ticks\": \"\"}, \"colorscale\": [[0.0, \"#0d0887\"], [0.1111111111111111, \"#46039f\"], [0.2222222222222222, \"#7201a8\"], [0.3333333333333333, \"#9c179e\"], [0.4444444444444444, \"#bd3786\"], [0.5555555555555556, \"#d8576b\"], [0.6666666666666666, \"#ed7953\"], [0.7777777777777778, \"#fb9f3a\"], [0.8888888888888888, \"#fdca26\"], [1.0, \"#f0f921\"]], \"type\": \"histogram2d\"}], \"histogram2dcontour\": [{\"colorbar\": {\"outlinewidth\": 0, \"ticks\": \"\"}, \"colorscale\": [[0.0, \"#0d0887\"], [0.1111111111111111, \"#46039f\"], [0.2222222222222222, \"#7201a8\"], [0.3333333333333333, \"#9c179e\"], [0.4444444444444444, \"#bd3786\"], [0.5555555555555556, \"#d8576b\"], [0.6666666666666666, \"#ed7953\"], [0.7777777777777778, \"#fb9f3a\"], [0.8888888888888888, \"#fdca26\"], [1.0, \"#f0f921\"]], \"type\": \"histogram2dcontour\"}], \"mesh3d\": [{\"colorbar\": {\"outlinewidth\": 0, \"ticks\": \"\"}, \"type\": \"mesh3d\"}], \"parcoords\": [{\"line\": {\"colorbar\": {\"outlinewidth\": 0, \"ticks\": \"\"}}, \"type\": \"parcoords\"}], \"pie\": [{\"automargin\": true, \"type\": \"pie\"}], \"scatter\": [{\"marker\": {\"colorbar\": {\"outlinewidth\": 0, \"ticks\": \"\"}}, \"type\": \"scatter\"}], \"scatter3d\": [{\"line\": {\"colorbar\": {\"outlinewidth\": 0, \"ticks\": \"\"}}, \"marker\": {\"colorbar\": {\"outlinewidth\": 0, \"ticks\": \"\"}}, \"type\": \"scatter3d\"}], \"scattercarpet\": [{\"marker\": {\"colorbar\": {\"outlinewidth\": 0, \"ticks\": \"\"}}, \"type\": \"scattercarpet\"}], \"scattergeo\": [{\"marker\": {\"colorbar\": {\"outlinewidth\": 0, \"ticks\": \"\"}}, \"type\": \"scattergeo\"}], \"scattergl\": [{\"marker\": {\"colorbar\": {\"outlinewidth\": 0, \"ticks\": \"\"}}, \"type\": \"scattergl\"}], \"scattermapbox\": [{\"marker\": {\"colorbar\": {\"outlinewidth\": 0, \"ticks\": \"\"}}, \"type\": \"scattermapbox\"}], \"scatterpolar\": [{\"marker\": {\"colorbar\": {\"outlinewidth\": 0, \"ticks\": \"\"}}, \"type\": \"scatterpolar\"}], \"scatterpolargl\": [{\"marker\": {\"colorbar\": {\"outlinewidth\": 0, \"ticks\": \"\"}}, \"type\": \"scatterpolargl\"}], \"scatterternary\": [{\"marker\": {\"colorbar\": {\"outlinewidth\": 0, \"ticks\": \"\"}}, \"type\": \"scatterternary\"}], \"surface\": [{\"colorbar\": {\"outlinewidth\": 0, \"ticks\": \"\"}, \"colorscale\": [[0.0, \"#0d0887\"], [0.1111111111111111, \"#46039f\"], [0.2222222222222222, \"#7201a8\"], [0.3333333333333333, \"#9c179e\"], [0.4444444444444444, \"#bd3786\"], [0.5555555555555556, \"#d8576b\"], [0.6666666666666666, \"#ed7953\"], [0.7777777777777778, \"#fb9f3a\"], [0.8888888888888888, \"#fdca26\"], [1.0, \"#f0f921\"]], \"type\": \"surface\"}], \"table\": [{\"cells\": {\"fill\": {\"color\": \"#EBF0F8\"}, \"line\": {\"color\": \"white\"}}, \"header\": {\"fill\": {\"color\": \"#C8D4E3\"}, \"line\": {\"color\": \"white\"}}, \"type\": \"table\"}]}, \"layout\": {\"annotationdefaults\": {\"arrowcolor\": \"#2a3f5f\", \"arrowhead\": 0, \"arrowwidth\": 1}, \"coloraxis\": {\"colorbar\": {\"outlinewidth\": 0, \"ticks\": \"\"}}, \"colorscale\": {\"diverging\": [[0, \"#8e0152\"], [0.1, \"#c51b7d\"], [0.2, \"#de77ae\"], [0.3, \"#f1b6da\"], [0.4, \"#fde0ef\"], [0.5, \"#f7f7f7\"], [0.6, \"#e6f5d0\"], [0.7, \"#b8e186\"], [0.8, \"#7fbc41\"], [0.9, \"#4d9221\"], [1, \"#276419\"]], \"sequential\": [[0.0, \"#0d0887\"], [0.1111111111111111, \"#46039f\"], [0.2222222222222222, \"#7201a8\"], [0.3333333333333333, \"#9c179e\"], [0.4444444444444444, \"#bd3786\"], [0.5555555555555556, \"#d8576b\"], [0.6666666666666666, \"#ed7953\"], [0.7777777777777778, \"#fb9f3a\"], [0.8888888888888888, \"#fdca26\"], [1.0, \"#f0f921\"]], \"sequentialminus\": [[0.0, \"#0d0887\"], [0.1111111111111111, \"#46039f\"], [0.2222222222222222, \"#7201a8\"], [0.3333333333333333, \"#9c179e\"], [0.4444444444444444, \"#bd3786\"], [0.5555555555555556, \"#d8576b\"], [0.6666666666666666, \"#ed7953\"], [0.7777777777777778, \"#fb9f3a\"], [0.8888888888888888, \"#fdca26\"], [1.0, \"#f0f921\"]]}, \"colorway\": [\"#636efa\", \"#EF553B\", \"#00cc96\", \"#ab63fa\", \"#FFA15A\", \"#19d3f3\", \"#FF6692\", \"#B6E880\", \"#FF97FF\", \"#FECB52\"], \"font\": {\"color\": \"#2a3f5f\"}, \"geo\": {\"bgcolor\": \"white\", \"lakecolor\": \"white\", \"landcolor\": \"#E5ECF6\", \"showlakes\": true, \"showland\": true, \"subunitcolor\": \"white\"}, \"hoverlabel\": {\"align\": \"left\"}, \"hovermode\": \"closest\", \"mapbox\": {\"style\": \"light\"}, \"paper_bgcolor\": \"white\", \"plot_bgcolor\": \"#E5ECF6\", \"polar\": {\"angularaxis\": {\"gridcolor\": \"white\", \"linecolor\": \"white\", \"ticks\": \"\"}, \"bgcolor\": \"#E5ECF6\", \"radialaxis\": {\"gridcolor\": \"white\", \"linecolor\": \"white\", \"ticks\": \"\"}}, \"scene\": {\"xaxis\": {\"backgroundcolor\": \"#E5ECF6\", \"gridcolor\": \"white\", \"gridwidth\": 2, \"linecolor\": \"white\", \"showbackground\": true, \"ticks\": \"\", \"zerolinecolor\": \"white\"}, \"yaxis\": {\"backgroundcolor\": \"#E5ECF6\", \"gridcolor\": \"white\", \"gridwidth\": 2, \"linecolor\": \"white\", \"showbackground\": true, \"ticks\": \"\", \"zerolinecolor\": \"white\"}, \"zaxis\": {\"backgroundcolor\": \"#E5ECF6\", \"gridcolor\": \"white\", \"gridwidth\": 2, \"linecolor\": \"white\", \"showbackground\": true, \"ticks\": \"\", \"zerolinecolor\": \"white\"}}, \"shapedefaults\": {\"line\": {\"color\": \"#2a3f5f\"}}, \"ternary\": {\"aaxis\": {\"gridcolor\": \"white\", \"linecolor\": \"white\", \"ticks\": \"\"}, \"baxis\": {\"gridcolor\": \"white\", \"linecolor\": \"white\", \"ticks\": \"\"}, \"bgcolor\": \"#E5ECF6\", \"caxis\": {\"gridcolor\": \"white\", \"linecolor\": \"white\", \"ticks\": \"\"}}, \"title\": {\"x\": 0.05}, \"xaxis\": {\"automargin\": true, \"gridcolor\": \"white\", \"linecolor\": \"white\", \"ticks\": \"\", \"title\": {\"standoff\": 15}, \"zerolinecolor\": \"white\", \"zerolinewidth\": 2}, \"yaxis\": {\"automargin\": true, \"gridcolor\": \"white\", \"linecolor\": \"white\", \"ticks\": \"\", \"title\": {\"standoff\": 15}, \"zerolinecolor\": \"white\", \"zerolinewidth\": 2}}}, \"title\": {\"text\": \"Demand forecast for SKU=40370, Store=1079\"}, \"xaxis\": {\"title\": {\"text\": \"Date\"}}, \"yaxis\": {\"title\": {\"text\": \"Demand\"}}},\n",
              "                        {\"responsive\": true}\n",
              "                    ).then(function(){\n",
              "                            \n",
              "var gd = document.getElementById('9df3108c-8756-40d0-8f9b-03bc5cc4e213');\n",
              "var x = new MutationObserver(function (mutations, observer) {{\n",
              "        var display = window.getComputedStyle(gd).display;\n",
              "        if (!display || display === 'none') {{\n",
              "            console.log([gd, 'removed!']);\n",
              "            Plotly.purge(gd);\n",
              "            observer.disconnect();\n",
              "        }}\n",
              "}});\n",
              "\n",
              "// Listen for the removal of the full notebook cells\n",
              "var notebookContainer = gd.closest('#notebook-container');\n",
              "if (notebookContainer) {{\n",
              "    x.observe(notebookContainer, {childList: true});\n",
              "}}\n",
              "\n",
              "// Listen for the clearing of the current output cell\n",
              "var outputEl = gd.closest('.output');\n",
              "if (outputEl) {{\n",
              "    x.observe(outputEl, {childList: true});\n",
              "}}\n",
              "\n",
              "                        })\n",
              "                };\n",
              "                \n",
              "            </script>\n",
              "        </div>\n",
              "</body>\n",
              "</html>"
            ]
          },
          "metadata": {
            "tags": []
          }
        }
      ]
    },
    {
      "cell_type": "markdown",
      "metadata": {
        "id": "Cp8ZK7QMhqUY",
        "colab_type": "text"
      },
      "source": [
        "## **LSTM with Attention**"
      ]
    },
    {
      "cell_type": "code",
      "metadata": {
        "id": "6BZ25Bu-JwvO",
        "colab_type": "code",
        "colab": {
          "base_uri": "https://localhost:8080/",
          "height": 559
        },
        "outputId": "918af954-256b-4020-d1e3-b72b2a20d548"
      },
      "source": [
        "x[:, 0][0:5].reshape(1,5,11)\n",
        "x_sample, y_sample = make_ds(new_df[-1], target_size=12)\n",
        "print(x_sample.shape)\n",
        "pred_sample = model_attention.predict(x_sample[4].reshape(1,5,11))\n",
        "timeseries_graph(x_sample[:, 1, 2], y_sample[-1], pred_sample.reshape(12,))"
      ],
      "execution_count": null,
      "outputs": [
        {
          "output_type": "stream",
          "text": [
            "(143, 5, 11)\n"
          ],
          "name": "stdout"
        },
        {
          "output_type": "display_data",
          "data": {
            "text/html": [
              "<html>\n",
              "<head><meta charset=\"utf-8\" /></head>\n",
              "<body>\n",
              "    <div>\n",
              "            <script src=\"https://cdnjs.cloudflare.com/ajax/libs/mathjax/2.7.5/MathJax.js?config=TeX-AMS-MML_SVG\"></script><script type=\"text/javascript\">if (window.MathJax) {MathJax.Hub.Config({SVG: {font: \"STIX-Web\"}});}</script>\n",
              "                <script type=\"text/javascript\">window.PlotlyConfig = {MathJaxConfig: 'local'};</script>\n",
              "        <script src=\"https://cdn.plot.ly/plotly-latest.min.js\"></script>    \n",
              "            <div id=\"3c4ae7b8-8dbe-4eb6-aa28-9767298b614c\" class=\"plotly-graph-div\" style=\"height:525px; width:100%;\"></div>\n",
              "            <script type=\"text/javascript\">\n",
              "                \n",
              "                    window.PLOTLYENV=window.PLOTLYENV || {};\n",
              "                    \n",
              "                if (document.getElementById(\"3c4ae7b8-8dbe-4eb6-aa28-9767298b614c\")) {\n",
              "                    Plotly.newPlot(\n",
              "                        '3c4ae7b8-8dbe-4eb6-aa28-9767298b614c',\n",
              "                        [{\"line\": {\"color\": \"royalblue\", \"width\": 1.5}, \"name\": \"History\", \"type\": \"scatter\", \"x\": [\"2017-01-23T00:00:00\", \"2017-01-30T00:00:00\", \"2017-02-06T00:00:00\", \"2017-02-13T00:00:00\", \"2017-02-20T00:00:00\", \"2017-02-27T00:00:00\", \"2017-03-06T00:00:00\", \"2017-03-13T00:00:00\", \"2017-03-20T00:00:00\", \"2017-03-27T00:00:00\", \"2017-04-03T00:00:00\", \"2017-04-10T00:00:00\", \"2017-04-17T00:00:00\", \"2017-04-24T00:00:00\", \"2017-05-01T00:00:00\", \"2017-05-08T00:00:00\", \"2017-05-15T00:00:00\", \"2017-05-22T00:00:00\", \"2017-05-29T00:00:00\", \"2017-06-05T00:00:00\", \"2017-06-12T00:00:00\", \"2017-06-19T00:00:00\", \"2017-06-26T00:00:00\", \"2017-07-03T00:00:00\", \"2017-07-10T00:00:00\", \"2017-07-17T00:00:00\", \"2017-07-24T00:00:00\", \"2017-07-31T00:00:00\", \"2017-08-07T00:00:00\", \"2017-08-14T00:00:00\", \"2017-08-21T00:00:00\", \"2017-08-28T00:00:00\", \"2017-09-04T00:00:00\", \"2017-09-11T00:00:00\", \"2017-09-18T00:00:00\", \"2017-09-25T00:00:00\", \"2017-10-02T00:00:00\", \"2017-10-09T00:00:00\", \"2017-10-16T00:00:00\", \"2017-10-23T00:00:00\", \"2017-10-30T00:00:00\", \"2017-11-06T00:00:00\", \"2017-11-13T00:00:00\", \"2017-11-20T00:00:00\", \"2017-11-27T00:00:00\", \"2017-12-04T00:00:00\", \"2017-12-11T00:00:00\", \"2017-12-18T00:00:00\", \"2017-12-25T00:00:00\", \"2018-01-01T00:00:00\", \"2018-01-08T00:00:00\", \"2018-01-15T00:00:00\", \"2018-01-22T00:00:00\", \"2018-01-29T00:00:00\", \"2018-02-05T00:00:00\", \"2018-02-12T00:00:00\", \"2018-02-19T00:00:00\", \"2018-02-26T00:00:00\", \"2018-03-05T00:00:00\", \"2018-03-12T00:00:00\", \"2018-03-19T00:00:00\", \"2018-03-26T00:00:00\", \"2018-04-02T00:00:00\", \"2018-04-09T00:00:00\", \"2018-04-16T00:00:00\", \"2018-04-23T00:00:00\", \"2018-04-30T00:00:00\", \"2018-05-07T00:00:00\", \"2018-05-14T00:00:00\", \"2018-05-21T00:00:00\", \"2018-05-28T00:00:00\", \"2018-06-04T00:00:00\", \"2018-06-11T00:00:00\", \"2018-06-18T00:00:00\", \"2018-06-25T00:00:00\", \"2018-07-02T00:00:00\", \"2018-07-09T00:00:00\", \"2018-07-16T00:00:00\", \"2018-07-23T00:00:00\", \"2018-07-30T00:00:00\", \"2018-08-06T00:00:00\", \"2018-08-13T00:00:00\", \"2018-08-20T00:00:00\", \"2018-08-27T00:00:00\", \"2018-09-03T00:00:00\", \"2018-09-10T00:00:00\", \"2018-09-17T00:00:00\", \"2018-09-24T00:00:00\", \"2018-10-01T00:00:00\", \"2018-10-08T00:00:00\", \"2018-10-15T00:00:00\", \"2018-10-22T00:00:00\", \"2018-10-29T00:00:00\", \"2018-11-05T00:00:00\", \"2018-11-12T00:00:00\", \"2018-11-19T00:00:00\", \"2018-11-26T00:00:00\", \"2018-12-03T00:00:00\", \"2018-12-10T00:00:00\", \"2018-12-17T00:00:00\", \"2018-12-24T00:00:00\", \"2018-12-31T00:00:00\", \"2019-01-07T00:00:00\", \"2019-01-14T00:00:00\", \"2019-01-21T00:00:00\", \"2019-01-28T00:00:00\", \"2019-02-04T00:00:00\", \"2019-02-11T00:00:00\", \"2019-02-18T00:00:00\", \"2019-02-25T00:00:00\", \"2019-03-04T00:00:00\", \"2019-03-11T00:00:00\", \"2019-03-18T00:00:00\", \"2019-03-25T00:00:00\", \"2019-04-01T00:00:00\", \"2019-04-08T00:00:00\", \"2019-04-15T00:00:00\", \"2019-04-22T00:00:00\", \"2019-04-29T00:00:00\", \"2019-05-06T00:00:00\", \"2019-05-13T00:00:00\", \"2019-05-20T00:00:00\", \"2019-05-27T00:00:00\", \"2019-06-03T00:00:00\", \"2019-06-10T00:00:00\", \"2019-06-17T00:00:00\", \"2019-06-24T00:00:00\", \"2019-07-01T00:00:00\", \"2019-07-08T00:00:00\", \"2019-07-15T00:00:00\", \"2019-07-22T00:00:00\", \"2019-07-29T00:00:00\", \"2019-08-05T00:00:00\", \"2019-08-12T00:00:00\", \"2019-08-19T00:00:00\", \"2019-08-26T00:00:00\", \"2019-09-02T00:00:00\", \"2019-09-09T00:00:00\", \"2019-09-16T00:00:00\", \"2019-09-23T00:00:00\", \"2019-09-30T00:00:00\", \"2019-10-07T00:00:00\", \"2019-10-14T00:00:00\"], \"y\": [86.0, 52.7, 18.0, 11.0, 20.0, 14.0, 10.0, 2.0, 23.0, 6.0, 36.0, 10.0, 9.0, 11.0, 6.0, 11.0, 23.0, 18.0, 15.0, 1.0, 8.0, 8.0, 5.0, 9.0, 10.0, 7.0, 21.0, 9.0, 24.0, 2.0, 14.0, 7.0, 21.0, 19.0, 14.0, 14.0, 14.0, 14.0, 8.0, 7.0, 12.0, 7.0, 13.0, 2.0, 7.0, 20.0, 13.0, 14.0, 19.0, 3.0, 7.0, 16.0, 19.0, 22.5, 11.0, 2.0, 6.0, 17.0, 8.0, 5.0, 10.0, 11.0, 30.0, 17.0, 6.0, 24.0, 16.0, 6.0, 14.0, 23.0, 49.0, 10.0, 1.0, 6.0, 13.0, 1.0, 3.0, 0.0, 2.0, 5.0, 6.0, 8.0, 6.0, 0.0, 17.0, 6.0, 19.0, 13.0, 7.0, 10.0, 2.0, 4.0, 4.0, 12.0, 7.0, 9.0, 14.0, 6.0, 17.0, 13.0, 18.0, 6.0, 12.0, 11.0, 26.0, 18.4, 5.0, 15.0, 16.0, 17.0, 8.0, 4.0, 12.0, 5.0, 27.0, 19.0, 6.0, 14.0, 24.0, 6.0, 9.0, 3.0, 4.0, 0.0, 4.0, 4.0, 12.0, 8.0, 21.0, 12.0, 8.0, 1.0, 5.0, 9.0, 4.0, 3.0, 1.0, 5.0, 11.0, 3.0, 3.0, 3.0, 6.0]}, {\"line\": {\"color\": \"red\", \"width\": 1.5}, \"name\": \"True\", \"type\": \"scatter\", \"x\": [\"2019-10-21T00:00:00\", \"2019-10-28T00:00:00\", \"2019-11-04T00:00:00\", \"2019-11-11T00:00:00\", \"2019-11-18T00:00:00\", \"2019-11-25T00:00:00\", \"2019-12-02T00:00:00\", \"2019-12-09T00:00:00\", \"2019-12-16T00:00:00\", \"2019-12-23T00:00:00\", \"2019-12-30T00:00:00\", \"2020-01-06T00:00:00\"], \"y\": [0.0, 6.0, 2.0, 5.0, 3.0, 6.0, 4.0, 6.0, 8.0, 8.0, 9.0, 4.8]}, {\"marker\": {\"color\": \"orange\"}, \"mode\": \"markers\", \"name\": \"Predictions\", \"type\": \"scatter\", \"x\": [\"2019-10-21T00:00:00\", \"2019-10-28T00:00:00\", \"2019-11-04T00:00:00\", \"2019-11-11T00:00:00\", \"2019-11-18T00:00:00\", \"2019-11-25T00:00:00\", \"2019-12-02T00:00:00\", \"2019-12-09T00:00:00\", \"2019-12-16T00:00:00\", \"2019-12-23T00:00:00\", \"2019-12-30T00:00:00\", \"2020-01-06T00:00:00\"], \"y\": [0.07136309146881104, 0.056798305362463, 0.09392696619033813, 0.09040099382400513, 0.09332208335399628, 0.08890898525714874, 0.08004549145698547, 0.09579186141490936, 0.07126034051179886, 0.0785713791847229, 0.09763585776090622, 0.08197466284036636]}],\n",
              "                        {\"font\": {\"color\": \"#7f7f7f\", \"family\": \"Courier New, monospace\", \"size\": 14}, \"template\": {\"data\": {\"bar\": [{\"error_x\": {\"color\": \"#2a3f5f\"}, \"error_y\": {\"color\": \"#2a3f5f\"}, \"marker\": {\"line\": {\"color\": \"#E5ECF6\", \"width\": 0.5}}, \"type\": \"bar\"}], \"barpolar\": [{\"marker\": {\"line\": {\"color\": \"#E5ECF6\", \"width\": 0.5}}, \"type\": \"barpolar\"}], \"carpet\": [{\"aaxis\": {\"endlinecolor\": \"#2a3f5f\", \"gridcolor\": \"white\", \"linecolor\": \"white\", \"minorgridcolor\": \"white\", \"startlinecolor\": \"#2a3f5f\"}, \"baxis\": {\"endlinecolor\": \"#2a3f5f\", \"gridcolor\": \"white\", \"linecolor\": \"white\", \"minorgridcolor\": \"white\", \"startlinecolor\": \"#2a3f5f\"}, \"type\": \"carpet\"}], \"choropleth\": [{\"colorbar\": {\"outlinewidth\": 0, \"ticks\": \"\"}, \"type\": \"choropleth\"}], \"contour\": [{\"colorbar\": {\"outlinewidth\": 0, \"ticks\": \"\"}, \"colorscale\": [[0.0, \"#0d0887\"], [0.1111111111111111, \"#46039f\"], [0.2222222222222222, \"#7201a8\"], [0.3333333333333333, \"#9c179e\"], [0.4444444444444444, \"#bd3786\"], [0.5555555555555556, \"#d8576b\"], [0.6666666666666666, \"#ed7953\"], [0.7777777777777778, \"#fb9f3a\"], [0.8888888888888888, \"#fdca26\"], [1.0, \"#f0f921\"]], \"type\": \"contour\"}], \"contourcarpet\": [{\"colorbar\": {\"outlinewidth\": 0, \"ticks\": \"\"}, \"type\": \"contourcarpet\"}], \"heatmap\": [{\"colorbar\": {\"outlinewidth\": 0, \"ticks\": \"\"}, \"colorscale\": [[0.0, \"#0d0887\"], [0.1111111111111111, \"#46039f\"], [0.2222222222222222, \"#7201a8\"], [0.3333333333333333, \"#9c179e\"], [0.4444444444444444, \"#bd3786\"], [0.5555555555555556, \"#d8576b\"], [0.6666666666666666, \"#ed7953\"], [0.7777777777777778, \"#fb9f3a\"], [0.8888888888888888, \"#fdca26\"], [1.0, \"#f0f921\"]], \"type\": \"heatmap\"}], \"heatmapgl\": [{\"colorbar\": {\"outlinewidth\": 0, \"ticks\": \"\"}, \"colorscale\": [[0.0, \"#0d0887\"], [0.1111111111111111, \"#46039f\"], [0.2222222222222222, \"#7201a8\"], [0.3333333333333333, \"#9c179e\"], [0.4444444444444444, \"#bd3786\"], [0.5555555555555556, \"#d8576b\"], [0.6666666666666666, \"#ed7953\"], [0.7777777777777778, \"#fb9f3a\"], [0.8888888888888888, \"#fdca26\"], [1.0, \"#f0f921\"]], \"type\": \"heatmapgl\"}], \"histogram\": [{\"marker\": {\"colorbar\": {\"outlinewidth\": 0, \"ticks\": \"\"}}, \"type\": \"histogram\"}], \"histogram2d\": [{\"colorbar\": {\"outlinewidth\": 0, \"ticks\": \"\"}, \"colorscale\": [[0.0, \"#0d0887\"], [0.1111111111111111, \"#46039f\"], [0.2222222222222222, \"#7201a8\"], [0.3333333333333333, \"#9c179e\"], [0.4444444444444444, \"#bd3786\"], [0.5555555555555556, \"#d8576b\"], [0.6666666666666666, \"#ed7953\"], [0.7777777777777778, \"#fb9f3a\"], [0.8888888888888888, \"#fdca26\"], [1.0, \"#f0f921\"]], \"type\": \"histogram2d\"}], \"histogram2dcontour\": [{\"colorbar\": {\"outlinewidth\": 0, \"ticks\": \"\"}, \"colorscale\": [[0.0, \"#0d0887\"], [0.1111111111111111, \"#46039f\"], [0.2222222222222222, \"#7201a8\"], [0.3333333333333333, \"#9c179e\"], [0.4444444444444444, \"#bd3786\"], [0.5555555555555556, \"#d8576b\"], [0.6666666666666666, \"#ed7953\"], [0.7777777777777778, \"#fb9f3a\"], [0.8888888888888888, \"#fdca26\"], [1.0, \"#f0f921\"]], \"type\": \"histogram2dcontour\"}], \"mesh3d\": [{\"colorbar\": {\"outlinewidth\": 0, \"ticks\": \"\"}, \"type\": \"mesh3d\"}], \"parcoords\": [{\"line\": {\"colorbar\": {\"outlinewidth\": 0, \"ticks\": \"\"}}, \"type\": \"parcoords\"}], \"pie\": [{\"automargin\": true, \"type\": \"pie\"}], \"scatter\": [{\"marker\": {\"colorbar\": {\"outlinewidth\": 0, \"ticks\": \"\"}}, \"type\": \"scatter\"}], \"scatter3d\": [{\"line\": {\"colorbar\": {\"outlinewidth\": 0, \"ticks\": \"\"}}, \"marker\": {\"colorbar\": {\"outlinewidth\": 0, \"ticks\": \"\"}}, \"type\": \"scatter3d\"}], \"scattercarpet\": [{\"marker\": {\"colorbar\": {\"outlinewidth\": 0, \"ticks\": \"\"}}, \"type\": \"scattercarpet\"}], \"scattergeo\": [{\"marker\": {\"colorbar\": {\"outlinewidth\": 0, \"ticks\": \"\"}}, \"type\": \"scattergeo\"}], \"scattergl\": [{\"marker\": {\"colorbar\": {\"outlinewidth\": 0, \"ticks\": \"\"}}, \"type\": \"scattergl\"}], \"scattermapbox\": [{\"marker\": {\"colorbar\": {\"outlinewidth\": 0, \"ticks\": \"\"}}, \"type\": \"scattermapbox\"}], \"scatterpolar\": [{\"marker\": {\"colorbar\": {\"outlinewidth\": 0, \"ticks\": \"\"}}, \"type\": \"scatterpolar\"}], \"scatterpolargl\": [{\"marker\": {\"colorbar\": {\"outlinewidth\": 0, \"ticks\": \"\"}}, \"type\": \"scatterpolargl\"}], \"scatterternary\": [{\"marker\": {\"colorbar\": {\"outlinewidth\": 0, \"ticks\": \"\"}}, \"type\": \"scatterternary\"}], \"surface\": [{\"colorbar\": {\"outlinewidth\": 0, \"ticks\": \"\"}, \"colorscale\": [[0.0, \"#0d0887\"], [0.1111111111111111, \"#46039f\"], [0.2222222222222222, \"#7201a8\"], [0.3333333333333333, \"#9c179e\"], [0.4444444444444444, \"#bd3786\"], [0.5555555555555556, \"#d8576b\"], [0.6666666666666666, \"#ed7953\"], [0.7777777777777778, \"#fb9f3a\"], [0.8888888888888888, \"#fdca26\"], [1.0, \"#f0f921\"]], \"type\": \"surface\"}], \"table\": [{\"cells\": {\"fill\": {\"color\": \"#EBF0F8\"}, \"line\": {\"color\": \"white\"}}, \"header\": {\"fill\": {\"color\": \"#C8D4E3\"}, \"line\": {\"color\": \"white\"}}, \"type\": \"table\"}]}, \"layout\": {\"annotationdefaults\": {\"arrowcolor\": \"#2a3f5f\", \"arrowhead\": 0, \"arrowwidth\": 1}, \"coloraxis\": {\"colorbar\": {\"outlinewidth\": 0, \"ticks\": \"\"}}, \"colorscale\": {\"diverging\": [[0, \"#8e0152\"], [0.1, \"#c51b7d\"], [0.2, \"#de77ae\"], [0.3, \"#f1b6da\"], [0.4, \"#fde0ef\"], [0.5, \"#f7f7f7\"], [0.6, \"#e6f5d0\"], [0.7, \"#b8e186\"], [0.8, \"#7fbc41\"], [0.9, \"#4d9221\"], [1, \"#276419\"]], \"sequential\": [[0.0, \"#0d0887\"], [0.1111111111111111, \"#46039f\"], [0.2222222222222222, \"#7201a8\"], [0.3333333333333333, \"#9c179e\"], [0.4444444444444444, \"#bd3786\"], [0.5555555555555556, \"#d8576b\"], [0.6666666666666666, \"#ed7953\"], [0.7777777777777778, \"#fb9f3a\"], [0.8888888888888888, \"#fdca26\"], [1.0, \"#f0f921\"]], \"sequentialminus\": [[0.0, \"#0d0887\"], [0.1111111111111111, \"#46039f\"], [0.2222222222222222, \"#7201a8\"], [0.3333333333333333, \"#9c179e\"], [0.4444444444444444, \"#bd3786\"], [0.5555555555555556, \"#d8576b\"], [0.6666666666666666, \"#ed7953\"], [0.7777777777777778, \"#fb9f3a\"], [0.8888888888888888, \"#fdca26\"], [1.0, \"#f0f921\"]]}, \"colorway\": [\"#636efa\", \"#EF553B\", \"#00cc96\", \"#ab63fa\", \"#FFA15A\", \"#19d3f3\", \"#FF6692\", \"#B6E880\", \"#FF97FF\", \"#FECB52\"], \"font\": {\"color\": \"#2a3f5f\"}, \"geo\": {\"bgcolor\": \"white\", \"lakecolor\": \"white\", \"landcolor\": \"#E5ECF6\", \"showlakes\": true, \"showland\": true, \"subunitcolor\": \"white\"}, \"hoverlabel\": {\"align\": \"left\"}, \"hovermode\": \"closest\", \"mapbox\": {\"style\": \"light\"}, \"paper_bgcolor\": \"white\", \"plot_bgcolor\": \"#E5ECF6\", \"polar\": {\"angularaxis\": {\"gridcolor\": \"white\", \"linecolor\": \"white\", \"ticks\": \"\"}, \"bgcolor\": \"#E5ECF6\", \"radialaxis\": {\"gridcolor\": \"white\", \"linecolor\": \"white\", \"ticks\": \"\"}}, \"scene\": {\"xaxis\": {\"backgroundcolor\": \"#E5ECF6\", \"gridcolor\": \"white\", \"gridwidth\": 2, \"linecolor\": \"white\", \"showbackground\": true, \"ticks\": \"\", \"zerolinecolor\": \"white\"}, \"yaxis\": {\"backgroundcolor\": \"#E5ECF6\", \"gridcolor\": \"white\", \"gridwidth\": 2, \"linecolor\": \"white\", \"showbackground\": true, \"ticks\": \"\", \"zerolinecolor\": \"white\"}, \"zaxis\": {\"backgroundcolor\": \"#E5ECF6\", \"gridcolor\": \"white\", \"gridwidth\": 2, \"linecolor\": \"white\", \"showbackground\": true, \"ticks\": \"\", \"zerolinecolor\": \"white\"}}, \"shapedefaults\": {\"line\": {\"color\": \"#2a3f5f\"}}, \"ternary\": {\"aaxis\": {\"gridcolor\": \"white\", \"linecolor\": \"white\", \"ticks\": \"\"}, \"baxis\": {\"gridcolor\": \"white\", \"linecolor\": \"white\", \"ticks\": \"\"}, \"bgcolor\": \"#E5ECF6\", \"caxis\": {\"gridcolor\": \"white\", \"linecolor\": \"white\", \"ticks\": \"\"}}, \"title\": {\"x\": 0.05}, \"xaxis\": {\"automargin\": true, \"gridcolor\": \"white\", \"linecolor\": \"white\", \"ticks\": \"\", \"title\": {\"standoff\": 15}, \"zerolinecolor\": \"white\", \"zerolinewidth\": 2}, \"yaxis\": {\"automargin\": true, \"gridcolor\": \"white\", \"linecolor\": \"white\", \"ticks\": \"\", \"title\": {\"standoff\": 15}, \"zerolinecolor\": \"white\", \"zerolinewidth\": 2}}}, \"title\": {\"text\": \"Demand forecast\"}, \"xaxis\": {\"title\": {\"text\": \"Date\"}}, \"yaxis\": {\"title\": {\"text\": \"Demand\"}}},\n",
              "                        {\"responsive\": true}\n",
              "                    ).then(function(){\n",
              "                            \n",
              "var gd = document.getElementById('3c4ae7b8-8dbe-4eb6-aa28-9767298b614c');\n",
              "var x = new MutationObserver(function (mutations, observer) {{\n",
              "        var display = window.getComputedStyle(gd).display;\n",
              "        if (!display || display === 'none') {{\n",
              "            console.log([gd, 'removed!']);\n",
              "            Plotly.purge(gd);\n",
              "            observer.disconnect();\n",
              "        }}\n",
              "}});\n",
              "\n",
              "// Listen for the removal of the full notebook cells\n",
              "var notebookContainer = gd.closest('#notebook-container');\n",
              "if (notebookContainer) {{\n",
              "    x.observe(notebookContainer, {childList: true});\n",
              "}}\n",
              "\n",
              "// Listen for the clearing of the current output cell\n",
              "var outputEl = gd.closest('.output');\n",
              "if (outputEl) {{\n",
              "    x.observe(outputEl, {childList: true});\n",
              "}}\n",
              "\n",
              "                        })\n",
              "                };\n",
              "                \n",
              "            </script>\n",
              "        </div>\n",
              "</body>\n",
              "</html>"
            ]
          },
          "metadata": {
            "tags": []
          }
        }
      ]
    },
    {
      "cell_type": "code",
      "metadata": {
        "id": "Bx40xx1DJ6lg",
        "colab_type": "code",
        "colab": {
          "base_uri": "https://localhost:8080/"
        },
        "outputId": "fbdd62b9-5498-4b61-b9e7-79b3433d9440"
      },
      "source": [
        "x_sample, y_sample = make_ds(new_df[-1], target_size=12)\n",
        "print(x_sample.shape)\n",
        "pred_sample = model_attention.predict(x_sample[4].reshape(1,5,11))\n",
        "timeseries_graph(x_sample[:80, 1, 2], y_sample[80], pred_sample.reshape(12,))"
      ],
      "execution_count": null,
      "outputs": [
        {
          "output_type": "stream",
          "text": [
            "(143, 5, 11)\n"
          ],
          "name": "stdout"
        },
        {
          "output_type": "display_data",
          "data": {
            "text/html": [
              "<html>\n",
              "<head><meta charset=\"utf-8\" /></head>\n",
              "<body>\n",
              "    <div>\n",
              "            <script src=\"https://cdnjs.cloudflare.com/ajax/libs/mathjax/2.7.5/MathJax.js?config=TeX-AMS-MML_SVG\"></script><script type=\"text/javascript\">if (window.MathJax) {MathJax.Hub.Config({SVG: {font: \"STIX-Web\"}});}</script>\n",
              "                <script type=\"text/javascript\">window.PlotlyConfig = {MathJaxConfig: 'local'};</script>\n",
              "        <script src=\"https://cdn.plot.ly/plotly-latest.min.js\"></script>    \n",
              "            <div id=\"9b0383d0-728d-4776-a7a7-24dff56078e1\" class=\"plotly-graph-div\" style=\"height:525px; width:100%;\"></div>\n",
              "            <script type=\"text/javascript\">\n",
              "                \n",
              "                    window.PLOTLYENV=window.PLOTLYENV || {};\n",
              "                    \n",
              "                if (document.getElementById(\"9b0383d0-728d-4776-a7a7-24dff56078e1\")) {\n",
              "                    Plotly.newPlot(\n",
              "                        '9b0383d0-728d-4776-a7a7-24dff56078e1',\n",
              "                        [{\"line\": {\"color\": \"royalblue\", \"width\": 1.5}, \"name\": \"History\", \"type\": \"scatter\", \"x\": [\"2017-01-23T00:00:00\", \"2017-01-30T00:00:00\", \"2017-02-06T00:00:00\", \"2017-02-13T00:00:00\", \"2017-02-20T00:00:00\", \"2017-02-27T00:00:00\", \"2017-03-06T00:00:00\", \"2017-03-13T00:00:00\", \"2017-03-20T00:00:00\", \"2017-03-27T00:00:00\", \"2017-04-03T00:00:00\", \"2017-04-10T00:00:00\", \"2017-04-17T00:00:00\", \"2017-04-24T00:00:00\", \"2017-05-01T00:00:00\", \"2017-05-08T00:00:00\", \"2017-05-15T00:00:00\", \"2017-05-22T00:00:00\", \"2017-05-29T00:00:00\", \"2017-06-05T00:00:00\", \"2017-06-12T00:00:00\", \"2017-06-19T00:00:00\", \"2017-06-26T00:00:00\", \"2017-07-03T00:00:00\", \"2017-07-10T00:00:00\", \"2017-07-17T00:00:00\", \"2017-07-24T00:00:00\", \"2017-07-31T00:00:00\", \"2017-08-07T00:00:00\", \"2017-08-14T00:00:00\", \"2017-08-21T00:00:00\", \"2017-08-28T00:00:00\", \"2017-09-04T00:00:00\", \"2017-09-11T00:00:00\", \"2017-09-18T00:00:00\", \"2017-09-25T00:00:00\", \"2017-10-02T00:00:00\", \"2017-10-09T00:00:00\", \"2017-10-16T00:00:00\", \"2017-10-23T00:00:00\", \"2017-10-30T00:00:00\", \"2017-11-06T00:00:00\", \"2017-11-13T00:00:00\", \"2017-11-20T00:00:00\", \"2017-11-27T00:00:00\", \"2017-12-04T00:00:00\", \"2017-12-11T00:00:00\", \"2017-12-18T00:00:00\", \"2017-12-25T00:00:00\", \"2018-01-01T00:00:00\", \"2018-01-08T00:00:00\", \"2018-01-15T00:00:00\", \"2018-01-22T00:00:00\", \"2018-01-29T00:00:00\", \"2018-02-05T00:00:00\", \"2018-02-12T00:00:00\", \"2018-02-19T00:00:00\", \"2018-02-26T00:00:00\", \"2018-03-05T00:00:00\", \"2018-03-12T00:00:00\", \"2018-03-19T00:00:00\", \"2018-03-26T00:00:00\", \"2018-04-02T00:00:00\", \"2018-04-09T00:00:00\", \"2018-04-16T00:00:00\", \"2018-04-23T00:00:00\", \"2018-04-30T00:00:00\", \"2018-05-07T00:00:00\", \"2018-05-14T00:00:00\", \"2018-05-21T00:00:00\", \"2018-05-28T00:00:00\", \"2018-06-04T00:00:00\", \"2018-06-11T00:00:00\", \"2018-06-18T00:00:00\", \"2018-06-25T00:00:00\", \"2018-07-02T00:00:00\", \"2018-07-09T00:00:00\", \"2018-07-16T00:00:00\", \"2018-07-23T00:00:00\", \"2018-07-30T00:00:00\"], \"y\": [86.0, 52.7, 18.0, 11.0, 20.0, 14.0, 10.0, 2.0, 23.0, 6.0, 36.0, 10.0, 9.0, 11.0, 6.0, 11.0, 23.0, 18.0, 15.0, 1.0, 8.0, 8.0, 5.0, 9.0, 10.0, 7.0, 21.0, 9.0, 24.0, 2.0, 14.0, 7.0, 21.0, 19.0, 14.0, 14.0, 14.0, 14.0, 8.0, 7.0, 12.0, 7.0, 13.0, 2.0, 7.0, 20.0, 13.0, 14.0, 19.0, 3.0, 7.0, 16.0, 19.0, 22.5, 11.0, 2.0, 6.0, 17.0, 8.0, 5.0, 10.0, 11.0, 30.0, 17.0, 6.0, 24.0, 16.0, 6.0, 14.0, 23.0, 49.0, 10.0, 1.0, 6.0, 13.0, 1.0, 3.0, 0.0, 2.0, 5.0]}, {\"line\": {\"color\": \"red\", \"width\": 1.5}, \"name\": \"True\", \"type\": \"scatter\", \"x\": [\"2018-08-06T00:00:00\", \"2018-08-13T00:00:00\", \"2018-08-20T00:00:00\", \"2018-08-27T00:00:00\", \"2018-09-03T00:00:00\", \"2018-09-10T00:00:00\", \"2018-09-17T00:00:00\", \"2018-09-24T00:00:00\", \"2018-10-01T00:00:00\", \"2018-10-08T00:00:00\", \"2018-10-15T00:00:00\", \"2018-10-22T00:00:00\"], \"y\": [17.0, 6.0, 19.0, 13.0, 7.0, 10.0, 2.0, 4.0, 4.0, 12.0, 7.0, 9.0]}, {\"marker\": {\"color\": \"orange\"}, \"mode\": \"markers\", \"name\": \"Predictions\", \"type\": \"scatter\", \"x\": [\"2018-08-06T00:00:00\", \"2018-08-13T00:00:00\", \"2018-08-20T00:00:00\", \"2018-08-27T00:00:00\", \"2018-09-03T00:00:00\", \"2018-09-10T00:00:00\", \"2018-09-17T00:00:00\", \"2018-09-24T00:00:00\", \"2018-10-01T00:00:00\", \"2018-10-08T00:00:00\", \"2018-10-15T00:00:00\", \"2018-10-22T00:00:00\"], \"y\": [0.07136309146881104, 0.056798305362463, 0.09392696619033813, 0.09040099382400513, 0.09332208335399628, 0.08890898525714874, 0.08004549145698547, 0.09579186141490936, 0.07126034051179886, 0.0785713791847229, 0.09763585776090622, 0.08197466284036636]}],\n",
              "                        {\"font\": {\"color\": \"#7f7f7f\", \"family\": \"Courier New, monospace\", \"size\": 14}, \"template\": {\"data\": {\"bar\": [{\"error_x\": {\"color\": \"#2a3f5f\"}, \"error_y\": {\"color\": \"#2a3f5f\"}, \"marker\": {\"line\": {\"color\": \"#E5ECF6\", \"width\": 0.5}}, \"type\": \"bar\"}], \"barpolar\": [{\"marker\": {\"line\": {\"color\": \"#E5ECF6\", \"width\": 0.5}}, \"type\": \"barpolar\"}], \"carpet\": [{\"aaxis\": {\"endlinecolor\": \"#2a3f5f\", \"gridcolor\": \"white\", \"linecolor\": \"white\", \"minorgridcolor\": \"white\", \"startlinecolor\": \"#2a3f5f\"}, \"baxis\": {\"endlinecolor\": \"#2a3f5f\", \"gridcolor\": \"white\", \"linecolor\": \"white\", \"minorgridcolor\": \"white\", \"startlinecolor\": \"#2a3f5f\"}, \"type\": \"carpet\"}], \"choropleth\": [{\"colorbar\": {\"outlinewidth\": 0, \"ticks\": \"\"}, \"type\": \"choropleth\"}], \"contour\": [{\"colorbar\": {\"outlinewidth\": 0, \"ticks\": \"\"}, \"colorscale\": [[0.0, \"#0d0887\"], [0.1111111111111111, \"#46039f\"], [0.2222222222222222, \"#7201a8\"], [0.3333333333333333, \"#9c179e\"], [0.4444444444444444, \"#bd3786\"], [0.5555555555555556, \"#d8576b\"], [0.6666666666666666, \"#ed7953\"], [0.7777777777777778, \"#fb9f3a\"], [0.8888888888888888, \"#fdca26\"], [1.0, \"#f0f921\"]], \"type\": \"contour\"}], \"contourcarpet\": [{\"colorbar\": {\"outlinewidth\": 0, \"ticks\": \"\"}, \"type\": \"contourcarpet\"}], \"heatmap\": [{\"colorbar\": {\"outlinewidth\": 0, \"ticks\": \"\"}, \"colorscale\": [[0.0, \"#0d0887\"], [0.1111111111111111, \"#46039f\"], [0.2222222222222222, \"#7201a8\"], [0.3333333333333333, \"#9c179e\"], [0.4444444444444444, \"#bd3786\"], [0.5555555555555556, \"#d8576b\"], [0.6666666666666666, \"#ed7953\"], [0.7777777777777778, \"#fb9f3a\"], [0.8888888888888888, \"#fdca26\"], [1.0, \"#f0f921\"]], \"type\": \"heatmap\"}], \"heatmapgl\": [{\"colorbar\": {\"outlinewidth\": 0, \"ticks\": \"\"}, \"colorscale\": [[0.0, \"#0d0887\"], [0.1111111111111111, \"#46039f\"], [0.2222222222222222, \"#7201a8\"], [0.3333333333333333, \"#9c179e\"], [0.4444444444444444, \"#bd3786\"], [0.5555555555555556, \"#d8576b\"], [0.6666666666666666, \"#ed7953\"], [0.7777777777777778, \"#fb9f3a\"], [0.8888888888888888, \"#fdca26\"], [1.0, \"#f0f921\"]], \"type\": \"heatmapgl\"}], \"histogram\": [{\"marker\": {\"colorbar\": {\"outlinewidth\": 0, \"ticks\": \"\"}}, \"type\": \"histogram\"}], \"histogram2d\": [{\"colorbar\": {\"outlinewidth\": 0, \"ticks\": \"\"}, \"colorscale\": [[0.0, \"#0d0887\"], [0.1111111111111111, \"#46039f\"], [0.2222222222222222, \"#7201a8\"], [0.3333333333333333, \"#9c179e\"], [0.4444444444444444, \"#bd3786\"], [0.5555555555555556, \"#d8576b\"], [0.6666666666666666, \"#ed7953\"], [0.7777777777777778, \"#fb9f3a\"], [0.8888888888888888, \"#fdca26\"], [1.0, \"#f0f921\"]], \"type\": \"histogram2d\"}], \"histogram2dcontour\": [{\"colorbar\": {\"outlinewidth\": 0, \"ticks\": \"\"}, \"colorscale\": [[0.0, \"#0d0887\"], [0.1111111111111111, \"#46039f\"], [0.2222222222222222, \"#7201a8\"], [0.3333333333333333, \"#9c179e\"], [0.4444444444444444, \"#bd3786\"], [0.5555555555555556, \"#d8576b\"], [0.6666666666666666, \"#ed7953\"], [0.7777777777777778, \"#fb9f3a\"], [0.8888888888888888, \"#fdca26\"], [1.0, \"#f0f921\"]], \"type\": \"histogram2dcontour\"}], \"mesh3d\": [{\"colorbar\": {\"outlinewidth\": 0, \"ticks\": \"\"}, \"type\": \"mesh3d\"}], \"parcoords\": [{\"line\": {\"colorbar\": {\"outlinewidth\": 0, \"ticks\": \"\"}}, \"type\": \"parcoords\"}], \"pie\": [{\"automargin\": true, \"type\": \"pie\"}], \"scatter\": [{\"marker\": {\"colorbar\": {\"outlinewidth\": 0, \"ticks\": \"\"}}, \"type\": \"scatter\"}], \"scatter3d\": [{\"line\": {\"colorbar\": {\"outlinewidth\": 0, \"ticks\": \"\"}}, \"marker\": {\"colorbar\": {\"outlinewidth\": 0, \"ticks\": \"\"}}, \"type\": \"scatter3d\"}], \"scattercarpet\": [{\"marker\": {\"colorbar\": {\"outlinewidth\": 0, \"ticks\": \"\"}}, \"type\": \"scattercarpet\"}], \"scattergeo\": [{\"marker\": {\"colorbar\": {\"outlinewidth\": 0, \"ticks\": \"\"}}, \"type\": \"scattergeo\"}], \"scattergl\": [{\"marker\": {\"colorbar\": {\"outlinewidth\": 0, \"ticks\": \"\"}}, \"type\": \"scattergl\"}], \"scattermapbox\": [{\"marker\": {\"colorbar\": {\"outlinewidth\": 0, \"ticks\": \"\"}}, \"type\": \"scattermapbox\"}], \"scatterpolar\": [{\"marker\": {\"colorbar\": {\"outlinewidth\": 0, \"ticks\": \"\"}}, \"type\": \"scatterpolar\"}], \"scatterpolargl\": [{\"marker\": {\"colorbar\": {\"outlinewidth\": 0, \"ticks\": \"\"}}, \"type\": \"scatterpolargl\"}], \"scatterternary\": [{\"marker\": {\"colorbar\": {\"outlinewidth\": 0, \"ticks\": \"\"}}, \"type\": \"scatterternary\"}], \"surface\": [{\"colorbar\": {\"outlinewidth\": 0, \"ticks\": \"\"}, \"colorscale\": [[0.0, \"#0d0887\"], [0.1111111111111111, \"#46039f\"], [0.2222222222222222, \"#7201a8\"], [0.3333333333333333, \"#9c179e\"], [0.4444444444444444, \"#bd3786\"], [0.5555555555555556, \"#d8576b\"], [0.6666666666666666, \"#ed7953\"], [0.7777777777777778, \"#fb9f3a\"], [0.8888888888888888, \"#fdca26\"], [1.0, \"#f0f921\"]], \"type\": \"surface\"}], \"table\": [{\"cells\": {\"fill\": {\"color\": \"#EBF0F8\"}, \"line\": {\"color\": \"white\"}}, \"header\": {\"fill\": {\"color\": \"#C8D4E3\"}, \"line\": {\"color\": \"white\"}}, \"type\": \"table\"}]}, \"layout\": {\"annotationdefaults\": {\"arrowcolor\": \"#2a3f5f\", \"arrowhead\": 0, \"arrowwidth\": 1}, \"coloraxis\": {\"colorbar\": {\"outlinewidth\": 0, \"ticks\": \"\"}}, \"colorscale\": {\"diverging\": [[0, \"#8e0152\"], [0.1, \"#c51b7d\"], [0.2, \"#de77ae\"], [0.3, \"#f1b6da\"], [0.4, \"#fde0ef\"], [0.5, \"#f7f7f7\"], [0.6, \"#e6f5d0\"], [0.7, \"#b8e186\"], [0.8, \"#7fbc41\"], [0.9, \"#4d9221\"], [1, \"#276419\"]], \"sequential\": [[0.0, \"#0d0887\"], [0.1111111111111111, \"#46039f\"], [0.2222222222222222, \"#7201a8\"], [0.3333333333333333, \"#9c179e\"], [0.4444444444444444, \"#bd3786\"], [0.5555555555555556, \"#d8576b\"], [0.6666666666666666, \"#ed7953\"], [0.7777777777777778, \"#fb9f3a\"], [0.8888888888888888, \"#fdca26\"], [1.0, \"#f0f921\"]], \"sequentialminus\": [[0.0, \"#0d0887\"], [0.1111111111111111, \"#46039f\"], [0.2222222222222222, \"#7201a8\"], [0.3333333333333333, \"#9c179e\"], [0.4444444444444444, \"#bd3786\"], [0.5555555555555556, \"#d8576b\"], [0.6666666666666666, \"#ed7953\"], [0.7777777777777778, \"#fb9f3a\"], [0.8888888888888888, \"#fdca26\"], [1.0, \"#f0f921\"]]}, \"colorway\": [\"#636efa\", \"#EF553B\", \"#00cc96\", \"#ab63fa\", \"#FFA15A\", \"#19d3f3\", \"#FF6692\", \"#B6E880\", \"#FF97FF\", \"#FECB52\"], \"font\": {\"color\": \"#2a3f5f\"}, \"geo\": {\"bgcolor\": \"white\", \"lakecolor\": \"white\", \"landcolor\": \"#E5ECF6\", \"showlakes\": true, \"showland\": true, \"subunitcolor\": \"white\"}, \"hoverlabel\": {\"align\": \"left\"}, \"hovermode\": \"closest\", \"mapbox\": {\"style\": \"light\"}, \"paper_bgcolor\": \"white\", \"plot_bgcolor\": \"#E5ECF6\", \"polar\": {\"angularaxis\": {\"gridcolor\": \"white\", \"linecolor\": \"white\", \"ticks\": \"\"}, \"bgcolor\": \"#E5ECF6\", \"radialaxis\": {\"gridcolor\": \"white\", \"linecolor\": \"white\", \"ticks\": \"\"}}, \"scene\": {\"xaxis\": {\"backgroundcolor\": \"#E5ECF6\", \"gridcolor\": \"white\", \"gridwidth\": 2, \"linecolor\": \"white\", \"showbackground\": true, \"ticks\": \"\", \"zerolinecolor\": \"white\"}, \"yaxis\": {\"backgroundcolor\": \"#E5ECF6\", \"gridcolor\": \"white\", \"gridwidth\": 2, \"linecolor\": \"white\", \"showbackground\": true, \"ticks\": \"\", \"zerolinecolor\": \"white\"}, \"zaxis\": {\"backgroundcolor\": \"#E5ECF6\", \"gridcolor\": \"white\", \"gridwidth\": 2, \"linecolor\": \"white\", \"showbackground\": true, \"ticks\": \"\", \"zerolinecolor\": \"white\"}}, \"shapedefaults\": {\"line\": {\"color\": \"#2a3f5f\"}}, \"ternary\": {\"aaxis\": {\"gridcolor\": \"white\", \"linecolor\": \"white\", \"ticks\": \"\"}, \"baxis\": {\"gridcolor\": \"white\", \"linecolor\": \"white\", \"ticks\": \"\"}, \"bgcolor\": \"#E5ECF6\", \"caxis\": {\"gridcolor\": \"white\", \"linecolor\": \"white\", \"ticks\": \"\"}}, \"title\": {\"x\": 0.05}, \"xaxis\": {\"automargin\": true, \"gridcolor\": \"white\", \"linecolor\": \"white\", \"ticks\": \"\", \"title\": {\"standoff\": 15}, \"zerolinecolor\": \"white\", \"zerolinewidth\": 2}, \"yaxis\": {\"automargin\": true, \"gridcolor\": \"white\", \"linecolor\": \"white\", \"ticks\": \"\", \"title\": {\"standoff\": 15}, \"zerolinecolor\": \"white\", \"zerolinewidth\": 2}}}, \"title\": {\"text\": \"Demand forecast\"}, \"xaxis\": {\"title\": {\"text\": \"Date\"}}, \"yaxis\": {\"title\": {\"text\": \"Demand\"}}},\n",
              "                        {\"responsive\": true}\n",
              "                    ).then(function(){\n",
              "                            \n",
              "var gd = document.getElementById('9b0383d0-728d-4776-a7a7-24dff56078e1');\n",
              "var x = new MutationObserver(function (mutations, observer) {{\n",
              "        var display = window.getComputedStyle(gd).display;\n",
              "        if (!display || display === 'none') {{\n",
              "            console.log([gd, 'removed!']);\n",
              "            Plotly.purge(gd);\n",
              "            observer.disconnect();\n",
              "        }}\n",
              "}});\n",
              "\n",
              "// Listen for the removal of the full notebook cells\n",
              "var notebookContainer = gd.closest('#notebook-container');\n",
              "if (notebookContainer) {{\n",
              "    x.observe(notebookContainer, {childList: true});\n",
              "}}\n",
              "\n",
              "// Listen for the clearing of the current output cell\n",
              "var outputEl = gd.closest('.output');\n",
              "if (outputEl) {{\n",
              "    x.observe(outputEl, {childList: true});\n",
              "}}\n",
              "\n",
              "                        })\n",
              "                };\n",
              "                \n",
              "            </script>\n",
              "        </div>\n",
              "</body>\n",
              "</html>"
            ]
          },
          "metadata": {
            "tags": []
          }
        }
      ]
    },
    {
      "cell_type": "code",
      "metadata": {
        "id": "jAfxOqcFRKBP",
        "colab_type": "code",
        "colab": {}
      },
      "source": [
        "x, y = make_ds(splitted_df[0], target_size=12)"
      ],
      "execution_count": null,
      "outputs": []
    },
    {
      "cell_type": "markdown",
      "metadata": {
        "id": "mJNsKp3se0C-",
        "colab_type": "text"
      },
      "source": [
        ""
      ]
    },
    {
      "cell_type": "code",
      "metadata": {
        "id": "DGjWgl1rRZ3O",
        "colab_type": "code",
        "colab": {}
      },
      "source": [
        "x = np.arange(0,10)"
      ],
      "execution_count": null,
      "outputs": []
    },
    {
      "cell_type": "code",
      "metadata": {
        "id": "2dyE5ha1Z5B7",
        "colab_type": "code",
        "colab": {
          "base_uri": "https://localhost:8080/",
          "height": 34
        },
        "outputId": "0d94f792-4639-4337-dd1f-5c3ad773ac72"
      },
      "source": [
        "x.reshape(1,10)"
      ],
      "execution_count": null,
      "outputs": [
        {
          "output_type": "execute_result",
          "data": {
            "text/plain": [
              "array([[0, 1, 2, 3, 4, 5, 6, 7, 8, 9]])"
            ]
          },
          "metadata": {
            "tags": []
          },
          "execution_count": 70
        }
      ]
    },
    {
      "cell_type": "code",
      "metadata": {
        "id": "NPnohctYRcoe",
        "colab_type": "code",
        "colab": {
          "base_uri": "https://localhost:8080/",
          "height": 34
        },
        "outputId": "5f9c35f1-973c-4fed-cfb0-837e713c9718"
      },
      "source": [
        "y.shape"
      ],
      "execution_count": null,
      "outputs": [
        {
          "output_type": "execute_result",
          "data": {
            "text/plain": [
              "(143, 12)"
            ]
          },
          "metadata": {
            "tags": []
          },
          "execution_count": 71
        }
      ]
    },
    {
      "cell_type": "code",
      "metadata": {
        "id": "p06_k9BdQ9ol",
        "colab_type": "code",
        "colab": {
          "base_uri": "https://localhost:8080/",
          "height": 606
        },
        "outputId": "acb807a9-11c5-4442-d6d0-117dc331e49f"
      },
      "source": [
        "hist = model.fit(x, y, validation_split=0.7, epochs=134)"
      ],
      "execution_count": null,
      "outputs": [
        {
          "output_type": "stream",
          "text": [
            "Epoch 1/134\n"
          ],
          "name": "stdout"
        },
        {
          "output_type": "error",
          "ename": "ValueError",
          "evalue": "ignored",
          "traceback": [
            "\u001b[0;31m---------------------------------------------------------------------------\u001b[0m",
            "\u001b[0;31mValueError\u001b[0m                                Traceback (most recent call last)",
            "\u001b[0;32m<ipython-input-72-5d4ef3cdeb16>\u001b[0m in \u001b[0;36m<module>\u001b[0;34m()\u001b[0m\n\u001b[0;32m----> 1\u001b[0;31m \u001b[0mhist\u001b[0m \u001b[0;34m=\u001b[0m \u001b[0mmodel\u001b[0m\u001b[0;34m.\u001b[0m\u001b[0mfit\u001b[0m\u001b[0;34m(\u001b[0m\u001b[0mx\u001b[0m\u001b[0;34m,\u001b[0m \u001b[0my\u001b[0m\u001b[0;34m,\u001b[0m \u001b[0mvalidation_split\u001b[0m\u001b[0;34m=\u001b[0m\u001b[0;36m0.7\u001b[0m\u001b[0;34m,\u001b[0m \u001b[0mepochs\u001b[0m\u001b[0;34m=\u001b[0m\u001b[0;36m134\u001b[0m\u001b[0;34m)\u001b[0m\u001b[0;34m\u001b[0m\u001b[0;34m\u001b[0m\u001b[0m\n\u001b[0m",
            "\u001b[0;32m/usr/local/lib/python3.6/dist-packages/tensorflow/python/keras/engine/training.py\u001b[0m in \u001b[0;36m_method_wrapper\u001b[0;34m(self, *args, **kwargs)\u001b[0m\n\u001b[1;32m     64\u001b[0m   \u001b[0;32mdef\u001b[0m \u001b[0m_method_wrapper\u001b[0m\u001b[0;34m(\u001b[0m\u001b[0mself\u001b[0m\u001b[0;34m,\u001b[0m \u001b[0;34m*\u001b[0m\u001b[0margs\u001b[0m\u001b[0;34m,\u001b[0m \u001b[0;34m**\u001b[0m\u001b[0mkwargs\u001b[0m\u001b[0;34m)\u001b[0m\u001b[0;34m:\u001b[0m\u001b[0;34m\u001b[0m\u001b[0;34m\u001b[0m\u001b[0m\n\u001b[1;32m     65\u001b[0m     \u001b[0;32mif\u001b[0m \u001b[0;32mnot\u001b[0m \u001b[0mself\u001b[0m\u001b[0;34m.\u001b[0m\u001b[0m_in_multi_worker_mode\u001b[0m\u001b[0;34m(\u001b[0m\u001b[0;34m)\u001b[0m\u001b[0;34m:\u001b[0m  \u001b[0;31m# pylint: disable=protected-access\u001b[0m\u001b[0;34m\u001b[0m\u001b[0;34m\u001b[0m\u001b[0m\n\u001b[0;32m---> 66\u001b[0;31m       \u001b[0;32mreturn\u001b[0m \u001b[0mmethod\u001b[0m\u001b[0;34m(\u001b[0m\u001b[0mself\u001b[0m\u001b[0;34m,\u001b[0m \u001b[0;34m*\u001b[0m\u001b[0margs\u001b[0m\u001b[0;34m,\u001b[0m \u001b[0;34m**\u001b[0m\u001b[0mkwargs\u001b[0m\u001b[0;34m)\u001b[0m\u001b[0;34m\u001b[0m\u001b[0;34m\u001b[0m\u001b[0m\n\u001b[0m\u001b[1;32m     67\u001b[0m \u001b[0;34m\u001b[0m\u001b[0m\n\u001b[1;32m     68\u001b[0m     \u001b[0;31m# Running inside `run_distribute_coordinator` already.\u001b[0m\u001b[0;34m\u001b[0m\u001b[0;34m\u001b[0m\u001b[0;34m\u001b[0m\u001b[0m\n",
            "\u001b[0;32m/usr/local/lib/python3.6/dist-packages/tensorflow/python/keras/engine/training.py\u001b[0m in \u001b[0;36mfit\u001b[0;34m(self, x, y, batch_size, epochs, verbose, callbacks, validation_split, validation_data, shuffle, class_weight, sample_weight, initial_epoch, steps_per_epoch, validation_steps, validation_batch_size, validation_freq, max_queue_size, workers, use_multiprocessing)\u001b[0m\n\u001b[1;32m    846\u001b[0m                 batch_size=batch_size):\n\u001b[1;32m    847\u001b[0m               \u001b[0mcallbacks\u001b[0m\u001b[0;34m.\u001b[0m\u001b[0mon_train_batch_begin\u001b[0m\u001b[0;34m(\u001b[0m\u001b[0mstep\u001b[0m\u001b[0;34m)\u001b[0m\u001b[0;34m\u001b[0m\u001b[0;34m\u001b[0m\u001b[0m\n\u001b[0;32m--> 848\u001b[0;31m               \u001b[0mtmp_logs\u001b[0m \u001b[0;34m=\u001b[0m \u001b[0mtrain_function\u001b[0m\u001b[0;34m(\u001b[0m\u001b[0miterator\u001b[0m\u001b[0;34m)\u001b[0m\u001b[0;34m\u001b[0m\u001b[0;34m\u001b[0m\u001b[0m\n\u001b[0m\u001b[1;32m    849\u001b[0m               \u001b[0;31m# Catch OutOfRangeError for Datasets of unknown size.\u001b[0m\u001b[0;34m\u001b[0m\u001b[0;34m\u001b[0m\u001b[0;34m\u001b[0m\u001b[0m\n\u001b[1;32m    850\u001b[0m               \u001b[0;31m# This blocks until the batch has finished executing.\u001b[0m\u001b[0;34m\u001b[0m\u001b[0;34m\u001b[0m\u001b[0;34m\u001b[0m\u001b[0m\n",
            "\u001b[0;32m/usr/local/lib/python3.6/dist-packages/tensorflow/python/eager/def_function.py\u001b[0m in \u001b[0;36m__call__\u001b[0;34m(self, *args, **kwds)\u001b[0m\n\u001b[1;32m    578\u001b[0m         \u001b[0mxla_context\u001b[0m\u001b[0;34m.\u001b[0m\u001b[0mExit\u001b[0m\u001b[0;34m(\u001b[0m\u001b[0;34m)\u001b[0m\u001b[0;34m\u001b[0m\u001b[0;34m\u001b[0m\u001b[0m\n\u001b[1;32m    579\u001b[0m     \u001b[0;32melse\u001b[0m\u001b[0;34m:\u001b[0m\u001b[0;34m\u001b[0m\u001b[0;34m\u001b[0m\u001b[0m\n\u001b[0;32m--> 580\u001b[0;31m       \u001b[0mresult\u001b[0m \u001b[0;34m=\u001b[0m \u001b[0mself\u001b[0m\u001b[0;34m.\u001b[0m\u001b[0m_call\u001b[0m\u001b[0;34m(\u001b[0m\u001b[0;34m*\u001b[0m\u001b[0margs\u001b[0m\u001b[0;34m,\u001b[0m \u001b[0;34m**\u001b[0m\u001b[0mkwds\u001b[0m\u001b[0;34m)\u001b[0m\u001b[0;34m\u001b[0m\u001b[0;34m\u001b[0m\u001b[0m\n\u001b[0m\u001b[1;32m    581\u001b[0m \u001b[0;34m\u001b[0m\u001b[0m\n\u001b[1;32m    582\u001b[0m     \u001b[0;32mif\u001b[0m \u001b[0mtracing_count\u001b[0m \u001b[0;34m==\u001b[0m \u001b[0mself\u001b[0m\u001b[0;34m.\u001b[0m\u001b[0m_get_tracing_count\u001b[0m\u001b[0;34m(\u001b[0m\u001b[0;34m)\u001b[0m\u001b[0;34m:\u001b[0m\u001b[0;34m\u001b[0m\u001b[0;34m\u001b[0m\u001b[0m\n",
            "\u001b[0;32m/usr/local/lib/python3.6/dist-packages/tensorflow/python/eager/def_function.py\u001b[0m in \u001b[0;36m_call\u001b[0;34m(self, *args, **kwds)\u001b[0m\n\u001b[1;32m    609\u001b[0m       \u001b[0;31m# In this case we have created variables on the first call, so we run the\u001b[0m\u001b[0;34m\u001b[0m\u001b[0;34m\u001b[0m\u001b[0;34m\u001b[0m\u001b[0m\n\u001b[1;32m    610\u001b[0m       \u001b[0;31m# defunned version which is guaranteed to never create variables.\u001b[0m\u001b[0;34m\u001b[0m\u001b[0;34m\u001b[0m\u001b[0;34m\u001b[0m\u001b[0m\n\u001b[0;32m--> 611\u001b[0;31m       \u001b[0;32mreturn\u001b[0m \u001b[0mself\u001b[0m\u001b[0;34m.\u001b[0m\u001b[0m_stateless_fn\u001b[0m\u001b[0;34m(\u001b[0m\u001b[0;34m*\u001b[0m\u001b[0margs\u001b[0m\u001b[0;34m,\u001b[0m \u001b[0;34m**\u001b[0m\u001b[0mkwds\u001b[0m\u001b[0;34m)\u001b[0m  \u001b[0;31m# pylint: disable=not-callable\u001b[0m\u001b[0;34m\u001b[0m\u001b[0;34m\u001b[0m\u001b[0m\n\u001b[0m\u001b[1;32m    612\u001b[0m     \u001b[0;32melif\u001b[0m \u001b[0mself\u001b[0m\u001b[0;34m.\u001b[0m\u001b[0m_stateful_fn\u001b[0m \u001b[0;32mis\u001b[0m \u001b[0;32mnot\u001b[0m \u001b[0;32mNone\u001b[0m\u001b[0;34m:\u001b[0m\u001b[0;34m\u001b[0m\u001b[0;34m\u001b[0m\u001b[0m\n\u001b[1;32m    613\u001b[0m       \u001b[0;31m# Release the lock early so that multiple threads can perform the call\u001b[0m\u001b[0;34m\u001b[0m\u001b[0;34m\u001b[0m\u001b[0;34m\u001b[0m\u001b[0m\n",
            "\u001b[0;32m/usr/local/lib/python3.6/dist-packages/tensorflow/python/eager/function.py\u001b[0m in \u001b[0;36m__call__\u001b[0;34m(self, *args, **kwargs)\u001b[0m\n\u001b[1;32m   2417\u001b[0m     \u001b[0;34m\"\"\"Calls a graph function specialized to the inputs.\"\"\"\u001b[0m\u001b[0;34m\u001b[0m\u001b[0;34m\u001b[0m\u001b[0m\n\u001b[1;32m   2418\u001b[0m     \u001b[0;32mwith\u001b[0m \u001b[0mself\u001b[0m\u001b[0;34m.\u001b[0m\u001b[0m_lock\u001b[0m\u001b[0;34m:\u001b[0m\u001b[0;34m\u001b[0m\u001b[0;34m\u001b[0m\u001b[0m\n\u001b[0;32m-> 2419\u001b[0;31m       \u001b[0mgraph_function\u001b[0m\u001b[0;34m,\u001b[0m \u001b[0margs\u001b[0m\u001b[0;34m,\u001b[0m \u001b[0mkwargs\u001b[0m \u001b[0;34m=\u001b[0m \u001b[0mself\u001b[0m\u001b[0;34m.\u001b[0m\u001b[0m_maybe_define_function\u001b[0m\u001b[0;34m(\u001b[0m\u001b[0margs\u001b[0m\u001b[0;34m,\u001b[0m \u001b[0mkwargs\u001b[0m\u001b[0;34m)\u001b[0m\u001b[0;34m\u001b[0m\u001b[0;34m\u001b[0m\u001b[0m\n\u001b[0m\u001b[1;32m   2420\u001b[0m     \u001b[0;32mreturn\u001b[0m \u001b[0mgraph_function\u001b[0m\u001b[0;34m.\u001b[0m\u001b[0m_filtered_call\u001b[0m\u001b[0;34m(\u001b[0m\u001b[0margs\u001b[0m\u001b[0;34m,\u001b[0m \u001b[0mkwargs\u001b[0m\u001b[0;34m)\u001b[0m  \u001b[0;31m# pylint: disable=protected-access\u001b[0m\u001b[0;34m\u001b[0m\u001b[0;34m\u001b[0m\u001b[0m\n\u001b[1;32m   2421\u001b[0m \u001b[0;34m\u001b[0m\u001b[0m\n",
            "\u001b[0;32m/usr/local/lib/python3.6/dist-packages/tensorflow/python/eager/function.py\u001b[0m in \u001b[0;36m_maybe_define_function\u001b[0;34m(self, args, kwargs)\u001b[0m\n\u001b[1;32m   2772\u001b[0m           \u001b[0;32mand\u001b[0m \u001b[0mself\u001b[0m\u001b[0;34m.\u001b[0m\u001b[0minput_signature\u001b[0m \u001b[0;32mis\u001b[0m \u001b[0;32mNone\u001b[0m\u001b[0;34m\u001b[0m\u001b[0;34m\u001b[0m\u001b[0m\n\u001b[1;32m   2773\u001b[0m           and call_context_key in self._function_cache.missed):\n\u001b[0;32m-> 2774\u001b[0;31m         \u001b[0;32mreturn\u001b[0m \u001b[0mself\u001b[0m\u001b[0;34m.\u001b[0m\u001b[0m_define_function_with_shape_relaxation\u001b[0m\u001b[0;34m(\u001b[0m\u001b[0margs\u001b[0m\u001b[0;34m,\u001b[0m \u001b[0mkwargs\u001b[0m\u001b[0;34m)\u001b[0m\u001b[0;34m\u001b[0m\u001b[0;34m\u001b[0m\u001b[0m\n\u001b[0m\u001b[1;32m   2775\u001b[0m \u001b[0;34m\u001b[0m\u001b[0m\n\u001b[1;32m   2776\u001b[0m       \u001b[0mself\u001b[0m\u001b[0;34m.\u001b[0m\u001b[0m_function_cache\u001b[0m\u001b[0;34m.\u001b[0m\u001b[0mmissed\u001b[0m\u001b[0;34m.\u001b[0m\u001b[0madd\u001b[0m\u001b[0;34m(\u001b[0m\u001b[0mcall_context_key\u001b[0m\u001b[0;34m)\u001b[0m\u001b[0;34m\u001b[0m\u001b[0;34m\u001b[0m\u001b[0m\n",
            "\u001b[0;32m/usr/local/lib/python3.6/dist-packages/tensorflow/python/eager/function.py\u001b[0m in \u001b[0;36m_define_function_with_shape_relaxation\u001b[0;34m(self, args, kwargs)\u001b[0m\n\u001b[1;32m   2704\u001b[0m         relaxed_arg_shapes)\n\u001b[1;32m   2705\u001b[0m     graph_function = self._create_graph_function(\n\u001b[0;32m-> 2706\u001b[0;31m         args, kwargs, override_flat_arg_shapes=relaxed_arg_shapes)\n\u001b[0m\u001b[1;32m   2707\u001b[0m     \u001b[0mself\u001b[0m\u001b[0;34m.\u001b[0m\u001b[0m_function_cache\u001b[0m\u001b[0;34m.\u001b[0m\u001b[0marg_relaxed\u001b[0m\u001b[0;34m[\u001b[0m\u001b[0mrank_only_cache_key\u001b[0m\u001b[0;34m]\u001b[0m \u001b[0;34m=\u001b[0m \u001b[0mgraph_function\u001b[0m\u001b[0;34m\u001b[0m\u001b[0;34m\u001b[0m\u001b[0m\n\u001b[1;32m   2708\u001b[0m \u001b[0;34m\u001b[0m\u001b[0m\n",
            "\u001b[0;32m/usr/local/lib/python3.6/dist-packages/tensorflow/python/eager/function.py\u001b[0m in \u001b[0;36m_create_graph_function\u001b[0;34m(self, args, kwargs, override_flat_arg_shapes)\u001b[0m\n\u001b[1;32m   2665\u001b[0m             \u001b[0marg_names\u001b[0m\u001b[0;34m=\u001b[0m\u001b[0marg_names\u001b[0m\u001b[0;34m,\u001b[0m\u001b[0;34m\u001b[0m\u001b[0;34m\u001b[0m\u001b[0m\n\u001b[1;32m   2666\u001b[0m             \u001b[0moverride_flat_arg_shapes\u001b[0m\u001b[0;34m=\u001b[0m\u001b[0moverride_flat_arg_shapes\u001b[0m\u001b[0;34m,\u001b[0m\u001b[0;34m\u001b[0m\u001b[0;34m\u001b[0m\u001b[0m\n\u001b[0;32m-> 2667\u001b[0;31m             capture_by_value=self._capture_by_value),\n\u001b[0m\u001b[1;32m   2668\u001b[0m         \u001b[0mself\u001b[0m\u001b[0;34m.\u001b[0m\u001b[0m_function_attributes\u001b[0m\u001b[0;34m,\u001b[0m\u001b[0;34m\u001b[0m\u001b[0;34m\u001b[0m\u001b[0m\n\u001b[1;32m   2669\u001b[0m         \u001b[0;31m# Tell the ConcreteFunction to clean up its graph once it goes out of\u001b[0m\u001b[0;34m\u001b[0m\u001b[0;34m\u001b[0m\u001b[0;34m\u001b[0m\u001b[0m\n",
            "\u001b[0;32m/usr/local/lib/python3.6/dist-packages/tensorflow/python/framework/func_graph.py\u001b[0m in \u001b[0;36mfunc_graph_from_py_func\u001b[0;34m(name, python_func, args, kwargs, signature, func_graph, autograph, autograph_options, add_control_dependencies, arg_names, op_return_value, collections, capture_by_value, override_flat_arg_shapes)\u001b[0m\n\u001b[1;32m    979\u001b[0m         \u001b[0m_\u001b[0m\u001b[0;34m,\u001b[0m \u001b[0moriginal_func\u001b[0m \u001b[0;34m=\u001b[0m \u001b[0mtf_decorator\u001b[0m\u001b[0;34m.\u001b[0m\u001b[0munwrap\u001b[0m\u001b[0;34m(\u001b[0m\u001b[0mpython_func\u001b[0m\u001b[0;34m)\u001b[0m\u001b[0;34m\u001b[0m\u001b[0;34m\u001b[0m\u001b[0m\n\u001b[1;32m    980\u001b[0m \u001b[0;34m\u001b[0m\u001b[0m\n\u001b[0;32m--> 981\u001b[0;31m       \u001b[0mfunc_outputs\u001b[0m \u001b[0;34m=\u001b[0m \u001b[0mpython_func\u001b[0m\u001b[0;34m(\u001b[0m\u001b[0;34m*\u001b[0m\u001b[0mfunc_args\u001b[0m\u001b[0;34m,\u001b[0m \u001b[0;34m**\u001b[0m\u001b[0mfunc_kwargs\u001b[0m\u001b[0;34m)\u001b[0m\u001b[0;34m\u001b[0m\u001b[0;34m\u001b[0m\u001b[0m\n\u001b[0m\u001b[1;32m    982\u001b[0m \u001b[0;34m\u001b[0m\u001b[0m\n\u001b[1;32m    983\u001b[0m       \u001b[0;31m# invariant: `func_outputs` contains only Tensors, CompositeTensors,\u001b[0m\u001b[0;34m\u001b[0m\u001b[0;34m\u001b[0m\u001b[0;34m\u001b[0m\u001b[0m\n",
            "\u001b[0;32m/usr/local/lib/python3.6/dist-packages/tensorflow/python/eager/def_function.py\u001b[0m in \u001b[0;36mwrapped_fn\u001b[0;34m(*args, **kwds)\u001b[0m\n\u001b[1;32m    439\u001b[0m         \u001b[0;31m# __wrapped__ allows AutoGraph to swap in a converted function. We give\u001b[0m\u001b[0;34m\u001b[0m\u001b[0;34m\u001b[0m\u001b[0;34m\u001b[0m\u001b[0m\n\u001b[1;32m    440\u001b[0m         \u001b[0;31m# the function a weak reference to itself to avoid a reference cycle.\u001b[0m\u001b[0;34m\u001b[0m\u001b[0;34m\u001b[0m\u001b[0;34m\u001b[0m\u001b[0m\n\u001b[0;32m--> 441\u001b[0;31m         \u001b[0;32mreturn\u001b[0m \u001b[0mweak_wrapped_fn\u001b[0m\u001b[0;34m(\u001b[0m\u001b[0;34m)\u001b[0m\u001b[0;34m.\u001b[0m\u001b[0m__wrapped__\u001b[0m\u001b[0;34m(\u001b[0m\u001b[0;34m*\u001b[0m\u001b[0margs\u001b[0m\u001b[0;34m,\u001b[0m \u001b[0;34m**\u001b[0m\u001b[0mkwds\u001b[0m\u001b[0;34m)\u001b[0m\u001b[0;34m\u001b[0m\u001b[0;34m\u001b[0m\u001b[0m\n\u001b[0m\u001b[1;32m    442\u001b[0m     \u001b[0mweak_wrapped_fn\u001b[0m \u001b[0;34m=\u001b[0m \u001b[0mweakref\u001b[0m\u001b[0;34m.\u001b[0m\u001b[0mref\u001b[0m\u001b[0;34m(\u001b[0m\u001b[0mwrapped_fn\u001b[0m\u001b[0;34m)\u001b[0m\u001b[0;34m\u001b[0m\u001b[0;34m\u001b[0m\u001b[0m\n\u001b[1;32m    443\u001b[0m \u001b[0;34m\u001b[0m\u001b[0m\n",
            "\u001b[0;32m/usr/local/lib/python3.6/dist-packages/tensorflow/python/framework/func_graph.py\u001b[0m in \u001b[0;36mwrapper\u001b[0;34m(*args, **kwargs)\u001b[0m\n\u001b[1;32m    966\u001b[0m           \u001b[0;32mexcept\u001b[0m \u001b[0mException\u001b[0m \u001b[0;32mas\u001b[0m \u001b[0me\u001b[0m\u001b[0;34m:\u001b[0m  \u001b[0;31m# pylint:disable=broad-except\u001b[0m\u001b[0;34m\u001b[0m\u001b[0;34m\u001b[0m\u001b[0m\n\u001b[1;32m    967\u001b[0m             \u001b[0;32mif\u001b[0m \u001b[0mhasattr\u001b[0m\u001b[0;34m(\u001b[0m\u001b[0me\u001b[0m\u001b[0;34m,\u001b[0m \u001b[0;34m\"ag_error_metadata\"\u001b[0m\u001b[0;34m)\u001b[0m\u001b[0;34m:\u001b[0m\u001b[0;34m\u001b[0m\u001b[0;34m\u001b[0m\u001b[0m\n\u001b[0;32m--> 968\u001b[0;31m               \u001b[0;32mraise\u001b[0m \u001b[0me\u001b[0m\u001b[0;34m.\u001b[0m\u001b[0mag_error_metadata\u001b[0m\u001b[0;34m.\u001b[0m\u001b[0mto_exception\u001b[0m\u001b[0;34m(\u001b[0m\u001b[0me\u001b[0m\u001b[0;34m)\u001b[0m\u001b[0;34m\u001b[0m\u001b[0;34m\u001b[0m\u001b[0m\n\u001b[0m\u001b[1;32m    969\u001b[0m             \u001b[0;32melse\u001b[0m\u001b[0;34m:\u001b[0m\u001b[0;34m\u001b[0m\u001b[0;34m\u001b[0m\u001b[0m\n\u001b[1;32m    970\u001b[0m               \u001b[0;32mraise\u001b[0m\u001b[0;34m\u001b[0m\u001b[0;34m\u001b[0m\u001b[0m\n",
            "\u001b[0;31mValueError\u001b[0m: in user code:\n\n    /usr/local/lib/python3.6/dist-packages/tensorflow/python/keras/engine/training.py:571 train_function  *\n        outputs = self.distribute_strategy.run(\n    /usr/local/lib/python3.6/dist-packages/tensorflow/python/distribute/distribute_lib.py:951 run  **\n        return self._extended.call_for_each_replica(fn, args=args, kwargs=kwargs)\n    /usr/local/lib/python3.6/dist-packages/tensorflow/python/distribute/distribute_lib.py:2290 call_for_each_replica\n        return self._call_for_each_replica(fn, args, kwargs)\n    /usr/local/lib/python3.6/dist-packages/tensorflow/python/distribute/distribute_lib.py:2649 _call_for_each_replica\n        return fn(*args, **kwargs)\n    /usr/local/lib/python3.6/dist-packages/tensorflow/python/keras/engine/training.py:531 train_step  **\n        y_pred = self(x, training=True)\n    /usr/local/lib/python3.6/dist-packages/tensorflow/python/keras/engine/base_layer.py:886 __call__\n        self.name)\n    /usr/local/lib/python3.6/dist-packages/tensorflow/python/keras/engine/input_spec.py:180 assert_input_compatibility\n        str(x.shape.as_list()))\n\n    ValueError: Input 0 of layer sequential is incompatible with the layer: expected ndim=3, found ndim=2. Full shape received: [None, 1]\n"
          ]
        }
      ]
    },
    {
      "cell_type": "code",
      "metadata": {
        "id": "nm3b3JaofQj8",
        "colab_type": "code",
        "colab": {
          "base_uri": "https://localhost:8080/",
          "height": 34
        },
        "outputId": "cdc4b81c-e8c5-4e72-9f35-0114c2768405"
      },
      "source": [
        "len(new_df)"
      ],
      "execution_count": null,
      "outputs": [
        {
          "output_type": "execute_result",
          "data": {
            "text/plain": [
              "145"
            ]
          },
          "metadata": {
            "tags": []
          },
          "execution_count": 73
        }
      ]
    },
    {
      "cell_type": "markdown",
      "metadata": {
        "id": "dBbI9_5A4fhY",
        "colab_type": "text"
      },
      "source": [
        "# Предсказания на начало 2020-го года. Неделя с 6-го января.\n"
      ]
    },
    {
      "cell_type": "code",
      "metadata": {
        "id": "gSeGVeKBKdZH",
        "colab_type": "code",
        "colab": {
          "base_uri": "https://localhost:8080/",
          "height": 47
        },
        "outputId": "7173240b-c4a5-4dc0-986c-888cac6099d8"
      },
      "source": [
        "jan_actual_df"
      ],
      "execution_count": null,
      "outputs": [
        {
          "output_type": "execute_result",
          "data": {
            "text/html": [
              "<div>\n",
              "<style scoped>\n",
              "    .dataframe tbody tr th:only-of-type {\n",
              "        vertical-align: middle;\n",
              "    }\n",
              "\n",
              "    .dataframe tbody tr th {\n",
              "        vertical-align: top;\n",
              "    }\n",
              "\n",
              "    .dataframe thead th {\n",
              "        text-align: right;\n",
              "    }\n",
              "</style>\n",
              "<table border=\"1\" class=\"dataframe\">\n",
              "  <thead>\n",
              "    <tr style=\"text-align: right;\">\n",
              "      <th></th>\n",
              "      <th>period_start_dt</th>\n",
              "      <th>demand</th>\n",
              "      <th>date</th>\n",
              "      <th>product_rk</th>\n",
              "      <th>store_location_rk</th>\n",
              "      <th>code</th>\n",
              "    </tr>\n",
              "  </thead>\n",
              "  <tbody>\n",
              "  </tbody>\n",
              "</table>\n",
              "</div>"
            ],
            "text/plain": [
              "Empty DataFrame\n",
              "Columns: [period_start_dt, demand, date, product_rk, store_location_rk, code]\n",
              "Index: []"
            ]
          },
          "metadata": {
            "tags": []
          },
          "execution_count": 74
        }
      ]
    },
    {
      "cell_type": "code",
      "metadata": {
        "id": "xFkkaNPPKqPF",
        "colab_type": "code",
        "colab": {
          "base_uri": "https://localhost:8080/",
          "height": 402
        },
        "outputId": "16dea0bc-cbac-4bd2-f0d3-2dbfa6f089c7"
      },
      "source": [
        "df = pd.read_csv(PATH + '/reg0_top6_data.csv', sep=';')\n",
        "df"
      ],
      "execution_count": null,
      "outputs": [
        {
          "output_type": "execute_result",
          "data": {
            "text/html": [
              "<div>\n",
              "<style scoped>\n",
              "    .dataframe tbody tr th:only-of-type {\n",
              "        vertical-align: middle;\n",
              "    }\n",
              "\n",
              "    .dataframe tbody tr th {\n",
              "        vertical-align: top;\n",
              "    }\n",
              "\n",
              "    .dataframe thead th {\n",
              "        text-align: right;\n",
              "    }\n",
              "</style>\n",
              "<table border=\"1\" class=\"dataframe\">\n",
              "  <thead>\n",
              "    <tr style=\"text-align: right;\">\n",
              "      <th></th>\n",
              "      <th>product_rk</th>\n",
              "      <th>store_location_rk</th>\n",
              "      <th>period_start_dt</th>\n",
              "      <th>demand</th>\n",
              "      <th>PROMO1_FLAG</th>\n",
              "      <th>PROMO2_FLAG</th>\n",
              "      <th>PRICE_REGULAR</th>\n",
              "      <th>PRICE_AFTER_DISC</th>\n",
              "      <th>NUM_CONSULTANT</th>\n",
              "      <th>AUTORIZATION_FLAG</th>\n",
              "    </tr>\n",
              "  </thead>\n",
              "  <tbody>\n",
              "    <tr>\n",
              "      <th>0</th>\n",
              "      <td>40369</td>\n",
              "      <td>309</td>\n",
              "      <td>19DEC2016</td>\n",
              "      <td>29.000000</td>\n",
              "      <td>NaN</td>\n",
              "      <td>NaN</td>\n",
              "      <td>NaN</td>\n",
              "      <td>NaN</td>\n",
              "      <td>NaN</td>\n",
              "      <td>NaN</td>\n",
              "    </tr>\n",
              "    <tr>\n",
              "      <th>1</th>\n",
              "      <td>40370</td>\n",
              "      <td>309</td>\n",
              "      <td>19DEC2016</td>\n",
              "      <td>64.000000</td>\n",
              "      <td>NaN</td>\n",
              "      <td>NaN</td>\n",
              "      <td>NaN</td>\n",
              "      <td>NaN</td>\n",
              "      <td>NaN</td>\n",
              "      <td>NaN</td>\n",
              "    </tr>\n",
              "    <tr>\n",
              "      <th>2</th>\n",
              "      <td>40372</td>\n",
              "      <td>309</td>\n",
              "      <td>19DEC2016</td>\n",
              "      <td>32.000000</td>\n",
              "      <td>NaN</td>\n",
              "      <td>NaN</td>\n",
              "      <td>NaN</td>\n",
              "      <td>NaN</td>\n",
              "      <td>NaN</td>\n",
              "      <td>NaN</td>\n",
              "    </tr>\n",
              "    <tr>\n",
              "      <th>3</th>\n",
              "      <td>40373</td>\n",
              "      <td>309</td>\n",
              "      <td>19DEC2016</td>\n",
              "      <td>10.000000</td>\n",
              "      <td>NaN</td>\n",
              "      <td>NaN</td>\n",
              "      <td>NaN</td>\n",
              "      <td>NaN</td>\n",
              "      <td>NaN</td>\n",
              "      <td>NaN</td>\n",
              "    </tr>\n",
              "    <tr>\n",
              "      <th>4</th>\n",
              "      <td>46272</td>\n",
              "      <td>309</td>\n",
              "      <td>19DEC2016</td>\n",
              "      <td>15.000000</td>\n",
              "      <td>NaN</td>\n",
              "      <td>NaN</td>\n",
              "      <td>NaN</td>\n",
              "      <td>NaN</td>\n",
              "      <td>NaN</td>\n",
              "      <td>NaN</td>\n",
              "    </tr>\n",
              "    <tr>\n",
              "      <th>...</th>\n",
              "      <td>...</td>\n",
              "      <td>...</td>\n",
              "      <td>...</td>\n",
              "      <td>...</td>\n",
              "      <td>...</td>\n",
              "      <td>...</td>\n",
              "      <td>...</td>\n",
              "      <td>...</td>\n",
              "      <td>...</td>\n",
              "      <td>...</td>\n",
              "    </tr>\n",
              "    <tr>\n",
              "      <th>35543</th>\n",
              "      <td>40370</td>\n",
              "      <td>1380</td>\n",
              "      <td>06JAN2020</td>\n",
              "      <td>11.551913</td>\n",
              "      <td>NaN</td>\n",
              "      <td>NaN</td>\n",
              "      <td>NaN</td>\n",
              "      <td>NaN</td>\n",
              "      <td>NaN</td>\n",
              "      <td>NaN</td>\n",
              "    </tr>\n",
              "    <tr>\n",
              "      <th>35544</th>\n",
              "      <td>40372</td>\n",
              "      <td>1380</td>\n",
              "      <td>06JAN2020</td>\n",
              "      <td>6.540984</td>\n",
              "      <td>NaN</td>\n",
              "      <td>NaN</td>\n",
              "      <td>NaN</td>\n",
              "      <td>NaN</td>\n",
              "      <td>NaN</td>\n",
              "      <td>NaN</td>\n",
              "    </tr>\n",
              "    <tr>\n",
              "      <th>35545</th>\n",
              "      <td>40373</td>\n",
              "      <td>1380</td>\n",
              "      <td>06JAN2020</td>\n",
              "      <td>4.398907</td>\n",
              "      <td>NaN</td>\n",
              "      <td>NaN</td>\n",
              "      <td>NaN</td>\n",
              "      <td>NaN</td>\n",
              "      <td>NaN</td>\n",
              "      <td>NaN</td>\n",
              "    </tr>\n",
              "    <tr>\n",
              "      <th>35546</th>\n",
              "      <td>46272</td>\n",
              "      <td>1380</td>\n",
              "      <td>06JAN2020</td>\n",
              "      <td>2.800000</td>\n",
              "      <td>NaN</td>\n",
              "      <td>NaN</td>\n",
              "      <td>NaN</td>\n",
              "      <td>NaN</td>\n",
              "      <td>NaN</td>\n",
              "      <td>NaN</td>\n",
              "    </tr>\n",
              "    <tr>\n",
              "      <th>35547</th>\n",
              "      <td>96212</td>\n",
              "      <td>1380</td>\n",
              "      <td>06JAN2020</td>\n",
              "      <td>2.800000</td>\n",
              "      <td>NaN</td>\n",
              "      <td>NaN</td>\n",
              "      <td>NaN</td>\n",
              "      <td>NaN</td>\n",
              "      <td>NaN</td>\n",
              "      <td>NaN</td>\n",
              "    </tr>\n",
              "  </tbody>\n",
              "</table>\n",
              "<p>35548 rows × 10 columns</p>\n",
              "</div>"
            ],
            "text/plain": [
              "       product_rk  store_location_rk  ... NUM_CONSULTANT  AUTORIZATION_FLAG\n",
              "0           40369                309  ...            NaN                NaN\n",
              "1           40370                309  ...            NaN                NaN\n",
              "2           40372                309  ...            NaN                NaN\n",
              "3           40373                309  ...            NaN                NaN\n",
              "4           46272                309  ...            NaN                NaN\n",
              "...           ...                ...  ...            ...                ...\n",
              "35543       40370               1380  ...            NaN                NaN\n",
              "35544       40372               1380  ...            NaN                NaN\n",
              "35545       40373               1380  ...            NaN                NaN\n",
              "35546       46272               1380  ...            NaN                NaN\n",
              "35547       96212               1380  ...            NaN                NaN\n",
              "\n",
              "[35548 rows x 10 columns]"
            ]
          },
          "metadata": {
            "tags": []
          },
          "execution_count": 89
        }
      ]
    },
    {
      "cell_type": "code",
      "metadata": {
        "id": "_GqkOuuTuNaq",
        "colab_type": "code",
        "colab": {}
      },
      "source": [
        "dummy = df[ (df['period_start_dt'] == '19DEC2016') | \n",
        "            (df['period_start_dt'] == '19DEC2017') | \n",
        "            (df['period_start_dt'] == '19DEC2018') |\n",
        "            (df['period_start_dt'] == '19DEC2019') |\n",
        "\n",
        "            (df['period_start_dt'] == '26DEC2016') |\n",
        "            (df['period_start_dt'] == '26DEC2017') |\n",
        "            (df['period_start_dt'] == '26DEC2018') |\n",
        "            (df['period_start_dt'] == '26DEC2019') |\n",
        "\n",
        "            (df['period_start_dt'] == '06MAR2016') |\n",
        "            (df['period_start_dt'] == '06MAR2017') |\n",
        "            (df['period_start_dt'] == '06MAR2018') |\n",
        "            (df['period_start_dt'] == '06MAR2019') |\n",
        "\n",
        "            (df['period_start_dt'] == '20FEB2016') |\n",
        "            (df['period_start_dt'] == '20FEB2017') |\n",
        "            (df['period_start_dt'] == '20FEB2018') |\n",
        "            (df['period_start_dt'] == '20FEB2019')  ]"
      ],
      "execution_count": null,
      "outputs": []
    },
    {
      "cell_type": "code",
      "metadata": {
        "id": "BF3H8piDudt9",
        "colab_type": "code",
        "colab": {
          "base_uri": "https://localhost:8080/",
          "height": 402
        },
        "outputId": "bafff234-0a6c-42ef-f485-ed3f302d399d"
      },
      "source": [
        "df['holiday_flag'] = np.where(df.index.isin(dummy.index), 1, 0)\n",
        "df"
      ],
      "execution_count": null,
      "outputs": [
        {
          "output_type": "execute_result",
          "data": {
            "text/html": [
              "<div>\n",
              "<style scoped>\n",
              "    .dataframe tbody tr th:only-of-type {\n",
              "        vertical-align: middle;\n",
              "    }\n",
              "\n",
              "    .dataframe tbody tr th {\n",
              "        vertical-align: top;\n",
              "    }\n",
              "\n",
              "    .dataframe thead th {\n",
              "        text-align: right;\n",
              "    }\n",
              "</style>\n",
              "<table border=\"1\" class=\"dataframe\">\n",
              "  <thead>\n",
              "    <tr style=\"text-align: right;\">\n",
              "      <th></th>\n",
              "      <th>product_rk</th>\n",
              "      <th>store_location_rk</th>\n",
              "      <th>period_start_dt</th>\n",
              "      <th>demand</th>\n",
              "      <th>PROMO1_FLAG</th>\n",
              "      <th>PROMO2_FLAG</th>\n",
              "      <th>PRICE_REGULAR</th>\n",
              "      <th>PRICE_AFTER_DISC</th>\n",
              "      <th>NUM_CONSULTANT</th>\n",
              "      <th>AUTORIZATION_FLAG</th>\n",
              "      <th>holiday_flag</th>\n",
              "    </tr>\n",
              "  </thead>\n",
              "  <tbody>\n",
              "    <tr>\n",
              "      <th>0</th>\n",
              "      <td>40369</td>\n",
              "      <td>309</td>\n",
              "      <td>19DEC2016</td>\n",
              "      <td>29.000000</td>\n",
              "      <td>NaN</td>\n",
              "      <td>NaN</td>\n",
              "      <td>NaN</td>\n",
              "      <td>NaN</td>\n",
              "      <td>NaN</td>\n",
              "      <td>NaN</td>\n",
              "      <td>1</td>\n",
              "    </tr>\n",
              "    <tr>\n",
              "      <th>1</th>\n",
              "      <td>40370</td>\n",
              "      <td>309</td>\n",
              "      <td>19DEC2016</td>\n",
              "      <td>64.000000</td>\n",
              "      <td>NaN</td>\n",
              "      <td>NaN</td>\n",
              "      <td>NaN</td>\n",
              "      <td>NaN</td>\n",
              "      <td>NaN</td>\n",
              "      <td>NaN</td>\n",
              "      <td>1</td>\n",
              "    </tr>\n",
              "    <tr>\n",
              "      <th>2</th>\n",
              "      <td>40372</td>\n",
              "      <td>309</td>\n",
              "      <td>19DEC2016</td>\n",
              "      <td>32.000000</td>\n",
              "      <td>NaN</td>\n",
              "      <td>NaN</td>\n",
              "      <td>NaN</td>\n",
              "      <td>NaN</td>\n",
              "      <td>NaN</td>\n",
              "      <td>NaN</td>\n",
              "      <td>1</td>\n",
              "    </tr>\n",
              "    <tr>\n",
              "      <th>3</th>\n",
              "      <td>40373</td>\n",
              "      <td>309</td>\n",
              "      <td>19DEC2016</td>\n",
              "      <td>10.000000</td>\n",
              "      <td>NaN</td>\n",
              "      <td>NaN</td>\n",
              "      <td>NaN</td>\n",
              "      <td>NaN</td>\n",
              "      <td>NaN</td>\n",
              "      <td>NaN</td>\n",
              "      <td>1</td>\n",
              "    </tr>\n",
              "    <tr>\n",
              "      <th>4</th>\n",
              "      <td>46272</td>\n",
              "      <td>309</td>\n",
              "      <td>19DEC2016</td>\n",
              "      <td>15.000000</td>\n",
              "      <td>NaN</td>\n",
              "      <td>NaN</td>\n",
              "      <td>NaN</td>\n",
              "      <td>NaN</td>\n",
              "      <td>NaN</td>\n",
              "      <td>NaN</td>\n",
              "      <td>1</td>\n",
              "    </tr>\n",
              "    <tr>\n",
              "      <th>...</th>\n",
              "      <td>...</td>\n",
              "      <td>...</td>\n",
              "      <td>...</td>\n",
              "      <td>...</td>\n",
              "      <td>...</td>\n",
              "      <td>...</td>\n",
              "      <td>...</td>\n",
              "      <td>...</td>\n",
              "      <td>...</td>\n",
              "      <td>...</td>\n",
              "      <td>...</td>\n",
              "    </tr>\n",
              "    <tr>\n",
              "      <th>35543</th>\n",
              "      <td>40370</td>\n",
              "      <td>1380</td>\n",
              "      <td>06JAN2020</td>\n",
              "      <td>11.551913</td>\n",
              "      <td>NaN</td>\n",
              "      <td>NaN</td>\n",
              "      <td>NaN</td>\n",
              "      <td>NaN</td>\n",
              "      <td>NaN</td>\n",
              "      <td>NaN</td>\n",
              "      <td>0</td>\n",
              "    </tr>\n",
              "    <tr>\n",
              "      <th>35544</th>\n",
              "      <td>40372</td>\n",
              "      <td>1380</td>\n",
              "      <td>06JAN2020</td>\n",
              "      <td>6.540984</td>\n",
              "      <td>NaN</td>\n",
              "      <td>NaN</td>\n",
              "      <td>NaN</td>\n",
              "      <td>NaN</td>\n",
              "      <td>NaN</td>\n",
              "      <td>NaN</td>\n",
              "      <td>0</td>\n",
              "    </tr>\n",
              "    <tr>\n",
              "      <th>35545</th>\n",
              "      <td>40373</td>\n",
              "      <td>1380</td>\n",
              "      <td>06JAN2020</td>\n",
              "      <td>4.398907</td>\n",
              "      <td>NaN</td>\n",
              "      <td>NaN</td>\n",
              "      <td>NaN</td>\n",
              "      <td>NaN</td>\n",
              "      <td>NaN</td>\n",
              "      <td>NaN</td>\n",
              "      <td>0</td>\n",
              "    </tr>\n",
              "    <tr>\n",
              "      <th>35546</th>\n",
              "      <td>46272</td>\n",
              "      <td>1380</td>\n",
              "      <td>06JAN2020</td>\n",
              "      <td>2.800000</td>\n",
              "      <td>NaN</td>\n",
              "      <td>NaN</td>\n",
              "      <td>NaN</td>\n",
              "      <td>NaN</td>\n",
              "      <td>NaN</td>\n",
              "      <td>NaN</td>\n",
              "      <td>0</td>\n",
              "    </tr>\n",
              "    <tr>\n",
              "      <th>35547</th>\n",
              "      <td>96212</td>\n",
              "      <td>1380</td>\n",
              "      <td>06JAN2020</td>\n",
              "      <td>2.800000</td>\n",
              "      <td>NaN</td>\n",
              "      <td>NaN</td>\n",
              "      <td>NaN</td>\n",
              "      <td>NaN</td>\n",
              "      <td>NaN</td>\n",
              "      <td>NaN</td>\n",
              "      <td>0</td>\n",
              "    </tr>\n",
              "  </tbody>\n",
              "</table>\n",
              "<p>35548 rows × 11 columns</p>\n",
              "</div>"
            ],
            "text/plain": [
              "       product_rk  store_location_rk  ... AUTORIZATION_FLAG  holiday_flag\n",
              "0           40369                309  ...               NaN             1\n",
              "1           40370                309  ...               NaN             1\n",
              "2           40372                309  ...               NaN             1\n",
              "3           40373                309  ...               NaN             1\n",
              "4           46272                309  ...               NaN             1\n",
              "...           ...                ...  ...               ...           ...\n",
              "35543       40370               1380  ...               NaN             0\n",
              "35544       40372               1380  ...               NaN             0\n",
              "35545       40373               1380  ...               NaN             0\n",
              "35546       46272               1380  ...               NaN             0\n",
              "35547       96212               1380  ...               NaN             0\n",
              "\n",
              "[35548 rows x 11 columns]"
            ]
          },
          "metadata": {
            "tags": []
          },
          "execution_count": 93
        }
      ]
    },
    {
      "cell_type": "code",
      "metadata": {
        "id": "YA1bh_Pquwhs",
        "colab_type": "code",
        "colab": {}
      },
      "source": [
        "jan2020 = df[df['period_start_dt'].isin(['02DEC2019', '09DEC2019', '16DEC2019', '23DEC2019', '30DEC2019'])]"
      ],
      "execution_count": null,
      "outputs": []
    },
    {
      "cell_type": "code",
      "metadata": {
        "id": "7XCIn8Uju-E6",
        "colab_type": "code",
        "colab": {
          "base_uri": "https://localhost:8080/",
          "height": 402
        },
        "outputId": "c34bbe40-3587-4ec5-a6ea-8e89cf51cec5"
      },
      "source": [
        "jan2020"
      ],
      "execution_count": null,
      "outputs": [
        {
          "output_type": "execute_result",
          "data": {
            "text/html": [
              "<div>\n",
              "<style scoped>\n",
              "    .dataframe tbody tr th:only-of-type {\n",
              "        vertical-align: middle;\n",
              "    }\n",
              "\n",
              "    .dataframe tbody tr th {\n",
              "        vertical-align: top;\n",
              "    }\n",
              "\n",
              "    .dataframe thead th {\n",
              "        text-align: right;\n",
              "    }\n",
              "</style>\n",
              "<table border=\"1\" class=\"dataframe\">\n",
              "  <thead>\n",
              "    <tr style=\"text-align: right;\">\n",
              "      <th></th>\n",
              "      <th>product_rk</th>\n",
              "      <th>store_location_rk</th>\n",
              "      <th>period_start_dt</th>\n",
              "      <th>demand</th>\n",
              "      <th>PROMO1_FLAG</th>\n",
              "      <th>PROMO2_FLAG</th>\n",
              "      <th>PRICE_REGULAR</th>\n",
              "      <th>PRICE_AFTER_DISC</th>\n",
              "      <th>NUM_CONSULTANT</th>\n",
              "      <th>AUTORIZATION_FLAG</th>\n",
              "      <th>holiday_flag</th>\n",
              "    </tr>\n",
              "  </thead>\n",
              "  <tbody>\n",
              "    <tr>\n",
              "      <th>908</th>\n",
              "      <td>40369</td>\n",
              "      <td>317</td>\n",
              "      <td>02DEC2019</td>\n",
              "      <td>7.000000</td>\n",
              "      <td>0.0</td>\n",
              "      <td>0.0</td>\n",
              "      <td>500.00</td>\n",
              "      <td>500.0</td>\n",
              "      <td>0.0</td>\n",
              "      <td>1.0</td>\n",
              "      <td>0</td>\n",
              "    </tr>\n",
              "    <tr>\n",
              "      <th>909</th>\n",
              "      <td>40370</td>\n",
              "      <td>317</td>\n",
              "      <td>02DEC2019</td>\n",
              "      <td>6.000000</td>\n",
              "      <td>0.0</td>\n",
              "      <td>0.0</td>\n",
              "      <td>1000.00</td>\n",
              "      <td>1000.0</td>\n",
              "      <td>0.0</td>\n",
              "      <td>1.0</td>\n",
              "      <td>0</td>\n",
              "    </tr>\n",
              "    <tr>\n",
              "      <th>910</th>\n",
              "      <td>40372</td>\n",
              "      <td>317</td>\n",
              "      <td>02DEC2019</td>\n",
              "      <td>8.000000</td>\n",
              "      <td>0.0</td>\n",
              "      <td>0.0</td>\n",
              "      <td>2000.00</td>\n",
              "      <td>2000.0</td>\n",
              "      <td>0.0</td>\n",
              "      <td>1.0</td>\n",
              "      <td>0</td>\n",
              "    </tr>\n",
              "    <tr>\n",
              "      <th>911</th>\n",
              "      <td>40373</td>\n",
              "      <td>317</td>\n",
              "      <td>02DEC2019</td>\n",
              "      <td>5.000000</td>\n",
              "      <td>0.0</td>\n",
              "      <td>0.0</td>\n",
              "      <td>3000.00</td>\n",
              "      <td>3000.0</td>\n",
              "      <td>0.0</td>\n",
              "      <td>1.0</td>\n",
              "      <td>0</td>\n",
              "    </tr>\n",
              "    <tr>\n",
              "      <th>912</th>\n",
              "      <td>46272</td>\n",
              "      <td>317</td>\n",
              "      <td>02DEC2019</td>\n",
              "      <td>5.000000</td>\n",
              "      <td>1.0</td>\n",
              "      <td>0.0</td>\n",
              "      <td>284.29</td>\n",
              "      <td>199.0</td>\n",
              "      <td>0.0</td>\n",
              "      <td>1.0</td>\n",
              "      <td>0</td>\n",
              "    </tr>\n",
              "    <tr>\n",
              "      <th>...</th>\n",
              "      <td>...</td>\n",
              "      <td>...</td>\n",
              "      <td>...</td>\n",
              "      <td>...</td>\n",
              "      <td>...</td>\n",
              "      <td>...</td>\n",
              "      <td>...</td>\n",
              "      <td>...</td>\n",
              "      <td>...</td>\n",
              "      <td>...</td>\n",
              "      <td>...</td>\n",
              "    </tr>\n",
              "    <tr>\n",
              "      <th>35537</th>\n",
              "      <td>40370</td>\n",
              "      <td>1380</td>\n",
              "      <td>30DEC2019</td>\n",
              "      <td>101.595628</td>\n",
              "      <td>0.0</td>\n",
              "      <td>0.0</td>\n",
              "      <td>1000.00</td>\n",
              "      <td>1000.0</td>\n",
              "      <td>0.0</td>\n",
              "      <td>1.0</td>\n",
              "      <td>0</td>\n",
              "    </tr>\n",
              "    <tr>\n",
              "      <th>35538</th>\n",
              "      <td>40372</td>\n",
              "      <td>1380</td>\n",
              "      <td>30DEC2019</td>\n",
              "      <td>62.934426</td>\n",
              "      <td>0.0</td>\n",
              "      <td>0.0</td>\n",
              "      <td>2000.00</td>\n",
              "      <td>2000.0</td>\n",
              "      <td>0.0</td>\n",
              "      <td>1.0</td>\n",
              "      <td>0</td>\n",
              "    </tr>\n",
              "    <tr>\n",
              "      <th>35539</th>\n",
              "      <td>40373</td>\n",
              "      <td>1380</td>\n",
              "      <td>30DEC2019</td>\n",
              "      <td>26.622951</td>\n",
              "      <td>0.0</td>\n",
              "      <td>0.0</td>\n",
              "      <td>3000.00</td>\n",
              "      <td>3000.0</td>\n",
              "      <td>0.0</td>\n",
              "      <td>1.0</td>\n",
              "      <td>0</td>\n",
              "    </tr>\n",
              "    <tr>\n",
              "      <th>35540</th>\n",
              "      <td>46272</td>\n",
              "      <td>1380</td>\n",
              "      <td>30DEC2019</td>\n",
              "      <td>11.333333</td>\n",
              "      <td>1.0</td>\n",
              "      <td>0.0</td>\n",
              "      <td>284.29</td>\n",
              "      <td>199.0</td>\n",
              "      <td>0.0</td>\n",
              "      <td>1.0</td>\n",
              "      <td>0</td>\n",
              "    </tr>\n",
              "    <tr>\n",
              "      <th>35541</th>\n",
              "      <td>96212</td>\n",
              "      <td>1380</td>\n",
              "      <td>30DEC2019</td>\n",
              "      <td>9.433333</td>\n",
              "      <td>1.0</td>\n",
              "      <td>0.0</td>\n",
              "      <td>141.43</td>\n",
              "      <td>99.0</td>\n",
              "      <td>0.0</td>\n",
              "      <td>1.0</td>\n",
              "      <td>0</td>\n",
              "    </tr>\n",
              "  </tbody>\n",
              "</table>\n",
              "<p>1200 rows × 11 columns</p>\n",
              "</div>"
            ],
            "text/plain": [
              "       product_rk  store_location_rk  ... AUTORIZATION_FLAG  holiday_flag\n",
              "908         40369                317  ...               1.0             0\n",
              "909         40370                317  ...               1.0             0\n",
              "910         40372                317  ...               1.0             0\n",
              "911         40373                317  ...               1.0             0\n",
              "912         46272                317  ...               1.0             0\n",
              "...           ...                ...  ...               ...           ...\n",
              "35537       40370               1380  ...               1.0             0\n",
              "35538       40372               1380  ...               1.0             0\n",
              "35539       40373               1380  ...               1.0             0\n",
              "35540       46272               1380  ...               1.0             0\n",
              "35541       96212               1380  ...               1.0             0\n",
              "\n",
              "[1200 rows x 11 columns]"
            ]
          },
          "metadata": {
            "tags": []
          },
          "execution_count": 95
        }
      ]
    },
    {
      "cell_type": "code",
      "metadata": {
        "id": "1w5bpHTmvjQQ",
        "colab_type": "code",
        "colab": {
          "base_uri": "https://localhost:8080/",
          "height": 148
        },
        "outputId": "4783e286-ace6-4162-c164-44d77219ae80"
      },
      "source": [
        "jan2020['code'] = jan2020['product_rk'].astype(str) + jan2020['store_location_rk'].astype(str)\n",
        "jan_2020_x = jan2020[jan2020['code'].isin(norm_sku_store)]\n",
        "# jan_2020_x = jan2020[jan2020['code'].loc(:, norm_sku_store)]\n",
        "jan_2020_x['date'] = pd.to_datetime(jan_2020_x.period_start_dt, format='%d%b%Y')\n",
        "# log price\n",
        "# df['PRICE_REGULAR'] = np.log(df.PRICE_REGULAR)\n",
        "# date to 10^8 sec\n",
        "jan_2020_x.date = jan_2020_x.date.astype(np.int64)/3600/24\n",
        "jan_2020_x.date = jan_2020_x.date.astype(np.int64)/10**9\n",
        "jan_2020_x = jan_2020_x.drop('period_start_dt', axis=1)\n",
        "jan_2020_x = jan_2020_x.drop('code', axis=1)\n",
        "jan_2020_x"
      ],
      "execution_count": null,
      "outputs": [
        {
          "output_type": "stream",
          "text": [
            "/usr/local/lib/python3.6/dist-packages/ipykernel_launcher.py:1: SettingWithCopyWarning: \n",
            "A value is trying to be set on a copy of a slice from a DataFrame.\n",
            "Try using .loc[row_indexer,col_indexer] = value instead\n",
            "\n",
            "See the caveats in the documentation: https://pandas.pydata.org/pandas-docs/stable/user_guide/indexing.html#returning-a-view-versus-a-copy\n",
            "  \"\"\"Entry point for launching an IPython kernel.\n"
          ],
          "name": "stderr"
        },
        {
          "output_type": "execute_result",
          "data": {
            "text/html": [
              "<div>\n",
              "<style scoped>\n",
              "    .dataframe tbody tr th:only-of-type {\n",
              "        vertical-align: middle;\n",
              "    }\n",
              "\n",
              "    .dataframe tbody tr th {\n",
              "        vertical-align: top;\n",
              "    }\n",
              "\n",
              "    .dataframe thead th {\n",
              "        text-align: right;\n",
              "    }\n",
              "</style>\n",
              "<table border=\"1\" class=\"dataframe\">\n",
              "  <thead>\n",
              "    <tr style=\"text-align: right;\">\n",
              "      <th></th>\n",
              "      <th>product_rk</th>\n",
              "      <th>store_location_rk</th>\n",
              "      <th>demand</th>\n",
              "      <th>PROMO1_FLAG</th>\n",
              "      <th>PROMO2_FLAG</th>\n",
              "      <th>PRICE_REGULAR</th>\n",
              "      <th>PRICE_AFTER_DISC</th>\n",
              "      <th>NUM_CONSULTANT</th>\n",
              "      <th>AUTORIZATION_FLAG</th>\n",
              "      <th>holiday_flag</th>\n",
              "      <th>date</th>\n",
              "    </tr>\n",
              "  </thead>\n",
              "  <tbody>\n",
              "  </tbody>\n",
              "</table>\n",
              "</div>"
            ],
            "text/plain": [
              "Empty DataFrame\n",
              "Columns: [product_rk, store_location_rk, demand, PROMO1_FLAG, PROMO2_FLAG, PRICE_REGULAR, PRICE_AFTER_DISC, NUM_CONSULTANT, AUTORIZATION_FLAG, holiday_flag, date]\n",
              "Index: []"
            ]
          },
          "metadata": {
            "tags": []
          },
          "execution_count": 107
        }
      ]
    },
    {
      "cell_type": "code",
      "metadata": {
        "id": "cFvxEBbUvCIV",
        "colab_type": "code",
        "colab": {}
      },
      "source": [
        "jan2020_x = split_dataset(jan_2020_x, uni_st_ids, uni_sku_ids)"
      ],
      "execution_count": null,
      "outputs": []
    },
    {
      "cell_type": "code",
      "metadata": {
        "id": "HJMYSNkev1wS",
        "colab_type": "code",
        "colab": {
          "base_uri": "https://localhost:8080/",
          "height": 34
        },
        "outputId": "ebfe00d3-bee7-4c6c-a4e1-cb8974ccd23e"
      },
      "source": [
        "j20_x_cap = []\n",
        "for df in jan2020_x:\n",
        "    if df.shape[0] != 0:\n",
        "        j20_x_cap.append(df)\n",
        "j20_x_cap"
      ],
      "execution_count": null,
      "outputs": [
        {
          "output_type": "execute_result",
          "data": {
            "text/plain": [
              "[]"
            ]
          },
          "metadata": {
            "tags": []
          },
          "execution_count": 82
        }
      ]
    },
    {
      "cell_type": "code",
      "metadata": {
        "id": "Y6x4mDssuo6o",
        "colab_type": "code",
        "colab": {
          "base_uri": "https://localhost:8080/",
          "height": 34
        },
        "outputId": "a1495d7f-8f0e-44d5-82d3-15123ac43f4c"
      },
      "source": [
        "len(j20_x_cap)"
      ],
      "execution_count": null,
      "outputs": [
        {
          "output_type": "execute_result",
          "data": {
            "text/plain": [
              "0"
            ]
          },
          "metadata": {
            "tags": []
          },
          "execution_count": 83
        }
      ]
    },
    {
      "cell_type": "code",
      "metadata": {
        "id": "HqZ7FpOBxbd4",
        "colab_type": "code",
        "colab": {
          "base_uri": "https://localhost:8080/",
          "height": 167
        },
        "outputId": "940cfc81-fdc7-4002-fdbb-9613d60edbd3"
      },
      "source": [
        "j20_x_cap[0].shape"
      ],
      "execution_count": null,
      "outputs": [
        {
          "output_type": "error",
          "ename": "IndexError",
          "evalue": "ignored",
          "traceback": [
            "\u001b[0;31m---------------------------------------------------------------------------\u001b[0m",
            "\u001b[0;31mIndexError\u001b[0m                                Traceback (most recent call last)",
            "\u001b[0;32m<ipython-input-75-30ef6b9b5bf2>\u001b[0m in \u001b[0;36m<module>\u001b[0;34m()\u001b[0m\n\u001b[0;32m----> 1\u001b[0;31m \u001b[0mj20_x_cap\u001b[0m\u001b[0;34m[\u001b[0m\u001b[0;36m0\u001b[0m\u001b[0;34m]\u001b[0m\u001b[0;34m.\u001b[0m\u001b[0mshape\u001b[0m\u001b[0;34m\u001b[0m\u001b[0;34m\u001b[0m\u001b[0m\n\u001b[0m",
            "\u001b[0;31mIndexError\u001b[0m: list index out of range"
          ]
        }
      ]
    },
    {
      "cell_type": "code",
      "metadata": {
        "id": "x04GbBxixLgQ",
        "colab_type": "code",
        "colab": {}
      },
      "source": [
        "def predict_on_set(ds):\n",
        "    preds = []\n",
        "    for x in ds:\n",
        "        preds.append(model.predict(x.reshape(1,5,11)))\n",
        "    return preds"
      ],
      "execution_count": null,
      "outputs": []
    },
    {
      "cell_type": "code",
      "metadata": {
        "id": "_IUjNWO6yATZ",
        "colab_type": "code",
        "colab": {}
      },
      "source": [
        "preds = predict_on_set(j20_x_cap)"
      ],
      "execution_count": null,
      "outputs": []
    },
    {
      "cell_type": "code",
      "metadata": {
        "id": "I6Nt0c_7yUVS",
        "colab_type": "code",
        "colab": {}
      },
      "source": [
        "new_pr = []\n",
        "for pr in preds:\n",
        "    new_pr.append(float(pr))\n",
        "new_pr"
      ],
      "execution_count": null,
      "outputs": []
    },
    {
      "cell_type": "code",
      "metadata": {
        "id": "cAwAk1dwzcGr",
        "colab_type": "code",
        "colab": {}
      },
      "source": [
        "new_pr = pd.DataFrame(new_pr)"
      ],
      "execution_count": null,
      "outputs": []
    },
    {
      "cell_type": "code",
      "metadata": {
        "id": "enn1lw-p0UZd",
        "colab_type": "code",
        "colab": {}
      },
      "source": [
        "new_pr.index=jan_actual_df.index"
      ],
      "execution_count": null,
      "outputs": []
    },
    {
      "cell_type": "code",
      "metadata": {
        "id": "tuPrluJV0dSi",
        "colab_type": "code",
        "colab": {}
      },
      "source": [
        "new_pr"
      ],
      "execution_count": null,
      "outputs": []
    },
    {
      "cell_type": "code",
      "metadata": {
        "id": "A8BH0QqczQLW",
        "colab_type": "code",
        "colab": {}
      },
      "source": [
        "answer = pd.concat([jan_actual_df, pd.DataFrame(new_pr)], axis=1)"
      ],
      "execution_count": null,
      "outputs": []
    },
    {
      "cell_type": "code",
      "metadata": {
        "id": "qOYk4gSZ0jWy",
        "colab_type": "code",
        "colab": {}
      },
      "source": [
        "answer.to_csv('jan2020_pred.csv')"
      ],
      "execution_count": null,
      "outputs": []
    },
    {
      "cell_type": "markdown",
      "metadata": {
        "id": "hN_P3n6-cUmN",
        "colab_type": "text"
      },
      "source": [
        "#Analyses\n",
        "\n"
      ]
    },
    {
      "cell_type": "markdown",
      "metadata": {
        "id": "hN8f4EeScXto",
        "colab_type": "text"
      },
      "source": [
        "## **Perсentage error metrics**"
      ]
    },
    {
      "cell_type": "code",
      "metadata": {
        "id": "2UKp6ynRcTx3",
        "colab_type": "code",
        "colab": {
          "base_uri": "https://localhost:8080/",
          "height": 119
        },
        "outputId": "46c01ffc-e87d-4c60-b4d3-153b08905962"
      },
      "source": [
        "t = PrettyTable()\n",
        "t.field_names = ['atomic level', 'aggregation level', 'METRIC_NAME']\n",
        "t.add_row(['location|product', 'all locations|all products', '66 %'])\n",
        "t.add_row(['all locations|product', 'all locations|all products', '30 %'])\n",
        "print(t)"
      ],
      "execution_count": null,
      "outputs": [
        {
          "output_type": "stream",
          "text": [
            "+-----------------------+----------------------------+-------------+\n",
            "|      atomic level     |     aggregation level      | METRIC_NAME |\n",
            "+-----------------------+----------------------------+-------------+\n",
            "|    location|product   | all locations|all products |     66 %    |\n",
            "| all locations|product | all locations|all products |     30 %    |\n",
            "+-----------------------+----------------------------+-------------+\n"
          ],
          "name": "stdout"
        }
      ]
    },
    {
      "cell_type": "markdown",
      "metadata": {
        "id": "NDFVU4v_cpGC",
        "colab_type": "text"
      },
      "source": [
        "The metrics below receive the following data as input: \n",
        "- pd.DataFrame with columns Store_id, SKU_id, Week, Forecast, Actual, ForecastFlag(takes values 0 or 1)\n",
        "- a list of stores **Location_group** for which we are building a forecast\n",
        "- a list of goods **Product_group** for which we are building a forecast\n",
        "\n",
        "The output of the metric calculation function prints the following table:\n"
      ]
    },
    {
      "cell_type": "code",
      "metadata": {
        "id": "qnHTuuJqcsqv",
        "colab_type": "code",
        "colab": {}
      },
      "source": [
        "def WAMAXPE(dataframe, Location_group, Product_group):\n",
        "    \n",
        "    #select the necessary products and shops, filter columns with ForecastFlag=1\n",
        "    data = dataframe.copy()\n",
        "    data = data.loc[data['Store_id'].isin(Location_group)]\n",
        "    data = data.loc[data['SKU_id'].isin(Product_group)]\n",
        "    data = data.loc[data['ForecastFlag'] == 1]\n",
        "\n",
        "    #wamaxpe: atomic_level = location/product, aggregation_level = all_products/all_location\n",
        "    data['diff'] = np.abs(data.Forecast - data.Actual)\n",
        "    data['max'] = data[['Forecast', 'Actual']].max(axis=1)\n",
        "    data1 = data.groupby(['Store_id', 'SKU_id']).agg({'diff':'sum', 'max':'sum'})\n",
        "    wamaxpe1 = 100 * data1['diff'].sum() / data1['max'].sum()\n",
        "   \n",
        "    #wamaxpe: atomic_level = all_locations/product, aggregation_level = all_products/all_location\n",
        "    data2 = data.groupby(['SKU_id']).agg({'Forecast':'sum', 'Actual':'sum'}).reset_index()\n",
        "    wamaxpe2 = 100 * np.abs(data2.Forecast - \n",
        "                                          data2.Actual).sum() / data2[['Forecast', 'Actual']].max(axis=1).sum()\n",
        "    \n",
        "    t = PrettyTable()\n",
        "    t.field_names = ['atomic level', 'aggregation level', 'WAMAXPE']\n",
        "    t.add_row(['location|product', 'all locations|all products', f'{wamaxpe1} %'])\n",
        "    t.add_row(['all locations|product', 'all locations|all products',f'{wamaxpe2} %'])\n",
        "\n",
        "    print(t)"
      ],
      "execution_count": null,
      "outputs": []
    },
    {
      "cell_type": "code",
      "metadata": {
        "id": "ogvprEd3cv5w",
        "colab_type": "code",
        "colab": {}
      },
      "source": [
        "def AVG_MAXPE(dataframe, Location_group, Product_group):\n",
        "    \n",
        "    data = dataframe.copy()\n",
        "    data = data.loc[data['Store_id'].isin(Location_group)]\n",
        "    data = data.loc[data['SKU_id'].isin(Product_group)]\n",
        "    data = data.loc[data['ForecastFlag'] == 1]\n",
        "\n",
        "    data['diff'] = np.abs(data.Forecast - data.Actual)\n",
        "    data['max'] = data[['Forecast', 'Actual']].max(axis=1)\n",
        "    data['fraction'] = data['diff'] / data['max']\n",
        "    data1 = data.groupby(['Store_id', 'SKU_id']).agg({'fraction': 'sum'})\n",
        "    avg_maxpe1 = 100 * data1['fraction'].sum() / len(data)\n",
        "    \n",
        "    data2 = data.groupby(['SKU_id']).agg({'Forecast':'sum', 'Actual':'sum'}).reset_index()\n",
        "    data2['diff'] = np.abs(data2.Forecast - data2.Actual)\n",
        "    data2['max'] = data2[['Forecast', 'Actual']].max(axis=1)\n",
        "    data2['fraction'] = data2['diff'] / data2['max']\n",
        "    avg_maxpe2 = 100 * data2['fraction'].sum() / len(data)\n",
        "    \n",
        "    t = PrettyTable()\n",
        "    t.field_names = ['atomic level', 'aggregation level', 'AVG_MAXPE']\n",
        "    t.add_row(['location|product', 'all locations|all products', f'{avg_maxpe1} %'])\n",
        "    t.add_row(['all locations|product', 'all locations|all products',f'{avg_maxpe2} %'])\n",
        "    \n",
        "    print(t)"
      ],
      "execution_count": null,
      "outputs": []
    },
    {
      "cell_type": "code",
      "metadata": {
        "id": "uutGHc-BcwPG",
        "colab_type": "code",
        "colab": {}
      },
      "source": [
        "def WAPE(dataframe, Location_group, Product_group):\n",
        "    \n",
        "    data = dataframe.copy()\n",
        "    data = data.loc[data['Store_id'].isin(Location_group)]\n",
        "    data = data.loc[data['SKU_id'].isin(Product_group)]\n",
        "    data = data.loc[data['ForecastFlag'] == 1]\n",
        "    \n",
        "    data['diff'] = np.abs(data.Forecast - data.Actual)\n",
        "    data1 = data.groupby(['Store_id', 'SKU_id']).agg({'diff':'sum', 'Actual':'sum'})\n",
        "    wape1 = 100 * data1['diff'].sum() / data1['Actual'].sum()\n",
        "    \n",
        "    data2 = data.groupby(['SKU_id']).agg({'Forecast':'sum', 'Actual':'sum'}).reset_index()\n",
        "    wape2 = 100 * np.abs(data2.Forecast - data2.Actual).sum() / data2['Actual'].sum()\n",
        "    \n",
        "    t = PrettyTable()\n",
        "    t.field_names = ['atomic level', 'aggregation level', 'WAPE']\n",
        "    t.add_row(['location|product', 'all locations|all products', f'{wape1} %'])\n",
        "    t.add_row(['all locations|product', 'all locations|all products',f'{wape2} %'])\n",
        "\n",
        "    print(t)"
      ],
      "execution_count": null,
      "outputs": []
    },
    {
      "cell_type": "markdown",
      "metadata": {
        "id": "TZdGHhgLc3qF",
        "colab_type": "text"
      },
      "source": [
        "## **Bias - Over/Under estimation metrics**"
      ]
    },
    {
      "cell_type": "markdown",
      "metadata": {
        "id": "SLkiNdo9c5Am",
        "colab_type": "text"
      },
      "source": [
        "These metrics take values in the range from -1 to 1. Negative values indicate under-forecasting, and positive values indicate over-forecasting."
      ]
    },
    {
      "cell_type": "markdown",
      "metadata": {
        "id": "s4JjJYG0c7CA",
        "colab_type": "text"
      },
      "source": [
        "The output of the metric calculation function prints the following table:\n"
      ]
    },
    {
      "cell_type": "code",
      "metadata": {
        "id": "_QNmn2hpc9mU",
        "colab_type": "code",
        "colab": {
          "base_uri": "https://localhost:8080/",
          "height": 119
        },
        "outputId": "ddb52ca6-cd2b-44d2-853d-bdf2e9c90198"
      },
      "source": [
        "t = PrettyTable()\n",
        "t.field_names = ['atomic level', 'aggregation level', 'METRIC_NAME']\n",
        "t.add_row(['location|product', 'all locations|all products', '-0.78'])\n",
        "t.add_row(['all locations|product', 'all locations|all products', '-0.25'])\n",
        "print(t)"
      ],
      "execution_count": null,
      "outputs": [
        {
          "output_type": "stream",
          "text": [
            "+-----------------------+----------------------------+-------------+\n",
            "|      atomic level     |     aggregation level      | METRIC_NAME |\n",
            "+-----------------------+----------------------------+-------------+\n",
            "|    location|product   | all locations|all products |    -0.78    |\n",
            "| all locations|product | all locations|all products |    -0.25    |\n",
            "+-----------------------+----------------------------+-------------+\n"
          ],
          "name": "stdout"
        }
      ]
    },
    {
      "cell_type": "markdown",
      "metadata": {
        "id": "xUiul_6adDyf",
        "colab_type": "text"
      },
      "source": [
        "$ AVG\\_NFM = \\frac{1}{n} \\sum\\limits_{Loc \\in группаTT, Prod\\in группаSKU}\\sum\\limits_{t}\\frac{F^{Loc, Prod}_t - A^{Loc, Prod}_t}{F^{Loc, Prod}_t + A^{Loc, Prod}_t}$"
      ]
    },
    {
      "cell_type": "code",
      "metadata": {
        "id": "nJbGXKSdc_hC",
        "colab_type": "code",
        "colab": {}
      },
      "source": [
        "def AVG_NFM(dataframe, Location_group, Product_group):\n",
        "    \n",
        "    data = dataframe.copy()\n",
        "    data = data.loc[data['Store_id'].isin(Location_group)]\n",
        "    data = data.loc[data['SKU_id'].isin(Product_group)]\n",
        "    data = data.loc[data['ForecastFlag'] == 1]\n",
        "    \n",
        "    data['fraction'] = (data.Forecast - data.Actual) / (data.Forecast + data.Actual)\n",
        "    data1 = data.groupby(['Store_id', 'SKU_id']).agg({'fraction': 'sum'})\n",
        "    avg_nfm1 = data1['fraction'].sum() / len(data1)\n",
        "    \n",
        "    data2 = data.groupby(['SKU_id']).agg({'Forecast':'sum', 'Actual':'sum'}).reset_index()\n",
        "    data2['fraction'] = (data2.Forecast - data2.Actual) / (data2.Forecast + data2.Actual)\n",
        "    avg_nfm2 = data2['fraction'].sum() / len(data2)\n",
        "    \n",
        "    t = PrettyTable()\n",
        "    t.field_names = ['atomic level', 'aggregation level', 'AVG_NFM']\n",
        "    t.add_row(['location|product', 'all locations|all products', f'{avg_nfm1}'])\n",
        "    t.add_row(['all locations|product', 'all locations|all products',f'{avg_nfm2}'])\n",
        "    \n",
        "    print(t)"
      ],
      "execution_count": null,
      "outputs": []
    },
    {
      "cell_type": "markdown",
      "metadata": {
        "id": "uSz_xGD4dGvy",
        "colab_type": "text"
      },
      "source": [
        "$Tracking\\_signal = \\frac{1}{n} \\sum\\limits_{Loc \\in группаTT, Prod\\in группаSKU}\\sum\\limits_{t}\\frac{F^{Loc, Prod}_t - A^{Loc, Prod}_t}{|F^{Loc, Prod}_t - A^{Loc, Prod}_t|}$"
      ]
    },
    {
      "cell_type": "code",
      "metadata": {
        "id": "UYsuw8OWdIta",
        "colab_type": "code",
        "colab": {}
      },
      "source": [
        "def Tracking_signal(dataframe, Location_group, Product_group):\n",
        "    \n",
        "    data = dataframe.copy()\n",
        "    data = data.loc[data['Store_id'].isin(Location_group)]\n",
        "    data = data.loc[data['SKU_id'].isin(Product_group)]\n",
        "    data = data.loc[data['ForecastFlag'] == 1]\n",
        "    \n",
        "    data['fraction'] = (data.Forecast - data.Actual) / np.abs(data.Forecast - data.Actual)\n",
        "    data1 = data.groupby(['Store_id', 'SKU_id']).agg({'fraction': 'sum'})\n",
        "    avg_nfm1 = data1['fraction'].sum() / len(data)\n",
        "    \n",
        "    data2 = data.groupby(['SKU_id']).agg({'Forecast':'sum', 'Actual':'sum'}).reset_index()\n",
        "    data2['fraction'] = (data2.Forecast - data2.Actual) / np.abs(data2.Forecast - data2.Actual)\n",
        "    avg_nfm2 = data2['fraction'].sum() / len(data)\n",
        "    \n",
        "    t = PrettyTable()\n",
        "    t.field_names = ['atomic level', 'aggregation level', 'AVG_NFM']\n",
        "    t.add_row(['location|product', 'all locations|all products', f'{avg_nfm1}'])\n",
        "    t.add_row(['all locations|product', 'all locations|all products',f'{avg_nfm2}'])\n",
        "    \n",
        "    print(t)"
      ],
      "execution_count": null,
      "outputs": []
    },
    {
      "cell_type": "markdown",
      "metadata": {
        "id": "jJid495PdNq_",
        "colab_type": "text"
      },
      "source": [
        "## **Simple LSTM**\n"
      ]
    },
    {
      "cell_type": "code",
      "metadata": {
        "id": "MukyDLWmdSS-",
        "colab_type": "code",
        "colab": {
          "base_uri": "https://localhost:8080/",
          "height": 241
        },
        "outputId": "8dd84e21-7e81-4237-803f-501ae9a5a125"
      },
      "source": [
        "drive.mount('/content/drive')\n",
        "PATH = 'drive/My Drive/DLDF/data'\n",
        "preds_model_LSTM = pd.read_csv(PATH + '/jan2020_pred_LSTM.csv', sep=',') \n",
        "preds_model_LSTM.head()"
      ],
      "execution_count": null,
      "outputs": [
        {
          "output_type": "stream",
          "text": [
            "Drive already mounted at /content/drive; to attempt to forcibly remount, call drive.mount(\"/content/drive\", force_remount=True).\n"
          ],
          "name": "stdout"
        },
        {
          "output_type": "execute_result",
          "data": {
            "text/html": [
              "<div>\n",
              "<style scoped>\n",
              "    .dataframe tbody tr th:only-of-type {\n",
              "        vertical-align: middle;\n",
              "    }\n",
              "\n",
              "    .dataframe tbody tr th {\n",
              "        vertical-align: top;\n",
              "    }\n",
              "\n",
              "    .dataframe thead th {\n",
              "        text-align: right;\n",
              "    }\n",
              "</style>\n",
              "<table border=\"1\" class=\"dataframe\">\n",
              "  <thead>\n",
              "    <tr style=\"text-align: right;\">\n",
              "      <th></th>\n",
              "      <th>Unnamed: 0</th>\n",
              "      <th>period_start_dt</th>\n",
              "      <th>demand</th>\n",
              "      <th>date</th>\n",
              "      <th>product_rk</th>\n",
              "      <th>store_location_rk</th>\n",
              "      <th>code</th>\n",
              "      <th>0</th>\n",
              "    </tr>\n",
              "  </thead>\n",
              "  <tbody>\n",
              "    <tr>\n",
              "      <th>0</th>\n",
              "      <td>938</td>\n",
              "      <td>06JAN2020</td>\n",
              "      <td>4.972678</td>\n",
              "      <td>18267.0</td>\n",
              "      <td>40369</td>\n",
              "      <td>317</td>\n",
              "      <td>40369317</td>\n",
              "      <td>5.236743</td>\n",
              "    </tr>\n",
              "    <tr>\n",
              "      <th>1</th>\n",
              "      <td>939</td>\n",
              "      <td>06JAN2020</td>\n",
              "      <td>9.027322</td>\n",
              "      <td>18267.0</td>\n",
              "      <td>40370</td>\n",
              "      <td>317</td>\n",
              "      <td>40370317</td>\n",
              "      <td>5.236756</td>\n",
              "    </tr>\n",
              "    <tr>\n",
              "      <th>2</th>\n",
              "      <td>940</td>\n",
              "      <td>06JAN2020</td>\n",
              "      <td>5.087432</td>\n",
              "      <td>18267.0</td>\n",
              "      <td>40372</td>\n",
              "      <td>317</td>\n",
              "      <td>40372317</td>\n",
              "      <td>5.236751</td>\n",
              "    </tr>\n",
              "    <tr>\n",
              "      <th>3</th>\n",
              "      <td>941</td>\n",
              "      <td>06JAN2020</td>\n",
              "      <td>3.442623</td>\n",
              "      <td>18267.0</td>\n",
              "      <td>40373</td>\n",
              "      <td>317</td>\n",
              "      <td>40373317</td>\n",
              "      <td>7.230628</td>\n",
              "    </tr>\n",
              "    <tr>\n",
              "      <th>4</th>\n",
              "      <td>942</td>\n",
              "      <td>06JAN2020</td>\n",
              "      <td>3.966667</td>\n",
              "      <td>18267.0</td>\n",
              "      <td>46272</td>\n",
              "      <td>317</td>\n",
              "      <td>46272317</td>\n",
              "      <td>7.380250</td>\n",
              "    </tr>\n",
              "  </tbody>\n",
              "</table>\n",
              "</div>"
            ],
            "text/plain": [
              "   Unnamed: 0 period_start_dt    demand  ...  store_location_rk      code         0\n",
              "0         938       06JAN2020  4.972678  ...                317  40369317  5.236743\n",
              "1         939       06JAN2020  9.027322  ...                317  40370317  5.236756\n",
              "2         940       06JAN2020  5.087432  ...                317  40372317  5.236751\n",
              "3         941       06JAN2020  3.442623  ...                317  40373317  7.230628\n",
              "4         942       06JAN2020  3.966667  ...                317  46272317  7.380250\n",
              "\n",
              "[5 rows x 8 columns]"
            ]
          },
          "metadata": {
            "tags": []
          },
          "execution_count": 80
        }
      ]
    },
    {
      "cell_type": "code",
      "metadata": {
        "id": "aTBUTUrxdqZZ",
        "colab_type": "code",
        "colab": {}
      },
      "source": [
        "data_to_metrics = pd.DataFrame()\n",
        "data_to_metrics['SKU_id'] = preds_model_LSTM['product_rk']\n",
        "data_to_metrics['Store_id'] = preds_model_LSTM['store_location_rk']\n",
        "data_to_metrics['Forecast'] = preds_model_LSTM['demand']\n",
        "data_to_metrics['Actual'] = preds_model_LSTM['0']\n",
        "data_to_metrics['ForecastFlag'] = 1\n",
        "\n",
        "Location_group = data_to_metrics['Store_id'].unique()\n",
        "Product_group = data_to_metrics['SKU_id'].unique()"
      ],
      "execution_count": null,
      "outputs": []
    },
    {
      "cell_type": "code",
      "metadata": {
        "id": "t5s4UKdRdvQ1",
        "colab_type": "code",
        "colab": {
          "base_uri": "https://localhost:8080/",
          "height": 612
        },
        "outputId": "a67cf924-6a8e-40b1-ff56-b9aafbcfbde8"
      },
      "source": [
        "print(\"WAMAXPE\")\n",
        "WAMAXPE(data_to_metrics, Location_group, Product_group)\n",
        "print(\"WAPE\")\n",
        "WAPE(data_to_metrics, Location_group, Product_group)\n",
        "print(\"AVG_MAXPE\")\n",
        "AVG_MAXPE(data_to_metrics, Location_group, Product_group)\n",
        "\n",
        "print(\"AVG_NFM\")\n",
        "AVG_NFM(data_to_metrics, Location_group, Product_group)\n",
        "print(\"Tracking_signal\")\n",
        "Tracking_signal(data_to_metrics, Location_group, Product_group)"
      ],
      "execution_count": null,
      "outputs": [
        {
          "output_type": "stream",
          "text": [
            "WAMAXPE\n",
            "+-----------------------+----------------------------+---------------------+\n",
            "|      atomic level     |     aggregation level      |       WAMAXPE       |\n",
            "+-----------------------+----------------------------+---------------------+\n",
            "|    location|product   | all locations|all products | 42.56860279716954 % |\n",
            "| all locations|product | all locations|all products | 27.90816173382184 % |\n",
            "+-----------------------+----------------------------+---------------------+\n",
            "WAPE\n",
            "+-----------------------+----------------------------+----------------------+\n",
            "|      atomic level     |     aggregation level      |         WAPE         |\n",
            "+-----------------------+----------------------------+----------------------+\n",
            "|    location|product   | all locations|all products | 55.714500829432964 % |\n",
            "| all locations|product | all locations|all products | 33.41497613453535 %  |\n",
            "+-----------------------+----------------------------+----------------------+\n",
            "AVG_MAXPE\n",
            "+-----------------------+----------------------------+----------------------+\n",
            "|      atomic level     |     aggregation level      |      AVG_MAXPE       |\n",
            "+-----------------------+----------------------------+----------------------+\n",
            "|    location|product   | all locations|all products |  38.1235146338784 %  |\n",
            "| all locations|product | all locations|all products | 0.8544746945934791 % |\n",
            "+-----------------------+----------------------------+----------------------+\n",
            "AVG_NFM\n",
            "+-----------------------+----------------------------+-----------------------+\n",
            "|      atomic level     |     aggregation level      |        AVG_NFM        |\n",
            "+-----------------------+----------------------------+-----------------------+\n",
            "|    location|product   | all locations|all products |  -0.0739284920870381  |\n",
            "| all locations|product | all locations|all products | -0.012215013766730976 |\n",
            "+-----------------------+----------------------------+-----------------------+\n",
            "Tracking_signal\n",
            "+-----------------------+----------------------------+-----------------------+\n",
            "|      atomic level     |     aggregation level      |        AVG_NFM        |\n",
            "+-----------------------+----------------------------+-----------------------+\n",
            "|    location|product   | all locations|all products |          -0.2         |\n",
            "| all locations|product | all locations|all products | -0.006896551724137931 |\n",
            "+-----------------------+----------------------------+-----------------------+\n"
          ],
          "name": "stdout"
        }
      ]
    },
    {
      "cell_type": "code",
      "metadata": {
        "id": "mBMrbrahenn_",
        "colab_type": "code",
        "colab": {}
      },
      "source": [
        "def timeseries_graph(history, true_vals, preds=None, title_=\"Demand Forecast\"):\n",
        "    sample = np.zeros(len(history) + len(true_vals))\n",
        "    for i in range(len(history)):\n",
        "        sample[i] = history[i]\n",
        "    for j in range(len(true_vals)):\n",
        "        sample[j + len(history)] = true_vals[j]\n",
        "    \n",
        "    c = len(history)\n",
        "    periods = period_starts[:len(history)+len(true_vals)]\n",
        "    \n",
        "    data_to_plot = pd.DataFrame()\n",
        "    data_to_plot['1'] = pd.to_datetime(periods, format='%d%b%Y')\n",
        "    data_to_plot['2'] = sample\n",
        "    \n",
        "    fig = go.Figure()\n",
        "    fig.add_trace(go.Scatter(x=data_to_plot['1'][:c], \n",
        "                         y=data_to_plot['2'][:c], \n",
        "                         name=\"History\",\n",
        "                         line=dict(color='royalblue', width=1.5)\n",
        "                        ))\n",
        "    fig.add_trace(go.Scatter(x=data_to_plot['1'][c:], \n",
        "                         y=data_to_plot['2'][c:],\n",
        "                         name=\"True\",\n",
        "                         line=dict(color='red', width=1.5)\n",
        "                        ))\n",
        "    fig.add_trace(go.Scatter(x=data_to_plot['1'][c:],\n",
        "                         y=preds,\n",
        "                         name=\"Predictions\",\n",
        "                         mode='markers',\n",
        "                         marker=dict(color='orange')\n",
        "                        ))\n",
        "    fig.update_layout(title=title_,\n",
        "                      xaxis_title=\"Date\",\n",
        "                      yaxis_title=\"Demand\",\n",
        "                      font=dict(family=\"Courier New, monospace\", size=14, color=\"#7f7f7f\"))\n",
        "    fig.show()\n",
        "    fig.write_html(\"file.html\")"
      ],
      "execution_count": null,
      "outputs": []
    },
    {
      "cell_type": "code",
      "metadata": {
        "id": "uAT7szZQno1u",
        "colab_type": "code",
        "colab": {
          "base_uri": "https://localhost:8080/",
          "height": 439
        },
        "outputId": "88b456c3-cfe5-453c-e4d3-115073d5da02"
      },
      "source": [
        "df = pd.read_csv(PATH + '/reg0_top6_data.csv', sep=';')\n",
        "df"
      ],
      "execution_count": null,
      "outputs": [
        {
          "output_type": "execute_result",
          "data": {
            "text/html": [
              "<div>\n",
              "<style scoped>\n",
              "    .dataframe tbody tr th:only-of-type {\n",
              "        vertical-align: middle;\n",
              "    }\n",
              "\n",
              "    .dataframe tbody tr th {\n",
              "        vertical-align: top;\n",
              "    }\n",
              "\n",
              "    .dataframe thead th {\n",
              "        text-align: right;\n",
              "    }\n",
              "</style>\n",
              "<table border=\"1\" class=\"dataframe\">\n",
              "  <thead>\n",
              "    <tr style=\"text-align: right;\">\n",
              "      <th></th>\n",
              "      <th>product_rk</th>\n",
              "      <th>store_location_rk</th>\n",
              "      <th>period_start_dt</th>\n",
              "      <th>demand</th>\n",
              "      <th>PROMO1_FLAG</th>\n",
              "      <th>PROMO2_FLAG</th>\n",
              "      <th>PRICE_REGULAR</th>\n",
              "      <th>PRICE_AFTER_DISC</th>\n",
              "      <th>NUM_CONSULTANT</th>\n",
              "      <th>AUTORIZATION_FLAG</th>\n",
              "    </tr>\n",
              "  </thead>\n",
              "  <tbody>\n",
              "    <tr>\n",
              "      <th>0</th>\n",
              "      <td>40369</td>\n",
              "      <td>309</td>\n",
              "      <td>19DEC2016</td>\n",
              "      <td>29.000000</td>\n",
              "      <td>NaN</td>\n",
              "      <td>NaN</td>\n",
              "      <td>NaN</td>\n",
              "      <td>NaN</td>\n",
              "      <td>NaN</td>\n",
              "      <td>NaN</td>\n",
              "    </tr>\n",
              "    <tr>\n",
              "      <th>1</th>\n",
              "      <td>40370</td>\n",
              "      <td>309</td>\n",
              "      <td>19DEC2016</td>\n",
              "      <td>64.000000</td>\n",
              "      <td>NaN</td>\n",
              "      <td>NaN</td>\n",
              "      <td>NaN</td>\n",
              "      <td>NaN</td>\n",
              "      <td>NaN</td>\n",
              "      <td>NaN</td>\n",
              "    </tr>\n",
              "    <tr>\n",
              "      <th>2</th>\n",
              "      <td>40372</td>\n",
              "      <td>309</td>\n",
              "      <td>19DEC2016</td>\n",
              "      <td>32.000000</td>\n",
              "      <td>NaN</td>\n",
              "      <td>NaN</td>\n",
              "      <td>NaN</td>\n",
              "      <td>NaN</td>\n",
              "      <td>NaN</td>\n",
              "      <td>NaN</td>\n",
              "    </tr>\n",
              "    <tr>\n",
              "      <th>3</th>\n",
              "      <td>40373</td>\n",
              "      <td>309</td>\n",
              "      <td>19DEC2016</td>\n",
              "      <td>10.000000</td>\n",
              "      <td>NaN</td>\n",
              "      <td>NaN</td>\n",
              "      <td>NaN</td>\n",
              "      <td>NaN</td>\n",
              "      <td>NaN</td>\n",
              "      <td>NaN</td>\n",
              "    </tr>\n",
              "    <tr>\n",
              "      <th>4</th>\n",
              "      <td>46272</td>\n",
              "      <td>309</td>\n",
              "      <td>19DEC2016</td>\n",
              "      <td>15.000000</td>\n",
              "      <td>NaN</td>\n",
              "      <td>NaN</td>\n",
              "      <td>NaN</td>\n",
              "      <td>NaN</td>\n",
              "      <td>NaN</td>\n",
              "      <td>NaN</td>\n",
              "    </tr>\n",
              "    <tr>\n",
              "      <th>...</th>\n",
              "      <td>...</td>\n",
              "      <td>...</td>\n",
              "      <td>...</td>\n",
              "      <td>...</td>\n",
              "      <td>...</td>\n",
              "      <td>...</td>\n",
              "      <td>...</td>\n",
              "      <td>...</td>\n",
              "      <td>...</td>\n",
              "      <td>...</td>\n",
              "    </tr>\n",
              "    <tr>\n",
              "      <th>35543</th>\n",
              "      <td>40370</td>\n",
              "      <td>1380</td>\n",
              "      <td>06JAN2020</td>\n",
              "      <td>11.551913</td>\n",
              "      <td>NaN</td>\n",
              "      <td>NaN</td>\n",
              "      <td>NaN</td>\n",
              "      <td>NaN</td>\n",
              "      <td>NaN</td>\n",
              "      <td>NaN</td>\n",
              "    </tr>\n",
              "    <tr>\n",
              "      <th>35544</th>\n",
              "      <td>40372</td>\n",
              "      <td>1380</td>\n",
              "      <td>06JAN2020</td>\n",
              "      <td>6.540984</td>\n",
              "      <td>NaN</td>\n",
              "      <td>NaN</td>\n",
              "      <td>NaN</td>\n",
              "      <td>NaN</td>\n",
              "      <td>NaN</td>\n",
              "      <td>NaN</td>\n",
              "    </tr>\n",
              "    <tr>\n",
              "      <th>35545</th>\n",
              "      <td>40373</td>\n",
              "      <td>1380</td>\n",
              "      <td>06JAN2020</td>\n",
              "      <td>4.398907</td>\n",
              "      <td>NaN</td>\n",
              "      <td>NaN</td>\n",
              "      <td>NaN</td>\n",
              "      <td>NaN</td>\n",
              "      <td>NaN</td>\n",
              "      <td>NaN</td>\n",
              "    </tr>\n",
              "    <tr>\n",
              "      <th>35546</th>\n",
              "      <td>46272</td>\n",
              "      <td>1380</td>\n",
              "      <td>06JAN2020</td>\n",
              "      <td>2.800000</td>\n",
              "      <td>NaN</td>\n",
              "      <td>NaN</td>\n",
              "      <td>NaN</td>\n",
              "      <td>NaN</td>\n",
              "      <td>NaN</td>\n",
              "      <td>NaN</td>\n",
              "    </tr>\n",
              "    <tr>\n",
              "      <th>35547</th>\n",
              "      <td>96212</td>\n",
              "      <td>1380</td>\n",
              "      <td>06JAN2020</td>\n",
              "      <td>2.800000</td>\n",
              "      <td>NaN</td>\n",
              "      <td>NaN</td>\n",
              "      <td>NaN</td>\n",
              "      <td>NaN</td>\n",
              "      <td>NaN</td>\n",
              "      <td>NaN</td>\n",
              "    </tr>\n",
              "  </tbody>\n",
              "</table>\n",
              "<p>35548 rows × 10 columns</p>\n",
              "</div>"
            ],
            "text/plain": [
              "       product_rk  store_location_rk  ... NUM_CONSULTANT  AUTORIZATION_FLAG\n",
              "0           40369                309  ...            NaN                NaN\n",
              "1           40370                309  ...            NaN                NaN\n",
              "2           40372                309  ...            NaN                NaN\n",
              "3           40373                309  ...            NaN                NaN\n",
              "4           46272                309  ...            NaN                NaN\n",
              "...           ...                ...  ...            ...                ...\n",
              "35543       40370               1380  ...            NaN                NaN\n",
              "35544       40372               1380  ...            NaN                NaN\n",
              "35545       40373               1380  ...            NaN                NaN\n",
              "35546       46272               1380  ...            NaN                NaN\n",
              "35547       96212               1380  ...            NaN                NaN\n",
              "\n",
              "[35548 rows x 10 columns]"
            ]
          },
          "metadata": {
            "tags": []
          },
          "execution_count": 5
        }
      ]
    },
    {
      "cell_type": "code",
      "metadata": {
        "id": "CUjrhozHm0TJ",
        "colab_type": "code",
        "colab": {}
      },
      "source": [
        ""
      ],
      "execution_count": null,
      "outputs": []
    },
    {
      "cell_type": "markdown",
      "metadata": {
        "id": "Yajv-RDjz5qx",
        "colab_type": "text"
      },
      "source": [
        "# Обучение на всех парах магазин-товар"
      ]
    },
    {
      "cell_type": "code",
      "metadata": {
        "id": "CnlBLcup6Wpt",
        "colab_type": "code",
        "colab": {}
      },
      "source": [
        "x.shape"
      ],
      "execution_count": null,
      "outputs": []
    },
    {
      "cell_type": "code",
      "metadata": {
        "id": "_z7Ep5JSjKJ5",
        "colab_type": "code",
        "colab": {}
      },
      "source": [
        "train(model,x,y)"
      ],
      "execution_count": null,
      "outputs": []
    },
    {
      "cell_type": "code",
      "metadata": {
        "colab_type": "code",
        "id": "2mPZbIKCMtLR",
        "colab": {}
      },
      "source": [
        "for x, y in val_univariate.take(1):\n",
        "    print(x)\n",
        "    print(simple_lstm_model.predict(x))"
      ],
      "execution_count": null,
      "outputs": []
    },
    {
      "cell_type": "code",
      "metadata": {
        "colab_type": "code",
        "id": "0opH9xi5MtIk",
        "colab": {}
      },
      "source": [
        "EVALUATION_INTERVAL = 200\n",
        "EPOCHS = 30\n",
        "simple_lstm_model.fit(train_univariate, epochs=EPOCHS,\n",
        "                      steps_per_epoch=EVALUATION_INTERVAL,\n",
        "                      validation_data=val_univariate, validation_steps=50)"
      ],
      "execution_count": null,
      "outputs": []
    },
    {
      "cell_type": "code",
      "metadata": {
        "colab_type": "code",
        "id": "S2rRLrs8MtGU",
        "colab": {}
      },
      "source": [
        "for x, y in val_univariate.take(10):\n",
        "  plot = show_plot([x[0].numpy(), y[0].numpy(),\n",
        "                    simple_lstm_model.predict(x)[0]], 0, 'Simple LSTM model')\n",
        "  plot.show()"
      ],
      "execution_count": null,
      "outputs": []
    },
    {
      "cell_type": "markdown",
      "metadata": {
        "colab_type": "text",
        "id": "VlJYi3_HXcw8"
      },
      "source": [
        "## Part 2: Forecast a multivariate time series"
      ]
    },
    {
      "cell_type": "code",
      "metadata": {
        "colab_type": "code",
        "id": "q_SblBWJBkiv",
        "colab": {}
      },
      "source": [
        "sku1st1"
      ],
      "execution_count": null,
      "outputs": []
    },
    {
      "cell_type": "code",
      "metadata": {
        "colab_type": "code",
        "id": "DphrB7bxSNDd",
        "colab": {}
      },
      "source": [
        "features_considered = sku1st1.columns[3:]"
      ],
      "execution_count": null,
      "outputs": []
    },
    {
      "cell_type": "code",
      "metadata": {
        "colab_type": "code",
        "id": "WSr4gcbYB8p8",
        "colab": {}
      },
      "source": [
        "features_considered"
      ],
      "execution_count": null,
      "outputs": []
    },
    {
      "cell_type": "code",
      "metadata": {
        "colab_type": "code",
        "id": "IfQUSiJfUpXJ",
        "colab": {}
      },
      "source": [
        "features = sku1st1[features_considered]\n",
        "features"
      ],
      "execution_count": null,
      "outputs": []
    },
    {
      "cell_type": "code",
      "metadata": {
        "colab_type": "code",
        "id": "QdgC8zvGr21X",
        "colab": {}
      },
      "source": [
        "features.plot(subplots=True)"
      ],
      "execution_count": null,
      "outputs": []
    },
    {
      "cell_type": "code",
      "metadata": {
        "colab_type": "code",
        "id": "W7VuNIwfHRHx",
        "colab": {}
      },
      "source": [
        "dataset = features.values\n",
        "data_mean = dataset.mean(axis=0)\n",
        "data_std = dataset.std(axis=0)"
      ],
      "execution_count": null,
      "outputs": []
    },
    {
      "cell_type": "code",
      "metadata": {
        "colab_type": "code",
        "id": "eJUeWDqploCt",
        "colab": {}
      },
      "source": [
        "dataset = (dataset-data_mean)/data_std"
      ],
      "execution_count": null,
      "outputs": []
    },
    {
      "cell_type": "code",
      "metadata": {
        "colab_type": "code",
        "id": "sJbkU7kmErBS",
        "colab": {}
      },
      "source": [
        "dataset[:, 1]"
      ],
      "execution_count": null,
      "outputs": []
    },
    {
      "cell_type": "code",
      "metadata": {
        "colab_type": "code",
        "id": "d-rVX4d3OF86",
        "colab": {}
      },
      "source": [
        "def multivariate_data(dataset, target, start_index, end_index, history_size,\n",
        "                      target_size, step, single_step=False):\n",
        "  data = []\n",
        "  labels = []\n",
        "\n",
        "  start_index = start_index + history_size\n",
        "  if end_index is None:\n",
        "    end_index = len(dataset) - target_size\n",
        "\n",
        "  for i in range(start_index, end_index):\n",
        "    indices = range(i-history_size, i, step)\n",
        "    data.append(dataset[indices])\n",
        "\n",
        "    if single_step:\n",
        "      labels.append(target[i+target_size])\n",
        "    else:\n",
        "      labels.append(target[i:i+target_size])\n",
        "\n",
        "  return np.array(data), np.array(labels)"
      ],
      "execution_count": null,
      "outputs": []
    },
    {
      "cell_type": "code",
      "metadata": {
        "colab_type": "code",
        "id": "HlhVGzPhmMYI",
        "colab": {}
      },
      "source": [
        "past_history = 35\n",
        "future_target = 5\n",
        "STEP = 1\n",
        "\n",
        "x_train_single, y_train_single = multivariate_data(dataset, dataset[:, 1], 0,\n",
        "                                                   TRAIN_SPLIT, past_history,\n",
        "                                                   future_target, STEP,\n",
        "                                                   single_step=True)\n",
        "x_val_single, y_val_single = multivariate_data(dataset, dataset[:, 1],\n",
        "                                               TRAIN_SPLIT, None, past_history,\n",
        "                                               future_target, STEP,\n",
        "                                               single_step=True)"
      ],
      "execution_count": null,
      "outputs": []
    },
    {
      "cell_type": "code",
      "metadata": {
        "colab_type": "code",
        "id": "_tVKm-ZIPls0",
        "colab": {}
      },
      "source": [
        "print ('Single window of past history : {}'.format(x_train_single[0].shape))"
      ],
      "execution_count": null,
      "outputs": []
    },
    {
      "cell_type": "code",
      "metadata": {
        "colab_type": "code",
        "id": "-ovxS5psEBQZ",
        "colab": {}
      },
      "source": [
        "print ('Single window of past history : {}'.format(y_train_single[0]))"
      ],
      "execution_count": null,
      "outputs": []
    },
    {
      "cell_type": "code",
      "metadata": {
        "colab_type": "code",
        "id": "eCWG4xgQ3O6E",
        "colab": {}
      },
      "source": [
        "train_data_single = tf.data.Dataset.from_tensor_slices((x_train_single, y_train_single))\n",
        "train_data_single = train_data_single.cache().shuffle(BUFFER_SIZE).batch(BATCH_SIZE).repeat()\n",
        "\n",
        "val_data_single = tf.data.Dataset.from_tensor_slices((x_val_single, y_val_single))\n",
        "val_data_single = val_data_single.batch(BATCH_SIZE).repeat()"
      ],
      "execution_count": null,
      "outputs": []
    },
    {
      "cell_type": "code",
      "metadata": {
        "colab_type": "code",
        "id": "0aWec9_nlxBl",
        "colab": {}
      },
      "source": [
        "single_step_model = tf.keras.models.Sequential()\n",
        "single_step_model.add(tf.keras.layers.LSTM(32,\n",
        "                                           input_shape=x_train_single.shape[-2:]))\n",
        "single_step_model.add(tf.keras.layers.Dense(1))\n",
        "\n",
        "single_step_model.compile(optimizer=tf.keras.optimizers.RMSprop(), loss='mse')"
      ],
      "execution_count": null,
      "outputs": []
    },
    {
      "cell_type": "markdown",
      "metadata": {
        "colab_type": "text",
        "id": "oYhUfWjwOPFN"
      },
      "source": [
        "Let's check out a sample prediction."
      ]
    },
    {
      "cell_type": "code",
      "metadata": {
        "colab_type": "code",
        "id": "yY7FodHVOPsH",
        "colab": {}
      },
      "source": [
        "for x, y in val_data_single.take(1):\n",
        "  print(single_step_model.predict(x).shape)"
      ],
      "execution_count": null,
      "outputs": []
    },
    {
      "cell_type": "code",
      "metadata": {
        "colab_type": "code",
        "id": "U0jnt2l2mwkl",
        "colab": {}
      },
      "source": [
        "single_step_history = single_step_model.fit(train_data_single, epochs=EPOCHS,\n",
        "                                            steps_per_epoch=EVALUATION_INTERVAL,\n",
        "                                            validation_data=val_data_single,\n",
        "                                            validation_steps=50)"
      ],
      "execution_count": null,
      "outputs": []
    },
    {
      "cell_type": "code",
      "metadata": {
        "colab_type": "code",
        "id": "l8lBKA-z5yYV",
        "colab": {}
      },
      "source": [
        "plot_train_history(single_step_history,\n",
        "                   'Single Step Training and validation loss')"
      ],
      "execution_count": null,
      "outputs": []
    },
    {
      "cell_type": "code",
      "metadata": {
        "colab_type": "code",
        "id": "h1qmPLLVUpuN",
        "colab": {}
      },
      "source": [
        "for x, y in val_data_single.take(10):\n",
        "  plot = show_plot([x[0][:, 1].numpy(), y[0].numpy(),\n",
        "                    single_step_model.predict(x)[0]], 12,\n",
        "                   'Single Step Prediction')\n",
        "  plot.show()"
      ],
      "execution_count": null,
      "outputs": []
    },
    {
      "cell_type": "code",
      "metadata": {
        "colab_type": "code",
        "id": "ej_4MuueGqNB",
        "colab": {}
      },
      "source": [
        "df_five_feat = sku1st1.values[:, 2:7]\n",
        "\n",
        "past_history = 21\n",
        "future_target = 0\n",
        "STEP = 1\n",
        "\n",
        "x_train_single, y_train_single = multivariate_data(df_five_feat, df_five_feat[:, 1], 0,\n",
        "                                                   TRAIN_SPLIT, past_history,\n",
        "                                                   future_target, STEP,\n",
        "                                                   single_step=True)\n",
        "x_val_single, y_val_single = multivariate_data(df_five_feat, df_five_feat[:, 1],\n",
        "                                               TRAIN_SPLIT, None, past_history,\n",
        "                                               future_target, STEP,\n",
        "                                               single_step=True)"
      ],
      "execution_count": null,
      "outputs": []
    },
    {
      "cell_type": "code",
      "metadata": {
        "colab_type": "code",
        "id": "kZCk9fqyJZqX",
        "colab": {}
      },
      "source": [
        "future_target = 72\n",
        "x_train_multi, y_train_multi = multivariate_data(dataset, dataset[:, 1], 0,\n",
        "                                                 TRAIN_SPLIT, past_history,\n",
        "                                                 future_target, STEP)\n",
        "x_val_multi, y_val_multi = multivariate_data(dataset, dataset[:, 1],\n",
        "                                             TRAIN_SPLIT, None, past_history,\n",
        "                                             future_target, STEP)"
      ],
      "execution_count": null,
      "outputs": []
    },
    {
      "cell_type": "code",
      "metadata": {
        "colab_type": "code",
        "id": "SpWDcBkQRwS-",
        "colab": {}
      },
      "source": [
        "print ('Single window of past history : {}'.format(x_train_multi[0].shape))\n",
        "print ('\\n Target temperature to predict : {}'.format(y_train_multi[0].shape))"
      ],
      "execution_count": null,
      "outputs": []
    },
    {
      "cell_type": "code",
      "metadata": {
        "colab_type": "code",
        "id": "cjR4PJArMOpA",
        "colab": {}
      },
      "source": [
        "train_data_multi = tf.data.Dataset.from_tensor_slices((x_train_multi, y_train_multi))\n",
        "train_data_multi = train_data_multi.cache().shuffle(BUFFER_SIZE).batch(BATCH_SIZE).repeat()\n",
        "\n",
        "val_data_multi = tf.data.Dataset.from_tensor_slices((x_val_multi, y_val_multi))\n",
        "val_data_multi = val_data_multi.batch(BATCH_SIZE).repeat()"
      ],
      "execution_count": null,
      "outputs": []
    },
    {
      "cell_type": "code",
      "metadata": {
        "colab_type": "code",
        "id": "ksXKVbwBV7D3",
        "colab": {}
      },
      "source": [
        "def multi_step_plot(history, true_future, prediction):\n",
        "  plt.figure(figsize=(12, 6))\n",
        "  num_in = create_time_steps(len(history))\n",
        "  num_out = len(true_future)\n",
        "\n",
        "  plt.plot(num_in, np.array(history[:, 1]), label='History')\n",
        "  plt.plot(np.arange(num_out)/STEP, np.array(true_future), 'bo',\n",
        "           label='True Future')\n",
        "  if prediction.any():\n",
        "    plt.plot(np.arange(num_out)/STEP, np.array(prediction), 'ro',\n",
        "             label='Predicted Future')\n",
        "  plt.legend(loc='upper left')\n",
        "  plt.show()"
      ],
      "execution_count": null,
      "outputs": []
    },
    {
      "cell_type": "code",
      "metadata": {
        "colab_type": "code",
        "id": "R6G8bacQR4w2",
        "colab": {}
      },
      "source": [
        "for x, y in train_data_multi.take(1):\n",
        "  multi_step_plot(x[0], y[0], np.array([0]))"
      ],
      "execution_count": null,
      "outputs": []
    },
    {
      "cell_type": "code",
      "metadata": {
        "colab_type": "code",
        "id": "byAl0NKSNBP6",
        "colab": {}
      },
      "source": [
        "multi_step_model = tf.keras.models.Sequential()\n",
        "multi_step_model.add(tf.keras.layers.LSTM(32,\n",
        "                                          return_sequences=True,\n",
        "                                          input_shape=x_train_multi.shape[-2:]))\n",
        "multi_step_model.add(tf.keras.layers.LSTM(16, activation='relu'))\n",
        "multi_step_model.add(tf.keras.layers.Dense(72))\n",
        "\n",
        "multi_step_model.compile(optimizer=tf.keras.optimizers.RMSprop(clipvalue=1.0), loss='mae')"
      ],
      "execution_count": null,
      "outputs": []
    },
    {
      "cell_type": "code",
      "metadata": {
        "colab_type": "code",
        "id": "13_ZWvB9SRlZ",
        "colab": {}
      },
      "source": [
        "for x, y in val_data_multi.take(1):\n",
        "  print (multi_step_model.predict(x).shape)"
      ],
      "execution_count": null,
      "outputs": []
    },
    {
      "cell_type": "code",
      "metadata": {
        "colab_type": "code",
        "id": "7uwOhXo3Oems",
        "colab": {}
      },
      "source": [
        "multi_step_history = multi_step_model.fit(train_data_multi, epochs=EPOCHS,\n",
        "                                          steps_per_epoch=EVALUATION_INTERVAL,\n",
        "                                          validation_data=val_data_multi,\n",
        "                                          validation_steps=50)"
      ],
      "execution_count": null,
      "outputs": []
    },
    {
      "cell_type": "code",
      "metadata": {
        "colab_type": "code",
        "id": "UKfQoBjQ5l7U",
        "colab": {}
      },
      "source": [
        "plot_train_history(multi_step_history, 'Multi-Step Training and validation loss')"
      ],
      "execution_count": null,
      "outputs": []
    },
    {
      "cell_type": "code",
      "metadata": {
        "colab_type": "code",
        "id": "dt22wq6fyIBU",
        "colab": {}
      },
      "source": [
        "for x, y in val_data_multi.take(3):\n",
        "  multi_step_plot(x[0], y[0], multi_step_model.predict(x)[0])"
      ],
      "execution_count": null,
      "outputs": []
    }
  ]
}